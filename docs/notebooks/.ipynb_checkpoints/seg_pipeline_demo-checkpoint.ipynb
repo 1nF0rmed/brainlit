{
 "cells": [
  {
   "cell_type": "code",
   "execution_count": 11,
   "metadata": {},
   "outputs": [],
   "source": [
    "import brainlit\n",
    "from brainlit.utils.ngl_pipeline import NeuroglancerSession\n",
    "from brainlit.viz.swc import *\n",
    "from brainlit.algorithms.generate_fragments import adaptive_thresh"
   ]
  },
  {
   "cell_type": "code",
   "execution_count": 12,
   "metadata": {},
   "outputs": [
    {
     "name": "stderr",
     "output_type": "stream",
     "text": [
      "Downloading: 100%|██████████| 1/1 [00:00<00:00, 54.08it/s]\n",
      "Downloading: 100%|██████████| 1/1 [00:00<00:00, 26.34it/s]\n",
      "Downloading: 100%|██████████| 1/1 [00:00<00:00, 24.10it/s]\n",
      "Downloading: 100%|██████████| 1/1 [00:00<00:00, 54.91it/s]\n",
      "Downloading: 100%|██████████| 1/1 [00:00<00:00, 49.76it/s]\n",
      "Downloading: 100%|██████████| 1/1 [00:00<00:00, 56.86it/s]\n",
      "Downloading: 100%|██████████| 1/1 [00:00<00:00, 54.47it/s]\n",
      "Downloading: 100%|██████████| 1/1 [00:00<00:00, 11.09it/s]\n",
      "Downloading: 100%|██████████| 1/1 [00:00<00:00, 50.41it/s]\n",
      "Downloading: 100%|██████████| 1/1 [00:00<00:00, 57.15it/s]"
     ]
    },
    {
     "name": "stdout",
     "output_type": "stream",
     "text": [
      "[2, 7]\n"
     ]
    },
    {
     "name": "stderr",
     "output_type": "stream",
     "text": [
      "\n"
     ]
    }
   ],
   "source": [
    "# Optional: Print the IDs of segments in Neuroglancer\n",
    "url = \"s3://mouse-light-viz/precomputed_volumes/brain1\"\n",
    "ngl_skel = NeuroglancerSession(url+\"_segments\", mip=1)\n",
    "working_ids = []\n",
    "for seg_id in range(10): #most segment IDs in range(300), additionally, segments 999, 1000 are available\n",
    "    try:\n",
    "        segment = ngl_skel.cv.skeleton.get(seg_id)\n",
    "        working_ids.append(seg_id)\n",
    "    except:\n",
    "          pass\n",
    "print(working_ids)"
   ]
  },
  {
   "cell_type": "code",
   "execution_count": 13,
   "metadata": {},
   "outputs": [
    {
     "name": "stderr",
     "output_type": "stream",
     "text": [
      "Downloading: 100%|██████████| 1/1 [00:00<00:00, 46.54it/s]\n"
     ]
    },
    {
     "data": {
      "text/plain": [
       "1650"
      ]
     },
     "execution_count": 13,
     "metadata": {},
     "output_type": "execute_result"
    }
   ],
   "source": [
    "seg_id = 2\n",
    "mip = 1\n",
    "df = read_s3(url+\"_segments\", seg_id, mip)\n",
    "#df.head()\n",
    "df['sample'].size # the number of vertex IDs [1, 2, ..., df['sample'].size]"
   ]
  },
  {
   "cell_type": "code",
   "execution_count": 14,
   "metadata": {},
   "outputs": [
    {
     "name": "stdout",
     "output_type": "stream",
     "text": [
      "      sample  structure       x       y       z    r  parent\n",
      "0          1          0  4713.0  4470.0  3857.0  1.0      -1\n",
      "1          4        192  4721.0  4445.0  3849.0  1.0       1\n",
      "2          7         64  4723.0  4446.0  3851.0  1.0       4\n",
      "3          8          0  4728.0  4449.0  3852.0  1.0       7\n",
      "4         14          0  4746.0  4445.0  3858.0  1.0       8\n",
      "...      ...        ...     ...     ...     ...  ...     ...\n",
      "1645      97          0  4934.0  4111.0  3773.0  1.0      89\n",
      "1646      96          0  4933.0  4145.0  3780.0  1.0      97\n",
      "1647      92          0  4931.0  4189.0  3786.0  1.0      96\n",
      "1648      82          0  4921.0  4206.0  3789.0  1.0      92\n",
      "1649      77          0  4911.0  4236.0  3794.0  1.0      82\n",
      "\n",
      "[1650 rows x 7 columns]\n"
     ]
    }
   ],
   "source": [
    "print(df)"
   ]
  },
  {
   "cell_type": "code",
   "execution_count": 16,
   "metadata": {},
   "outputs": [],
   "source": [
    "subneuron_df = df[0:1] # choose vertices to use for the subneuron"
   ]
  },
  {
   "cell_type": "code",
   "execution_count": 17,
   "metadata": {},
   "outputs": [],
   "source": [
    "vertex_list = subneuron_df['sample'].array "
   ]
  },
  {
   "cell_type": "code",
   "execution_count": 18,
   "metadata": {},
   "outputs": [
    {
     "data": {
      "text/plain": [
       "<PandasArray>\n",
       "[1]\n",
       "Length: 1, dtype: int64"
      ]
     },
     "execution_count": 18,
     "metadata": {},
     "output_type": "execute_result"
    }
   ],
   "source": [
    "vertex_list"
   ]
  },
  {
   "cell_type": "code",
   "execution_count": 19,
   "metadata": {},
   "outputs": [
    {
     "name": "stderr",
     "output_type": "stream",
     "text": [
      "Downloading: 100%|██████████| 1/1 [00:00<00:00, 30.93it/s]\n",
      "Downloading:   0%|          | 0/1 [00:00<?, ?it/s]\n",
      "Downloading:   0%|          | 0/1 [00:00<?, ?it/s]\n"
     ]
    }
   ],
   "source": [
    "ngl = NeuroglancerSession(url, mip=mip)\n",
    "buffer = [10, 10, 10]\n",
    "img, bounds, vox_in_img_list = ngl.pull_vertex_list(seg_id, vertex_list, buffer = buffer, expand = True)\n",
    "#img, bounds, voxel = ngl.pull_chunk(2, 100, nx = chunks, ny = chunks, nz = chunks)"
   ]
  },
  {
   "cell_type": "code",
   "execution_count": 20,
   "metadata": {},
   "outputs": [],
   "source": [
    "# Reference: https://github.com/NeuroDataDesign/mouselit/blob/master/bijan/mouse_test/final%20notebook.ipynb\n",
    "\n",
    "import matplotlib.pyplot as plt\n",
    "import SimpleITK as sitk\n",
    "import numpy as np\n",
    "import napari\n",
    "\n",
    "\n",
    "def plot_2d(img, title=None, margin=0.05, dpi=80):\n",
    "    nda = sitk.GetArrayFromImage(img)\n",
    "    spacing = img.GetSpacing()\n",
    "\n",
    "    if nda.ndim == 3:\n",
    "        c = nda.shape[-1]\n",
    "\n",
    "        if c not in (3, 4):\n",
    "            nda = nda[nda.shape[0] // 2, :, :]\n",
    "\n",
    "    elif nda.ndim == 4:\n",
    "        c = nda.shape[-1]\n",
    "\n",
    "        if c not in (3, 4):\n",
    "            raise RuntimeError(\"Unable to show 3D-vector Image\")\n",
    "\n",
    "        nda = nda[nda.shape[0] // 2, :, :, :]\n",
    "\n",
    "    xsize = nda.shape[1] * 2\n",
    "    ysize = nda.shape[0] * 2\n",
    "\n",
    "    figsize = (1 + margin) * xsize / dpi, (1 + margin) * ysize / dpi\n",
    "\n",
    "    plt.figure(figsize=figsize, dpi=dpi, tight_layout=True)\n",
    "    ax = plt.gca()\n",
    "\n",
    "    extent = (0, xsize * spacing[0], ysize * spacing[1], 0)\n",
    "\n",
    "    t = ax.imshow(nda, extent=extent, interpolation=None)\n",
    "\n",
    "    if nda.ndim == 2:\n",
    "        t.set_cmap(\"gray\")\n",
    "\n",
    "    if title:\n",
    "        plt.title(title)\n",
    "\n",
    "    plt.show()\n",
    "\n",
    "\n",
    "def plot_3d(img, xslices=[], yslices=[], zslices=[], title=None, margin=0.05, dpi=80):\n",
    "    img_xslices = [img[s, :, :] for s in xslices]\n",
    "    img_yslices = [img[:, s, :] for s in yslices]\n",
    "    img_zslices = [img[:, :, s] for s in zslices]\n",
    "\n",
    "    maxlen = max(len(img_xslices), len(img_yslices), len(img_zslices))\n",
    "\n",
    "    img_null = sitk.Image([0, 0], img.GetPixelID(), img.GetNumberOfComponentsPerPixel())\n",
    "\n",
    "    img_slices = []\n",
    "    d = 0\n",
    "\n",
    "    if len(img_xslices):\n",
    "        img_slices += img_xslices + [img_null] * (maxlen - len(img_xslices))\n",
    "        d += 1\n",
    "\n",
    "    if len(img_yslices):\n",
    "        img_slices += img_yslices + [img_null] * (maxlen - len(img_yslices))\n",
    "        d += 1\n",
    "\n",
    "    if len(img_zslices):\n",
    "        img_slices += img_zslices + [img_null] * (maxlen - len(img_zslices))\n",
    "        d += 1\n",
    "\n",
    "    if maxlen != 0:\n",
    "        if img.GetNumberOfComponentsPerPixel() == 1:\n",
    "            img = sitk.Tile(img_slices, [maxlen, d])\n",
    "        else:\n",
    "            img_comps = []\n",
    "            for i in range(0, img.GetNumberOfComponentsPerPixel()):\n",
    "                img_slices_c = [sitk.VectorIndexSelectionCast(s, i) for s in img_slices]\n",
    "                img_comps.append(sitk.Tile(img_slices_c, [maxlen, d]))\n",
    "            img = sitk.Compose(img_comps)\n",
    "\n",
    "    plot_2d(img, title, margin, dpi)\n",
    "\n",
    "\n",
    "def napari_viewer(img, labels=None, shapes=None, label_name=\"Segmentation\"):\n",
    "    viewer = napari.view_image(np.squeeze(np.array(img)))\n",
    "    if labels is not None:\n",
    "        viewer.add_labels(labels, name=label_name)\n",
    "    if shapes is not None:\n",
    "        viewer.add_shapes(data=shapes, shape_type='path', edge_color='blue', name='Skeleton')\n",
    "    return viewer"
   ]
  },
  {
   "cell_type": "code",
   "execution_count": null,
   "metadata": {},
   "outputs": [
    {
     "data": {
      "image/png": "[encoded data removed]",
      "text/plain": [
       "<Figure size 1092x105 with 1 Axes>"
      ]
     },
     "metadata": {
      "needs_background": "light"
     },
     "output_type": "display_data"
    }
   ],
   "source": [
    "%gui qt"
   ]
  },
  {
   "cell_type": "code",
   "execution_count": null,
   "metadata": {},
   "outputs": [],
   "source": [
    "plot_3d(sitk.GetImageFromArray(np.squeeze(img), isVector=False), zslices=range(48,53), title = \"Downloaded Mouselight Volume\")\n",
    "napari_viewer(img)"
   ]
  },
  {
   "cell_type": "code",
   "execution_count": 79,
   "metadata": {},
   "outputs": [
    {
     "name": "stderr",
     "output_type": "stream",
     "text": [
      "/Users/mattf/Applications/anaconda3/lib/python3.7/site-packages/ipykernel_launcher.py:3: SettingWithCopyWarning: \n",
      "A value is trying to be set on a copy of a slice from a DataFrame\n",
      "\n",
      "See the caveats in the documentation: http://pandas.pydata.org/pandas-docs/stable/indexing.html#indexing-view-versus-copy\n",
      "  This is separate from the ipykernel package so we can avoid doing imports until\n",
      "/Users/mattf/Applications/anaconda3/lib/python3.7/site-packages/IPython/core/interactiveshell.py:3326: SettingWithCopyWarning: \n",
      "A value is trying to be set on a copy of a slice from a DataFrame\n",
      "\n",
      "See the caveats in the documentation: http://pandas.pydata.org/pandas-docs/stable/indexing.html#indexing-view-versus-copy\n",
      "  exec(code_obj, self.user_global_ns, self.user_ns)\n",
      "/Users/mattf/Applications/anaconda3/lib/python3.7/site-packages/ipykernel_launcher.py:4: SettingWithCopyWarning: \n",
      "A value is trying to be set on a copy of a slice from a DataFrame\n",
      "\n",
      "See the caveats in the documentation: http://pandas.pydata.org/pandas-docs/stable/indexing.html#indexing-view-versus-copy\n",
      "  after removing the cwd from sys.path.\n",
      "/Users/mattf/Applications/anaconda3/lib/python3.7/site-packages/ipykernel_launcher.py:5: SettingWithCopyWarning: \n",
      "A value is trying to be set on a copy of a slice from a DataFrame\n",
      "\n",
      "See the caveats in the documentation: http://pandas.pydata.org/pandas-docs/stable/indexing.html#indexing-view-versus-copy\n",
      "  \"\"\"\n"
     ]
    },
    {
     "name": "stdout",
     "output_type": "stream",
     "text": [
      "   sample  structure      x      y      z    r  parent\n",
      "0       1          0  304.0   71.0  113.0  1.0      -1\n",
      "1       4        192  299.0   12.0   93.0  1.0       1\n",
      "2       7         64  335.0   89.0   71.0  1.0       4\n",
      "3       8          0  222.0  253.0   61.0  1.0       7\n",
      "4      14          0   46.0  550.0  104.0  1.0       8\n"
     ]
    }
   ],
   "source": [
    "corrected_subneuron_df = subneuron_df\n",
    "for index, sample in enumerate(vox_in_img_list):\n",
    "    corrected_subneuron_df['x'][index] = sample[0]\n",
    "    corrected_subneuron_df['y'][index] = sample[1]\n",
    "    corrected_subneuron_df['z'][index] = sample[2]\n",
    "print(corrected_subneuron_df)"
   ]
  },
  {
   "cell_type": "code",
   "execution_count": null,
   "metadata": {},
   "outputs": [],
   "source": []
  },
  {
   "cell_type": "code",
   "execution_count": 80,
   "metadata": {},
   "outputs": [
    {
     "name": "stdout",
     "output_type": "stream",
     "text": [
      "Number of nodes: 5\n",
      "Number of edges: 4\n",
      "\n",
      "\n",
      "Sample 1 coordinates (x,y,z)\n"
     ]
    },
    {
     "data": {
      "text/plain": [
       "{'x': 304, 'y': 71, 'z': 113}"
      ]
     },
     "execution_count": 80,
     "metadata": {},
     "output_type": "execute_result"
    }
   ],
   "source": [
    "G = df_to_graph(corrected_subneuron_df)\n",
    "print('Number of nodes:', len(G.nodes))\n",
    "print('Number of edges:', len(G.edges))\n",
    "print('\\n')\n",
    "print('Sample 1 coordinates (x,y,z)')\n",
    "G.nodes[1]"
   ]
  },
  {
   "cell_type": "code",
   "execution_count": 81,
   "metadata": {},
   "outputs": [
    {
     "data": {
      "text/plain": [
       "1"
      ]
     },
     "execution_count": 81,
     "metadata": {},
     "output_type": "execute_result"
    }
   ],
   "source": [
    "paths = graph_to_paths(G)\n",
    "len(paths)"
   ]
  },
  {
   "cell_type": "code",
   "execution_count": 82,
   "metadata": {},
   "outputs": [
    {
     "data": {
      "text/plain": [
       "<napari.viewer.Viewer at 0x1601a16d8>"
      ]
     },
     "execution_count": 82,
     "metadata": {},
     "output_type": "execute_result"
    }
   ],
   "source": [
    "%gui qt\n",
    "napari_viewer(img, shapes=paths)"
   ]
  },
  {
   "cell_type": "code",
   "execution_count": 83,
   "metadata": {},
   "outputs": [
    {
     "name": "stdout",
     "output_type": "stream",
     "text": [
      "[(113, 71, 304), (93, 12, 299), (71, 89, 335), (61, 253, 222), (104, 550, 46)]\n"
     ]
    }
   ],
   "source": [
    "seed = []\n",
    "for sample in vox_in_img_list:\n",
    "    _, s = adaptive_thresh.get_seed(sample)\n",
    "    seed.append(s)\n",
    "print(seed)"
   ]
  },
  {
   "cell_type": "code",
   "execution_count": 84,
   "metadata": {},
   "outputs": [
    {
     "name": "stdout",
     "output_type": "stream",
     "text": [
      "(396, 600, 156)\n"
     ]
    }
   ],
   "source": [
    "print(img.shape)"
   ]
  },
  {
   "cell_type": "code",
   "execution_count": 87,
   "metadata": {},
   "outputs": [],
   "source": [
    "labels = adaptive_thresh.confidence_connected_threshold(img, seed, num_iter=1, multiplier=0.3)"
   ]
  },
  {
   "cell_type": "code",
   "execution_count": 88,
   "metadata": {},
   "outputs": [
    {
     "data": {
      "text/plain": [
       "<napari.viewer.Viewer at 0x17771f978>"
      ]
     },
     "execution_count": 88,
     "metadata": {},
     "output_type": "execute_result"
    }
   ],
   "source": [
    "## Most useful visualization cell - contains image, SWC, and automatic segmentation\n",
    "%gui qt\n",
    "napari_viewer(img, labels=labels, shapes=paths, label_name=\"Confidence-Connected Threshold\")"
   ]
  },
  {
   "cell_type": "markdown",
   "metadata": {},
   "source": [
    "## Steps to Manually Edit Labels\n",
    "1. Ensure Napari is in 2D-slice viewing, not 3D view. (The second button from the bottom left)\n",
    "2. Click the image layer and adjust the contrast limits as desired.\n",
    "3. Click the \"Confidence-Connected Threshold Layer\"\n",
    "4. Click the paintbrush tool and adjust the brush size. Ensure that \"label\" is set to 1 to paint and 0 to erase.\n",
    "5. Click and drag on the image to adjust labels. Changes are saved automatically, and CMD-Z to undo is supported."
   ]
  },
  {
   "cell_type": "code",
   "execution_count": 89,
   "metadata": {},
   "outputs": [],
   "source": [
    "# Get manual labels\n",
    "manual_labels = viewer.layers['Confidence-Connected Threshold'].data"
   ]
  },
  {
   "cell_type": "code",
   "execution_count": 90,
   "metadata": {},
   "outputs": [],
   "source": [
    "# Upload segmentation to AWS\n",
    "ngl_upload = NeuroglancerSession(url+\"_seg\", mip=mip)"
   ]
  },
  {
   "cell_type": "code",
   "execution_count": 93,
   "metadata": {},
   "outputs": [],
   "source": [
    "%%capture\n",
    "ngl_upload.push(manual_labels, bounds);"
   ]
  },
  {
   "cell_type": "code",
   "execution_count": 94,
   "metadata": {},
   "outputs": [
    {
     "name": "stderr",
     "output_type": "stream",
     "text": [
      "Downloading: 40it [00:01, 22.71it/s]               6.75it/s]]\n",
      "\n",
      "Downloading: 48it [00:00, 93.69it/s]                         \n",
      "Downloading: 52it [00:02, 20.67it/s]                        \n",
      "\n",
      "Downloading: 44it [00:02, 28.00it/s]                        \n",
      "\n",
      "Downloading: 52it [00:02, 29.00it/s]                        \n"
     ]
    }
   ],
   "source": [
    "downloaded_labels = ngl_upload.pull_bounds_seg(bounds)"
   ]
  },
  {
   "cell_type": "code",
   "execution_count": 98,
   "metadata": {},
   "outputs": [
    {
     "name": "stdout",
     "output_type": "stream",
     "text": [
      "True\n"
     ]
    }
   ],
   "source": [
    "print(np.all(manual_labels == downloaded_labels))"
   ]
  },
  {
   "cell_type": "code",
   "execution_count": null,
   "metadata": {},
   "outputs": [],
   "source": []
  }
 ],
 "metadata": {
  "kernelspec": {
   "display_name": "Python 3",
   "language": "python",
   "name": "python3"
  },
  "language_info": {
   "codemirror_mode": {
    "name": "ipython",
    "version": 3
   },
   "file_extension": ".py",
   "mimetype": "text/x-python",
   "name": "python",
   "nbconvert_exporter": "python",
   "pygments_lexer": "ipython3",
   "version": "3.7.4"
  }
 },
 "nbformat": 4,
 "nbformat_minor": 4
}
