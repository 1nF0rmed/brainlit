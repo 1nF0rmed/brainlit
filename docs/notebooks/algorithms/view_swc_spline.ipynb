{
 "metadata": {
  "language_info": {
   "codemirror_mode": {
    "name": "ipython",
    "version": 3
   },
   "file_extension": ".py",
   "mimetype": "text/x-python",
   "name": "python",
   "nbconvert_exporter": "python",
   "pygments_lexer": "ipython3",
   "version": "3.8.3-final"
  },
  "orig_nbformat": 2,
  "kernelspec": {
   "name": "python38364bitf4714412a1f44add8a34874023a8360b",
   "display_name": "Python 3.8.3 64-bit"
  }
 },
 "nbformat": 4,
 "nbformat_minor": 2,
 "cells": [
  {
   "cell_type": "code",
   "execution_count": 1,
   "metadata": {},
   "outputs": [],
   "source": [
    "from pathlib import Path\n",
    "from brainlit.utils.swc import read_swc\n",
    "from brainlit.algorithms.trace_analysis.fit_spline import GeometricGraph\n",
    "import numpy as np\n",
    "import matplotlib.pyplot as plt\n",
    "from matplotlib.cm import ScalarMappable\n",
    "from mpl_toolkits.mplot3d import Axes3D\n",
    "import matplotlib.pyplot as plt\n",
    "from scipy.interpolate import splev"
   ]
  },
  {
   "source": [
    "# Fitting Splines to Neuron Trace SWC Tutorial\n",
    "\n",
    "## 1) Define variables\n",
    "- `swc` the geometric graph\n",
    "- `df,_,_,_` read the x, y, and z columns in swc file\n",
    "- `neuron` define a new class inherited from `GeometricGraph` class"
   ],
   "cell_type": "markdown",
   "metadata": {}
  },
  {
   "cell_type": "code",
   "execution_count": 8,
   "metadata": {},
   "outputs": [
    {
     "output_type": "error",
     "ename": "FileNotFoundError",
     "evalue": "[Errno 2] No such file or directory: 'data\\\\data_octree\\\\consensus-swcs\\\\2018-08-01_G-002_consensus.swc'",
     "traceback": [
      "\u001b[1;31m---------------------------------------------------------------------------\u001b[0m",
      "\u001b[1;31mFileNotFoundError\u001b[0m                         Traceback (most recent call last)",
      "\u001b[1;32m<ipython-input-8-c24ae456d957>\u001b[0m in \u001b[0;36m<module>\u001b[1;34m\u001b[0m\n\u001b[0;32m     11\u001b[0m \u001b[1;33m\u001b[0m\u001b[0m\n\u001b[0;32m     12\u001b[0m \u001b[1;31m#df,_,_,_ = read_swc_offset(swc)\u001b[0m\u001b[1;33m\u001b[0m\u001b[1;33m\u001b[0m\u001b[1;33m\u001b[0m\u001b[0m\n\u001b[1;32m---> 13\u001b[1;33m \u001b[0mdf\u001b[0m\u001b[1;33m,\u001b[0m \u001b[0moffset\u001b[0m\u001b[1;33m,\u001b[0m \u001b[0mcolor\u001b[0m\u001b[1;33m,\u001b[0m \u001b[0mcc\u001b[0m\u001b[1;33m,\u001b[0m \u001b[0mbranch\u001b[0m \u001b[1;33m=\u001b[0m \u001b[0mread_swc\u001b[0m\u001b[1;33m(\u001b[0m\u001b[0mswc\u001b[0m\u001b[1;33m)\u001b[0m\u001b[1;33m\u001b[0m\u001b[1;33m\u001b[0m\u001b[0m\n\u001b[0m\u001b[0;32m     14\u001b[0m \u001b[1;33m\u001b[0m\u001b[0m\n\u001b[0;32m     15\u001b[0m \u001b[0mneuron\u001b[0m \u001b[1;33m=\u001b[0m \u001b[0mGeometricGraph\u001b[0m\u001b[1;33m(\u001b[0m\u001b[1;33m)\u001b[0m\u001b[1;33m\u001b[0m\u001b[1;33m\u001b[0m\u001b[0m\n",
      "\u001b[1;32mc:\\users\\user\\brainlit\\brainlit\\utils\\swc.py\u001b[0m in \u001b[0;36mread_swc\u001b[1;34m(path)\u001b[0m\n\u001b[0;32m     24\u001b[0m \u001b[1;33m\u001b[0m\u001b[0m\n\u001b[0;32m     25\u001b[0m     \u001b[1;31m# check input\u001b[0m\u001b[1;33m\u001b[0m\u001b[1;33m\u001b[0m\u001b[1;33m\u001b[0m\u001b[0m\n\u001b[1;32m---> 26\u001b[1;33m     \u001b[0mfile\u001b[0m \u001b[1;33m=\u001b[0m \u001b[0mopen\u001b[0m\u001b[1;33m(\u001b[0m\u001b[0mpath\u001b[0m\u001b[1;33m,\u001b[0m \u001b[1;34m\"r\"\u001b[0m\u001b[1;33m)\u001b[0m\u001b[1;33m\u001b[0m\u001b[1;33m\u001b[0m\u001b[0m\n\u001b[0m\u001b[0;32m     27\u001b[0m     \u001b[0min_header\u001b[0m \u001b[1;33m=\u001b[0m \u001b[1;32mTrue\u001b[0m\u001b[1;33m\u001b[0m\u001b[1;33m\u001b[0m\u001b[0m\n\u001b[0;32m     28\u001b[0m     \u001b[0moffset_found\u001b[0m \u001b[1;33m=\u001b[0m \u001b[1;32mFalse\u001b[0m\u001b[1;33m\u001b[0m\u001b[1;33m\u001b[0m\u001b[0m\n",
      "\u001b[1;31mFileNotFoundError\u001b[0m: [Errno 2] No such file or directory: 'data\\\\data_octree\\\\consensus-swcs\\\\2018-08-01_G-002_consensus.swc'"
     ]
    }
   ],
   "source": [
    "swc = Path(\n",
    "    \"./data/data_octree/consensus-swcs/2018-08-01_G-002_consensus.swc\"\n",
    ")\n",
    "\n",
    "#df,_,_,_ = read_swc_offset(swc)\n",
    "df, offset, color, cc, branch = read_swc(swc)\n",
    "\n",
    "neuron = GeometricGraph()"
   ]
  },
  {
   "source": [
    "## 2) Extract data from swc and initiate neuron tree\n",
    "- `samp` data extracted from `sample` coloumn of swc\n",
    "- `loc` data extracted from `x`, `y`, and `z` columns of swc\n",
    "- `soma` define the data on the first run as the location of soma\n",
    "- `neuron` the neuron tree contains the sample index (integer number), the location in 3-D space (x,y,z), parent index (integer)\n",
    "- `par` the current data's parent index will be added to `neuron` if already defined in swc; otherwise, raise error"
   ],
   "cell_type": "markdown",
   "metadata": {}
  },
  {
   "cell_type": "code",
   "execution_count": null,
   "metadata": {},
   "outputs": [],
   "source": [
    "first = True\n",
    "for row in df.itertuples(index=False):\n",
    "    samp = row.sample\n",
    "    loc = np.array([row.x, row.y, row.z])\n",
    "    if first:\n",
    "        soma = loc\n",
    "        first = False\n",
    "    neuron.add_node(samp, loc=loc)\n",
    "    # print(neuron.nodes[samp]['loc'])\n",
    "    # raise ValueError\n",
    "    par = row.parent\n",
    "    if par != -1:\n",
    "        if par > samp:\n",
    "            raise ValueError(\"Parent has not been added yet\")\n",
    "        neuron.add_edge(samp, par)"
   ]
  },
  {
   "source": [
    "## 3) Plot the whole spline tree\n",
    "- `spline_tree` use the `fit_spline_tree_invariant` to locate neuron branches"
   ],
   "cell_type": "markdown",
   "metadata": {}
  },
  {
   "cell_type": "code",
   "execution_count": null,
   "metadata": {},
   "outputs": [],
   "source": [
    "fig = plt.figure()\n",
    "ax = fig.add_subplot(111, projection=\"3d\")\n",
    "spline_tree = neuron.fit_spline_tree_invariant()\n",
    "for node in spline_tree.nodes:\n",
    "    path = spline_tree.nodes[node][\"path\"]\n",
    "    locs = np.zeros((len(path),3))\n",
    "    for p,point in enumerate(path):\n",
    "        locs[p,:] = neuron.nodes[point][\"loc\"]\n",
    "    ax.scatter(locs[:,0], locs[:,1], locs[:,2], c='b', s=9)\n",
    "    ax.plot(locs[:,0], locs[:,1], locs[:,2], 'b-')\n",
    "ax.scatter(soma[0],soma[1],soma[2], c='r', s=500)\n",
    "ax.w_xaxis.set_pane_color((1.0, 1.0, 1.0, 1.0))\n",
    "ax.w_yaxis.set_pane_color((1.0, 1.0, 1.0, 1.0))\n",
    "ax.w_zaxis.set_pane_color((1.0, 1.0, 1.0, 1.0))\n",
    "# Hide grid lines\n",
    "ax.grid(False)\n",
    "\n",
    "# Hide axes ticks\n",
    "ax.set_xticks([])\n",
    "ax.set_yticks([])\n",
    "ax.set_zticks([])\n",
    "plt.axis('off')\n",
    "plt.show()"
   ]
  },
  {
   "source": [
    "## 4) Plot each branch in separate plots"
   ],
   "cell_type": "markdown",
   "metadata": {}
  },
  {
   "cell_type": "code",
   "execution_count": null,
   "metadata": {},
   "outputs": [],
   "source": [
    "for node in spline_tree.nodes:\n",
    "    path = spline_tree.nodes[node][\"path\"]\n",
    "    locs = np.zeros((len(path),3))\n",
    "    for p,point in enumerate(path):\n",
    "        locs[p,:] = neuron.nodes[point][\"loc\"]\n",
    "\n",
    "    spline = spline_tree.nodes[node][\"spline\"]\n",
    "    u = spline[1]\n",
    "    u = np.arange(u[0], u[-1]+0.9, 1)\n",
    "    tck = spline[0]\n",
    "    pts = splev(u, tck)\n",
    "    \n",
    "    fig = plt.figure()\n",
    "    ax = fig.add_subplot(111,projection=\"3d\")\n",
    "    #ax.scatter(locs[:,0], locs[:,1], locs[:,2], 'blue')\n",
    "    ax.plot(pts[0], pts[1], pts[2], 'red')\n",
    "    ax.w_xaxis.set_pane_color((1.0, 1.0, 1.0, 1.0))\n",
    "    ax.w_yaxis.set_pane_color((1.0, 1.0, 1.0, 1.0))\n",
    "    ax.w_zaxis.set_pane_color((1.0, 1.0, 1.0, 1.0))\n",
    "    # Hide grid lines\n",
    "    ax.grid(False)\n",
    "\n",
    "    # Hide axes ticks\n",
    "    ax.set_xticks([])\n",
    "    ax.set_yticks([])\n",
    "    ax.set_zticks([])\n",
    "    plt.axis('off')\n",
    "    plt.show()"
   ]
  }
 ]
}