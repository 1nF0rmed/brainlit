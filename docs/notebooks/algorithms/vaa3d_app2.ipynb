{
 "cells": [
  {
   "cell_type": "code",
   "execution_count": 1,
   "metadata": {},
   "outputs": [
    {
     "name": "stderr",
     "output_type": "stream",
     "text": [
      "C:\\Users\\frede\\anaconda3\\envs\\brainlit3.7\\lib\\site-packages\\napari\\__init__.py:44: UserWarning: \n",
      "    napari was tested with QT library `>=5.12.3`.\n",
      "    The version installed is 5.9.6. Please report any issues with this\n",
      "    specific QT version at https://github.com/Napari/napari/issues.\n",
      "    \n",
      "  warn(message=warn_message)\n",
      "C:\\Users\\frede\\anaconda3\\envs\\brainlit3.7\\lib\\site-packages\\python_jsonschema_objects\\__init__.py:53: UserWarning: Schema version http://json-schema.org/draft-04/schema not recognized. Some keywords and features may not be supported.\n",
      "  self.schema[\"$schema\"]\n"
     ]
    }
   ],
   "source": [
    "import numpy as np\n",
    "import pandas as pd\n",
    "import napari\n",
    "import os\n",
    "import matplotlib.pyplot as plt\n",
    "from skimage import io\n",
    "from mouselight_code.src.benchmarking_params import brain_offsets, vol_offsets, scales, type_to_date\n",
    "from mouselight_code.src import read_swc\n",
    "from brainlit.utils.swc import df_to_graph, graph_to_paths\n",
    "from pathlib import Path\n",
    "from sklearn.metrics import pairwise_distances_argmin_min"
   ]
  },
  {
   "cell_type": "markdown",
   "metadata": {},
   "source": [
    "## Loading the Vaa3D plugin wrapper\n",
    "\n",
    "- Download and install Vaa3D 3.447: https://github.com/Vaa3D/release/releases/tag/v3.447\n",
    "- Install the pyVaa3d wrapper in the Python environment: https://github.com/ajkswamy/pyVaa3d\n",
    "- When running this the first time, you will be prompted for the path to `vaa3d_msvc.exe` (Windows), `vaa3d64.app` (Mac), or `start_vaa3d.sh` (Linux)."
   ]
  },
  {
   "cell_type": "code",
   "execution_count": 2,
   "metadata": {
    "scrolled": true
   },
   "outputs": [
    {
     "name": "stdout",
     "output_type": "stream",
     "text": [
      "Working Vaa3d executable found at C:\\Users\\frede\\Documents\\Y4\\Y4_NDD\\Vaa3D_V3.447_Windows_MSVC_64bit\\Vaa3D_V3.447_Windows_MSVC_64bit\\vaa3d_msvc.exe!\n"
     ]
    }
   ],
   "source": [
    "from pyVaa3d.vaa3dWrapper import runVaa3dPlugin"
   ]
  },
  {
   "cell_type": "markdown",
   "metadata": {},
   "source": [
    "## APP2 output loading\n",
    "\n",
    "The following function is for loading the APP2 .swc output files as a list of labels."
   ]
  },
  {
   "cell_type": "code",
   "execution_count": 3,
   "metadata": {},
   "outputs": [],
   "source": [
    "# For unpacking the APP2 output .swc files as a list of labels\n",
    "def app2_swc_unpack(fname):\n",
    "    \"\"\"Reads in the results swc file and converts it to a list of (x,y,z)\n",
    "       coordinates corresponding to labels\n",
    "    \"\"\"\n",
    "\n",
    "    # check input\n",
    "    file = open(fname, \"r\")\n",
    "    skip_header = True\n",
    "    readable = True\n",
    "    header_length = -1\n",
    "    while skip_header:\n",
    "        line = file.readline().split()\n",
    "        if line != []:\n",
    "            if line[0][0] != \"#\":\n",
    "                #line = file.readline().split()\n",
    "                skip_header = False\n",
    "        else:\n",
    "            readable = False\n",
    "            skip_header = False\n",
    "            \n",
    "        header_length += 1\n",
    "    # read coordinates\n",
    "    if readable:\n",
    "        df = pd.read_table(\n",
    "            fname,\n",
    "            names=[\"n\", \"type\", \"x\", \"y\", \"z\", \"radius\", \"parent\"],\n",
    "            skiprows=header_length,\n",
    "            sep=\"\\s+\"\n",
    "        )\n",
    "    else:\n",
    "        return None\n",
    "     \n",
    "    # NOTE: The read-in order is [z,y,x] since the image is flipped.\n",
    "    labels = np.array(df[[\"z\",\"y\",\"x\"]])\n",
    "    return labels"
   ]
  },
  {
   "cell_type": "markdown",
   "metadata": {},
   "source": [
    "## Significant Spatial Distance Metric\n",
    "\n",
    "This is the same function as in https://github.com/neurodata/mouselight_code/blob/tom/swc_evaluate/mouselight_code/src/swc_eval.py"
   ]
  },
  {
   "cell_type": "code",
   "execution_count": 4,
   "metadata": {},
   "outputs": [],
   "source": [
    "def ssd(pts1, pts2):\n",
    "    \"\"\"Compute significant spatial distance metric between two traces as defined in APP1.\n",
    "    Args:\n",
    "        pts1 (np.array): array containing coordinates of points of trace 1. shape: npoints x ndims\n",
    "        pts2 (np.array): array containing coordinates of points of trace 1. shape: npoints x ndims\n",
    "    Returns:\n",
    "        [float]: significant spatial distance as defined by APP1\n",
    "    \"\"\"\n",
    "    _, dists1 = pairwise_distances_argmin_min(pts1, pts2)\n",
    "    dists1 = dists1[dists1 >= 2]\n",
    "    _, dists2 = pairwise_distances_argmin_min(pts2, pts1)\n",
    "    dists2 = dists2[dists2 >= 2]\n",
    "    dists = np.concatenate([dists1, dists2])\n",
    "    ssd = np.mean(dists)\n",
    "    return ssd"
   ]
  },
  {
   "cell_type": "markdown",
   "metadata": {},
   "source": [
    "## Running APP2\n",
    "\n",
    "Using the `runVaa3dPlugin` function, batch testing of APP2 can be performed. Currently, the following script is set up to only run in `test_X-gfp.tif` files. APP2 will dump the resulting `.swc` files in the same directory as the inputs. If preferable, one needs to manually move these files into a dedicated output folder.\n",
    "\n",
    "Note that this will take roughly 45-60 mins to run for 25 images."
   ]
  },
  {
   "cell_type": "code",
   "execution_count": null,
   "metadata": {},
   "outputs": [],
   "source": [
    "directory = r'C:\\\\Users\\\\frede\\\\Documents\\\\Y4\\\\Y4_NDD\\\\benchmarking_datasets\\\\'\n",
    "for n in range(1,26):\n",
    "    fname = 'test_' + str(n) + '-gfp.tif'\n",
    "    img_name = os.path.join(directory, fname)\n",
    "    img = io.imread(img_name)\n",
    "\n",
    "    # NOTE: This will autodump files into the dataset folder, since app2\n",
    "    # is set up to dump in the source folder.\n",
    "    print(f\"Running APP2 on image {fname}.\")\n",
    "    runVaa3dPlugin(inFile=img_name, pluginName=\"Vaa3D_Neuron2\",\n",
    "                   funcName=\"app2\")\n",
    "\n",
    "print(f\"APP2 Done. Please check {directory} for outputs.\")"
   ]
  },
  {
   "cell_type": "markdown",
   "metadata": {},
   "source": [
    "## Loading the results\n",
    "\n",
    "Vaa3D will output 2 `.swc` files, one with a `_ini.swc` extension and one with an `_xAB_yCD_zEF.swc` extension. The latter is the pruned output that corresponds to the final result, where the `x, y, z` portion of the extension is the location of the soma or root of the reconstruction.\n",
    "\n",
    "The results are stored in a dictionary, where the key is the original input file name without a `.tif` extension."
   ]
  },
  {
   "cell_type": "code",
   "execution_count": 6,
   "metadata": {},
   "outputs": [],
   "source": [
    "directory = r'C:\\\\Users\\\\frede\\\\Documents\\\\Y4\\\\Y4_NDD\\\\benchmarking_datasets\\\\'\n",
    "\n",
    "test_results = {}\n",
    "\n",
    "for f in os.listdir(directory):\n",
    "    if f.endswith(\"app2.swc\"):\n",
    "        test_results[f.split(sep='.')[0]] = app2_swc_unpack(os.path.join(directory, f))\n",
    "\n",
    "# List of the input data files without .tif extension\n",
    "fnames = list(test_results.keys())"
   ]
  },
  {
   "cell_type": "markdown",
   "metadata": {},
   "source": [
    "## Computing SSD, Comparing with ground truth labels\n",
    "\n",
    "APP2 runs rather poorly on many of the testing images, producing traces that are difficult to compare to the input data. As such, one will need to manually look through the APP2-produced reconstructions and determine whether or not they are qualitatively reasonable."
   ]
  },
  {
   "cell_type": "code",
   "execution_count": 14,
   "metadata": {},
   "outputs": [
    {
     "name": "stdout",
     "output_type": "stream",
     "text": [
      "File viewed:  test_21-gfp\n"
     ]
    }
   ],
   "source": [
    "# --- Manually Preview the Reconstruction ---\n",
    "# When manually viewing the reconstructions in napari,\n",
    "# Jupyter notebook can't display a napari viewer result.\n",
    "# To see result, please run in a local Python environment.\n",
    "raw_directory = r'C:\\\\Users\\\\frede\\\\Documents\\\\Y4\\\\Y4_NDD\\\\benchmarking_datasets\\\\'\n",
    "fnames = list(test_results.keys())\n",
    "select_file = fnames[13]\n",
    "print(\"File viewed: \", select_file)\n",
    "img_name = select_file+\".tif\"\n",
    "\n",
    "img = io.imread(os.path.join(raw_directory, img_name))\n",
    "img_labels = test_results[select_file]\n",
    "\n",
    "with napari.gui_qt():\n",
    "    viewer = napari.Viewer(ndisplay=3)\n",
    "    viewer.add_image(img)\n",
    "    viewer.add_points(img_labels, size=1, opacity=0.5, face_color='yellow',edge_color='red')"
   ]
  },
  {
   "cell_type": "markdown",
   "metadata": {},
   "source": [
    "### Loading the ground truth labels"
   ]
  },
  {
   "cell_type": "code",
   "execution_count": 42,
   "metadata": {},
   "outputs": [],
   "source": [
    "# Target files for inputs.\n",
    "target_files = fnames #[fnames[6], fnames[7], fnames[13]]\n",
    "\n",
    "# Directory of the input data\n",
    "raw_directory = r'C:\\\\Users\\\\frede\\\\Documents\\\\Y4\\\\Y4_NDD\\\\benchmarking_datasets\\\\'\n",
    "im_dir = Path(raw_directory)\n",
    "gfp_files = list(im_dir.glob(\"**/*-gfp.tif\"))\n",
    "# Path of the manual ground truth data\n",
    "swc_base_path = im_dir / \"Manual-GT\"\n",
    "\n",
    "gt_labels = {}\n",
    "\n",
    "# (Loading code courtesy of Tommy.)\n",
    "# for every image\n",
    "for im_num, im_path in enumerate(gfp_files):\n",
    "    \n",
    "    f = im_path.parts[-1][:-8].split(\"_\")\n",
    "    image = f[0]\n",
    "\n",
    "    date = type_to_date[image]\n",
    "    num = int(f[1])\n",
    "    img_name = image + \"_\" + str(num) + \"-gfp\"\n",
    "    \n",
    "    # Skip the file if it's not of interest\n",
    "    if img_name not in target_files:\n",
    "        continue\n",
    "    \n",
    "    # More file reading\n",
    "    scale = scales[date]\n",
    "    brain_offset = brain_offsets[date]\n",
    "\n",
    "    vol_offset = vol_offsets[date][num]\n",
    "    im_offset = np.add(brain_offset, vol_offset)\n",
    "    \n",
    "    # Parse the proper directory\n",
    "    lower = int(np.floor((num - 1) / 5) * 5 + 1)\n",
    "    upper = int(np.floor((num - 1) / 5) * 5 + 5)\n",
    "    dir1 = date + \"_\" + image + \"_\" + str(lower) + \"-\" + str(upper)\n",
    "    dir2 = date + \"_\" + image + \"_\" + str(num)\n",
    "    swc_path = swc_base_path / dir1 / dir2\n",
    "    \n",
    "    # Read swcs\n",
    "    swc_files = list(swc_path.glob(\"**/*.swc\"))\n",
    "    #im = io.imread(im_path, plugin=\"tifffile\")\n",
    "    #print(f\"Image shape: {im.shape}\")\n",
    "    path_total = []\n",
    "    for swc_num, swc in enumerate(swc_files):\n",
    "        if \"cube\" in swc.parts[-1]:\n",
    "            # skip the bounding box swc\n",
    "            continue\n",
    "\n",
    "        df, swc_offset, _, _, _ = read_swc.read_swc(swc)\n",
    "\n",
    "        #compute the offset of the swc relative to the image\n",
    "        offset_diff = np.subtract(swc_offset, im_offset)\n",
    "        G = df_to_graph(df)\n",
    "\n",
    "        paths = graph_to_paths(G)\n",
    "        # for every path in that swc\n",
    "        for path_num, p in enumerate(paths):\n",
    "            #convert from spatial coordinates to voxel coordinates\n",
    "            pvox = (p + offset_diff) / (scale) * 1000\n",
    "            \n",
    "            # Swap the columns to orient properly\n",
    "            pvox[:, [2, 0]] = pvox[:, [0, 2]] \n",
    "            path_total.extend(pvox)\n",
    "    gt_labels[img_name] = path_total"
   ]
  },
  {
   "cell_type": "markdown",
   "metadata": {},
   "source": [
    "### Compute SSD metric\n",
    "\n",
    "NOTE: The SSD metric is set to None if the APP2 reconstruction produced an empty trace. "
   ]
  },
  {
   "cell_type": "code",
   "execution_count": 21,
   "metadata": {},
   "outputs": [],
   "source": [
    "SSD = {}\n",
    "for img_name in list(gt_labels.keys()):\n",
    "    if test_results[img_name] is None:\n",
    "        SSD[img_name] = None\n",
    "        continue\n",
    "    SSD[img_name] = ssd(test_results[img_name], gt_labels[img_name])"
   ]
  },
  {
   "cell_type": "markdown",
   "metadata": {},
   "source": [
    "### View the comparison\n",
    "\n",
    "The following code will have ground truth in Green and the APP2 labels in Yellow/Red."
   ]
  },
  {
   "cell_type": "code",
   "execution_count": 47,
   "metadata": {},
   "outputs": [
    {
     "name": "stdout",
     "output_type": "stream",
     "text": [
      "SSD of test_17-gfp: 45.41820739310418\n"
     ]
    }
   ],
   "source": [
    "image_of_interest = \"test_17-gfp\"#target_files[6]\n",
    "img = io.imread(os.path.join(raw_directory, image_of_interest + \".tif\"))\n",
    "with napari.gui_qt():\n",
    "    viewer = napari.Viewer(ndisplay=3)\n",
    "    viewer.add_image(img)\n",
    "    viewer.add_points(gt_labels[image_of_interest], size=0.8, opacity=0.5, face_color='green',edge_color='green')\n",
    "    viewer.add_points(test_results[image_of_interest], size=0.8, opacity=0.5, face_color='yellow',edge_color='red')     \n",
    "print(f\"SSD of {image_of_interest}: {SSD[image_of_interest]}\")"
   ]
  },
  {
   "cell_type": "markdown",
   "metadata": {},
   "source": [
    "Note: There are a few problems with some of the images. test_9-gfp, test_10-gfp, and test_24-gfp have some ground truth misalignment issues, so these will be omitted."
   ]
  },
  {
   "cell_type": "code",
   "execution_count": 48,
   "metadata": {},
   "outputs": [
    {
     "data": {
      "text/plain": [
       "Text(0, 0.5, 'Significant Spatial Distance (SSD)')"
      ]
     },
     "execution_count": 48,
     "metadata": {},
     "output_type": "execute_result"
    },
    {
     "data": {
      "image/png": "[encoded data removed]",
      "text/plain": [
       "<Figure size 576x576 with 1 Axes>"
      ]
     },
     "metadata": {
      "needs_background": "light"
     },
     "output_type": "display_data"
    }
   ],
   "source": [
    "keys = []\n",
    "metrics = []\n",
    "items_to_drop = [\"test_9-gfp\", \"test_10-gfp\", \"test_24-gfp\"]\n",
    "for i in list(SSD.keys()):\n",
    "    if i in items_to_drop:\n",
    "        continue\n",
    "    if SSD[i] != None:\n",
    "        keys.append(i)\n",
    "        metrics.append(SSD[i])\n",
    "\n",
    "plt.figure(figsize=(8,8))\n",
    "plt.bar(range(len(metrics)),metrics)\n",
    "plt.xticks(np.arange(len(keys)), keys, rotation='vertical')\n",
    "plt.title(\"SSD metrics for benchmarking test GFP imageset\")\n",
    "plt.xlabel(\"Image name\")\n",
    "plt.ylabel(\"Significant Spatial Distance (SSD)\")"
   ]
  }
 ],
 "metadata": {
  "kernelspec": {
   "display_name": "Python 3",
   "language": "python",
   "name": "python3"
  },
  "language_info": {
   "codemirror_mode": {
    "name": "ipython",
    "version": 3
   },
   "file_extension": ".py",
   "mimetype": "text/x-python",
   "name": "python",
   "nbconvert_exporter": "python",
   "pygments_lexer": "ipython3",
   "version": "3.7.9"
  }
 },
 "nbformat": 4,
 "nbformat_minor": 4
}
