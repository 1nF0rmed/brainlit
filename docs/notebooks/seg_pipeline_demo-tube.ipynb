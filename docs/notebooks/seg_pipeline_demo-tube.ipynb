{
 "cells": [
  {
   "cell_type": "code",
   "execution_count": 1,
   "metadata": {},
   "outputs": [],
   "source": [
    "import brainlit\n",
    "from brainlit.utils.ngl_pipeline import NeuroglancerSession\n",
    "from brainlit.viz.swc import *\n",
    "from brainlit.algorithms.generate_fragments import tube_seg"
   ]
  },
  {
   "cell_type": "code",
   "execution_count": 2,
   "metadata": {},
   "outputs": [
    {
     "name": "stderr",
     "output_type": "stream",
     "text": [
      "Downloading: 100%|██████████| 1/1 [00:00<00:00,  3.69it/s]\n",
      "Downloading: 100%|██████████| 1/1 [00:00<00:00, 26.86it/s]\n",
      "Downloading: 100%|██████████| 1/1 [00:00<00:00, 22.64it/s]\n",
      "Downloading: 100%|██████████| 1/1 [00:00<00:00, 23.43it/s]\n",
      "Downloading: 100%|██████████| 1/1 [00:00<00:00, 24.73it/s]\n",
      "Downloading: 100%|██████████| 1/1 [00:00<00:00, 24.56it/s]\n",
      "Downloading: 100%|██████████| 1/1 [00:00<00:00, 23.71it/s]\n",
      "Downloading: 100%|██████████| 1/1 [00:00<00:00, 14.95it/s]\n",
      "Downloading: 100%|██████████| 1/1 [00:00<00:00, 26.63it/s]\n",
      "Downloading: 100%|██████████| 1/1 [00:00<00:00, 27.38it/s]"
     ]
    },
    {
     "name": "stdout",
     "output_type": "stream",
     "text": [
      "[2, 7]\n"
     ]
    },
    {
     "name": "stderr",
     "output_type": "stream",
     "text": [
      "\n"
     ]
    }
   ],
   "source": [
    "# Optional: Print the IDs of segments in Neuroglancer\n",
    "url = \"s3://mouse-light-viz/precomputed_volumes/brain1\"\n",
    "ngl_skel = NeuroglancerSession(url+\"_segments\", mip=1)\n",
    "working_ids = []\n",
    "for seg_id in range(10): #most segment IDs in range(300), additionally, segments 999, 1000 are available\n",
    "    try:\n",
    "        segment = ngl_skel.cv.skeleton.get(seg_id)\n",
    "        working_ids.append(seg_id)\n",
    "    except:\n",
    "          pass\n",
    "print(working_ids)"
   ]
  },
  {
   "cell_type": "code",
   "execution_count": 31,
   "metadata": {},
   "outputs": [
    {
     "name": "stderr",
     "output_type": "stream",
     "text": [
      "Downloading: 100%|██████████| 1/1 [00:00<00:00,  7.72it/s]\n",
      "/Users/mattf/Applications/anaconda3/lib/python3.7/site-packages/brainlit/viz/swc.py:46: FutureWarning: read_table is deprecated, use read_csv instead, passing sep='\\t'.\n",
      "  delim_whitespace=True,\n"
     ]
    },
    {
     "data": {
      "text/plain": [
       "3135"
      ]
     },
     "execution_count": 31,
     "metadata": {},
     "output_type": "execute_result"
    }
   ],
   "source": [
    "seg_id = 13\n",
    "mip = 2\n",
    "df = read_s3(url+\"_segments\", seg_id, mip)\n",
    "#df.head()\n",
    "df['sample'].size # the number of vertex IDs [1, 2, ..., df['sample'].size]"
   ]
  },
  {
   "cell_type": "code",
   "execution_count": 32,
   "metadata": {},
   "outputs": [
    {
     "name": "stdout",
     "output_type": "stream",
     "text": [
      "      sample  structure       x       y       z    r  parent\n",
      "0          1          0  1416.0  1634.0  2364.0  1.0      -1\n",
      "1          2          0  1427.0  1628.0  2361.0  1.0       1\n",
      "2          3         64  1441.0  1621.0  2355.0  1.0       2\n",
      "3          4        192  1456.0  1612.0  2348.0  1.0       3\n",
      "4          5          0  1462.0  1602.0  2343.0  1.0       4\n",
      "5          7          0  1472.0  1595.0  2339.0  1.0       5\n",
      "6         13          0  1496.0  1591.0  2330.0  1.0       7\n",
      "7         38          0  1525.0  1593.0  2326.0  1.0      13\n",
      "8         36          0  1524.0  1571.0  2322.0  1.0      38\n",
      "9         42          0  1531.0  1566.0  2321.0  1.0      36\n",
      "10        62         64  1556.0  1560.0  2317.0  1.0      42\n",
      "11        77        192  1577.0  1558.0  2315.0  1.0      62\n",
      "12        85          0  1594.0  1552.0  2313.0  1.0      77\n",
      "13        93          0  1611.0  1546.0  2312.0  1.0      85\n",
      "14       105         64  1634.0  1539.0  2311.0  1.0      93\n",
      "15       107        192  1644.0  1525.0  2310.0  1.0     105\n",
      "16       109          0  1654.0  1520.0  2309.0  1.0     107\n",
      "17       111          0  1656.0  1509.0  2307.0  1.0     109\n",
      "18       117         64  1665.0  1493.0  2305.0  1.0     111\n",
      "19       122        160  1669.0  1470.0  2300.0  1.0     117\n",
      "20       119          0  1668.0  1447.0  2296.0  1.0     122\n",
      "21       114          0  1662.0  1427.0  2292.0  1.0     119\n",
      "22       131          0  1680.0  1411.0  2289.0  1.0     114\n",
      "23       145          0  1701.0  1402.0  2290.0  1.0     131\n",
      "24       158          0  1715.0  1394.0  2290.0  1.0     145\n",
      "25       180          0  1734.0  1382.0  2291.0  1.0     158\n",
      "26       187          0  1746.0  1365.0  2290.0  1.0     180\n",
      "27       194          0  1755.0  1344.0  2288.0  1.0     187\n",
      "28       203          0  1764.0  1327.0  2287.0  1.0     194\n",
      "29       233          0  1783.0  1309.0  2285.0  1.0     203\n",
      "...      ...        ...     ...     ...     ...  ...     ...\n",
      "3105     389          0  2008.0  2008.0  2374.0  1.0     383\n",
      "3106     482          0  2069.0  1132.0  2328.0  1.0     487\n",
      "3107     475          0  2060.0  1123.0  2326.0  1.0     482\n",
      "3108     445          0  2040.0  1114.0  2323.0  1.0     475\n",
      "3109     437          0  2032.0  1111.0  2323.0  1.0     445\n",
      "3110     406          0  2019.0  1100.0  2325.0  1.0     437\n",
      "3111     354          0  1975.0  1075.0  2326.0  1.0     406\n",
      "3112     315          0  1901.0  1206.0  2293.0  1.0     314\n",
      "3113     312          0  1897.0  1190.0  2286.0  1.0     315\n",
      "3114     316          0  1905.0  1178.0  2282.0  1.0     312\n",
      "3115     317          0  1908.0  1167.0  2272.0  1.0     316\n",
      "3116     321          0  1917.0  1169.0  2262.0  1.0     317\n",
      "3117     324          0  1925.0  1161.0  2252.0  1.0     321\n",
      "3118     325          0  1928.0  1163.0  2251.0  1.0     324\n",
      "3119     329          0  1936.0  1167.0  2246.0  1.0     325\n",
      "3120     332          0  1942.0  1163.0  2243.0  1.0     329\n",
      "3121     335          0  1951.0  1166.0  2244.0  1.0     332\n",
      "3122     339          0  1959.0  1162.0  2243.0  1.0     335\n",
      "3123     286          0  1835.0  1257.0  2279.0  1.0     291\n",
      "3124     270          0  1818.0  1262.0  2268.0  1.0     286\n",
      "3125     265          0  1812.0  1256.0  2254.0  1.0     270\n",
      "3126     257        160  1805.0  1257.0  2247.0  1.0     265\n",
      "3127     253         64  1802.0  1246.0  2238.0  1.0     257\n",
      "3128     282          0  1830.0  1250.0  2279.0  1.0     283\n",
      "3129     278          0  1826.0  1238.0  2273.0  1.0     282\n",
      "3130     273          0  1821.0  1226.0  2266.0  1.0     278\n",
      "3131     268          0  1816.0  1223.0  2263.0  1.0     273\n",
      "3132     249          0  1797.0  1228.0  2260.0  1.0     268\n",
      "3133     236          0  1786.0  1223.0  2257.0  1.0     249\n",
      "3134     234          0  1783.0  1213.0  2258.0  1.0     236\n",
      "\n",
      "[3135 rows x 7 columns]\n"
     ]
    }
   ],
   "source": [
    "print(df)"
   ]
  },
  {
   "cell_type": "code",
   "execution_count": 33,
   "metadata": {},
   "outputs": [],
   "source": [
    "subneuron_df = df[0:5] # choose vertices to use for the subneuron"
   ]
  },
  {
   "cell_type": "code",
   "execution_count": 34,
   "metadata": {},
   "outputs": [],
   "source": [
    "vertex_list = subneuron_df['sample'].array "
   ]
  },
  {
   "cell_type": "code",
   "execution_count": 35,
   "metadata": {},
   "outputs": [
    {
     "data": {
      "text/plain": [
       "<PandasArray>\n",
       "[1, 2, 3, 4, 5]\n",
       "Length: 5, dtype: int64"
      ]
     },
     "execution_count": 35,
     "metadata": {},
     "output_type": "execute_result"
    }
   ],
   "source": [
    "vertex_list"
   ]
  },
  {
   "cell_type": "code",
   "execution_count": 36,
   "metadata": {},
   "outputs": [
    {
     "name": "stderr",
     "output_type": "stream",
     "text": [
      "Downloading: 100%|██████████| 1/1 [00:00<00:00, 19.84it/s]\n",
      "Downloading: 100%|██████████| 1/1 [00:00<00:00, 22.39it/s]\n",
      "Downloading: 100%|██████████| 1/1 [00:00<00:00, 23.70it/s]\n",
      "Downloading: 100%|██████████| 1/1 [00:00<00:00, 17.28it/s]\n",
      "Downloading: 100%|██████████| 1/1 [00:00<00:00, 22.09it/s]\n",
      "Downloading:   0%|          | 0/1 [00:00<?, ?it/s]\n",
      "\n",
      "\n"
     ]
    }
   ],
   "source": [
    "ngl = NeuroglancerSession(url, mip=mip)\n",
    "buffer = [10, 10, 10]\n",
    "img, bounds, vox_in_img_list = ngl.pull_vertex_list(seg_id, vertex_list, buffer = buffer, expand = True)"
   ]
  },
  {
   "cell_type": "code",
   "execution_count": 37,
   "metadata": {},
   "outputs": [],
   "source": [
    "# Reference: https://github.com/NeuroDataDesign/mouselit/blob/master/bijan/mouse_test/final%20notebook.ipynb\n",
    "\n",
    "import matplotlib.pyplot as plt\n",
    "import SimpleITK as sitk\n",
    "import numpy as np\n",
    "import napari\n",
    "\n",
    "\n",
    "def plot_2d(img, title=None, margin=0.05, dpi=80):\n",
    "    nda = sitk.GetArrayFromImage(img)\n",
    "    spacing = img.GetSpacing()\n",
    "\n",
    "    if nda.ndim == 3:\n",
    "        c = nda.shape[-1]\n",
    "\n",
    "        if c not in (3, 4):\n",
    "            nda = nda[nda.shape[0] // 2, :, :]\n",
    "\n",
    "    elif nda.ndim == 4:\n",
    "        c = nda.shape[-1]\n",
    "\n",
    "        if c not in (3, 4):\n",
    "            raise RuntimeError(\"Unable to show 3D-vector Image\")\n",
    "\n",
    "        nda = nda[nda.shape[0] // 2, :, :, :]\n",
    "\n",
    "    xsize = nda.shape[1] * 2\n",
    "    ysize = nda.shape[0] * 2\n",
    "\n",
    "    figsize = (1 + margin) * xsize / dpi, (1 + margin) * ysize / dpi\n",
    "\n",
    "    plt.figure(figsize=figsize, dpi=dpi, tight_layout=True)\n",
    "    ax = plt.gca()\n",
    "\n",
    "    extent = (0, xsize * spacing[0], ysize * spacing[1], 0)\n",
    "\n",
    "    t = ax.imshow(nda, extent=extent, interpolation=None)\n",
    "\n",
    "    if nda.ndim == 2:\n",
    "        t.set_cmap(\"gray\")\n",
    "\n",
    "    if title:\n",
    "        plt.title(title)\n",
    "\n",
    "    plt.show()\n",
    "\n",
    "\n",
    "def plot_3d(img, xslices=[], yslices=[], zslices=[], title=None, margin=0.05, dpi=80):\n",
    "    img_xslices = [img[s, :, :] for s in xslices]\n",
    "    img_yslices = [img[:, s, :] for s in yslices]\n",
    "    img_zslices = [img[:, :, s] for s in zslices]\n",
    "\n",
    "    maxlen = max(len(img_xslices), len(img_yslices), len(img_zslices))\n",
    "\n",
    "    img_null = sitk.Image([0, 0], img.GetPixelID(), img.GetNumberOfComponentsPerPixel())\n",
    "\n",
    "    img_slices = []\n",
    "    d = 0\n",
    "\n",
    "    if len(img_xslices):\n",
    "        img_slices += img_xslices + [img_null] * (maxlen - len(img_xslices))\n",
    "        d += 1\n",
    "\n",
    "    if len(img_yslices):\n",
    "        img_slices += img_yslices + [img_null] * (maxlen - len(img_yslices))\n",
    "        d += 1\n",
    "\n",
    "    if len(img_zslices):\n",
    "        img_slices += img_zslices + [img_null] * (maxlen - len(img_zslices))\n",
    "        d += 1\n",
    "\n",
    "    if maxlen != 0:\n",
    "        if img.GetNumberOfComponentsPerPixel() == 1:\n",
    "            img = sitk.Tile(img_slices, [maxlen, d])\n",
    "        else:\n",
    "            img_comps = []\n",
    "            for i in range(0, img.GetNumberOfComponentsPerPixel()):\n",
    "                img_slices_c = [sitk.VectorIndexSelectionCast(s, i) for s in img_slices]\n",
    "                img_comps.append(sitk.Tile(img_slices_c, [maxlen, d]))\n",
    "            img = sitk.Compose(img_comps)\n",
    "\n",
    "    plot_2d(img, title, margin, dpi)\n",
    "\n",
    "\n",
    "def napari_viewer(img, labels=None, shapes=None, label_name=\"Segmentation\"):\n",
    "    viewer = napari.view_image(np.squeeze(np.array(img)))\n",
    "    if labels is not None:\n",
    "        viewer.add_labels(labels, name=label_name)\n",
    "    if shapes is not None:\n",
    "        viewer.add_shapes(data=shapes, shape_type='path', edge_color='blue', name='Skeleton')\n",
    "    return viewer"
   ]
  },
  {
   "cell_type": "code",
   "execution_count": 38,
   "metadata": {},
   "outputs": [
    {
     "data": {
      "image/png": "[encoded data removed]",
      "text/plain": [
       "<Figure size 546x315 with 1 Axes>"
      ]
     },
     "metadata": {
      "needs_background": "light"
     },
     "output_type": "display_data"
    },
    {
     "data": {
      "text/plain": [
       "<napari.viewer.Viewer at 0x176b82898>"
      ]
     },
     "execution_count": 38,
     "metadata": {},
     "output_type": "execute_result"
    }
   ],
   "source": [
    "%gui qt\n",
    "plot_3d(sitk.GetImageFromArray(np.squeeze(img), isVector=False), zslices=range(48,53), title = \"Downloaded Mouselight Volume\")\n",
    "napari_viewer(img)"
   ]
  },
  {
   "cell_type": "code",
   "execution_count": 39,
   "metadata": {},
   "outputs": [
    {
     "name": "stderr",
     "output_type": "stream",
     "text": [
      "/Users/mattf/Applications/anaconda3/lib/python3.7/site-packages/ipykernel_launcher.py:3: SettingWithCopyWarning: \n",
      "A value is trying to be set on a copy of a slice from a DataFrame\n",
      "\n",
      "See the caveats in the documentation: http://pandas.pydata.org/pandas-docs/stable/indexing.html#indexing-view-versus-copy\n",
      "  This is separate from the ipykernel package so we can avoid doing imports until\n",
      "/Users/mattf/Applications/anaconda3/lib/python3.7/site-packages/IPython/core/interactiveshell.py:3326: SettingWithCopyWarning: \n",
      "A value is trying to be set on a copy of a slice from a DataFrame\n",
      "\n",
      "See the caveats in the documentation: http://pandas.pydata.org/pandas-docs/stable/indexing.html#indexing-view-versus-copy\n",
      "  exec(code_obj, self.user_global_ns, self.user_ns)\n",
      "/Users/mattf/Applications/anaconda3/lib/python3.7/site-packages/ipykernel_launcher.py:4: SettingWithCopyWarning: \n",
      "A value is trying to be set on a copy of a slice from a DataFrame\n",
      "\n",
      "See the caveats in the documentation: http://pandas.pydata.org/pandas-docs/stable/indexing.html#indexing-view-versus-copy\n",
      "  after removing the cwd from sys.path.\n",
      "/Users/mattf/Applications/anaconda3/lib/python3.7/site-packages/ipykernel_launcher.py:5: SettingWithCopyWarning: \n",
      "A value is trying to be set on a copy of a slice from a DataFrame\n",
      "\n",
      "See the caveats in the documentation: http://pandas.pydata.org/pandas-docs/stable/indexing.html#indexing-view-versus-copy\n",
      "  \"\"\"\n"
     ]
    },
    {
     "name": "stdout",
     "output_type": "stream",
     "text": [
      "   sample  structure     x      y     z    r  parent\n",
      "0       1          0  55.0   46.0  34.0  1.0      -1\n",
      "1       2          0  50.0   60.0  35.0  1.0       1\n",
      "2       3         64  54.0   81.0  35.0  1.0       2\n",
      "3       4        192  50.0   91.0  34.0  1.0       3\n",
      "4       5          0  47.0  111.0  36.0  1.0       4\n"
     ]
    }
   ],
   "source": [
    "corrected_subneuron_df = subneuron_df\n",
    "for index, sample in enumerate(vox_in_img_list):\n",
    "    corrected_subneuron_df['x'][index] = sample[0]\n",
    "    corrected_subneuron_df['y'][index] = sample[1]\n",
    "    corrected_subneuron_df['z'][index] = sample[2]\n",
    "print(corrected_subneuron_df)"
   ]
  },
  {
   "cell_type": "code",
   "execution_count": null,
   "metadata": {},
   "outputs": [],
   "source": []
  },
  {
   "cell_type": "code",
   "execution_count": 40,
   "metadata": {},
   "outputs": [
    {
     "name": "stdout",
     "output_type": "stream",
     "text": [
      "6292324902\n"
     ]
    }
   ],
   "source": [
    "print(img.sum())"
   ]
  },
  {
   "cell_type": "code",
   "execution_count": 41,
   "metadata": {},
   "outputs": [
    {
     "name": "stdout",
     "output_type": "stream",
     "text": [
      "Number of nodes: 5\n",
      "Number of edges: 4\n",
      "\n",
      "\n",
      "Sample 1 coordinates (x,y,z)\n"
     ]
    },
    {
     "data": {
      "text/plain": [
       "{'x': 55, 'y': 46, 'z': 34}"
      ]
     },
     "execution_count": 41,
     "metadata": {},
     "output_type": "execute_result"
    }
   ],
   "source": [
    "G = df_to_graph(corrected_subneuron_df)\n",
    "print('Number of nodes:', len(G.nodes))\n",
    "print('Number of edges:', len(G.edges))\n",
    "print('\\n')\n",
    "print('Sample 1 coordinates (x,y,z)')\n",
    "G.nodes[1]"
   ]
  },
  {
   "cell_type": "code",
   "execution_count": 42,
   "metadata": {},
   "outputs": [
    {
     "data": {
      "text/plain": [
       "1"
      ]
     },
     "execution_count": 42,
     "metadata": {},
     "output_type": "execute_result"
    }
   ],
   "source": [
    "paths = graph_to_paths(G)\n",
    "len(paths)"
   ]
  },
  {
   "cell_type": "code",
   "execution_count": 43,
   "metadata": {},
   "outputs": [
    {
     "data": {
      "text/plain": [
       "<napari.viewer.Viewer at 0x16e674278>"
      ]
     },
     "execution_count": 43,
     "metadata": {},
     "output_type": "execute_result"
    }
   ],
   "source": [
    "%gui qt\n",
    "napari_viewer(img, shapes=paths)"
   ]
  },
  {
   "cell_type": "code",
   "execution_count": 44,
   "metadata": {},
   "outputs": [],
   "source": [
    "# seed = []\n",
    "# for sample in vox_in_img_list:\n",
    "#     _, s = adaptive_thresh.get_seed(sample)\n",
    "#     seed.append(s)\n",
    "# print(seed)"
   ]
  },
  {
   "cell_type": "code",
   "execution_count": 45,
   "metadata": {},
   "outputs": [
    {
     "name": "stdout",
     "output_type": "stream",
     "text": [
      "[array([[ 55.,  46.,  34.],\n",
      "       [ 50.,  60.,  35.],\n",
      "       [ 54.,  81.,  35.],\n",
      "       [ 50.,  91.,  34.],\n",
      "       [ 47., 111.,  36.]])]\n"
     ]
    }
   ],
   "source": [
    "print(viewer.layers['Skeleton'].data)"
   ]
  },
  {
   "cell_type": "code",
   "execution_count": 46,
   "metadata": {},
   "outputs": [],
   "source": [
    "labels = tube_seg.tubes_seg(img, vox_in_img_list, 2)"
   ]
  },
  {
   "cell_type": "code",
   "execution_count": 48,
   "metadata": {},
   "outputs": [
    {
     "data": {
      "text/plain": [
       "<napari.viewer.Viewer at 0x191b988d0>"
      ]
     },
     "execution_count": 48,
     "metadata": {},
     "output_type": "execute_result"
    }
   ],
   "source": [
    "## Most useful visualization cell - contains image, SWC, and automatic segmentation\n",
    "%gui qt\n",
    "napari_viewer(img, labels=labels, shapes=paths, label_name=\"Tube Segmentation\")"
   ]
  },
  {
   "cell_type": "markdown",
   "metadata": {},
   "source": [
    "## Steps to Manually Edit Labels\n",
    "1. Ensure Napari is in 2D-slice viewing, not 3D view. (The second button from the bottom left)\n",
    "2. Click the image layer and adjust the contrast limits as desired.\n",
    "3. Click the \"Confidence-Connected Threshold Layer\"\n",
    "4. Click the paintbrush tool and adjust the brush size. Ensure that \"label\" is set to 1 to paint and 0 to erase.\n",
    "5. Click and drag on the image to adjust labels. Changes are saved automatically, and CMD-Z to undo is supported."
   ]
  },
  {
   "cell_type": "code",
   "execution_count": 49,
   "metadata": {},
   "outputs": [],
   "source": [
    "# Get manual labels\n",
    "manual_labels = viewer.layers[\"Tube Segmentation\"].data"
   ]
  },
  {
   "cell_type": "code",
   "execution_count": 50,
   "metadata": {},
   "outputs": [],
   "source": [
    "# Upload segmentation to AWS\n",
    "ngl_upload = NeuroglancerSession(url+\"_seg\", mip=mip)"
   ]
  },
  {
   "cell_type": "code",
   "execution_count": 51,
   "metadata": {},
   "outputs": [],
   "source": [
    "%%capture\n",
    "ngl_upload.push(manual_labels, bounds);"
   ]
  },
  {
   "cell_type": "code",
   "execution_count": 52,
   "metadata": {},
   "outputs": [
    {
     "name": "stderr",
     "output_type": "stream",
     "text": [
      "Downloading:   0%|          | 0/1 [00:00<?, ?it/s]\n",
      "\n",
      "\n"
     ]
    }
   ],
   "source": [
    "downloaded_labels = ngl_upload.pull_bounds_seg(bounds)"
   ]
  },
  {
   "cell_type": "code",
   "execution_count": 53,
   "metadata": {},
   "outputs": [
    {
     "name": "stdout",
     "output_type": "stream",
     "text": [
      "True\n"
     ]
    }
   ],
   "source": [
    "print(np.all(manual_labels == downloaded_labels))"
   ]
  },
  {
   "cell_type": "code",
   "execution_count": null,
   "metadata": {},
   "outputs": [],
   "source": []
  }
 ],
 "metadata": {
  "kernelspec": {
   "display_name": "Python 3",
   "language": "python",
   "name": "python3"
  },
  "language_info": {
   "codemirror_mode": {
    "name": "ipython",
    "version": 3
   },
   "file_extension": ".py",
   "mimetype": "text/x-python",
   "name": "python",
   "nbconvert_exporter": "python",
   "pygments_lexer": "ipython3",
   "version": "3.7.3"
  }
 },
 "nbformat": 4,
 "nbformat_minor": 4
}
