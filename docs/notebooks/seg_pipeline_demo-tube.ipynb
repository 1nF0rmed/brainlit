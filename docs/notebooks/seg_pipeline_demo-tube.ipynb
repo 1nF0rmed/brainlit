{
 "cells": [
  {
   "cell_type": "markdown",
   "metadata": {},
   "source": [
    "# This tutorial will demonstrate automatic and manual tube segmentation and downloading/uploading data with Neuroglancer"
   ]
  },
  {
   "cell_type": "code",
   "execution_count": 19,
   "metadata": {},
   "outputs": [],
   "source": [
    "import brainlit\n",
    "from brainlit.utils.ngl_pipeline import NeuroglancerSession\n",
    "from brainlit.viz.swc import *\n",
    "from brainlit.viz.visualize import *\n",
    "from brainlit.algorithms.generate_fragments import tube_seg\n",
    "import napari"
   ]
  },
  {
   "cell_type": "markdown",
   "metadata": {},
   "source": [
    "## Find valid segments\n",
    "In this cell, we set up a NeuroglancerSession object. Since segmentation ID numbers are not in order, we print out a list of valid IDs in some range `id_range`. Most segment IDs are in `range(300)`, additionally, segments `999` and `1000` are available."
   ]
  },
  {
   "cell_type": "code",
   "execution_count": 20,
   "metadata": {},
   "outputs": [
    {
     "name": "stderr",
     "output_type": "stream",
     "text": [
      "Downloading: 1it [00:00, 18.82it/s]\n",
      "Downloading: 1it [00:00, 28.87it/s]\n",
      "Downloading: 1it [00:00, 25.68it/s]\n",
      "Downloading: 1it [00:00, 28.92it/s]\n",
      "Downloading: 1it [00:00, 26.39it/s]\n",
      "Downloading: 1it [00:00, 28.66it/s]\n",
      "Downloading: 1it [00:00, 29.14it/s]\n",
      "Downloading: 1it [00:00, 15.27it/s]\n",
      "Downloading: 1it [00:00, 30.06it/s]\n",
      "Downloading: 1it [00:00, 27.47it/s]\n",
      "Downloading: 1it [00:00, 27.76it/s]\n",
      "Downloading: 1it [00:00, 25.52it/s]\n",
      "Downloading: 1it [00:00, 17.09it/s]\n",
      "Downloading: 1it [00:00, 23.89it/s]"
     ]
    },
    {
     "name": "stdout",
     "output_type": "stream",
     "text": [
      "[2, 7, 11, 12, 13]\n"
     ]
    },
    {
     "name": "stderr",
     "output_type": "stream",
     "text": [
      "\n"
     ]
    }
   ],
   "source": [
    "# Optional: Print the IDs of segments in Neuroglancer\n",
    "url = \"s3://mouse-light-viz/precomputed_volumes/brain1\"\n",
    "ngl_skel = NeuroglancerSession(url+\"_segments\", mip=1)\n",
    "working_ids = []\n",
    "id_range = 14\n",
    "for seg_id in range(id_range): \n",
    "    try:\n",
    "        segment = ngl_skel.cv.skeleton.get(seg_id)\n",
    "        working_ids.append(seg_id)\n",
    "    except:\n",
    "          pass\n",
    "print(working_ids)"
   ]
  },
  {
   "cell_type": "markdown",
   "metadata": {},
   "source": [
    "## Download SWC information\n",
    "Download the information contained in a SWC file for labelled vertices of a given `seg_id` at a valid `mip` from AWS."
   ]
  },
  {
   "cell_type": "code",
   "execution_count": 21,
   "metadata": {},
   "outputs": [
    {
     "name": "stderr",
     "output_type": "stream",
     "text": [
      "Downloading: 1it [00:00, 24.20it/s]\n"
     ]
    },
    {
     "data": {
      "text/plain": [
       "3135"
      ]
     },
     "execution_count": 21,
     "metadata": {},
     "output_type": "execute_result"
    }
   ],
   "source": [
    "seg_id = 13\n",
    "mip = 2\n",
    "df = read_s3(url+\"_segments\", seg_id, mip)\n",
    "#df.head()\n",
    "df['sample'].size # the number of vertex IDs [1, 2, ..., df['sample'].size]"
   ]
  },
  {
   "cell_type": "code",
   "execution_count": 22,
   "metadata": {},
   "outputs": [
    {
     "name": "stdout",
     "output_type": "stream",
     "text": [
      "      sample  structure       x       y       z    r  parent\n",
      "0          1          0  1416.0  1634.0  2364.0  1.0      -1\n",
      "1          2          0  1427.0  1628.0  2361.0  1.0       1\n",
      "2          3         64  1441.0  1621.0  2355.0  1.0       2\n",
      "3          4        192  1456.0  1612.0  2348.0  1.0       3\n",
      "4          5          0  1462.0  1602.0  2343.0  1.0       4\n",
      "...      ...        ...     ...     ...     ...  ...     ...\n",
      "3130     273          0  1821.0  1226.0  2266.0  1.0     278\n",
      "3131     268          0  1816.0  1223.0  2263.0  1.0     273\n",
      "3132     249          0  1797.0  1228.0  2260.0  1.0     268\n",
      "3133     236          0  1786.0  1223.0  2257.0  1.0     249\n",
      "3134     234          0  1783.0  1213.0  2258.0  1.0     236\n",
      "\n",
      "[3135 rows x 7 columns]\n"
     ]
    }
   ],
   "source": [
    "print(df)"
   ]
  },
  {
   "cell_type": "markdown",
   "metadata": {},
   "source": [
    "## Select vertices\n",
    "Select a subset of the vertices in the downloaded SWC to view and segment."
   ]
  },
  {
   "cell_type": "code",
   "execution_count": 23,
   "metadata": {},
   "outputs": [
    {
     "name": "stdout",
     "output_type": "stream",
     "text": [
      "<PandasArray>\n",
      "[1, 2, 3, 4, 5]\n",
      "Length: 5, dtype: int64\n"
     ]
    }
   ],
   "source": [
    "subneuron_df = df[0:5] # choose vertices to use for the subneuron\n",
    "vertex_list = subneuron_df['sample'].array \n",
    "print(vertex_list)"
   ]
  },
  {
   "cell_type": "markdown",
   "metadata": {},
   "source": [
    "## Download the Volume\n",
    "Download the volume containing the specified vertices."
   ]
  },
  {
   "cell_type": "code",
   "execution_count": 24,
   "metadata": {},
   "outputs": [
    {
     "name": "stderr",
     "output_type": "stream",
     "text": [
      "Downloading: 1it [00:00, 22.66it/s]\n",
      "Downloading: 1it [00:00, 12.63it/s]\n",
      "Downloading: 1it [00:00, 24.92it/s]\n",
      "Downloading: 1it [00:00, 24.35it/s]\n",
      "Downloading: 1it [00:00, 23.08it/s]\n",
      "Downloading: 100%|██████████| 1/1 [00:00<00:00,  2.88it/s]\n",
      "Downloading: 100%|██████████| 1/1 [00:00<00:00,  2.89it/s]\n",
      "Downloading: 100%|██████████| 1/1 [00:00<00:00,  2.85it/s]\n"
     ]
    }
   ],
   "source": [
    "ngl = NeuroglancerSession(url, mip=mip)\n",
    "buffer = [10, 10, 10]\n",
    "img, bounds, vox_in_img_list = ngl.pull_vertex_list(seg_id, vertex_list, buffer = buffer, expand = True)"
   ]
  },
  {
   "cell_type": "markdown",
   "metadata": {},
   "source": [
    "## Prepare plotting functions\n",
    "We add a useful plotting function to view the downloaded volume in Napari."
   ]
  },
  {
   "cell_type": "code",
   "execution_count": 25,
   "metadata": {},
   "outputs": [],
   "source": [
    "def napari_viewer(img, labels=None, shapes=None, label_name=\"Segmentation\"):\n",
    "    viewer = napari.view_image(np.squeeze(np.array(img)))\n",
    "    if labels is not None:\n",
    "        viewer.add_labels(labels, name=label_name)\n",
    "    if shapes is not None:\n",
    "        viewer.add_shapes(data=shapes, shape_type='path', edge_color='blue', name='Skeleton')\n",
    "    return viewer"
   ]
  },
  {
   "cell_type": "markdown",
   "metadata": {},
   "source": [
    "Let's take a look at the downloaded volume. Napari will open in a new window."
   ]
  },
  {
   "cell_type": "code",
   "execution_count": 26,
   "metadata": {},
   "outputs": [],
   "source": [
    "%gui qt"
   ]
  },
  {
   "cell_type": "code",
   "execution_count": 27,
   "metadata": {
    "pycharm": {
     "name": "#%%\n"
    }
   },
   "outputs": [
    {
     "data": {
      "image/png": "[encoded data removed]",
      "text/plain": [
       "<Figure size 546x315 with 1 Axes>"
      ]
     },
     "metadata": {
      "needs_background": "light"
     },
     "output_type": "display_data"
    }
   ],
   "source": [
    "plot_3d(sitk.GetImageFromArray(np.squeeze(img), isVector=False), zslices=range(48,53), title = \"Downloaded Mouselight Volume\")\n",
    "n=napari_viewer(img)"
   ]
  },
  {
   "cell_type": "markdown",
   "metadata": {},
   "source": [
    "We get a `corrected_subneuron_df` that contains `(x,y,z)` coordinates within the downloaded volume for the vertices in the SWC."
   ]
  },
  {
   "cell_type": "code",
   "execution_count": 28,
   "metadata": {},
   "outputs": [
    {
     "name": "stdout",
     "output_type": "stream",
     "text": [
      "   sample  structure   x    y   z    r  parent\n",
      "0       1          0  55   46  34  1.0      -1\n",
      "1       2          0  50   60  35  1.0       1\n",
      "2       3         64  54   81  35  1.0       2\n",
      "3       4        192  50   91  34  1.0       3\n",
      "4       5          0  47  111  36  1.0       4\n"
     ]
    }
   ],
   "source": [
    "corrected_subneuron_df = generate_df_subset(subneuron_df, vox_in_img_list)\n",
    "print(corrected_subneuron_df)"
   ]
  },
  {
   "cell_type": "markdown",
   "metadata": {},
   "source": [
    "Convert the SWC to a graph and print some information about the graph."
   ]
  },
  {
   "cell_type": "code",
   "execution_count": 29,
   "metadata": {},
   "outputs": [
    {
     "name": "stdout",
     "output_type": "stream",
     "text": [
      "Number of nodes: 5\n",
      "Number of edges: 4\n",
      "Sample 1 coordinates (x,y,z): {'x': 55, 'y': 46, 'z': 34}\n",
      "Number of paths: 1\n"
     ]
    }
   ],
   "source": [
    "G = df_to_graph(corrected_subneuron_df)\n",
    "print('Number of nodes:', len(G.nodes))\n",
    "print('Number of edges:', len(G.edges))\n",
    "print('Sample 1 coordinates (x,y,z):', G.nodes[1])\n",
    "paths = graph_to_paths(G)\n",
    "print('Number of paths:', len(paths))"
   ]
  },
  {
   "cell_type": "markdown",
   "metadata": {},
   "source": [
    "We can display the SWC on the Volume"
   ]
  },
  {
   "cell_type": "code",
   "execution_count": 30,
   "metadata": {},
   "outputs": [
    {
     "data": {
      "text/plain": [
       "<napari.viewer.Viewer at 0x7f2304061d10>"
      ]
     },
     "execution_count": 30,
     "metadata": {},
     "output_type": "execute_result"
    }
   ],
   "source": [
    "%gui qt\n",
    "napari_viewer(img, shapes=paths)"
   ]
  },
  {
   "cell_type": "markdown",
   "metadata": {},
   "source": [
    "## Automatically segment the neuron"
   ]
  },
  {
   "cell_type": "markdown",
   "metadata": {},
   "source": [
    "We compute a tube segmentation."
   ]
  },
  {
   "cell_type": "code",
   "execution_count": 34,
   "metadata": {},
   "outputs": [],
   "source": [
    "labels = tube_seg.tubes_seg(img, vox_in_img_list, 2)"
   ]
  },
  {
   "cell_type": "markdown",
   "metadata": {},
   "source": [
    "We can display the volume, SWC, and segmentation in Napari."
   ]
  },
  {
   "cell_type": "code",
   "execution_count": 35,
   "metadata": {},
   "outputs": [],
   "source": [
    "%gui qt\n",
    "viewer = napari_viewer(img, labels=labels, shapes=paths, label_name=\"Tube Segmentation\")"
   ]
  },
  {
   "cell_type": "markdown",
   "metadata": {},
   "source": [
    "## Steps to Manually Edit Labels\n",
    "Labels can be manually edited following these steps:\n",
    "\n",
    "1. Ensure Napari is in 2D-slice viewing, not 3D view. (The second button from the bottom left)\n",
    "2. Click the image layer and adjust the contrast limits as desired.\n",
    "3. Click the \"Confidence-Connected Threshold Layer\"\n",
    "4. Click the paintbrush tool and adjust the brush size. Ensure that \"label\" is set to 1 to paint and 0 to erase.\n",
    "5. Click and drag on the image to adjust labels. Changes are saved automatically, and CMD-Z to undo is supported."
   ]
  },
  {
   "cell_type": "markdown",
   "metadata": {},
   "source": [
    "Extract the manual labels for uploading."
   ]
  },
  {
   "cell_type": "code",
   "execution_count": 36,
   "metadata": {},
   "outputs": [],
   "source": [
    "manual_labels = viewer.layers[\"Tube Segmentation\"].data"
   ]
  },
  {
   "cell_type": "markdown",
   "metadata": {},
   "source": [
    "Upload the segmentation to AWS."
   ]
  },
  {
   "cell_type": "code",
   "execution_count": 37,
   "metadata": {},
   "outputs": [],
   "source": [
    "%%capture\n",
    "ngl_upload = NeuroglancerSession(url+\"_seg\", mip=mip)\n",
    "ngl_upload.push(manual_labels, bounds);"
   ]
  },
  {
   "cell_type": "markdown",
   "metadata": {},
   "source": [
    "Confirm that the upload was successful. It was!"
   ]
  },
  {
   "cell_type": "code",
   "execution_count": 38,
   "metadata": {},
   "outputs": [
    {
     "name": "stderr",
     "output_type": "stream",
     "text": [
      "Downloading: 100%|██████████| 1/1 [00:00<00:00,  4.71it/s]\n",
      "Downloading: 100%|██████████| 1/1 [00:00<00:00,  4.59it/s]\n",
      "Downloading: 100%|██████████| 1/1 [00:00<00:00,  4.37it/s]\n"
     ]
    }
   ],
   "source": [
    "downloaded_labels = ngl_upload.pull_bounds_seg(bounds)"
   ]
  },
  {
   "cell_type": "code",
   "execution_count": 39,
   "metadata": {},
   "outputs": [
    {
     "name": "stdout",
     "output_type": "stream",
     "text": [
      "True\n"
     ]
    }
   ],
   "source": [
    "print(np.all(manual_labels == downloaded_labels))"
   ]
  },
  {
   "cell_type": "code",
   "execution_count": null,
   "metadata": {},
   "outputs": [],
   "source": []
  }
 ],
 "metadata": {
  "kernelspec": {
   "display_name": "Python 3",
   "language": "python",
   "name": "python3"
  },
  "language_info": {
   "codemirror_mode": {
    "name": "ipython",
    "version": 3
   },
   "file_extension": ".py",
   "mimetype": "text/x-python",
   "name": "python",
   "nbconvert_exporter": "python",
   "pygments_lexer": "ipython3",
   "version": "3.7.6"
  },
  "pycharm": {
   "stem_cell": {
    "cell_type": "raw",
    "metadata": {
     "collapsed": false
    },
    "source": []
   }
  }
 },
 "nbformat": 4,
 "nbformat_minor": 4
}
