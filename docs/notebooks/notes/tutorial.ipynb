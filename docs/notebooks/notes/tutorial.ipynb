{
 "cells": [
  {
   "cell_type": "code",
   "execution_count": 3,
   "metadata": {},
   "outputs": [
    {
     "name": "stderr",
     "output_type": "stream",
     "text": [
      "D:\\Anaconda3\\envs\\brainlit\\lib\\site-packages\\napari\\__init__.py:44: UserWarning: \n",
      "    napari was tested with QT library `>=5.12.3`.\n",
      "    The version installed is 5.9.6. Please report any issues with this\n",
      "    specific QT version at https://github.com/Napari/napari/issues.\n",
      "    \n",
      "  warn(message=warn_message)\n"
     ]
    }
   ],
   "source": [
    "from brainlit.utils.session import NeuroglancerSession\n",
    "from brainlit.utils.swc import graph_to_paths\n",
    "import napari"
   ]
  },
  {
   "cell_type": "code",
   "execution_count": 4,
   "metadata": {},
   "outputs": [],
   "source": [
    "dir = \"s3://mouse-light-viz/precomputed_volumes/brain1\"\n",
    "dir_segments = \"s3://mouse-light-viz/precomputed_volumes/brain1_segments\"\n",
    "mip = 0\n",
    "v_id = 0\n",
    "radius = 75\n",
    "dir = \"s3://open-neurodata/brainlit/brain1\"\n",
    "dir_segments = \"s3://open-neurodata/brainlit/brain1_segments\""
   ]
  },
  {
   "cell_type": "code",
   "execution_count": 5,
   "metadata": {},
   "outputs": [
    {
     "name": "stderr",
     "output_type": "stream",
     "text": [
      "Downloading: 100%|█████████████████████████████████████████████████████████████████████| 24/24 [00:02<00:00, 10.24it/s]"
     ]
    },
    {
     "name": "stdout",
     "output_type": "stream",
     "text": [
      "\n",
      "\n",
      "Downloaded volume is of shape (151, 151, 151), with total intensity 4946609.\n"
     ]
    },
    {
     "name": "stderr",
     "output_type": "stream",
     "text": [
      "\n"
     ]
    }
   ],
   "source": [
    "# get image and center point\n",
    "ngl_sess = NeuroglancerSession(mip = mip, url = dir, url_segments=dir_segments)\n",
    "img, bbox, vox = ngl_sess.pull_voxel(2, v_id, radius)\n",
    "print(f\"\\n\\nDownloaded volume is of shape {img.shape}, with total intensity {sum(sum(sum(img)))}.\")"
   ]
  },
  {
   "cell_type": "code",
   "execution_count": 6,
   "metadata": {},
   "outputs": [
    {
     "name": "stdout",
     "output_type": "stream",
     "text": [
      "Selected volume contains 6 nodes and 2 paths\n"
     ]
    }
   ],
   "source": [
    "G_sub = ngl_sess.get_segments(2, bbox)\n",
    "paths = graph_to_paths(G_sub)\n",
    "print(f\"Selected volume contains {G_sub.number_of_nodes()} nodes and {len(paths)} paths\")"
   ]
  },
  {
   "cell_type": "code",
   "execution_count": 7,
   "metadata": {},
   "outputs": [],
   "source": [
    "with napari.gui_qt():\n",
    "    viewer = napari.Viewer(ndisplay=3)\n",
    "    viewer.add_image(img)\n",
    "    viewer.add_shapes(data=paths, shape_type='path', edge_width=0.1, edge_color='blue', opacity=0.1)\n",
    "    viewer.add_points(vox, size=1, opacity=0.5)"
   ]
  },
  {
   "cell_type": "code",
   "execution_count": 9,
   "metadata": {},
   "outputs": [
    {
     "data": {
      "text/plain": [
       "(151, 151, 151)"
      ]
     },
     "execution_count": 9,
     "metadata": {},
     "output_type": "execute_result"
    }
   ],
   "source": [
    "img.shape"
   ]
  },
  {
   "cell_type": "code",
   "execution_count": 10,
   "metadata": {},
   "outputs": [
    {
     "data": {
      "text/plain": [
       "Bbox([12801, 12402, 4402],[12952, 12553, 4553], dtype=int32)"
      ]
     },
     "execution_count": 10,
     "metadata": {},
     "output_type": "execute_result"
    }
   ],
   "source": [
    "bbox"
   ]
  },
  {
   "cell_type": "code",
   "execution_count": 11,
   "metadata": {},
   "outputs": [
    {
     "data": {
      "text/plain": [
       "array([75, 75, 75])"
      ]
     },
     "execution_count": 11,
     "metadata": {},
     "output_type": "execute_result"
    }
   ],
   "source": [
    "vox"
   ]
  },
  {
   "cell_type": "code",
   "execution_count": 32,
   "metadata": {},
   "outputs": [
    {
     "data": {
      "text/plain": [
       "array([[[82, -43, 75],\n",
       "        [82, 39, 88],\n",
       "        [75, 75, 75]],\n",
       "\n",
       "       [[-82, 403, -16],\n",
       "        [145, 75, 3],\n",
       "        [118, -25, 28]]], dtype=object)"
      ]
     },
     "execution_count": 32,
     "metadata": {},
     "output_type": "execute_result"
    }
   ],
   "source": [
    "paths"
   ]
  },
  {
   "cell_type": "code",
   "execution_count": 26,
   "metadata": {},
   "outputs": [],
   "source": [
    "from brainlit.utils.swc import read_s3, df_to_graph, get_sub_neuron, graph_to_paths\n",
    "\n",
    "df = read_s3(dir_segments, 2, mip)"
   ]
  },
  {
   "cell_type": "code",
   "execution_count": 27,
   "metadata": {},
   "outputs": [
    {
     "data": {
      "text/html": [
       "<div>\n",
       "<style scoped>\n",
       "    .dataframe tbody tr th:only-of-type {\n",
       "        vertical-align: middle;\n",
       "    }\n",
       "\n",
       "    .dataframe tbody tr th {\n",
       "        vertical-align: top;\n",
       "    }\n",
       "\n",
       "    .dataframe thead th {\n",
       "        text-align: right;\n",
       "    }\n",
       "</style>\n",
       "<table border=\"1\" class=\"dataframe\">\n",
       "  <thead>\n",
       "    <tr style=\"text-align: right;\">\n",
       "      <th></th>\n",
       "      <th>sample</th>\n",
       "      <th>structure</th>\n",
       "      <th>x</th>\n",
       "      <th>y</th>\n",
       "      <th>z</th>\n",
       "      <th>r</th>\n",
       "      <th>parent</th>\n",
       "    </tr>\n",
       "  </thead>\n",
       "  <tbody>\n",
       "    <tr>\n",
       "      <th>0</th>\n",
       "      <td>1</td>\n",
       "      <td>0</td>\n",
       "      <td>9433.0</td>\n",
       "      <td>8929.0</td>\n",
       "      <td>7711.0</td>\n",
       "      <td>1.0</td>\n",
       "      <td>-1</td>\n",
       "    </tr>\n",
       "    <tr>\n",
       "      <th>1</th>\n",
       "      <td>4</td>\n",
       "      <td>192</td>\n",
       "      <td>9449.0</td>\n",
       "      <td>8877.0</td>\n",
       "      <td>7696.0</td>\n",
       "      <td>1.0</td>\n",
       "      <td>1</td>\n",
       "    </tr>\n",
       "    <tr>\n",
       "      <th>2</th>\n",
       "      <td>7</td>\n",
       "      <td>64</td>\n",
       "      <td>9454.0</td>\n",
       "      <td>8879.0</td>\n",
       "      <td>7699.0</td>\n",
       "      <td>1.0</td>\n",
       "      <td>4</td>\n",
       "    </tr>\n",
       "    <tr>\n",
       "      <th>3</th>\n",
       "      <td>8</td>\n",
       "      <td>0</td>\n",
       "      <td>9463.0</td>\n",
       "      <td>8885.0</td>\n",
       "      <td>7701.0</td>\n",
       "      <td>1.0</td>\n",
       "      <td>7</td>\n",
       "    </tr>\n",
       "    <tr>\n",
       "      <th>4</th>\n",
       "      <td>14</td>\n",
       "      <td>0</td>\n",
       "      <td>9499.0</td>\n",
       "      <td>8877.0</td>\n",
       "      <td>7713.0</td>\n",
       "      <td>1.0</td>\n",
       "      <td>8</td>\n",
       "    </tr>\n",
       "    <tr>\n",
       "      <th>...</th>\n",
       "      <td>...</td>\n",
       "      <td>...</td>\n",
       "      <td>...</td>\n",
       "      <td>...</td>\n",
       "      <td>...</td>\n",
       "      <td>...</td>\n",
       "      <td>...</td>\n",
       "    </tr>\n",
       "    <tr>\n",
       "      <th>1645</th>\n",
       "      <td>97</td>\n",
       "      <td>0</td>\n",
       "      <td>9875.0</td>\n",
       "      <td>8210.0</td>\n",
       "      <td>7543.0</td>\n",
       "      <td>1.0</td>\n",
       "      <td>89</td>\n",
       "    </tr>\n",
       "    <tr>\n",
       "      <th>1646</th>\n",
       "      <td>96</td>\n",
       "      <td>0</td>\n",
       "      <td>9875.0</td>\n",
       "      <td>8279.0</td>\n",
       "      <td>7557.0</td>\n",
       "      <td>1.0</td>\n",
       "      <td>97</td>\n",
       "    </tr>\n",
       "    <tr>\n",
       "      <th>1647</th>\n",
       "      <td>92</td>\n",
       "      <td>0</td>\n",
       "      <td>9869.0</td>\n",
       "      <td>8367.0</td>\n",
       "      <td>7569.0</td>\n",
       "      <td>1.0</td>\n",
       "      <td>96</td>\n",
       "    </tr>\n",
       "    <tr>\n",
       "      <th>1648</th>\n",
       "      <td>82</td>\n",
       "      <td>0</td>\n",
       "      <td>9849.0</td>\n",
       "      <td>8401.0</td>\n",
       "      <td>7575.0</td>\n",
       "      <td>1.0</td>\n",
       "      <td>92</td>\n",
       "    </tr>\n",
       "    <tr>\n",
       "      <th>1649</th>\n",
       "      <td>77</td>\n",
       "      <td>0</td>\n",
       "      <td>9829.0</td>\n",
       "      <td>8461.0</td>\n",
       "      <td>7586.0</td>\n",
       "      <td>1.0</td>\n",
       "      <td>82</td>\n",
       "    </tr>\n",
       "  </tbody>\n",
       "</table>\n",
       "<p>1650 rows × 7 columns</p>\n",
       "</div>"
      ],
      "text/plain": [
       "      sample  structure       x       y       z    r  parent\n",
       "0          1          0  9433.0  8929.0  7711.0  1.0      -1\n",
       "1          4        192  9449.0  8877.0  7696.0  1.0       1\n",
       "2          7         64  9454.0  8879.0  7699.0  1.0       4\n",
       "3          8          0  9463.0  8885.0  7701.0  1.0       7\n",
       "4         14          0  9499.0  8877.0  7713.0  1.0       8\n",
       "...      ...        ...     ...     ...     ...  ...     ...\n",
       "1645      97          0  9875.0  8210.0  7543.0  1.0      89\n",
       "1646      96          0  9875.0  8279.0  7557.0  1.0      97\n",
       "1647      92          0  9869.0  8367.0  7569.0  1.0      96\n",
       "1648      82          0  9849.0  8401.0  7575.0  1.0      92\n",
       "1649      77          0  9829.0  8461.0  7586.0  1.0      82\n",
       "\n",
       "[1650 rows x 7 columns]"
      ]
     },
     "execution_count": 27,
     "metadata": {},
     "output_type": "execute_result"
    }
   ],
   "source": [
    "df"
   ]
  },
  {
   "cell_type": "code",
   "execution_count": 33,
   "metadata": {},
   "outputs": [
    {
     "data": {
      "text/plain": [
       "0         0\n",
       "1       192\n",
       "2        64\n",
       "3         0\n",
       "4         0\n",
       "       ... \n",
       "1645      0\n",
       "1646      0\n",
       "1647      0\n",
       "1648      0\n",
       "1649      0\n",
       "Name: structure, Length: 1650, dtype: int64"
      ]
     },
     "execution_count": 33,
     "metadata": {},
     "output_type": "execute_result"
    }
   ],
   "source": [
    "df[\"structure\"]"
   ]
  },
  {
   "cell_type": "code",
   "execution_count": null,
   "metadata": {},
   "outputs": [],
   "source": []
  }
 ],
 "metadata": {
  "kernelspec": {
   "display_name": "Python 3",
   "language": "python",
   "name": "python3"
  },
  "language_info": {
   "codemirror_mode": {
    "name": "ipython",
    "version": 3
   },
   "file_extension": ".py",
   "mimetype": "text/x-python",
   "name": "python",
   "nbconvert_exporter": "python",
   "pygments_lexer": "ipython3",
   "version": "3.7.9"
  }
 },
 "nbformat": 4,
 "nbformat_minor": 4
}
