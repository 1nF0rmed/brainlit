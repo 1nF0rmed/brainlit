{
 "cells": [
  {
   "cell_type": "code",
   "execution_count": 1,
   "metadata": {},
   "outputs": [],
   "source": [
    "import warnings\n",
    "warnings.filterwarnings(\"ignore\")\n",
    "\n",
    "from google.protobuf import text_format\n",
    "from brainlit.viz.visualize import napari_viewer\n",
    "\n",
    "from ffn.utils import bounding_box_pb2\n",
    "from ffn.inference import storage\n",
    "from ffn.inference import inference\n",
    "from ffn.inference import inference_pb2\n",
    "from ffn.inference import inference_flags\n",
    "\n",
    "from brainlit.utils.session import NeuroglancerSession\n",
    "from brainlit.utils.swc import graph_to_paths\n",
    "from brainlit.viz.visualize import napari_viewer\n",
    "\n",
    "import numpy as np\n",
    "import h5py\n",
    "import os\n",
    "from skimage import io\n",
    "from pathlib import Path"
   ]
  },
  {
   "cell_type": "code",
   "execution_count": 2,
   "metadata": {},
   "outputs": [
    {
     "name": "stdout",
     "output_type": "stream",
     "text": [
      "seg_id = 0: NO\n",
      "seg_id = 1: NO\n"
     ]
    },
    {
     "name": "stderr",
     "output_type": "stream",
     "text": [
      "Downloading: 100%|█████████████████████████████████████████████████████████████████████| 24/24 [00:02<00:00,  9.12it/s]\n"
     ]
    },
    {
     "name": "stdout",
     "output_type": "stream",
     "text": [
      "seg_id = 2: YES\n",
      "\n",
      "\n",
      "Downloaded volume is of shape (151, 151, 151), with total intensity 4946609.\n",
      "seg_id = 3: NO\n",
      "seg_id = 4: NO\n",
      "seg_id = 5: NO\n",
      "seg_id = 6: NO\n"
     ]
    },
    {
     "name": "stderr",
     "output_type": "stream",
     "text": [
      "Downloading: 100%|█████████████████████████████████████████████████████████████████████| 24/24 [00:01<00:00, 13.12it/s]\n"
     ]
    },
    {
     "name": "stdout",
     "output_type": "stream",
     "text": [
      "seg_id = 7: YES\n",
      "\n",
      "\n",
      "Downloaded volume is of shape (151, 151, 151), with total intensity 5116226.\n",
      "seg_id = 8: NO\n",
      "seg_id = 9: NO\n",
      "seg_id = 10: NO\n"
     ]
    },
    {
     "name": "stderr",
     "output_type": "stream",
     "text": [
      "Downloading: 100%|█████████████████████████████████████████████████████████████████████| 24/24 [00:01<00:00, 13.51it/s]\n"
     ]
    },
    {
     "name": "stdout",
     "output_type": "stream",
     "text": [
      "seg_id = 11: YES\n",
      "\n",
      "\n",
      "Downloaded volume is of shape (151, 151, 151), with total intensity 5028489.\n"
     ]
    },
    {
     "name": "stderr",
     "output_type": "stream",
     "text": [
      "Downloading: 100%|█████████████████████████████████████████████████████████████████████| 18/18 [00:01<00:00, 12.97it/s]\n"
     ]
    },
    {
     "name": "stdout",
     "output_type": "stream",
     "text": [
      "seg_id = 12: YES\n",
      "\n",
      "\n",
      "Downloaded volume is of shape (151, 151, 151), with total intensity 4634299.\n"
     ]
    },
    {
     "name": "stderr",
     "output_type": "stream",
     "text": [
      "Downloading: 100%|█████████████████████████████████████████████████████████████████████| 24/24 [00:01<00:00, 12.95it/s]\n"
     ]
    },
    {
     "name": "stdout",
     "output_type": "stream",
     "text": [
      "seg_id = 13: YES\n",
      "\n",
      "\n",
      "Downloaded volume is of shape (151, 151, 151), with total intensity 5106464.\n"
     ]
    },
    {
     "name": "stderr",
     "output_type": "stream",
     "text": [
      "Downloading: 100%|█████████████████████████████████████████████████████████████████████| 24/24 [00:01<00:00, 13.02it/s]\n"
     ]
    },
    {
     "name": "stdout",
     "output_type": "stream",
     "text": [
      "seg_id = 14: YES\n",
      "\n",
      "\n",
      "Downloaded volume is of shape (151, 151, 151), with total intensity 5158457.\n",
      "seg_id = 15: NO\n",
      "seg_id = 16: NO\n",
      "seg_id = 17: NO\n",
      "seg_id = 18: NO\n",
      "seg_id = 19: NO\n"
     ]
    },
    {
     "name": "stderr",
     "output_type": "stream",
     "text": [
      "Downloading: 100%|█████████████████████████████████████████████████████████████████████| 24/24 [00:01<00:00, 13.54it/s]\n"
     ]
    },
    {
     "name": "stdout",
     "output_type": "stream",
     "text": [
      "seg_id = 20: YES\n",
      "\n",
      "\n",
      "Downloaded volume is of shape (151, 151, 151), with total intensity 4788420.\n",
      "seg_id = 21: NO\n",
      "seg_id = 22: NO\n",
      "seg_id = 23: NO\n"
     ]
    },
    {
     "name": "stderr",
     "output_type": "stream",
     "text": [
      "Downloading: 100%|█████████████████████████████████████████████████████████████████████| 24/24 [00:01<00:00, 13.46it/s]\n"
     ]
    },
    {
     "name": "stdout",
     "output_type": "stream",
     "text": [
      "seg_id = 24: YES\n",
      "\n",
      "\n",
      "Downloaded volume is of shape (151, 151, 151), with total intensity 4581225.\n",
      "seg_id = 25: NO\n",
      "seg_id = 26: NO\n",
      "seg_id = 27: NO\n"
     ]
    },
    {
     "name": "stderr",
     "output_type": "stream",
     "text": [
      "Downloading: 100%|█████████████████████████████████████████████████████████████████████| 12/12 [00:00<00:00, 12.43it/s]\n"
     ]
    },
    {
     "name": "stdout",
     "output_type": "stream",
     "text": [
      "seg_id = 28: YES\n",
      "\n",
      "\n",
      "Downloaded volume is of shape (151, 151, 151), with total intensity 4771014.\n",
      "seg_id = 29: NO\n",
      "seg_id = 30: NO\n",
      "seg_id = 31: NO\n",
      "seg_id = 32: NO\n",
      "seg_id = 33: NO\n",
      "seg_id = 34: NO\n"
     ]
    },
    {
     "name": "stderr",
     "output_type": "stream",
     "text": [
      "Downloading: 100%|█████████████████████████████████████████████████████████████████████| 12/12 [00:01<00:00, 11.55it/s]\n"
     ]
    },
    {
     "name": "stdout",
     "output_type": "stream",
     "text": [
      "seg_id = 35: YES\n",
      "\n",
      "\n",
      "Downloaded volume is of shape (151, 151, 151), with total intensity 4524866.\n",
      "seg_id = 36: NO\n",
      "seg_id = 37: NO\n",
      "seg_id = 38: NO\n",
      "seg_id = 39: NO\n"
     ]
    },
    {
     "name": "stderr",
     "output_type": "stream",
     "text": [
      "Downloading: 100%|█████████████████████████████████████████████████████████████████████| 24/24 [00:01<00:00, 13.60it/s]\n"
     ]
    },
    {
     "name": "stdout",
     "output_type": "stream",
     "text": [
      "seg_id = 40: YES\n",
      "\n",
      "\n",
      "Downloaded volume is of shape (151, 151, 151), with total intensity 5042850.\n",
      "seg_id = 41: NO\n",
      "seg_id = 42: NO\n",
      "seg_id = 43: NO\n",
      "seg_id = 44: NO\n"
     ]
    },
    {
     "name": "stderr",
     "output_type": "stream",
     "text": [
      "Downloading: 100%|█████████████████████████████████████████████████████████████████████| 24/24 [00:01<00:00, 13.83it/s]\n"
     ]
    },
    {
     "name": "stdout",
     "output_type": "stream",
     "text": [
      "seg_id = 45: YES\n",
      "\n",
      "\n",
      "Downloaded volume is of shape (151, 151, 151), with total intensity 5032737.\n",
      "seg_id = 46: NO\n",
      "seg_id = 47: NO\n"
     ]
    },
    {
     "name": "stderr",
     "output_type": "stream",
     "text": [
      "Downloading: 100%|█████████████████████████████████████████████████████████████████████| 24/24 [00:01<00:00, 12.90it/s]\n"
     ]
    },
    {
     "name": "stdout",
     "output_type": "stream",
     "text": [
      "seg_id = 48: YES\n",
      "\n",
      "\n",
      "Downloaded volume is of shape (151, 151, 151), with total intensity 4992012.\n"
     ]
    },
    {
     "name": "stderr",
     "output_type": "stream",
     "text": [
      "Downloading: 100%|█████████████████████████████████████████████████████████████████████| 18/18 [00:01<00:00, 13.17it/s]\n"
     ]
    },
    {
     "name": "stdout",
     "output_type": "stream",
     "text": [
      "seg_id = 49: YES\n",
      "\n",
      "\n",
      "Downloaded volume is of shape (151, 151, 151), with total intensity 4983440.\n",
      "seg_id = 50: NO\n"
     ]
    },
    {
     "name": "stderr",
     "output_type": "stream",
     "text": [
      "Downloading: 100%|█████████████████████████████████████████████████████████████████████| 36/36 [00:02<00:00, 13.36it/s]\n"
     ]
    },
    {
     "name": "stdout",
     "output_type": "stream",
     "text": [
      "seg_id = 51: YES\n",
      "\n",
      "\n",
      "Downloaded volume is of shape (151, 151, 151), with total intensity 4773493.\n",
      "seg_id = 52: NO\n"
     ]
    },
    {
     "name": "stderr",
     "output_type": "stream",
     "text": [
      "Downloading: 100%|█████████████████████████████████████████████████████████████████████| 24/24 [00:01<00:00, 13.28it/s]\n"
     ]
    },
    {
     "name": "stdout",
     "output_type": "stream",
     "text": [
      "seg_id = 53: YES\n",
      "\n",
      "\n",
      "Downloaded volume is of shape (151, 151, 151), with total intensity 4608418.\n",
      "seg_id = 54: NO\n",
      "seg_id = 55: NO\n",
      "seg_id = 56: NO\n",
      "seg_id = 57: NO\n",
      "seg_id = 58: NO\n"
     ]
    },
    {
     "name": "stderr",
     "output_type": "stream",
     "text": [
      "Downloading: 100%|█████████████████████████████████████████████████████████████████████| 16/16 [00:01<00:00, 11.94it/s]\n"
     ]
    },
    {
     "name": "stdout",
     "output_type": "stream",
     "text": [
      "seg_id = 59: YES\n",
      "\n",
      "\n",
      "Downloaded volume is of shape (151, 151, 151), with total intensity 5000767.\n"
     ]
    },
    {
     "name": "stderr",
     "output_type": "stream",
     "text": [
      "Downloading: 100%|█████████████████████████████████████████████████████████████████████| 16/16 [00:01<00:00, 12.33it/s]\n"
     ]
    },
    {
     "name": "stdout",
     "output_type": "stream",
     "text": [
      "seg_id = 60: YES\n",
      "\n",
      "\n",
      "Downloaded volume is of shape (151, 151, 151), with total intensity 4919606.\n",
      "seg_id = 61: NO\n",
      "seg_id = 62: NO\n",
      "seg_id = 63: NO\n",
      "seg_id = 64: NO\n"
     ]
    },
    {
     "name": "stderr",
     "output_type": "stream",
     "text": [
      "Downloading: 100%|█████████████████████████████████████████████████████████████████████| 16/16 [00:01<00:00, 12.36it/s]\n"
     ]
    },
    {
     "name": "stdout",
     "output_type": "stream",
     "text": [
      "seg_id = 65: YES\n",
      "\n",
      "\n",
      "Downloaded volume is of shape (151, 151, 151), with total intensity 4824813.\n",
      "seg_id = 66: NO\n"
     ]
    },
    {
     "name": "stderr",
     "output_type": "stream",
     "text": [
      "Downloading: 100%|█████████████████████████████████████████████████████████████████████| 16/16 [00:01<00:00, 12.49it/s]\n"
     ]
    },
    {
     "name": "stdout",
     "output_type": "stream",
     "text": [
      "seg_id = 67: YES\n",
      "\n",
      "\n",
      "Downloaded volume is of shape (151, 151, 151), with total intensity 4719478.\n",
      "seg_id = 68: NO\n"
     ]
    },
    {
     "name": "stderr",
     "output_type": "stream",
     "text": [
      "Downloading: 100%|█████████████████████████████████████████████████████████████████████| 24/24 [00:01<00:00, 12.91it/s]\n"
     ]
    },
    {
     "name": "stdout",
     "output_type": "stream",
     "text": [
      "seg_id = 69: YES\n",
      "\n",
      "\n",
      "Downloaded volume is of shape (151, 151, 151), with total intensity 5011410.\n",
      "seg_id = 70: NO\n"
     ]
    },
    {
     "name": "stderr",
     "output_type": "stream",
     "text": [
      "Downloading: 100%|█████████████████████████████████████████████████████████████████████| 24/24 [00:02<00:00, 11.42it/s]\n"
     ]
    },
    {
     "name": "stdout",
     "output_type": "stream",
     "text": [
      "seg_id = 71: YES\n",
      "\n",
      "\n",
      "Downloaded volume is of shape (151, 151, 151), with total intensity 4770636.\n"
     ]
    },
    {
     "name": "stderr",
     "output_type": "stream",
     "text": [
      "Downloading: 100%|█████████████████████████████████████████████████████████████████████| 36/36 [00:02<00:00, 13.84it/s]\n"
     ]
    },
    {
     "name": "stdout",
     "output_type": "stream",
     "text": [
      "seg_id = 72: YES\n",
      "\n",
      "\n",
      "Downloaded volume is of shape (151, 151, 151), with total intensity 4924660.\n"
     ]
    },
    {
     "name": "stderr",
     "output_type": "stream",
     "text": [
      "Downloading: 100%|█████████████████████████████████████████████████████████████████████| 24/24 [00:01<00:00, 12.84it/s]\n"
     ]
    },
    {
     "name": "stdout",
     "output_type": "stream",
     "text": [
      "seg_id = 73: YES\n",
      "\n",
      "\n",
      "Downloaded volume is of shape (151, 151, 151), with total intensity 5089190.\n"
     ]
    },
    {
     "name": "stderr",
     "output_type": "stream",
     "text": [
      "Downloading: 100%|█████████████████████████████████████████████████████████████████████| 16/16 [00:01<00:00, 12.18it/s]\n"
     ]
    },
    {
     "name": "stdout",
     "output_type": "stream",
     "text": [
      "seg_id = 74: YES\n",
      "\n",
      "\n",
      "Downloaded volume is of shape (151, 151, 151), with total intensity 4967893.\n"
     ]
    },
    {
     "name": "stderr",
     "output_type": "stream",
     "text": [
      "Downloading: 100%|█████████████████████████████████████████████████████████████████████| 16/16 [00:01<00:00, 12.34it/s]\n"
     ]
    },
    {
     "name": "stdout",
     "output_type": "stream",
     "text": [
      "seg_id = 75: YES\n",
      "\n",
      "\n",
      "Downloaded volume is of shape (151, 151, 151), with total intensity 4789465.\n"
     ]
    },
    {
     "name": "stderr",
     "output_type": "stream",
     "text": [
      "Downloading: 100%|█████████████████████████████████████████████████████████████████████| 24/24 [00:01<00:00, 12.51it/s]\n"
     ]
    },
    {
     "name": "stdout",
     "output_type": "stream",
     "text": [
      "seg_id = 76: YES\n",
      "\n",
      "\n",
      "Downloaded volume is of shape (151, 151, 151), with total intensity 5092806.\n"
     ]
    },
    {
     "name": "stderr",
     "output_type": "stream",
     "text": [
      "Downloading: 100%|█████████████████████████████████████████████████████████████████████| 16/16 [00:01<00:00, 10.74it/s]\n"
     ]
    },
    {
     "name": "stdout",
     "output_type": "stream",
     "text": [
      "seg_id = 77: YES\n",
      "\n",
      "\n",
      "Downloaded volume is of shape (151, 151, 151), with total intensity 5324063.\n"
     ]
    },
    {
     "name": "stderr",
     "output_type": "stream",
     "text": [
      "Downloading: 100%|█████████████████████████████████████████████████████████████████████| 24/24 [00:01<00:00, 12.74it/s]\n"
     ]
    },
    {
     "name": "stdout",
     "output_type": "stream",
     "text": [
      "seg_id = 78: YES\n",
      "\n",
      "\n",
      "Downloaded volume is of shape (151, 151, 151), with total intensity 4880029.\n"
     ]
    },
    {
     "name": "stderr",
     "output_type": "stream",
     "text": [
      "Downloading: 100%|█████████████████████████████████████████████████████████████████████| 16/16 [00:01<00:00, 10.31it/s]\n"
     ]
    },
    {
     "name": "stdout",
     "output_type": "stream",
     "text": [
      "seg_id = 79: YES\n",
      "\n",
      "\n",
      "Downloaded volume is of shape (151, 151, 151), with total intensity 5017192.\n",
      "seg_id = 80: NO\n"
     ]
    },
    {
     "name": "stderr",
     "output_type": "stream",
     "text": [
      "Downloading: 100%|█████████████████████████████████████████████████████████████████████| 24/24 [00:02<00:00, 11.26it/s]\n"
     ]
    },
    {
     "name": "stdout",
     "output_type": "stream",
     "text": [
      "seg_id = 81: YES\n",
      "\n",
      "\n",
      "Downloaded volume is of shape (151, 151, 151), with total intensity 4867665.\n"
     ]
    },
    {
     "name": "stderr",
     "output_type": "stream",
     "text": [
      "Downloading: 100%|█████████████████████████████████████████████████████████████████████| 36/36 [00:02<00:00, 12.67it/s]\n"
     ]
    },
    {
     "name": "stdout",
     "output_type": "stream",
     "text": [
      "seg_id = 82: YES\n",
      "\n",
      "\n",
      "Downloaded volume is of shape (151, 151, 151), with total intensity 4931287.\n"
     ]
    },
    {
     "name": "stderr",
     "output_type": "stream",
     "text": [
      "Downloading: 100%|█████████████████████████████████████████████████████████████████████| 16/16 [00:01<00:00,  9.78it/s]\n"
     ]
    },
    {
     "name": "stdout",
     "output_type": "stream",
     "text": [
      "seg_id = 83: YES\n",
      "\n",
      "\n",
      "Downloaded volume is of shape (151, 151, 151), with total intensity 4688478.\n",
      "seg_id = 84: NO\n"
     ]
    },
    {
     "name": "stderr",
     "output_type": "stream",
     "text": [
      "Downloading: 100%|█████████████████████████████████████████████████████████████████████| 24/24 [00:01<00:00, 12.09it/s]\n"
     ]
    },
    {
     "name": "stdout",
     "output_type": "stream",
     "text": [
      "seg_id = 85: YES\n",
      "\n",
      "\n",
      "Downloaded volume is of shape (151, 151, 151), with total intensity 4695952.\n"
     ]
    },
    {
     "name": "stderr",
     "output_type": "stream",
     "text": [
      "Downloading: 100%|█████████████████████████████████████████████████████████████████████| 24/24 [00:01<00:00, 13.42it/s]\n"
     ]
    },
    {
     "name": "stdout",
     "output_type": "stream",
     "text": [
      "seg_id = 86: YES\n",
      "\n",
      "\n",
      "Downloaded volume is of shape (151, 151, 151), with total intensity 4879585.\n",
      "seg_id = 87: NO\n",
      "seg_id = 88: NO\n",
      "seg_id = 89: NO\n",
      "seg_id = 90: NO\n"
     ]
    },
    {
     "name": "stderr",
     "output_type": "stream",
     "text": [
      "Downloading: 100%|█████████████████████████████████████████████████████████████████████| 24/24 [00:01<00:00, 13.16it/s]\n"
     ]
    },
    {
     "name": "stdout",
     "output_type": "stream",
     "text": [
      "seg_id = 91: YES\n",
      "\n",
      "\n",
      "Downloaded volume is of shape (151, 151, 151), with total intensity 4893552.\n",
      "seg_id = 92: NO\n",
      "seg_id = 93: NO\n",
      "seg_id = 94: NO\n",
      "seg_id = 95: NO\n",
      "seg_id = 96: NO\n"
     ]
    },
    {
     "name": "stderr",
     "output_type": "stream",
     "text": [
      "Downloading: 100%|█████████████████████████████████████████████████████████████████████| 18/18 [00:01<00:00, 13.10it/s]\n"
     ]
    },
    {
     "name": "stdout",
     "output_type": "stream",
     "text": [
      "seg_id = 97: YES\n",
      "\n",
      "\n",
      "Downloaded volume is of shape (151, 151, 151), with total intensity 4924367.\n"
     ]
    },
    {
     "name": "stderr",
     "output_type": "stream",
     "text": [
      "Downloading: 100%|█████████████████████████████████████████████████████████████████████| 24/24 [00:01<00:00, 13.79it/s]\n"
     ]
    },
    {
     "name": "stdout",
     "output_type": "stream",
     "text": [
      "seg_id = 98: YES\n",
      "\n",
      "\n",
      "Downloaded volume is of shape (151, 151, 151), with total intensity 4751465.\n"
     ]
    },
    {
     "name": "stderr",
     "output_type": "stream",
     "text": [
      "Downloading: 100%|█████████████████████████████████████████████████████████████████████| 18/18 [00:01<00:00, 13.21it/s]\n"
     ]
    },
    {
     "name": "stdout",
     "output_type": "stream",
     "text": [
      "seg_id = 99: YES\n",
      "\n",
      "\n",
      "Downloaded volume is of shape (151, 151, 151), with total intensity 4919594.\n",
      "seg_id = 100: NO\n"
     ]
    },
    {
     "name": "stderr",
     "output_type": "stream",
     "text": [
      "Downloading: 100%|█████████████████████████████████████████████████████████████████████| 18/18 [00:01<00:00, 13.50it/s]\n"
     ]
    },
    {
     "name": "stdout",
     "output_type": "stream",
     "text": [
      "seg_id = 101: YES\n",
      "\n",
      "\n",
      "Downloaded volume is of shape (151, 151, 151), with total intensity 4852584.\n"
     ]
    },
    {
     "name": "stderr",
     "output_type": "stream",
     "text": [
      "\r",
      "Downloading:   0%|                                                                              | 0/16 [00:00<?, ?it/s]"
     ]
    },
    {
     "name": "stdout",
     "output_type": "stream",
     "text": [
      "seg_id = 102: NO\n"
     ]
    },
    {
     "name": "stderr",
     "output_type": "stream",
     "text": [
      "Downloading: 100%|█████████████████████████████████████████████████████████████████████| 16/16 [00:01<00:00, 13.01it/s]\n"
     ]
    },
    {
     "name": "stdout",
     "output_type": "stream",
     "text": [
      "seg_id = 103: YES\n",
      "\n",
      "\n",
      "Downloaded volume is of shape (151, 151, 151), with total intensity 5017891.\n",
      "seg_id = 104: NO\n",
      "seg_id = 105: NO\n"
     ]
    },
    {
     "name": "stderr",
     "output_type": "stream",
     "text": [
      "Downloading: 100%|█████████████████████████████████████████████████████████████████████| 16/16 [00:01<00:00, 12.32it/s]\n"
     ]
    },
    {
     "name": "stdout",
     "output_type": "stream",
     "text": [
      "seg_id = 106: YES\n",
      "\n",
      "\n",
      "Downloaded volume is of shape (151, 151, 151), with total intensity 4594191.\n"
     ]
    },
    {
     "name": "stderr",
     "output_type": "stream",
     "text": [
      "Downloading: 100%|█████████████████████████████████████████████████████████████████████| 24/24 [00:01<00:00, 12.93it/s]\n"
     ]
    },
    {
     "name": "stdout",
     "output_type": "stream",
     "text": [
      "seg_id = 107: YES\n",
      "\n",
      "\n",
      "Downloaded volume is of shape (151, 151, 151), with total intensity 4953926.\n"
     ]
    },
    {
     "name": "stderr",
     "output_type": "stream",
     "text": [
      "\r",
      "Downloading:   0%|                                                                              | 0/16 [00:00<?, ?it/s]"
     ]
    },
    {
     "name": "stdout",
     "output_type": "stream",
     "text": [
      "seg_id = 108: NO\n"
     ]
    },
    {
     "name": "stderr",
     "output_type": "stream",
     "text": [
      "Downloading: 100%|█████████████████████████████████████████████████████████████████████| 16/16 [00:01<00:00, 12.63it/s]\n"
     ]
    },
    {
     "name": "stdout",
     "output_type": "stream",
     "text": [
      "seg_id = 109: YES\n",
      "\n",
      "\n",
      "Downloaded volume is of shape (151, 151, 151), with total intensity 5118337.\n",
      "seg_id = 110: NO\n"
     ]
    },
    {
     "name": "stderr",
     "output_type": "stream",
     "text": [
      "Downloading: 100%|█████████████████████████████████████████████████████████████████████| 16/16 [00:01<00:00, 12.33it/s]\n"
     ]
    },
    {
     "name": "stdout",
     "output_type": "stream",
     "text": [
      "seg_id = 111: YES\n",
      "\n",
      "\n",
      "Downloaded volume is of shape (151, 151, 151), with total intensity 4903375.\n"
     ]
    },
    {
     "name": "stderr",
     "output_type": "stream",
     "text": [
      "Downloading: 100%|█████████████████████████████████████████████████████████████████████| 24/24 [00:01<00:00, 13.01it/s]\n"
     ]
    },
    {
     "name": "stdout",
     "output_type": "stream",
     "text": [
      "seg_id = 112: YES\n",
      "\n",
      "\n",
      "Downloaded volume is of shape (151, 151, 151), with total intensity 5211418.\n",
      "seg_id = 113: NO\n",
      "seg_id = 114: NO\n"
     ]
    },
    {
     "name": "stderr",
     "output_type": "stream",
     "text": [
      "Downloading: 100%|█████████████████████████████████████████████████████████████████████| 36/36 [00:02<00:00, 13.65it/s]\n"
     ]
    },
    {
     "name": "stdout",
     "output_type": "stream",
     "text": [
      "seg_id = 115: YES\n",
      "\n",
      "\n",
      "Downloaded volume is of shape (151, 151, 151), with total intensity 4543316.\n",
      "seg_id = 116: NO\n",
      "seg_id = 117: NO\n"
     ]
    },
    {
     "name": "stderr",
     "output_type": "stream",
     "text": [
      "Downloading: 100%|█████████████████████████████████████████████████████████████████████| 24/24 [00:01<00:00, 13.54it/s]\n"
     ]
    },
    {
     "name": "stdout",
     "output_type": "stream",
     "text": [
      "seg_id = 118: YES\n",
      "\n",
      "\n",
      "Downloaded volume is of shape (151, 151, 151), with total intensity 5222973.\n",
      "seg_id = 119: NO\n"
     ]
    },
    {
     "name": "stderr",
     "output_type": "stream",
     "text": [
      "Downloading: 100%|█████████████████████████████████████████████████████████████████████| 16/16 [00:01<00:00, 13.15it/s]\n"
     ]
    },
    {
     "name": "stdout",
     "output_type": "stream",
     "text": [
      "seg_id = 120: YES\n",
      "\n",
      "\n",
      "Downloaded volume is of shape (151, 151, 151), with total intensity 4857134.\n",
      "seg_id = 121: NO\n",
      "seg_id = 122: NO\n",
      "seg_id = 123: NO\n"
     ]
    },
    {
     "name": "stderr",
     "output_type": "stream",
     "text": [
      "Downloading: 100%|█████████████████████████████████████████████████████████████████████| 24/24 [00:01<00:00, 13.30it/s]\n"
     ]
    },
    {
     "name": "stdout",
     "output_type": "stream",
     "text": [
      "seg_id = 124: YES\n",
      "\n",
      "\n",
      "Downloaded volume is of shape (151, 151, 151), with total intensity 4826605.\n",
      "seg_id = 125: NO\n"
     ]
    },
    {
     "name": "stderr",
     "output_type": "stream",
     "text": [
      "Downloading: 100%|█████████████████████████████████████████████████████████████████████| 24/24 [00:01<00:00, 12.39it/s]\n"
     ]
    },
    {
     "name": "stdout",
     "output_type": "stream",
     "text": [
      "seg_id = 126: YES\n",
      "\n",
      "\n",
      "Downloaded volume is of shape (151, 151, 151), with total intensity 4655703.\n"
     ]
    },
    {
     "name": "stderr",
     "output_type": "stream",
     "text": [
      "Downloading: 100%|█████████████████████████████████████████████████████████████████████| 16/16 [00:01<00:00, 11.72it/s]\n"
     ]
    },
    {
     "name": "stdout",
     "output_type": "stream",
     "text": [
      "seg_id = 127: YES\n",
      "\n",
      "\n",
      "Downloaded volume is of shape (151, 151, 151), with total intensity 4854568.\n",
      "seg_id = 128: NO\n"
     ]
    },
    {
     "name": "stderr",
     "output_type": "stream",
     "text": [
      "Downloading: 100%|█████████████████████████████████████████████████████████████████████| 16/16 [00:01<00:00, 12.30it/s]\n"
     ]
    },
    {
     "name": "stdout",
     "output_type": "stream",
     "text": [
      "seg_id = 129: YES\n",
      "\n",
      "\n",
      "Downloaded volume is of shape (151, 151, 151), with total intensity 5027063.\n",
      "seg_id = 130: NO\n",
      "seg_id = 131: NO\n"
     ]
    },
    {
     "name": "stderr",
     "output_type": "stream",
     "text": [
      "Downloading: 100%|█████████████████████████████████████████████████████████████████████| 12/12 [00:01<00:00, 11.96it/s]\n"
     ]
    },
    {
     "name": "stdout",
     "output_type": "stream",
     "text": [
      "seg_id = 132: YES\n",
      "\n",
      "\n",
      "Downloaded volume is of shape (151, 151, 151), with total intensity 4701830.\n"
     ]
    },
    {
     "name": "stderr",
     "output_type": "stream",
     "text": [
      "Downloading: 100%|█████████████████████████████████████████████████████████████████████| 16/16 [00:01<00:00, 11.82it/s]\n"
     ]
    },
    {
     "name": "stdout",
     "output_type": "stream",
     "text": [
      "seg_id = 133: YES\n",
      "\n",
      "\n",
      "Downloaded volume is of shape (151, 151, 151), with total intensity 5025938.\n",
      "seg_id = 134: NO\n",
      "seg_id = 135: NO\n"
     ]
    },
    {
     "name": "stderr",
     "output_type": "stream",
     "text": [
      "Downloading: 100%|█████████████████████████████████████████████████████████████████████| 16/16 [00:01<00:00, 10.87it/s]\n"
     ]
    },
    {
     "name": "stdout",
     "output_type": "stream",
     "text": [
      "seg_id = 136: YES\n",
      "\n",
      "\n",
      "Downloaded volume is of shape (151, 151, 151), with total intensity 5207950.\n"
     ]
    },
    {
     "name": "stderr",
     "output_type": "stream",
     "text": [
      "Downloading: 100%|█████████████████████████████████████████████████████████████████████| 24/24 [00:01<00:00, 13.00it/s]\n"
     ]
    },
    {
     "name": "stdout",
     "output_type": "stream",
     "text": [
      "seg_id = 137: YES\n",
      "\n",
      "\n",
      "Downloaded volume is of shape (151, 151, 151), with total intensity 4754476.\n",
      "seg_id = 138: NO\n",
      "seg_id = 139: NO\n"
     ]
    },
    {
     "name": "stderr",
     "output_type": "stream",
     "text": [
      "Downloading: 100%|█████████████████████████████████████████████████████████████████████| 24/24 [00:01<00:00, 12.81it/s]\n"
     ]
    },
    {
     "name": "stdout",
     "output_type": "stream",
     "text": [
      "seg_id = 140: YES\n",
      "\n",
      "\n",
      "Downloaded volume is of shape (151, 151, 151), with total intensity 5190318.\n"
     ]
    },
    {
     "name": "stderr",
     "output_type": "stream",
     "text": [
      "Downloading: 100%|█████████████████████████████████████████████████████████████████████| 12/12 [00:00<00:00, 12.06it/s]\n"
     ]
    },
    {
     "name": "stdout",
     "output_type": "stream",
     "text": [
      "seg_id = 141: YES\n",
      "\n",
      "\n",
      "Downloaded volume is of shape (151, 151, 151), with total intensity 4932153.\n"
     ]
    },
    {
     "name": "stderr",
     "output_type": "stream",
     "text": [
      "Downloading: 100%|█████████████████████████████████████████████████████████████████████| 24/24 [00:01<00:00, 12.27it/s]\n"
     ]
    },
    {
     "name": "stdout",
     "output_type": "stream",
     "text": [
      "seg_id = 142: YES\n",
      "\n",
      "\n",
      "Downloaded volume is of shape (151, 151, 151), with total intensity 5116417.\n"
     ]
    },
    {
     "name": "stderr",
     "output_type": "stream",
     "text": [
      "Downloading: 100%|█████████████████████████████████████████████████████████████████████| 24/24 [00:01<00:00, 13.08it/s]\n"
     ]
    },
    {
     "name": "stdout",
     "output_type": "stream",
     "text": [
      "seg_id = 143: YES\n",
      "\n",
      "\n",
      "Downloaded volume is of shape (151, 151, 151), with total intensity 4531868.\n"
     ]
    },
    {
     "name": "stderr",
     "output_type": "stream",
     "text": [
      "Downloading: 100%|█████████████████████████████████████████████████████████████████████| 24/24 [00:01<00:00, 12.62it/s]\n"
     ]
    },
    {
     "name": "stdout",
     "output_type": "stream",
     "text": [
      "seg_id = 144: YES\n",
      "\n",
      "\n",
      "Downloaded volume is of shape (151, 151, 151), with total intensity 4955778.\n"
     ]
    },
    {
     "name": "stderr",
     "output_type": "stream",
     "text": [
      "Downloading: 100%|█████████████████████████████████████████████████████████████████████| 16/16 [00:01<00:00, 13.01it/s]\n"
     ]
    },
    {
     "name": "stdout",
     "output_type": "stream",
     "text": [
      "seg_id = 145: YES\n",
      "\n",
      "\n",
      "Downloaded volume is of shape (151, 151, 151), with total intensity 5158204.\n"
     ]
    },
    {
     "name": "stderr",
     "output_type": "stream",
     "text": [
      "Downloading: 100%|█████████████████████████████████████████████████████████████████████| 16/16 [00:01<00:00, 13.00it/s]\n"
     ]
    },
    {
     "name": "stdout",
     "output_type": "stream",
     "text": [
      "seg_id = 146: YES\n",
      "\n",
      "\n",
      "Downloaded volume is of shape (151, 151, 151), with total intensity 5033985.\n"
     ]
    },
    {
     "name": "stderr",
     "output_type": "stream",
     "text": [
      "Downloading: 100%|█████████████████████████████████████████████████████████████████████| 24/24 [00:01<00:00, 12.67it/s]\n"
     ]
    },
    {
     "name": "stdout",
     "output_type": "stream",
     "text": [
      "seg_id = 147: YES\n",
      "\n",
      "\n",
      "Downloaded volume is of shape (151, 151, 151), with total intensity 4976546.\n",
      "seg_id = 148: NO\n"
     ]
    },
    {
     "name": "stderr",
     "output_type": "stream",
     "text": [
      "Downloading: 100%|█████████████████████████████████████████████████████████████████████| 24/24 [00:01<00:00, 12.65it/s]\n"
     ]
    },
    {
     "name": "stdout",
     "output_type": "stream",
     "text": [
      "seg_id = 149: YES\n",
      "\n",
      "\n",
      "Downloaded volume is of shape (151, 151, 151), with total intensity 5049528.\n"
     ]
    },
    {
     "name": "stderr",
     "output_type": "stream",
     "text": [
      "Downloading: 100%|█████████████████████████████████████████████████████████████████████| 24/24 [00:01<00:00, 13.41it/s]\n"
     ]
    },
    {
     "name": "stdout",
     "output_type": "stream",
     "text": [
      "seg_id = 150: YES\n",
      "\n",
      "\n",
      "Downloaded volume is of shape (151, 151, 151), with total intensity 5425264.\n"
     ]
    },
    {
     "name": "stderr",
     "output_type": "stream",
     "text": [
      "Downloading: 100%|█████████████████████████████████████████████████████████████████████| 18/18 [00:01<00:00, 12.55it/s]\n"
     ]
    },
    {
     "name": "stdout",
     "output_type": "stream",
     "text": [
      "seg_id = 151: YES\n",
      "\n",
      "\n",
      "Downloaded volume is of shape (151, 151, 151), with total intensity 5181512.\n"
     ]
    },
    {
     "name": "stderr",
     "output_type": "stream",
     "text": [
      "Downloading: 100%|█████████████████████████████████████████████████████████████████████| 24/24 [00:01<00:00, 12.74it/s]\n"
     ]
    },
    {
     "name": "stdout",
     "output_type": "stream",
     "text": [
      "seg_id = 152: YES\n",
      "\n",
      "\n",
      "Downloaded volume is of shape (151, 151, 151), with total intensity 4760949.\n"
     ]
    },
    {
     "name": "stderr",
     "output_type": "stream",
     "text": [
      "Downloading: 100%|█████████████████████████████████████████████████████████████████████| 16/16 [00:01<00:00, 12.58it/s]\n"
     ]
    },
    {
     "name": "stdout",
     "output_type": "stream",
     "text": [
      "seg_id = 153: YES\n",
      "\n",
      "\n",
      "Downloaded volume is of shape (151, 151, 151), with total intensity 4974835.\n"
     ]
    },
    {
     "name": "stderr",
     "output_type": "stream",
     "text": [
      "Downloading: 100%|█████████████████████████████████████████████████████████████████████| 16/16 [00:01<00:00, 13.15it/s]\n"
     ]
    },
    {
     "name": "stdout",
     "output_type": "stream",
     "text": [
      "seg_id = 154: YES\n",
      "\n",
      "\n",
      "Downloaded volume is of shape (151, 151, 151), with total intensity 4892290.\n"
     ]
    },
    {
     "name": "stderr",
     "output_type": "stream",
     "text": [
      "Downloading: 100%|█████████████████████████████████████████████████████████████████████| 24/24 [00:01<00:00, 13.43it/s]\n"
     ]
    },
    {
     "name": "stdout",
     "output_type": "stream",
     "text": [
      "seg_id = 155: YES\n",
      "\n",
      "\n",
      "Downloaded volume is of shape (151, 151, 151), with total intensity 4863084.\n"
     ]
    },
    {
     "name": "stderr",
     "output_type": "stream",
     "text": [
      "Downloading: 100%|█████████████████████████████████████████████████████████████████████| 16/16 [00:01<00:00, 12.36it/s]\n"
     ]
    },
    {
     "name": "stdout",
     "output_type": "stream",
     "text": [
      "seg_id = 156: YES\n",
      "\n",
      "\n",
      "Downloaded volume is of shape (151, 151, 151), with total intensity 4945369.\n"
     ]
    },
    {
     "name": "stderr",
     "output_type": "stream",
     "text": [
      "Downloading: 100%|█████████████████████████████████████████████████████████████████████| 24/24 [00:01<00:00, 12.70it/s]\n"
     ]
    },
    {
     "name": "stdout",
     "output_type": "stream",
     "text": [
      "seg_id = 157: YES\n",
      "\n",
      "\n",
      "Downloaded volume is of shape (151, 151, 151), with total intensity 5101346.\n"
     ]
    },
    {
     "name": "stderr",
     "output_type": "stream",
     "text": [
      "Downloading: 100%|█████████████████████████████████████████████████████████████████████| 24/24 [00:01<00:00, 12.95it/s]\n"
     ]
    },
    {
     "name": "stdout",
     "output_type": "stream",
     "text": [
      "seg_id = 158: YES\n",
      "\n",
      "\n",
      "Downloaded volume is of shape (151, 151, 151), with total intensity 5227186.\n"
     ]
    },
    {
     "name": "stderr",
     "output_type": "stream",
     "text": [
      "Downloading: 100%|█████████████████████████████████████████████████████████████████████| 24/24 [00:01<00:00, 12.92it/s]\n"
     ]
    },
    {
     "name": "stdout",
     "output_type": "stream",
     "text": [
      "seg_id = 159: YES\n",
      "\n",
      "\n",
      "Downloaded volume is of shape (151, 151, 151), with total intensity 5135816.\n"
     ]
    },
    {
     "name": "stderr",
     "output_type": "stream",
     "text": [
      "Downloading: 100%|█████████████████████████████████████████████████████████████████████| 16/16 [00:01<00:00, 12.09it/s]\n"
     ]
    },
    {
     "name": "stdout",
     "output_type": "stream",
     "text": [
      "seg_id = 160: YES\n",
      "\n",
      "\n",
      "Downloaded volume is of shape (151, 151, 151), with total intensity 5009980.\n"
     ]
    },
    {
     "name": "stderr",
     "output_type": "stream",
     "text": [
      "Downloading: 100%|█████████████████████████████████████████████████████████████████████| 24/24 [00:01<00:00, 12.75it/s]\n"
     ]
    },
    {
     "name": "stdout",
     "output_type": "stream",
     "text": [
      "seg_id = 161: YES\n",
      "\n",
      "\n",
      "Downloaded volume is of shape (151, 151, 151), with total intensity 4686435.\n"
     ]
    },
    {
     "name": "stderr",
     "output_type": "stream",
     "text": [
      "Downloading: 100%|█████████████████████████████████████████████████████████████████████| 24/24 [00:01<00:00, 12.89it/s]\n"
     ]
    },
    {
     "name": "stdout",
     "output_type": "stream",
     "text": [
      "seg_id = 162: YES\n",
      "\n",
      "\n",
      "Downloaded volume is of shape (151, 151, 151), with total intensity 4725928.\n"
     ]
    },
    {
     "name": "stderr",
     "output_type": "stream",
     "text": [
      "Downloading: 100%|█████████████████████████████████████████████████████████████████████| 16/16 [00:01<00:00, 12.80it/s]\n"
     ]
    },
    {
     "name": "stdout",
     "output_type": "stream",
     "text": [
      "seg_id = 163: YES\n",
      "\n",
      "\n",
      "Downloaded volume is of shape (151, 151, 151), with total intensity 4711207.\n"
     ]
    },
    {
     "name": "stderr",
     "output_type": "stream",
     "text": [
      "Downloading: 100%|█████████████████████████████████████████████████████████████████████| 24/24 [00:01<00:00, 12.50it/s]\n"
     ]
    },
    {
     "name": "stdout",
     "output_type": "stream",
     "text": [
      "seg_id = 164: YES\n",
      "\n",
      "\n",
      "Downloaded volume is of shape (151, 151, 151), with total intensity 4984239.\n"
     ]
    },
    {
     "name": "stderr",
     "output_type": "stream",
     "text": [
      "Downloading: 100%|█████████████████████████████████████████████████████████████████████| 18/18 [00:01<00:00, 12.17it/s]\n"
     ]
    },
    {
     "name": "stdout",
     "output_type": "stream",
     "text": [
      "seg_id = 165: YES\n",
      "\n",
      "\n",
      "Downloaded volume is of shape (151, 151, 151), with total intensity 4800581.\n"
     ]
    },
    {
     "name": "stderr",
     "output_type": "stream",
     "text": [
      "Downloading: 100%|█████████████████████████████████████████████████████████████████████| 24/24 [00:01<00:00, 12.52it/s]\n"
     ]
    },
    {
     "name": "stdout",
     "output_type": "stream",
     "text": [
      "seg_id = 166: YES\n",
      "\n",
      "\n",
      "Downloaded volume is of shape (151, 151, 151), with total intensity 4919479.\n"
     ]
    },
    {
     "name": "stderr",
     "output_type": "stream",
     "text": [
      "Downloading: 100%|█████████████████████████████████████████████████████████████████████| 36/36 [00:02<00:00, 12.61it/s]\n"
     ]
    },
    {
     "name": "stdout",
     "output_type": "stream",
     "text": [
      "seg_id = 167: YES\n",
      "\n",
      "\n",
      "Downloaded volume is of shape (151, 151, 151), with total intensity 4814080.\n",
      "seg_id = 168: NO\n"
     ]
    },
    {
     "name": "stderr",
     "output_type": "stream",
     "text": [
      "Downloading: 100%|█████████████████████████████████████████████████████████████████████| 16/16 [00:01<00:00, 11.73it/s]\n"
     ]
    },
    {
     "name": "stdout",
     "output_type": "stream",
     "text": [
      "seg_id = 169: YES\n",
      "\n",
      "\n",
      "Downloaded volume is of shape (151, 151, 151), with total intensity 5126912.\n"
     ]
    },
    {
     "name": "stderr",
     "output_type": "stream",
     "text": [
      "Downloading: 100%|█████████████████████████████████████████████████████████████████████| 18/18 [00:01<00:00, 12.53it/s]\n"
     ]
    },
    {
     "name": "stdout",
     "output_type": "stream",
     "text": [
      "seg_id = 170: YES\n",
      "\n",
      "\n",
      "Downloaded volume is of shape (151, 151, 151), with total intensity 4871305.\n"
     ]
    },
    {
     "name": "stderr",
     "output_type": "stream",
     "text": [
      "Downloading: 100%|█████████████████████████████████████████████████████████████████████| 16/16 [00:01<00:00, 11.96it/s]\n"
     ]
    },
    {
     "name": "stdout",
     "output_type": "stream",
     "text": [
      "seg_id = 171: YES\n",
      "\n",
      "\n",
      "Downloaded volume is of shape (151, 151, 151), with total intensity 4712504.\n"
     ]
    },
    {
     "name": "stderr",
     "output_type": "stream",
     "text": [
      "Downloading: 100%|█████████████████████████████████████████████████████████████████████| 16/16 [00:01<00:00, 12.04it/s]\n"
     ]
    },
    {
     "name": "stdout",
     "output_type": "stream",
     "text": [
      "seg_id = 172: YES\n",
      "\n",
      "\n",
      "Downloaded volume is of shape (151, 151, 151), with total intensity 5077703.\n"
     ]
    },
    {
     "name": "stderr",
     "output_type": "stream",
     "text": [
      "Downloading: 100%|█████████████████████████████████████████████████████████████████████| 16/16 [00:01<00:00, 12.11it/s]\n"
     ]
    },
    {
     "name": "stdout",
     "output_type": "stream",
     "text": [
      "seg_id = 173: YES\n",
      "\n",
      "\n",
      "Downloaded volume is of shape (151, 151, 151), with total intensity 5026314.\n"
     ]
    },
    {
     "name": "stderr",
     "output_type": "stream",
     "text": [
      "Downloading: 100%|█████████████████████████████████████████████████████████████████████| 16/16 [00:01<00:00, 12.07it/s]\n"
     ]
    },
    {
     "name": "stdout",
     "output_type": "stream",
     "text": [
      "seg_id = 174: YES\n",
      "\n",
      "\n",
      "Downloaded volume is of shape (151, 151, 151), with total intensity 5034527.\n"
     ]
    },
    {
     "name": "stderr",
     "output_type": "stream",
     "text": [
      "Downloading: 100%|█████████████████████████████████████████████████████████████████████| 24/24 [00:01<00:00, 13.17it/s]\n"
     ]
    },
    {
     "name": "stdout",
     "output_type": "stream",
     "text": [
      "seg_id = 175: YES\n",
      "\n",
      "\n",
      "Downloaded volume is of shape (151, 151, 151), with total intensity 5085678.\n"
     ]
    },
    {
     "name": "stderr",
     "output_type": "stream",
     "text": [
      "Downloading: 100%|█████████████████████████████████████████████████████████████████████| 36/36 [00:02<00:00, 13.48it/s]\n"
     ]
    },
    {
     "name": "stdout",
     "output_type": "stream",
     "text": [
      "seg_id = 176: YES\n",
      "\n",
      "\n",
      "Downloaded volume is of shape (151, 151, 151), with total intensity 4807124.\n"
     ]
    },
    {
     "name": "stderr",
     "output_type": "stream",
     "text": [
      "Downloading: 100%|█████████████████████████████████████████████████████████████████████| 24/24 [00:01<00:00, 12.49it/s]\n"
     ]
    },
    {
     "name": "stdout",
     "output_type": "stream",
     "text": [
      "seg_id = 177: YES\n",
      "\n",
      "\n",
      "Downloaded volume is of shape (151, 151, 151), with total intensity 4776093.\n"
     ]
    },
    {
     "name": "stderr",
     "output_type": "stream",
     "text": [
      "Downloading: 100%|█████████████████████████████████████████████████████████████████████| 16/16 [00:01<00:00, 12.33it/s]\n"
     ]
    },
    {
     "name": "stdout",
     "output_type": "stream",
     "text": [
      "seg_id = 178: YES\n",
      "\n",
      "\n",
      "Downloaded volume is of shape (151, 151, 151), with total intensity 4588563.\n"
     ]
    },
    {
     "name": "stderr",
     "output_type": "stream",
     "text": [
      "Downloading: 100%|█████████████████████████████████████████████████████████████████████| 24/24 [00:01<00:00, 12.01it/s]\n"
     ]
    },
    {
     "name": "stdout",
     "output_type": "stream",
     "text": [
      "seg_id = 179: YES\n",
      "\n",
      "\n",
      "Downloaded volume is of shape (151, 151, 151), with total intensity 4813643.\n"
     ]
    },
    {
     "name": "stderr",
     "output_type": "stream",
     "text": [
      "Downloading: 100%|█████████████████████████████████████████████████████████████████████| 24/24 [00:01<00:00, 13.11it/s]\n"
     ]
    },
    {
     "name": "stdout",
     "output_type": "stream",
     "text": [
      "seg_id = 180: YES\n",
      "\n",
      "\n",
      "Downloaded volume is of shape (151, 151, 151), with total intensity 5147359.\n"
     ]
    },
    {
     "name": "stderr",
     "output_type": "stream",
     "text": [
      "Downloading: 100%|█████████████████████████████████████████████████████████████████████| 16/16 [00:01<00:00, 12.62it/s]\n"
     ]
    },
    {
     "name": "stdout",
     "output_type": "stream",
     "text": [
      "seg_id = 181: YES\n",
      "\n",
      "\n",
      "Downloaded volume is of shape (151, 151, 151), with total intensity 5051731.\n"
     ]
    },
    {
     "name": "stderr",
     "output_type": "stream",
     "text": [
      "Downloading: 100%|█████████████████████████████████████████████████████████████████████| 24/24 [00:01<00:00, 12.93it/s]\n"
     ]
    },
    {
     "name": "stdout",
     "output_type": "stream",
     "text": [
      "seg_id = 182: YES\n",
      "\n",
      "\n",
      "Downloaded volume is of shape (151, 151, 151), with total intensity 4628694.\n"
     ]
    },
    {
     "name": "stderr",
     "output_type": "stream",
     "text": [
      "Downloading: 100%|█████████████████████████████████████████████████████████████████████| 12/12 [00:01<00:00, 11.54it/s]\n"
     ]
    },
    {
     "name": "stdout",
     "output_type": "stream",
     "text": [
      "seg_id = 183: YES\n",
      "\n",
      "\n",
      "Downloaded volume is of shape (151, 151, 151), with total intensity 5106368.\n"
     ]
    },
    {
     "name": "stderr",
     "output_type": "stream",
     "text": [
      "Downloading: 100%|█████████████████████████████████████████████████████████████████████| 24/24 [00:01<00:00, 12.40it/s]\n"
     ]
    },
    {
     "name": "stdout",
     "output_type": "stream",
     "text": [
      "seg_id = 184: YES\n",
      "\n",
      "\n",
      "Downloaded volume is of shape (151, 151, 151), with total intensity 5127497.\n"
     ]
    },
    {
     "name": "stderr",
     "output_type": "stream",
     "text": [
      "Downloading: 100%|█████████████████████████████████████████████████████████████████████| 36/36 [00:02<00:00, 13.94it/s]\n"
     ]
    },
    {
     "name": "stdout",
     "output_type": "stream",
     "text": [
      "seg_id = 185: YES\n",
      "\n",
      "\n",
      "Downloaded volume is of shape (151, 151, 151), with total intensity 5076103.\n"
     ]
    },
    {
     "name": "stderr",
     "output_type": "stream",
     "text": [
      "Downloading: 100%|█████████████████████████████████████████████████████████████████████| 18/18 [00:01<00:00, 12.22it/s]\n"
     ]
    },
    {
     "name": "stdout",
     "output_type": "stream",
     "text": [
      "seg_id = 186: YES\n",
      "\n",
      "\n",
      "Downloaded volume is of shape (151, 151, 151), with total intensity 4991195.\n"
     ]
    },
    {
     "name": "stderr",
     "output_type": "stream",
     "text": [
      "Downloading: 100%|█████████████████████████████████████████████████████████████████████| 24/24 [00:01<00:00, 13.10it/s]\n"
     ]
    },
    {
     "name": "stdout",
     "output_type": "stream",
     "text": [
      "seg_id = 187: YES\n",
      "\n",
      "\n",
      "Downloaded volume is of shape (151, 151, 151), with total intensity 4798428.\n"
     ]
    },
    {
     "name": "stderr",
     "output_type": "stream",
     "text": [
      "Downloading: 100%|█████████████████████████████████████████████████████████████████████| 24/24 [00:01<00:00, 12.60it/s]\n"
     ]
    },
    {
     "name": "stdout",
     "output_type": "stream",
     "text": [
      "seg_id = 188: YES\n",
      "\n",
      "\n",
      "Downloaded volume is of shape (151, 151, 151), with total intensity 5159454.\n"
     ]
    },
    {
     "name": "stderr",
     "output_type": "stream",
     "text": [
      "Downloading: 100%|█████████████████████████████████████████████████████████████████████| 16/16 [00:01<00:00, 12.50it/s]\n"
     ]
    },
    {
     "name": "stdout",
     "output_type": "stream",
     "text": [
      "seg_id = 189: YES\n",
      "\n",
      "\n",
      "Downloaded volume is of shape (151, 151, 151), with total intensity 4990821.\n"
     ]
    },
    {
     "name": "stderr",
     "output_type": "stream",
     "text": [
      "Downloading: 100%|█████████████████████████████████████████████████████████████████████| 16/16 [00:01<00:00, 11.92it/s]\n"
     ]
    },
    {
     "name": "stdout",
     "output_type": "stream",
     "text": [
      "seg_id = 190: YES\n",
      "\n",
      "\n",
      "Downloaded volume is of shape (151, 151, 151), with total intensity 4733196.\n"
     ]
    },
    {
     "name": "stderr",
     "output_type": "stream",
     "text": [
      "\r",
      "Downloading:   0%|                                                                              | 0/24 [00:00<?, ?it/s]"
     ]
    },
    {
     "name": "stdout",
     "output_type": "stream",
     "text": [
      "seg_id = 191: NO\n"
     ]
    },
    {
     "name": "stderr",
     "output_type": "stream",
     "text": [
      "Downloading: 100%|█████████████████████████████████████████████████████████████████████| 24/24 [00:01<00:00, 12.88it/s]\n"
     ]
    },
    {
     "name": "stdout",
     "output_type": "stream",
     "text": [
      "seg_id = 192: YES\n",
      "\n",
      "\n",
      "Downloaded volume is of shape (151, 151, 151), with total intensity 5217664.\n"
     ]
    },
    {
     "name": "stderr",
     "output_type": "stream",
     "text": [
      "Downloading: 100%|█████████████████████████████████████████████████████████████████████| 12/12 [00:01<00:00, 11.48it/s]\n"
     ]
    },
    {
     "name": "stdout",
     "output_type": "stream",
     "text": [
      "seg_id = 193: YES\n",
      "\n",
      "\n",
      "Downloaded volume is of shape (151, 151, 151), with total intensity 4957648.\n"
     ]
    },
    {
     "name": "stderr",
     "output_type": "stream",
     "text": [
      "Downloading: 100%|█████████████████████████████████████████████████████████████████████| 16/16 [00:01<00:00, 12.82it/s]\n"
     ]
    },
    {
     "name": "stdout",
     "output_type": "stream",
     "text": [
      "seg_id = 194: YES\n",
      "\n",
      "\n",
      "Downloaded volume is of shape (151, 151, 151), with total intensity 5038559.\n"
     ]
    },
    {
     "name": "stderr",
     "output_type": "stream",
     "text": [
      "Downloading: 100%|█████████████████████████████████████████████████████████████████████| 16/16 [00:01<00:00, 12.17it/s]\n"
     ]
    },
    {
     "name": "stdout",
     "output_type": "stream",
     "text": [
      "seg_id = 195: YES\n",
      "\n",
      "\n",
      "Downloaded volume is of shape (151, 151, 151), with total intensity 4903764.\n"
     ]
    },
    {
     "name": "stderr",
     "output_type": "stream",
     "text": [
      "Downloading: 100%|█████████████████████████████████████████████████████████████████████| 27/27 [00:02<00:00, 13.07it/s]\n"
     ]
    },
    {
     "name": "stdout",
     "output_type": "stream",
     "text": [
      "seg_id = 196: YES\n",
      "\n",
      "\n",
      "Downloaded volume is of shape (151, 151, 151), with total intensity 4718412.\n"
     ]
    },
    {
     "name": "stderr",
     "output_type": "stream",
     "text": [
      "Downloading: 100%|█████████████████████████████████████████████████████████████████████| 16/16 [00:01<00:00, 12.07it/s]\n"
     ]
    },
    {
     "name": "stdout",
     "output_type": "stream",
     "text": [
      "seg_id = 197: YES\n",
      "\n",
      "\n",
      "Downloaded volume is of shape (151, 151, 151), with total intensity 5277596.\n"
     ]
    },
    {
     "name": "stderr",
     "output_type": "stream",
     "text": [
      "Downloading: 100%|█████████████████████████████████████████████████████████████████████| 16/16 [00:01<00:00, 13.02it/s]\n"
     ]
    },
    {
     "name": "stdout",
     "output_type": "stream",
     "text": [
      "seg_id = 198: YES\n",
      "\n",
      "\n",
      "Downloaded volume is of shape (151, 151, 151), with total intensity 5006602.\n"
     ]
    },
    {
     "name": "stderr",
     "output_type": "stream",
     "text": [
      "Downloading: 100%|█████████████████████████████████████████████████████████████████████| 24/24 [00:01<00:00, 13.46it/s]\n"
     ]
    },
    {
     "name": "stdout",
     "output_type": "stream",
     "text": [
      "seg_id = 199: YES\n",
      "\n",
      "\n",
      "Downloaded volume is of shape (151, 151, 151), with total intensity 5183035.\n"
     ]
    },
    {
     "name": "stderr",
     "output_type": "stream",
     "text": [
      "Downloading: 100%|█████████████████████████████████████████████████████████████████████| 24/24 [00:01<00:00, 12.43it/s]\n"
     ]
    },
    {
     "name": "stdout",
     "output_type": "stream",
     "text": [
      "seg_id = 200: YES\n",
      "\n",
      "\n",
      "Downloaded volume is of shape (151, 151, 151), with total intensity 4803233.\n"
     ]
    },
    {
     "name": "stderr",
     "output_type": "stream",
     "text": [
      "Downloading: 100%|█████████████████████████████████████████████████████████████████████| 24/24 [00:01<00:00, 13.77it/s]\n"
     ]
    },
    {
     "name": "stdout",
     "output_type": "stream",
     "text": [
      "seg_id = 201: YES\n",
      "\n",
      "\n",
      "Downloaded volume is of shape (151, 151, 151), with total intensity 5061229.\n"
     ]
    },
    {
     "name": "stderr",
     "output_type": "stream",
     "text": [
      "Downloading: 100%|█████████████████████████████████████████████████████████████████████| 24/24 [00:01<00:00, 13.17it/s]\n"
     ]
    },
    {
     "name": "stdout",
     "output_type": "stream",
     "text": [
      "seg_id = 202: YES\n",
      "\n",
      "\n",
      "Downloaded volume is of shape (151, 151, 151), with total intensity 4863513.\n",
      "seg_id = 203: NO\n",
      "seg_id = 204: NO\n"
     ]
    },
    {
     "name": "stderr",
     "output_type": "stream",
     "text": [
      "Downloading: 100%|█████████████████████████████████████████████████████████████████████| 16/16 [00:01<00:00, 12.88it/s]\n"
     ]
    },
    {
     "name": "stdout",
     "output_type": "stream",
     "text": [
      "seg_id = 205: YES\n",
      "\n",
      "\n",
      "Downloaded volume is of shape (151, 151, 151), with total intensity 5169531.\n",
      "seg_id = 206: NO\n"
     ]
    },
    {
     "name": "stderr",
     "output_type": "stream",
     "text": [
      "Downloading: 100%|█████████████████████████████████████████████████████████████████████| 12/12 [00:00<00:00, 12.41it/s]\n"
     ]
    },
    {
     "name": "stdout",
     "output_type": "stream",
     "text": [
      "seg_id = 207: YES\n",
      "\n",
      "\n",
      "Downloaded volume is of shape (151, 151, 151), with total intensity 5257875.\n"
     ]
    },
    {
     "name": "stderr",
     "output_type": "stream",
     "text": [
      "Downloading: 100%|█████████████████████████████████████████████████████████████████████| 24/24 [00:03<00:00,  6.29it/s]\n"
     ]
    },
    {
     "name": "stdout",
     "output_type": "stream",
     "text": [
      "seg_id = 208: YES\n",
      "\n",
      "\n",
      "Downloaded volume is of shape (151, 151, 151), with total intensity 5195822.\n",
      "seg_id = 209: NO\n",
      "seg_id = 210: NO\n",
      "seg_id = 211: NO\n",
      "seg_id = 212: NO\n",
      "seg_id = 213: NO\n"
     ]
    },
    {
     "name": "stderr",
     "output_type": "stream",
     "text": [
      "Downloading: 100%|█████████████████████████████████████████████████████████████████████| 24/24 [00:05<00:00,  4.42it/s]\n"
     ]
    },
    {
     "name": "stdout",
     "output_type": "stream",
     "text": [
      "seg_id = 214: YES\n",
      "\n",
      "\n",
      "Downloaded volume is of shape (151, 151, 151), with total intensity 5126557.\n",
      "seg_id = 215: NO\n",
      "seg_id = 216: NO\n",
      "seg_id = 217: NO\n",
      "seg_id = 218: NO\n",
      "seg_id = 219: NO\n",
      "seg_id = 220: NO\n",
      "seg_id = 221: NO\n",
      "seg_id = 222: NO\n"
     ]
    },
    {
     "name": "stderr",
     "output_type": "stream",
     "text": [
      "Downloading: 100%|█████████████████████████████████████████████████████████████████████| 36/36 [00:02<00:00, 13.02it/s]\n"
     ]
    },
    {
     "name": "stdout",
     "output_type": "stream",
     "text": [
      "seg_id = 223: YES\n",
      "\n",
      "\n",
      "Downloaded volume is of shape (151, 151, 151), with total intensity 4854395.\n"
     ]
    },
    {
     "name": "stderr",
     "output_type": "stream",
     "text": [
      "Downloading: 100%|█████████████████████████████████████████████████████████████████████| 16/16 [00:01<00:00, 10.48it/s]\n"
     ]
    },
    {
     "name": "stdout",
     "output_type": "stream",
     "text": [
      "seg_id = 224: YES\n",
      "\n",
      "\n",
      "Downloaded volume is of shape (151, 151, 151), with total intensity 4702313.\n"
     ]
    },
    {
     "name": "stderr",
     "output_type": "stream",
     "text": [
      "Downloading: 100%|█████████████████████████████████████████████████████████████████████| 24/24 [00:01<00:00, 13.15it/s]\n"
     ]
    },
    {
     "name": "stdout",
     "output_type": "stream",
     "text": [
      "seg_id = 225: YES\n",
      "\n",
      "\n",
      "Downloaded volume is of shape (151, 151, 151), with total intensity 5185096.\n",
      "seg_id = 226: NO\n"
     ]
    },
    {
     "name": "stderr",
     "output_type": "stream",
     "text": [
      "Downloading: 100%|█████████████████████████████████████████████████████████████████████| 24/24 [00:01<00:00, 12.97it/s]\n"
     ]
    },
    {
     "name": "stdout",
     "output_type": "stream",
     "text": [
      "seg_id = 227: YES\n",
      "\n",
      "\n",
      "Downloaded volume is of shape (151, 151, 151), with total intensity 4565723.\n"
     ]
    },
    {
     "name": "stderr",
     "output_type": "stream",
     "text": [
      "Downloading: 100%|█████████████████████████████████████████████████████████████████████| 16/16 [00:01<00:00, 12.90it/s]\n"
     ]
    },
    {
     "name": "stdout",
     "output_type": "stream",
     "text": [
      "seg_id = 228: YES\n",
      "\n",
      "\n",
      "Downloaded volume is of shape (151, 151, 151), with total intensity 5387580.\n"
     ]
    },
    {
     "name": "stderr",
     "output_type": "stream",
     "text": [
      "Downloading: 100%|█████████████████████████████████████████████████████████████████████| 24/24 [00:01<00:00, 13.13it/s]\n"
     ]
    },
    {
     "name": "stdout",
     "output_type": "stream",
     "text": [
      "seg_id = 229: YES\n",
      "\n",
      "\n",
      "Downloaded volume is of shape (151, 151, 151), with total intensity 4972261.\n"
     ]
    },
    {
     "name": "stderr",
     "output_type": "stream",
     "text": [
      "Downloading: 100%|█████████████████████████████████████████████████████████████████████| 16/16 [00:01<00:00, 13.13it/s]\n"
     ]
    },
    {
     "name": "stdout",
     "output_type": "stream",
     "text": [
      "seg_id = 230: YES\n",
      "\n",
      "\n",
      "Downloaded volume is of shape (151, 151, 151), with total intensity 5083347.\n"
     ]
    },
    {
     "name": "stderr",
     "output_type": "stream",
     "text": [
      "Downloading: 100%|█████████████████████████████████████████████████████████████████████| 36/36 [00:02<00:00, 13.61it/s]\n"
     ]
    },
    {
     "name": "stdout",
     "output_type": "stream",
     "text": [
      "seg_id = 231: YES\n",
      "\n",
      "\n",
      "Downloaded volume is of shape (151, 151, 151), with total intensity 4844894.\n"
     ]
    },
    {
     "name": "stderr",
     "output_type": "stream",
     "text": [
      "Downloading: 100%|█████████████████████████████████████████████████████████████████████| 24/24 [00:01<00:00, 12.27it/s]\n"
     ]
    },
    {
     "name": "stdout",
     "output_type": "stream",
     "text": [
      "seg_id = 232: YES\n",
      "\n",
      "\n",
      "Downloaded volume is of shape (151, 151, 151), with total intensity 5078793.\n",
      "seg_id = 233: NO\n"
     ]
    },
    {
     "name": "stderr",
     "output_type": "stream",
     "text": [
      "Downloading: 100%|█████████████████████████████████████████████████████████████████████| 16/16 [00:01<00:00, 11.06it/s]\n"
     ]
    },
    {
     "name": "stdout",
     "output_type": "stream",
     "text": [
      "seg_id = 234: YES\n",
      "\n",
      "\n",
      "Downloaded volume is of shape (151, 151, 151), with total intensity 4994920.\n"
     ]
    },
    {
     "name": "stderr",
     "output_type": "stream",
     "text": [
      "Downloading: 100%|█████████████████████████████████████████████████████████████████████| 16/16 [00:01<00:00, 12.30it/s]\n"
     ]
    },
    {
     "name": "stdout",
     "output_type": "stream",
     "text": [
      "seg_id = 235: YES\n",
      "\n",
      "\n",
      "Downloaded volume is of shape (151, 151, 151), with total intensity 5075625.\n"
     ]
    },
    {
     "name": "stderr",
     "output_type": "stream",
     "text": [
      "Downloading: 100%|█████████████████████████████████████████████████████████████████████| 16/16 [00:01<00:00, 13.21it/s]\n"
     ]
    },
    {
     "name": "stdout",
     "output_type": "stream",
     "text": [
      "seg_id = 236: YES\n",
      "\n",
      "\n",
      "Downloaded volume is of shape (151, 151, 151), with total intensity 5248165.\n"
     ]
    },
    {
     "name": "stderr",
     "output_type": "stream",
     "text": [
      "Downloading: 100%|█████████████████████████████████████████████████████████████████████| 18/18 [00:01<00:00, 12.53it/s]\n"
     ]
    },
    {
     "name": "stdout",
     "output_type": "stream",
     "text": [
      "seg_id = 237: YES\n",
      "\n",
      "\n",
      "Downloaded volume is of shape (151, 151, 151), with total intensity 4750424.\n",
      "seg_id = 238: NO\n",
      "seg_id = 239: NO\n"
     ]
    },
    {
     "name": "stderr",
     "output_type": "stream",
     "text": [
      "Downloading: 100%|█████████████████████████████████████████████████████████████████████| 16/16 [00:01<00:00, 12.01it/s]\n"
     ]
    },
    {
     "name": "stdout",
     "output_type": "stream",
     "text": [
      "seg_id = 240: YES\n",
      "\n",
      "\n",
      "Downloaded volume is of shape (151, 151, 151), with total intensity 5325035.\n",
      "seg_id = 241: NO\n",
      "seg_id = 242: NO\n"
     ]
    },
    {
     "name": "stderr",
     "output_type": "stream",
     "text": [
      "Downloading: 100%|█████████████████████████████████████████████████████████████████████| 24/24 [00:01<00:00, 12.84it/s]\n"
     ]
    },
    {
     "name": "stdout",
     "output_type": "stream",
     "text": [
      "seg_id = 243: YES\n",
      "\n",
      "\n",
      "Downloaded volume is of shape (151, 151, 151), with total intensity 4818132.\n",
      "seg_id = 244: NO\n",
      "seg_id = 245: NO\n"
     ]
    },
    {
     "name": "stderr",
     "output_type": "stream",
     "text": [
      "Downloading: 100%|█████████████████████████████████████████████████████████████████████| 36/36 [00:02<00:00, 13.84it/s]\n"
     ]
    },
    {
     "name": "stdout",
     "output_type": "stream",
     "text": [
      "seg_id = 246: YES\n",
      "\n",
      "\n",
      "Downloaded volume is of shape (151, 151, 151), with total intensity 4941471.\n"
     ]
    },
    {
     "name": "stderr",
     "output_type": "stream",
     "text": [
      "Downloading: 100%|█████████████████████████████████████████████████████████████████████| 16/16 [00:01<00:00, 12.20it/s]\n"
     ]
    },
    {
     "name": "stdout",
     "output_type": "stream",
     "text": [
      "seg_id = 247: YES\n",
      "\n",
      "\n",
      "Downloaded volume is of shape (151, 151, 151), with total intensity 4761362.\n"
     ]
    },
    {
     "name": "stderr",
     "output_type": "stream",
     "text": [
      "Downloading: 100%|█████████████████████████████████████████████████████████████████████| 16/16 [00:01<00:00, 12.00it/s]\n"
     ]
    },
    {
     "name": "stdout",
     "output_type": "stream",
     "text": [
      "seg_id = 248: YES\n",
      "\n",
      "\n",
      "Downloaded volume is of shape (151, 151, 151), with total intensity 5117865.\n"
     ]
    },
    {
     "name": "stderr",
     "output_type": "stream",
     "text": [
      "Downloading: 100%|█████████████████████████████████████████████████████████████████████| 24/24 [00:01<00:00, 13.37it/s]\n"
     ]
    },
    {
     "name": "stdout",
     "output_type": "stream",
     "text": [
      "seg_id = 249: YES\n",
      "\n",
      "\n",
      "Downloaded volume is of shape (151, 151, 151), with total intensity 5298826.\n"
     ]
    },
    {
     "name": "stderr",
     "output_type": "stream",
     "text": [
      "Downloading: 100%|█████████████████████████████████████████████████████████████████████| 16/16 [00:01<00:00, 12.98it/s]\n"
     ]
    },
    {
     "name": "stdout",
     "output_type": "stream",
     "text": [
      "seg_id = 250: YES\n",
      "\n",
      "\n",
      "Downloaded volume is of shape (151, 151, 151), with total intensity 5028945.\n",
      "seg_id = 251: NO\n"
     ]
    },
    {
     "name": "stderr",
     "output_type": "stream",
     "text": [
      "Downloading: 100%|█████████████████████████████████████████████████████████████████████| 24/24 [00:02<00:00, 10.37it/s]\n"
     ]
    },
    {
     "name": "stdout",
     "output_type": "stream",
     "text": [
      "seg_id = 252: YES\n",
      "\n",
      "\n",
      "Downloaded volume is of shape (151, 151, 151), with total intensity 5274585.\n"
     ]
    },
    {
     "name": "stderr",
     "output_type": "stream",
     "text": [
      "Downloading: 100%|█████████████████████████████████████████████████████████████████████| 16/16 [00:01<00:00, 12.00it/s]\n"
     ]
    },
    {
     "name": "stdout",
     "output_type": "stream",
     "text": [
      "seg_id = 253: YES\n",
      "\n",
      "\n",
      "Downloaded volume is of shape (151, 151, 151), with total intensity 4708714.\n"
     ]
    },
    {
     "name": "stderr",
     "output_type": "stream",
     "text": [
      "Downloading: 100%|█████████████████████████████████████████████████████████████████████| 16/16 [00:01<00:00, 13.26it/s]\n"
     ]
    },
    {
     "name": "stdout",
     "output_type": "stream",
     "text": [
      "seg_id = 254: YES\n",
      "\n",
      "\n",
      "Downloaded volume is of shape (151, 151, 151), with total intensity 5011351.\n"
     ]
    },
    {
     "name": "stderr",
     "output_type": "stream",
     "text": [
      "Downloading: 100%|█████████████████████████████████████████████████████████████████████| 16/16 [00:01<00:00, 12.49it/s]\n"
     ]
    },
    {
     "name": "stdout",
     "output_type": "stream",
     "text": [
      "seg_id = 255: YES\n",
      "\n",
      "\n",
      "Downloaded volume is of shape (151, 151, 151), with total intensity 4766001.\n"
     ]
    },
    {
     "name": "stderr",
     "output_type": "stream",
     "text": [
      "Downloading: 100%|█████████████████████████████████████████████████████████████████████| 16/16 [00:01<00:00, 12.85it/s]\n"
     ]
    },
    {
     "name": "stdout",
     "output_type": "stream",
     "text": [
      "seg_id = 256: YES\n",
      "\n",
      "\n",
      "Downloaded volume is of shape (151, 151, 151), with total intensity 4723416.\n"
     ]
    },
    {
     "name": "stderr",
     "output_type": "stream",
     "text": [
      "Downloading: 100%|█████████████████████████████████████████████████████████████████████| 24/24 [00:01<00:00, 12.70it/s]\n"
     ]
    },
    {
     "name": "stdout",
     "output_type": "stream",
     "text": [
      "seg_id = 257: YES\n",
      "\n",
      "\n",
      "Downloaded volume is of shape (151, 151, 151), with total intensity 5096694.\n"
     ]
    },
    {
     "name": "stderr",
     "output_type": "stream",
     "text": [
      "Downloading: 100%|█████████████████████████████████████████████████████████████████████| 24/24 [00:01<00:00, 12.83it/s]\n"
     ]
    },
    {
     "name": "stdout",
     "output_type": "stream",
     "text": [
      "seg_id = 258: YES\n",
      "\n",
      "\n",
      "Downloaded volume is of shape (151, 151, 151), with total intensity 5272486.\n"
     ]
    },
    {
     "name": "stderr",
     "output_type": "stream",
     "text": [
      "Downloading: 100%|█████████████████████████████████████████████████████████████████████| 16/16 [00:01<00:00, 11.37it/s]\n"
     ]
    },
    {
     "name": "stdout",
     "output_type": "stream",
     "text": [
      "seg_id = 259: YES\n",
      "\n",
      "\n",
      "Downloaded volume is of shape (151, 151, 151), with total intensity 4827284.\n",
      "seg_id = 260: NO\n"
     ]
    },
    {
     "name": "stderr",
     "output_type": "stream",
     "text": [
      "Downloading: 100%|█████████████████████████████████████████████████████████████████████| 36/36 [00:02<00:00, 13.57it/s]\n"
     ]
    },
    {
     "name": "stdout",
     "output_type": "stream",
     "text": [
      "seg_id = 261: YES\n",
      "\n",
      "\n",
      "Downloaded volume is of shape (151, 151, 151), with total intensity 4481272.\n"
     ]
    },
    {
     "name": "stderr",
     "output_type": "stream",
     "text": [
      "Downloading: 100%|█████████████████████████████████████████████████████████████████████| 24/24 [00:01<00:00, 13.38it/s]\n"
     ]
    },
    {
     "name": "stdout",
     "output_type": "stream",
     "text": [
      "seg_id = 262: YES\n",
      "\n",
      "\n",
      "Downloaded volume is of shape (151, 151, 151), with total intensity 4821952.\n",
      "seg_id = 263: NO\n",
      "seg_id = 264: NO\n"
     ]
    },
    {
     "name": "stderr",
     "output_type": "stream",
     "text": [
      "Downloading: 100%|█████████████████████████████████████████████████████████████████████| 16/16 [00:01<00:00, 12.16it/s]\n"
     ]
    },
    {
     "name": "stdout",
     "output_type": "stream",
     "text": [
      "seg_id = 265: YES\n",
      "\n",
      "\n",
      "Downloaded volume is of shape (151, 151, 151), with total intensity 4616331.\n"
     ]
    },
    {
     "name": "stderr",
     "output_type": "stream",
     "text": [
      "Downloading: 100%|█████████████████████████████████████████████████████████████████████| 16/16 [00:01<00:00, 12.25it/s]\n"
     ]
    },
    {
     "name": "stdout",
     "output_type": "stream",
     "text": [
      "seg_id = 266: YES\n",
      "\n",
      "\n",
      "Downloaded volume is of shape (151, 151, 151), with total intensity 4856542.\n"
     ]
    },
    {
     "name": "stderr",
     "output_type": "stream",
     "text": [
      "Downloading: 100%|█████████████████████████████████████████████████████████████████████| 18/18 [00:01<00:00, 12.76it/s]\n"
     ]
    },
    {
     "name": "stdout",
     "output_type": "stream",
     "text": [
      "seg_id = 267: YES\n",
      "\n",
      "\n",
      "Downloaded volume is of shape (151, 151, 151), with total intensity 4745093.\n"
     ]
    },
    {
     "name": "stderr",
     "output_type": "stream",
     "text": [
      "\r",
      "Downloading:   0%|                                                                              | 0/16 [00:00<?, ?it/s]"
     ]
    },
    {
     "name": "stdout",
     "output_type": "stream",
     "text": [
      "seg_id = 268: NO\n"
     ]
    },
    {
     "name": "stderr",
     "output_type": "stream",
     "text": [
      "Downloading: 100%|█████████████████████████████████████████████████████████████████████| 16/16 [00:01<00:00, 11.86it/s]\n"
     ]
    },
    {
     "name": "stdout",
     "output_type": "stream",
     "text": [
      "seg_id = 269: YES\n",
      "\n",
      "\n",
      "Downloaded volume is of shape (151, 151, 151), with total intensity 4945779.\n"
     ]
    },
    {
     "name": "stderr",
     "output_type": "stream",
     "text": [
      "Downloading: 100%|█████████████████████████████████████████████████████████████████████| 16/16 [00:01<00:00, 12.42it/s]\n"
     ]
    },
    {
     "name": "stdout",
     "output_type": "stream",
     "text": [
      "seg_id = 270: YES\n",
      "\n",
      "\n",
      "Downloaded volume is of shape (151, 151, 151), with total intensity 4608235.\n"
     ]
    },
    {
     "name": "stderr",
     "output_type": "stream",
     "text": [
      "Downloading: 100%|█████████████████████████████████████████████████████████████████████| 24/24 [00:01<00:00, 13.54it/s]\n"
     ]
    },
    {
     "name": "stdout",
     "output_type": "stream",
     "text": [
      "seg_id = 271: YES\n",
      "\n",
      "\n",
      "Downloaded volume is of shape (151, 151, 151), with total intensity 4898904.\n"
     ]
    },
    {
     "name": "stderr",
     "output_type": "stream",
     "text": [
      "Downloading: 100%|█████████████████████████████████████████████████████████████████████| 16/16 [00:01<00:00, 13.09it/s]\n"
     ]
    },
    {
     "name": "stdout",
     "output_type": "stream",
     "text": [
      "seg_id = 272: YES\n",
      "\n",
      "\n",
      "Downloaded volume is of shape (151, 151, 151), with total intensity 5085529.\n",
      "seg_id = 273: NO\n"
     ]
    },
    {
     "name": "stderr",
     "output_type": "stream",
     "text": [
      "Downloading: 100%|█████████████████████████████████████████████████████████████████████| 16/16 [00:01<00:00, 11.28it/s]\n"
     ]
    },
    {
     "name": "stdout",
     "output_type": "stream",
     "text": [
      "seg_id = 274: YES\n",
      "\n",
      "\n",
      "Downloaded volume is of shape (151, 151, 151), with total intensity 4795325.\n"
     ]
    },
    {
     "name": "stderr",
     "output_type": "stream",
     "text": [
      "Downloading: 100%|█████████████████████████████████████████████████████████████████████| 24/24 [00:01<00:00, 13.08it/s]\n"
     ]
    },
    {
     "name": "stdout",
     "output_type": "stream",
     "text": [
      "seg_id = 275: YES\n",
      "\n",
      "\n",
      "Downloaded volume is of shape (151, 151, 151), with total intensity 5127907.\n"
     ]
    },
    {
     "name": "stderr",
     "output_type": "stream",
     "text": [
      "Downloading: 100%|█████████████████████████████████████████████████████████████████████| 36/36 [00:02<00:00, 14.06it/s]\n"
     ]
    },
    {
     "name": "stdout",
     "output_type": "stream",
     "text": [
      "seg_id = 276: YES\n",
      "\n",
      "\n",
      "Downloaded volume is of shape (151, 151, 151), with total intensity 4723304.\n"
     ]
    },
    {
     "name": "stderr",
     "output_type": "stream",
     "text": [
      "Downloading: 100%|█████████████████████████████████████████████████████████████████████| 24/24 [00:01<00:00, 12.62it/s]\n"
     ]
    },
    {
     "name": "stdout",
     "output_type": "stream",
     "text": [
      "seg_id = 277: YES\n",
      "\n",
      "\n",
      "Downloaded volume is of shape (151, 151, 151), with total intensity 4755498.\n"
     ]
    },
    {
     "name": "stderr",
     "output_type": "stream",
     "text": [
      "Downloading: 100%|█████████████████████████████████████████████████████████████████████| 24/24 [00:01<00:00, 13.07it/s]\n"
     ]
    },
    {
     "name": "stdout",
     "output_type": "stream",
     "text": [
      "seg_id = 278: YES\n",
      "\n",
      "\n",
      "Downloaded volume is of shape (151, 151, 151), with total intensity 5242512.\n"
     ]
    },
    {
     "name": "stderr",
     "output_type": "stream",
     "text": [
      "Downloading: 100%|█████████████████████████████████████████████████████████████████████| 36/36 [00:02<00:00, 13.68it/s]\n"
     ]
    },
    {
     "name": "stdout",
     "output_type": "stream",
     "text": [
      "seg_id = 279: YES\n",
      "\n",
      "\n",
      "Downloaded volume is of shape (151, 151, 151), with total intensity 5148030.\n"
     ]
    },
    {
     "name": "stderr",
     "output_type": "stream",
     "text": [
      "Downloading: 100%|█████████████████████████████████████████████████████████████████████| 18/18 [00:01<00:00, 12.98it/s]\n"
     ]
    },
    {
     "name": "stdout",
     "output_type": "stream",
     "text": [
      "seg_id = 280: YES\n",
      "\n",
      "\n",
      "Downloaded volume is of shape (151, 151, 151), with total intensity 5147635.\n"
     ]
    },
    {
     "name": "stderr",
     "output_type": "stream",
     "text": [
      "Downloading: 100%|█████████████████████████████████████████████████████████████████████| 12/12 [00:00<00:00, 12.97it/s]\n"
     ]
    },
    {
     "name": "stdout",
     "output_type": "stream",
     "text": [
      "seg_id = 281: YES\n",
      "\n",
      "\n",
      "Downloaded volume is of shape (151, 151, 151), with total intensity 5201500.\n"
     ]
    },
    {
     "name": "stderr",
     "output_type": "stream",
     "text": [
      "Downloading: 100%|█████████████████████████████████████████████████████████████████████| 16/16 [00:01<00:00, 13.03it/s]\n"
     ]
    },
    {
     "name": "stdout",
     "output_type": "stream",
     "text": [
      "seg_id = 282: YES\n",
      "\n",
      "\n",
      "Downloaded volume is of shape (151, 151, 151), with total intensity 5038356.\n"
     ]
    },
    {
     "name": "stderr",
     "output_type": "stream",
     "text": [
      "Downloading: 100%|█████████████████████████████████████████████████████████████████████| 16/16 [00:01<00:00, 11.41it/s]\n"
     ]
    },
    {
     "name": "stdout",
     "output_type": "stream",
     "text": [
      "seg_id = 283: YES\n",
      "\n",
      "\n",
      "Downloaded volume is of shape (151, 151, 151), with total intensity 4148379.\n"
     ]
    },
    {
     "name": "stderr",
     "output_type": "stream",
     "text": [
      "Downloading: 100%|█████████████████████████████████████████████████████████████████████| 16/16 [00:01<00:00, 11.68it/s]\n"
     ]
    },
    {
     "name": "stdout",
     "output_type": "stream",
     "text": [
      "seg_id = 284: YES\n",
      "\n",
      "\n",
      "Downloaded volume is of shape (151, 151, 151), with total intensity 5017247.\n"
     ]
    },
    {
     "name": "stderr",
     "output_type": "stream",
     "text": [
      "Downloading: 100%|█████████████████████████████████████████████████████████████████████| 16/16 [00:01<00:00, 12.55it/s]\n"
     ]
    },
    {
     "name": "stdout",
     "output_type": "stream",
     "text": [
      "seg_id = 285: YES\n",
      "\n",
      "\n",
      "Downloaded volume is of shape (151, 151, 151), with total intensity 4906687.\n"
     ]
    },
    {
     "name": "stderr",
     "output_type": "stream",
     "text": [
      "Downloading: 100%|█████████████████████████████████████████████████████████████████████| 18/18 [00:01<00:00, 11.26it/s]\n"
     ]
    },
    {
     "name": "stdout",
     "output_type": "stream",
     "text": [
      "seg_id = 286: YES\n",
      "\n",
      "\n",
      "Downloaded volume is of shape (151, 151, 151), with total intensity 4628192.\n"
     ]
    },
    {
     "name": "stderr",
     "output_type": "stream",
     "text": [
      "Downloading: 100%|█████████████████████████████████████████████████████████████████████| 24/24 [00:01<00:00, 13.57it/s]\n"
     ]
    },
    {
     "name": "stdout",
     "output_type": "stream",
     "text": [
      "seg_id = 287: YES\n",
      "\n",
      "\n",
      "Downloaded volume is of shape (151, 151, 151), with total intensity 4589902.\n"
     ]
    },
    {
     "name": "stderr",
     "output_type": "stream",
     "text": [
      "Downloading: 100%|█████████████████████████████████████████████████████████████████████| 16/16 [00:01<00:00, 12.89it/s]\n"
     ]
    },
    {
     "name": "stdout",
     "output_type": "stream",
     "text": [
      "seg_id = 288: YES\n",
      "\n",
      "\n",
      "Downloaded volume is of shape (151, 151, 151), with total intensity 4731046.\n"
     ]
    },
    {
     "name": "stderr",
     "output_type": "stream",
     "text": [
      "Downloading:   4%|██▉                                                                   | 1/24 [00:00<00:10,  2.17it/s]"
     ]
    },
    {
     "name": "stdout",
     "output_type": "stream",
     "text": [
      "seg_id = 289: NO\n",
      "seg_id = 290: NO\n"
     ]
    },
    {
     "name": "stderr",
     "output_type": "stream",
     "text": [
      "\n",
      "Downloading:   0%|                                                                              | 0/16 [00:00<?, ?it/s]\u001b[A\n",
      "Downloading:   6%|████▍                                                                 | 1/16 [00:00<00:07,  2.09it/s]\u001b[A\n",
      "Downloading:  25%|█████████████████▌                                                    | 4/16 [00:00<00:04,  2.80it/s]\u001b[A"
     ]
    },
    {
     "name": "stdout",
     "output_type": "stream",
     "text": [
      "seg_id = 291: NO\n",
      "seg_id = 292: NO\n"
     ]
    },
    {
     "name": "stderr",
     "output_type": "stream",
     "text": [
      "\n",
      "\n",
      "Downloading:   0%|                                                                              | 0/24 [00:00<?, ?it/s]\u001b[A\u001b[A\n",
      "\n",
      "Downloading:   4%|██▉                                                                   | 1/24 [00:00<00:21,  1.07it/s]\u001b[A\u001b[A\n",
      "\n",
      "Downloading:  21%|██████████████▌                                                       | 5/24 [00:01<00:12,  1.48it/s]\u001b[A\u001b[A\n",
      "\n",
      "Downloading:  38%|██████████████████████████▎                                           | 9/24 [00:01<00:07,  2.08it/s]\u001b[A\u001b[A\n",
      "\n",
      "Downloading:  46%|███████████████████████████████▋                                     | 11/24 [00:01<00:04,  2.82it/s]\u001b[A\u001b[A\n",
      "\n",
      "Downloading:  75%|███████████████████████████████████████████████████▊                 | 18/24 [00:01<00:01,  3.94it/s]\u001b[A\u001b[A\n",
      "\n",
      "Downloading: 100%|█████████████████████████████████████████████████████████████████████| 24/24 [00:01<00:00, 13.66it/s]\u001b[A\u001b[A\n"
     ]
    },
    {
     "name": "stdout",
     "output_type": "stream",
     "text": [
      "seg_id = 293: YES\n",
      "\n",
      "\n",
      "Downloaded volume is of shape (151, 151, 151), with total intensity 4611113.\n"
     ]
    },
    {
     "name": "stderr",
     "output_type": "stream",
     "text": [
      "\n",
      "\n",
      "Downloading:   0%|                                                                              | 0/16 [00:00<?, ?it/s]\u001b[A\u001b[A\n",
      "\n",
      "Downloading:   6%|████▍                                                                 | 1/16 [00:00<00:10,  1.42it/s]\u001b[A\u001b[A\n",
      "\n",
      "Downloading:  12%|████████▊                                                             | 2/16 [00:00<00:07,  1.90it/s]\u001b[A\u001b[A\n",
      "\n",
      "Downloading:  44%|██████████████████████████████▋                                       | 7/16 [00:00<00:03,  2.65it/s]\u001b[A\u001b[A\n",
      "\n",
      "Downloading:  62%|███████████████████████████████████████████▏                         | 10/16 [00:01<00:01,  3.63it/s]\u001b[A\u001b[A\n",
      "\n",
      "Downloading: 100%|█████████████████████████████████████████████████████████████████████| 16/16 [00:01<00:00, 12.98it/s]\u001b[A\u001b[A\n"
     ]
    },
    {
     "name": "stdout",
     "output_type": "stream",
     "text": [
      "seg_id = 294: YES\n",
      "\n",
      "\n",
      "Downloaded volume is of shape (151, 151, 151), with total intensity 5434032.\n"
     ]
    },
    {
     "name": "stderr",
     "output_type": "stream",
     "text": [
      "\n",
      "\n",
      "Downloading:   0%|                                                                              | 0/24 [00:00<?, ?it/s]\u001b[A\u001b[A\n",
      "\n",
      "Downloading:   4%|██▉                                                                   | 1/24 [00:00<00:21,  1.09it/s]\u001b[A\u001b[A\n",
      "\n",
      "Downloading:  12%|████████▊                                                             | 3/24 [00:01<00:13,  1.51it/s]\u001b[A\u001b[A\n",
      "\n",
      "Downloading:  17%|███████████▋                                                          | 4/24 [00:01<00:10,  1.92it/s]\u001b[A\u001b[A\n",
      "\n",
      "Downloading:  38%|██████████████████████████▎                                           | 9/24 [00:01<00:05,  2.70it/s]\u001b[A\u001b[A\n",
      "\n",
      "Downloading:  46%|███████████████████████████████▋                                     | 11/24 [00:01<00:03,  3.56it/s]\u001b[A\u001b[A\n",
      "\n",
      "Downloading:  71%|████████████████████████████████████████████████▉                    | 17/24 [00:01<00:01,  4.92it/s]\u001b[A\u001b[A\n",
      "\n",
      "Downloading:  88%|████████████████████████████████████████████████████████████▍        | 21/24 [00:01<00:00,  6.63it/s]\u001b[A\u001b[A\n",
      "\n",
      "Downloading: 100%|█████████████████████████████████████████████████████████████████████| 24/24 [00:01<00:00, 12.42it/s]\u001b[A\u001b[A\n"
     ]
    },
    {
     "name": "stdout",
     "output_type": "stream",
     "text": [
      "seg_id = 295: YES\n",
      "\n",
      "\n",
      "Downloaded volume is of shape (151, 151, 151), with total intensity 4948441.\n"
     ]
    },
    {
     "name": "stderr",
     "output_type": "stream",
     "text": [
      "\n",
      "\n",
      "Downloading:  25%|█████████████████▌                                                    | 4/16 [00:07<00:22,  1.89s/it]\u001b[A\u001b[A\n"
     ]
    },
    {
     "name": "stdout",
     "output_type": "stream",
     "text": [
      "seg_id = 296: NO\n",
      "seg_id = 297: NO\n"
     ]
    },
    {
     "name": "stderr",
     "output_type": "stream",
     "text": [
      "\n",
      "Downloading:   0%|                                                                              | 0/24 [00:00<?, ?it/s]\u001b[A\n",
      "Downloading:   4%|██▉                                                                   | 1/24 [00:00<00:20,  1.11it/s]\u001b[A\n",
      "Downloading:   8%|█████▊                                                                | 2/24 [00:01<00:14,  1.51it/s]\u001b[A\n",
      "Downloading:  17%|███████████▋                                                          | 4/24 [00:01<00:09,  2.05it/s]\u001b[A\n",
      "Downloading:  25%|█████████████████▌                                                    | 6/24 [00:01<00:06,  2.76it/s]\u001b[A\n",
      "Downloading:  33%|███████████████████████▎                                              | 8/24 [00:01<00:04,  3.66it/s]\u001b[A\n",
      "Downloading:  58%|████████████████████████████████████████▎                            | 14/24 [00:01<00:01,  5.09it/s]\u001b[A\n",
      "Downloading: 100%|█████████████████████████████████████████████████████████████████████| 24/24 [00:01<00:00, 13.10it/s]\u001b[A\n"
     ]
    },
    {
     "name": "stdout",
     "output_type": "stream",
     "text": [
      "seg_id = 298: YES\n",
      "\n",
      "\n",
      "Downloaded volume is of shape (151, 151, 151), with total intensity 5049423.\n",
      "seg_id = 299: NO\n"
     ]
    }
   ],
   "source": [
    "dir = \"s3://open-neurodata/brainlit/brain1\"\n",
    "dir_segments = \"s3://open-neurodata/brainlit/brain1_segments\"\n",
    "mip = 0\n",
    "v_id = 0\n",
    "radius = 75\n",
    "seg_ids = np.array([])\n",
    "\n",
    "for seg_id in range(300):\n",
    "    ngl_sess = NeuroglancerSession(mip = mip, url = dir, url_segments = dir_segments)\n",
    "    try:\n",
    "        img, bbox, vox = ngl_sess.pull_voxel(seg_id, v_id, radius)\n",
    "        print(f\"seg_id = {seg_id}: YES\")\n",
    "        seg_ids = np.append(seg_ids, seg_id)\n",
    "    except:\n",
    "        print(f\"seg_id = {seg_id}: NO\")\n",
    "        continue\n",
    "    print(f\"\\n\\nDownloaded volume is of shape {img.shape}, with total intensity {sum(sum(sum(img)))}.\")\n",
    "    save_path = \"C:/Users/Tanch/ffn/brainlit/images/cells\"\n",
    "    test_path = save_path + \"/image%d.h5\" % (seg_id)\n",
    "    with h5py.File(test_path, 'w') as f:\n",
    "        f.create_dataset('raw', data = img, compression = 'gzip') "
   ]
  },
  {
   "cell_type": "code",
   "execution_count": 3,
   "metadata": {},
   "outputs": [
    {
     "name": "stdout",
     "output_type": "stream",
     "text": [
      "(177,)\n",
      "[  2.   7.  11.  12.  13.  14.  20.  24.  28.  35.  40.  45.  48.  49.\n",
      "  51.  53.  59.  60.  65.  67.  69.  71.  72.  73.  74.  75.  76.  77.\n",
      "  78.  79.  81.  82.  83.  85.  86.  91.  97.  98.  99. 101. 103. 106.\n",
      " 107. 109. 111. 112. 115. 118. 120. 124. 126. 127. 129. 132. 133. 136.\n",
      " 137. 140. 141. 142. 143. 144. 145. 146. 147. 149. 150. 151. 152. 153.\n",
      " 154. 155. 156. 157. 158. 159. 160. 161. 162. 163. 164. 165. 166. 167.\n",
      " 169. 170. 171. 172. 173. 174. 175. 176. 177. 178. 179. 180. 181. 182.\n",
      " 183. 184. 185. 186. 187. 188. 189. 190. 192. 193. 194. 195. 196. 197.\n",
      " 198. 199. 200. 201. 202. 205. 207. 208. 214. 223. 224. 225. 227. 228.\n",
      " 229. 230. 231. 232. 234. 235. 236. 237. 240. 243. 246. 247. 248. 249.\n",
      " 250. 252. 253. 254. 255. 256. 257. 258. 259. 261. 262. 265. 266. 267.\n",
      " 269. 270. 271. 272. 274. 275. 276. 277. 278. 279. 280. 281. 282. 283.\n",
      " 284. 285. 286. 287. 288. 293. 294. 295. 298.]\n"
     ]
    }
   ],
   "source": [
    "print(seg_ids.shape)\n",
    "print(seg_ids)"
   ]
  },
  {
   "cell_type": "code",
   "execution_count": 4,
   "metadata": {},
   "outputs": [
    {
     "name": "stdout",
     "output_type": "stream",
     "text": [
      "current seg_id = 2...\n",
      "WARNING:tensorflow:From C:\\Users\\Tanch\\ffn\\ffn\\inference\\inference.py:833: The name tf.gfile.Exists is deprecated. Please use tf.io.gfile.exists instead.\n",
      "\n"
     ]
    },
    {
     "name": "stderr",
     "output_type": "stream",
     "text": [
      "WARNING:tensorflow:From C:\\Users\\Tanch\\ffn\\ffn\\inference\\inference.py:833: The name tf.gfile.Exists is deprecated. Please use tf.io.gfile.exists instead.\n",
      "\n"
     ]
    },
    {
     "name": "stdout",
     "output_type": "stream",
     "text": [
      "WARNING:tensorflow:From C:\\Users\\Tanch\\ffn\\ffn\\inference\\inference.py:887: The name tf.ConfigProto is deprecated. Please use tf.compat.v1.ConfigProto instead.\n",
      "\n"
     ]
    },
    {
     "name": "stderr",
     "output_type": "stream",
     "text": [
      "WARNING:tensorflow:From C:\\Users\\Tanch\\ffn\\ffn\\inference\\inference.py:887: The name tf.ConfigProto is deprecated. Please use tf.compat.v1.ConfigProto instead.\n",
      "\n"
     ]
    },
    {
     "name": "stdout",
     "output_type": "stream",
     "text": [
      "WARNING:tensorflow:From C:\\Users\\Tanch\\ffn\\ffn\\inference\\inference.py:888: The name tf.reset_default_graph is deprecated. Please use tf.compat.v1.reset_default_graph instead.\n",
      "\n"
     ]
    },
    {
     "name": "stderr",
     "output_type": "stream",
     "text": [
      "WARNING:tensorflow:From C:\\Users\\Tanch\\ffn\\ffn\\inference\\inference.py:888: The name tf.reset_default_graph is deprecated. Please use tf.compat.v1.reset_default_graph instead.\n",
      "\n"
     ]
    },
    {
     "name": "stdout",
     "output_type": "stream",
     "text": [
      "WARNING:tensorflow:From C:\\Users\\Tanch\\ffn\\ffn\\inference\\inference.py:889: The name tf.Session is deprecated. Please use tf.compat.v1.Session instead.\n",
      "\n"
     ]
    },
    {
     "name": "stderr",
     "output_type": "stream",
     "text": [
      "WARNING:tensorflow:From C:\\Users\\Tanch\\ffn\\ffn\\inference\\inference.py:889: The name tf.Session is deprecated. Please use tf.compat.v1.Session instead.\n",
      "\n"
     ]
    },
    {
     "name": "stdout",
     "output_type": "stream",
     "text": [
      "WARNING:tensorflow:From C:\\Users\\Tanch\\ffn\\ffn\\training\\model.py:78: The name tf.placeholder is deprecated. Please use tf.compat.v1.placeholder instead.\n",
      "\n"
     ]
    },
    {
     "name": "stderr",
     "output_type": "stream",
     "text": [
      "WARNING:tensorflow:From C:\\Users\\Tanch\\ffn\\ffn\\training\\model.py:78: The name tf.placeholder is deprecated. Please use tf.compat.v1.placeholder instead.\n",
      "\n"
     ]
    },
    {
     "name": "stdout",
     "output_type": "stream",
     "text": [
      "WARNING:tensorflow:From C:\\Users\\Tanch\\ffn\\ffn\\training\\models\\convstack_3d.py:69: The name tf.variable_scope is deprecated. Please use tf.compat.v1.variable_scope instead.\n",
      "\n"
     ]
    },
    {
     "name": "stderr",
     "output_type": "stream",
     "text": [
      "WARNING:tensorflow:From C:\\Users\\Tanch\\ffn\\ffn\\training\\models\\convstack_3d.py:69: The name tf.variable_scope is deprecated. Please use tf.compat.v1.variable_scope instead.\n",
      "\n"
     ]
    },
    {
     "name": "stdout",
     "output_type": "stream",
     "text": [
      "WARNING:tensorflow:\n",
      "The TensorFlow contrib module will not be included in TensorFlow 2.0.\n",
      "For more information, please see:\n",
      "  * https://github.com/tensorflow/community/blob/master/rfcs/20180907-contrib-sunset.md\n",
      "  * https://github.com/tensorflow/addons\n",
      "  * https://github.com/tensorflow/io (for I/O related ops)\n",
      "If you depend on functionality not listed there, please file an issue.\n",
      "\n"
     ]
    },
    {
     "name": "stderr",
     "output_type": "stream",
     "text": [
      "WARNING:tensorflow:\n",
      "The TensorFlow contrib module will not be included in TensorFlow 2.0.\n",
      "For more information, please see:\n",
      "  * https://github.com/tensorflow/community/blob/master/rfcs/20180907-contrib-sunset.md\n",
      "  * https://github.com/tensorflow/addons\n",
      "  * https://github.com/tensorflow/io (for I/O related ops)\n",
      "If you depend on functionality not listed there, please file an issue.\n",
      "\n",
      "Downloading:  25%|█████████████████▌                                                    | 6/24 [00:11<00:35,  1.95s/it]\n",
      "Downloading:   0%|                                                                              | 0/16 [00:03<?, ?it/s]\n"
     ]
    },
    {
     "name": "stdout",
     "output_type": "stream",
     "text": [
      "WARNING:tensorflow:From D:\\Anaconda3\\envs\\brainlit\\lib\\site-packages\\tensorflow_core\\contrib\\layers\\python\\layers\\layers.py:1057: Layer.apply (from tensorflow.python.keras.engine.base_layer) is deprecated and will be removed in a future version.\n",
      "Instructions for updating:\n",
      "Please use `layer.__call__` method instead.\n"
     ]
    },
    {
     "name": "stderr",
     "output_type": "stream",
     "text": [
      "WARNING:tensorflow:From D:\\Anaconda3\\envs\\brainlit\\lib\\site-packages\\tensorflow_core\\contrib\\layers\\python\\layers\\layers.py:1057: Layer.apply (from tensorflow.python.keras.engine.base_layer) is deprecated and will be removed in a future version.\n",
      "Instructions for updating:\n",
      "Please use `layer.__call__` method instead.\n"
     ]
    },
    {
     "name": "stdout",
     "output_type": "stream",
     "text": [
      "WARNING:tensorflow:From C:\\Users\\Tanch\\ffn\\ffn\\training\\models\\convstack_3d.py:85: The name tf.train.Saver is deprecated. Please use tf.compat.v1.train.Saver instead.\n",
      "\n"
     ]
    },
    {
     "name": "stderr",
     "output_type": "stream",
     "text": [
      "WARNING:tensorflow:From C:\\Users\\Tanch\\ffn\\ffn\\training\\models\\convstack_3d.py:85: The name tf.train.Saver is deprecated. Please use tf.compat.v1.train.Saver instead.\n",
      "\n"
     ]
    },
    {
     "name": "stdout",
     "output_type": "stream",
     "text": [
      "INFO:tensorflow:Restoring parameters from brainlit/models/test_1/model.ckpt-10000\n"
     ]
    },
    {
     "name": "stderr",
     "output_type": "stream",
     "text": [
      "INFO:tensorflow:Restoring parameters from brainlit/models/test_1/model.ckpt-10000\n"
     ]
    },
    {
     "name": "stdout",
     "output_type": "stream",
     "text": [
      "Keys: <KeysViewHDF5 ['raw']>\n",
      "WARNING:tensorflow:From C:\\Users\\Tanch\\ffn\\ffn\\inference\\storage.py:414: The name tf.gfile.Open is deprecated. Please use tf.io.gfile.GFile instead.\n",
      "\n"
     ]
    },
    {
     "name": "stderr",
     "output_type": "stream",
     "text": [
      "WARNING:tensorflow:From C:\\Users\\Tanch\\ffn\\ffn\\inference\\storage.py:414: The name tf.gfile.Open is deprecated. Please use tf.io.gfile.GFile instead.\n",
      "\n"
     ]
    },
    {
     "name": "stdout",
     "output_type": "stream",
     "text": [
      "current seg_id = 7...\n",
      "INFO:tensorflow:Restoring parameters from brainlit/models/test_1/model.ckpt-10000\n"
     ]
    },
    {
     "name": "stderr",
     "output_type": "stream",
     "text": [
      "INFO:tensorflow:Restoring parameters from brainlit/models/test_1/model.ckpt-10000\n"
     ]
    },
    {
     "name": "stdout",
     "output_type": "stream",
     "text": [
      "Keys: <KeysViewHDF5 ['raw']>\n",
      "current seg_id = 11...\n",
      "INFO:tensorflow:Restoring parameters from brainlit/models/test_1/model.ckpt-10000\n"
     ]
    },
    {
     "name": "stderr",
     "output_type": "stream",
     "text": [
      "INFO:tensorflow:Restoring parameters from brainlit/models/test_1/model.ckpt-10000\n"
     ]
    },
    {
     "name": "stdout",
     "output_type": "stream",
     "text": [
      "Keys: <KeysViewHDF5 ['raw']>\n",
      "current seg_id = 12...\n",
      "INFO:tensorflow:Restoring parameters from brainlit/models/test_1/model.ckpt-10000\n"
     ]
    },
    {
     "name": "stderr",
     "output_type": "stream",
     "text": [
      "INFO:tensorflow:Restoring parameters from brainlit/models/test_1/model.ckpt-10000\n"
     ]
    },
    {
     "name": "stdout",
     "output_type": "stream",
     "text": [
      "Keys: <KeysViewHDF5 ['raw']>\n",
      "current seg_id = 13...\n",
      "INFO:tensorflow:Restoring parameters from brainlit/models/test_1/model.ckpt-10000\n"
     ]
    },
    {
     "name": "stderr",
     "output_type": "stream",
     "text": [
      "INFO:tensorflow:Restoring parameters from brainlit/models/test_1/model.ckpt-10000\n"
     ]
    },
    {
     "name": "stdout",
     "output_type": "stream",
     "text": [
      "Keys: <KeysViewHDF5 ['raw']>\n",
      "current seg_id = 14...\n",
      "INFO:tensorflow:Restoring parameters from brainlit/models/test_1/model.ckpt-10000\n"
     ]
    },
    {
     "name": "stderr",
     "output_type": "stream",
     "text": [
      "INFO:tensorflow:Restoring parameters from brainlit/models/test_1/model.ckpt-10000\n"
     ]
    },
    {
     "name": "stdout",
     "output_type": "stream",
     "text": [
      "Keys: <KeysViewHDF5 ['raw']>\n",
      "current seg_id = 20...\n",
      "INFO:tensorflow:Restoring parameters from brainlit/models/test_1/model.ckpt-10000\n"
     ]
    },
    {
     "name": "stderr",
     "output_type": "stream",
     "text": [
      "INFO:tensorflow:Restoring parameters from brainlit/models/test_1/model.ckpt-10000\n"
     ]
    },
    {
     "name": "stdout",
     "output_type": "stream",
     "text": [
      "Keys: <KeysViewHDF5 ['raw']>\n",
      "current seg_id = 24...\n",
      "INFO:tensorflow:Restoring parameters from brainlit/models/test_1/model.ckpt-10000\n"
     ]
    },
    {
     "name": "stderr",
     "output_type": "stream",
     "text": [
      "INFO:tensorflow:Restoring parameters from brainlit/models/test_1/model.ckpt-10000\n"
     ]
    },
    {
     "name": "stdout",
     "output_type": "stream",
     "text": [
      "Keys: <KeysViewHDF5 ['raw']>\n",
      "current seg_id = 28...\n",
      "INFO:tensorflow:Restoring parameters from brainlit/models/test_1/model.ckpt-10000\n"
     ]
    },
    {
     "name": "stderr",
     "output_type": "stream",
     "text": [
      "INFO:tensorflow:Restoring parameters from brainlit/models/test_1/model.ckpt-10000\n"
     ]
    },
    {
     "name": "stdout",
     "output_type": "stream",
     "text": [
      "Keys: <KeysViewHDF5 ['raw']>\n",
      "current seg_id = 35...\n",
      "INFO:tensorflow:Restoring parameters from brainlit/models/test_1/model.ckpt-10000\n"
     ]
    },
    {
     "name": "stderr",
     "output_type": "stream",
     "text": [
      "INFO:tensorflow:Restoring parameters from brainlit/models/test_1/model.ckpt-10000\n"
     ]
    },
    {
     "name": "stdout",
     "output_type": "stream",
     "text": [
      "Keys: <KeysViewHDF5 ['raw']>\n",
      "current seg_id = 40...\n",
      "INFO:tensorflow:Restoring parameters from brainlit/models/test_1/model.ckpt-10000\n"
     ]
    },
    {
     "name": "stderr",
     "output_type": "stream",
     "text": [
      "INFO:tensorflow:Restoring parameters from brainlit/models/test_1/model.ckpt-10000\n"
     ]
    },
    {
     "name": "stdout",
     "output_type": "stream",
     "text": [
      "Keys: <KeysViewHDF5 ['raw']>\n",
      "current seg_id = 45...\n",
      "INFO:tensorflow:Restoring parameters from brainlit/models/test_1/model.ckpt-10000\n"
     ]
    },
    {
     "name": "stderr",
     "output_type": "stream",
     "text": [
      "INFO:tensorflow:Restoring parameters from brainlit/models/test_1/model.ckpt-10000\n"
     ]
    },
    {
     "name": "stdout",
     "output_type": "stream",
     "text": [
      "Keys: <KeysViewHDF5 ['raw']>\n",
      "current seg_id = 48...\n",
      "INFO:tensorflow:Restoring parameters from brainlit/models/test_1/model.ckpt-10000\n"
     ]
    },
    {
     "name": "stderr",
     "output_type": "stream",
     "text": [
      "INFO:tensorflow:Restoring parameters from brainlit/models/test_1/model.ckpt-10000\n"
     ]
    },
    {
     "name": "stdout",
     "output_type": "stream",
     "text": [
      "Keys: <KeysViewHDF5 ['raw']>\n",
      "current seg_id = 49...\n",
      "INFO:tensorflow:Restoring parameters from brainlit/models/test_1/model.ckpt-10000\n"
     ]
    },
    {
     "name": "stderr",
     "output_type": "stream",
     "text": [
      "INFO:tensorflow:Restoring parameters from brainlit/models/test_1/model.ckpt-10000\n"
     ]
    },
    {
     "name": "stdout",
     "output_type": "stream",
     "text": [
      "Keys: <KeysViewHDF5 ['raw']>\n",
      "current seg_id = 51...\n",
      "INFO:tensorflow:Restoring parameters from brainlit/models/test_1/model.ckpt-10000\n"
     ]
    },
    {
     "name": "stderr",
     "output_type": "stream",
     "text": [
      "INFO:tensorflow:Restoring parameters from brainlit/models/test_1/model.ckpt-10000\n"
     ]
    },
    {
     "name": "stdout",
     "output_type": "stream",
     "text": [
      "Keys: <KeysViewHDF5 ['raw']>\n",
      "current seg_id = 53...\n",
      "INFO:tensorflow:Restoring parameters from brainlit/models/test_1/model.ckpt-10000\n"
     ]
    },
    {
     "name": "stderr",
     "output_type": "stream",
     "text": [
      "INFO:tensorflow:Restoring parameters from brainlit/models/test_1/model.ckpt-10000\n"
     ]
    },
    {
     "name": "stdout",
     "output_type": "stream",
     "text": [
      "Keys: <KeysViewHDF5 ['raw']>\n",
      "current seg_id = 59...\n",
      "INFO:tensorflow:Restoring parameters from brainlit/models/test_1/model.ckpt-10000\n"
     ]
    },
    {
     "name": "stderr",
     "output_type": "stream",
     "text": [
      "INFO:tensorflow:Restoring parameters from brainlit/models/test_1/model.ckpt-10000\n"
     ]
    },
    {
     "name": "stdout",
     "output_type": "stream",
     "text": [
      "WARNING:tensorflow:From C:\\Users\\Tanch\\ffn\\ffn\\inference\\storage.py:128: The name tf.gfile.MakeDirs is deprecated. Please use tf.io.gfile.makedirs instead.\n",
      "\n"
     ]
    },
    {
     "name": "stderr",
     "output_type": "stream",
     "text": [
      "WARNING:tensorflow:From C:\\Users\\Tanch\\ffn\\ffn\\inference\\storage.py:128: The name tf.gfile.MakeDirs is deprecated. Please use tf.io.gfile.makedirs instead.\n",
      "\n"
     ]
    },
    {
     "name": "stdout",
     "output_type": "stream",
     "text": [
      "WARNING:tensorflow:From C:\\Users\\Tanch\\ffn\\ffn\\inference\\storage.py:95: The name tf.gfile.Copy is deprecated. Please use tf.io.gfile.copy instead.\n",
      "\n"
     ]
    },
    {
     "name": "stderr",
     "output_type": "stream",
     "text": [
      "WARNING:tensorflow:From C:\\Users\\Tanch\\ffn\\ffn\\inference\\storage.py:95: The name tf.gfile.Copy is deprecated. Please use tf.io.gfile.copy instead.\n",
      "\n"
     ]
    },
    {
     "name": "stdout",
     "output_type": "stream",
     "text": [
      "WARNING:tensorflow:From C:\\Users\\Tanch\\ffn\\ffn\\inference\\storage.py:96: The name tf.gfile.Rename is deprecated. Please use tf.io.gfile.rename instead.\n",
      "\n"
     ]
    },
    {
     "name": "stderr",
     "output_type": "stream",
     "text": [
      "WARNING:tensorflow:From C:\\Users\\Tanch\\ffn\\ffn\\inference\\storage.py:96: The name tf.gfile.Rename is deprecated. Please use tf.io.gfile.rename instead.\n",
      "\n"
     ]
    },
    {
     "name": "stdout",
     "output_type": "stream",
     "text": [
      "WARNING:tensorflow:From C:\\Users\\Tanch\\ffn\\ffn\\inference\\inference.py:1215: The name tf.gfile.Remove is deprecated. Please use tf.io.gfile.remove instead.\n",
      "\n"
     ]
    },
    {
     "name": "stderr",
     "output_type": "stream",
     "text": [
      "WARNING:tensorflow:From C:\\Users\\Tanch\\ffn\\ffn\\inference\\inference.py:1215: The name tf.gfile.Remove is deprecated. Please use tf.io.gfile.remove instead.\n",
      "\n"
     ]
    },
    {
     "name": "stdout",
     "output_type": "stream",
     "text": [
      "Keys: <KeysViewHDF5 ['raw']>\n",
      "current seg_id = 60...\n",
      "INFO:tensorflow:Restoring parameters from brainlit/models/test_1/model.ckpt-10000\n"
     ]
    },
    {
     "name": "stderr",
     "output_type": "stream",
     "text": [
      "INFO:tensorflow:Restoring parameters from brainlit/models/test_1/model.ckpt-10000\n"
     ]
    },
    {
     "name": "stdout",
     "output_type": "stream",
     "text": [
      "Keys: <KeysViewHDF5 ['raw']>\n",
      "current seg_id = 65...\n",
      "INFO:tensorflow:Restoring parameters from brainlit/models/test_1/model.ckpt-10000\n"
     ]
    },
    {
     "name": "stderr",
     "output_type": "stream",
     "text": [
      "INFO:tensorflow:Restoring parameters from brainlit/models/test_1/model.ckpt-10000\n"
     ]
    },
    {
     "name": "stdout",
     "output_type": "stream",
     "text": [
      "Keys: <KeysViewHDF5 ['raw']>\n",
      "current seg_id = 67...\n",
      "INFO:tensorflow:Restoring parameters from brainlit/models/test_1/model.ckpt-10000\n"
     ]
    },
    {
     "name": "stderr",
     "output_type": "stream",
     "text": [
      "INFO:tensorflow:Restoring parameters from brainlit/models/test_1/model.ckpt-10000\n"
     ]
    },
    {
     "name": "stdout",
     "output_type": "stream",
     "text": [
      "Keys: <KeysViewHDF5 ['raw']>\n",
      "current seg_id = 69...\n",
      "INFO:tensorflow:Restoring parameters from brainlit/models/test_1/model.ckpt-10000\n"
     ]
    },
    {
     "name": "stderr",
     "output_type": "stream",
     "text": [
      "INFO:tensorflow:Restoring parameters from brainlit/models/test_1/model.ckpt-10000\n"
     ]
    },
    {
     "name": "stdout",
     "output_type": "stream",
     "text": [
      "Keys: <KeysViewHDF5 ['raw']>\n",
      "current seg_id = 71...\n",
      "INFO:tensorflow:Restoring parameters from brainlit/models/test_1/model.ckpt-10000\n"
     ]
    },
    {
     "name": "stderr",
     "output_type": "stream",
     "text": [
      "INFO:tensorflow:Restoring parameters from brainlit/models/test_1/model.ckpt-10000\n"
     ]
    },
    {
     "name": "stdout",
     "output_type": "stream",
     "text": [
      "Keys: <KeysViewHDF5 ['raw']>\n",
      "current seg_id = 72...\n",
      "INFO:tensorflow:Restoring parameters from brainlit/models/test_1/model.ckpt-10000\n"
     ]
    },
    {
     "name": "stderr",
     "output_type": "stream",
     "text": [
      "INFO:tensorflow:Restoring parameters from brainlit/models/test_1/model.ckpt-10000\n"
     ]
    },
    {
     "name": "stdout",
     "output_type": "stream",
     "text": [
      "Keys: <KeysViewHDF5 ['raw']>\n",
      "current seg_id = 73...\n",
      "INFO:tensorflow:Restoring parameters from brainlit/models/test_1/model.ckpt-10000\n"
     ]
    },
    {
     "name": "stderr",
     "output_type": "stream",
     "text": [
      "INFO:tensorflow:Restoring parameters from brainlit/models/test_1/model.ckpt-10000\n"
     ]
    },
    {
     "name": "stdout",
     "output_type": "stream",
     "text": [
      "Keys: <KeysViewHDF5 ['raw']>\n",
      "current seg_id = 74...\n",
      "INFO:tensorflow:Restoring parameters from brainlit/models/test_1/model.ckpt-10000\n"
     ]
    },
    {
     "name": "stderr",
     "output_type": "stream",
     "text": [
      "INFO:tensorflow:Restoring parameters from brainlit/models/test_1/model.ckpt-10000\n"
     ]
    },
    {
     "name": "stdout",
     "output_type": "stream",
     "text": [
      "Keys: <KeysViewHDF5 ['raw']>\n",
      "current seg_id = 75...\n",
      "INFO:tensorflow:Restoring parameters from brainlit/models/test_1/model.ckpt-10000\n"
     ]
    },
    {
     "name": "stderr",
     "output_type": "stream",
     "text": [
      "INFO:tensorflow:Restoring parameters from brainlit/models/test_1/model.ckpt-10000\n"
     ]
    },
    {
     "name": "stdout",
     "output_type": "stream",
     "text": [
      "Keys: <KeysViewHDF5 ['raw']>\n",
      "current seg_id = 76...\n",
      "INFO:tensorflow:Restoring parameters from brainlit/models/test_1/model.ckpt-10000\n"
     ]
    },
    {
     "name": "stderr",
     "output_type": "stream",
     "text": [
      "INFO:tensorflow:Restoring parameters from brainlit/models/test_1/model.ckpt-10000\n"
     ]
    },
    {
     "name": "stdout",
     "output_type": "stream",
     "text": [
      "Keys: <KeysViewHDF5 ['raw']>\n",
      "current seg_id = 77...\n",
      "INFO:tensorflow:Restoring parameters from brainlit/models/test_1/model.ckpt-10000\n"
     ]
    },
    {
     "name": "stderr",
     "output_type": "stream",
     "text": [
      "INFO:tensorflow:Restoring parameters from brainlit/models/test_1/model.ckpt-10000\n"
     ]
    },
    {
     "name": "stdout",
     "output_type": "stream",
     "text": [
      "Keys: <KeysViewHDF5 ['raw']>\n",
      "current seg_id = 78...\n",
      "INFO:tensorflow:Restoring parameters from brainlit/models/test_1/model.ckpt-10000\n"
     ]
    },
    {
     "name": "stderr",
     "output_type": "stream",
     "text": [
      "INFO:tensorflow:Restoring parameters from brainlit/models/test_1/model.ckpt-10000\n"
     ]
    },
    {
     "name": "stdout",
     "output_type": "stream",
     "text": [
      "Keys: <KeysViewHDF5 ['raw']>\n",
      "current seg_id = 79...\n",
      "INFO:tensorflow:Restoring parameters from brainlit/models/test_1/model.ckpt-10000\n"
     ]
    },
    {
     "name": "stderr",
     "output_type": "stream",
     "text": [
      "INFO:tensorflow:Restoring parameters from brainlit/models/test_1/model.ckpt-10000\n"
     ]
    },
    {
     "name": "stdout",
     "output_type": "stream",
     "text": [
      "Keys: <KeysViewHDF5 ['raw']>\n",
      "current seg_id = 81...\n",
      "INFO:tensorflow:Restoring parameters from brainlit/models/test_1/model.ckpt-10000\n"
     ]
    },
    {
     "name": "stderr",
     "output_type": "stream",
     "text": [
      "INFO:tensorflow:Restoring parameters from brainlit/models/test_1/model.ckpt-10000\n"
     ]
    },
    {
     "name": "stdout",
     "output_type": "stream",
     "text": [
      "Keys: <KeysViewHDF5 ['raw']>\n",
      "current seg_id = 82...\n",
      "INFO:tensorflow:Restoring parameters from brainlit/models/test_1/model.ckpt-10000\n"
     ]
    },
    {
     "name": "stderr",
     "output_type": "stream",
     "text": [
      "INFO:tensorflow:Restoring parameters from brainlit/models/test_1/model.ckpt-10000\n"
     ]
    },
    {
     "name": "stdout",
     "output_type": "stream",
     "text": [
      "Keys: <KeysViewHDF5 ['raw']>\n",
      "current seg_id = 83...\n",
      "INFO:tensorflow:Restoring parameters from brainlit/models/test_1/model.ckpt-10000\n"
     ]
    },
    {
     "name": "stderr",
     "output_type": "stream",
     "text": [
      "INFO:tensorflow:Restoring parameters from brainlit/models/test_1/model.ckpt-10000\n"
     ]
    },
    {
     "name": "stdout",
     "output_type": "stream",
     "text": [
      "Keys: <KeysViewHDF5 ['raw']>\n",
      "current seg_id = 85...\n",
      "INFO:tensorflow:Restoring parameters from brainlit/models/test_1/model.ckpt-10000\n"
     ]
    },
    {
     "name": "stderr",
     "output_type": "stream",
     "text": [
      "INFO:tensorflow:Restoring parameters from brainlit/models/test_1/model.ckpt-10000\n"
     ]
    },
    {
     "name": "stdout",
     "output_type": "stream",
     "text": [
      "Keys: <KeysViewHDF5 ['raw']>\n",
      "current seg_id = 86...\n",
      "INFO:tensorflow:Restoring parameters from brainlit/models/test_1/model.ckpt-10000\n"
     ]
    },
    {
     "name": "stderr",
     "output_type": "stream",
     "text": [
      "INFO:tensorflow:Restoring parameters from brainlit/models/test_1/model.ckpt-10000\n"
     ]
    },
    {
     "name": "stdout",
     "output_type": "stream",
     "text": [
      "Keys: <KeysViewHDF5 ['raw']>\n",
      "current seg_id = 91...\n",
      "INFO:tensorflow:Restoring parameters from brainlit/models/test_1/model.ckpt-10000\n"
     ]
    },
    {
     "name": "stderr",
     "output_type": "stream",
     "text": [
      "INFO:tensorflow:Restoring parameters from brainlit/models/test_1/model.ckpt-10000\n"
     ]
    },
    {
     "name": "stdout",
     "output_type": "stream",
     "text": [
      "Keys: <KeysViewHDF5 ['raw']>\n",
      "current seg_id = 97...\n",
      "INFO:tensorflow:Restoring parameters from brainlit/models/test_1/model.ckpt-10000\n"
     ]
    },
    {
     "name": "stderr",
     "output_type": "stream",
     "text": [
      "INFO:tensorflow:Restoring parameters from brainlit/models/test_1/model.ckpt-10000\n"
     ]
    },
    {
     "name": "stdout",
     "output_type": "stream",
     "text": [
      "Keys: <KeysViewHDF5 ['raw']>\n",
      "current seg_id = 98...\n",
      "INFO:tensorflow:Restoring parameters from brainlit/models/test_1/model.ckpt-10000\n"
     ]
    },
    {
     "name": "stderr",
     "output_type": "stream",
     "text": [
      "INFO:tensorflow:Restoring parameters from brainlit/models/test_1/model.ckpt-10000\n"
     ]
    },
    {
     "name": "stdout",
     "output_type": "stream",
     "text": [
      "Keys: <KeysViewHDF5 ['raw']>\n",
      "current seg_id = 99...\n",
      "INFO:tensorflow:Restoring parameters from brainlit/models/test_1/model.ckpt-10000\n"
     ]
    },
    {
     "name": "stderr",
     "output_type": "stream",
     "text": [
      "INFO:tensorflow:Restoring parameters from brainlit/models/test_1/model.ckpt-10000\n"
     ]
    },
    {
     "name": "stdout",
     "output_type": "stream",
     "text": [
      "Keys: <KeysViewHDF5 ['raw']>\n",
      "current seg_id = 101...\n",
      "INFO:tensorflow:Restoring parameters from brainlit/models/test_1/model.ckpt-10000\n"
     ]
    },
    {
     "name": "stderr",
     "output_type": "stream",
     "text": [
      "INFO:tensorflow:Restoring parameters from brainlit/models/test_1/model.ckpt-10000\n"
     ]
    },
    {
     "name": "stdout",
     "output_type": "stream",
     "text": [
      "Keys: <KeysViewHDF5 ['raw']>\n",
      "current seg_id = 103...\n",
      "INFO:tensorflow:Restoring parameters from brainlit/models/test_1/model.ckpt-10000\n"
     ]
    },
    {
     "name": "stderr",
     "output_type": "stream",
     "text": [
      "INFO:tensorflow:Restoring parameters from brainlit/models/test_1/model.ckpt-10000\n"
     ]
    },
    {
     "name": "stdout",
     "output_type": "stream",
     "text": [
      "Keys: <KeysViewHDF5 ['raw']>\n",
      "current seg_id = 106...\n",
      "INFO:tensorflow:Restoring parameters from brainlit/models/test_1/model.ckpt-10000\n"
     ]
    },
    {
     "name": "stderr",
     "output_type": "stream",
     "text": [
      "INFO:tensorflow:Restoring parameters from brainlit/models/test_1/model.ckpt-10000\n"
     ]
    },
    {
     "name": "stdout",
     "output_type": "stream",
     "text": [
      "Keys: <KeysViewHDF5 ['raw']>\n",
      "current seg_id = 107...\n",
      "INFO:tensorflow:Restoring parameters from brainlit/models/test_1/model.ckpt-10000\n"
     ]
    },
    {
     "name": "stderr",
     "output_type": "stream",
     "text": [
      "INFO:tensorflow:Restoring parameters from brainlit/models/test_1/model.ckpt-10000\n"
     ]
    },
    {
     "name": "stdout",
     "output_type": "stream",
     "text": [
      "Keys: <KeysViewHDF5 ['raw']>\n",
      "current seg_id = 109...\n",
      "INFO:tensorflow:Restoring parameters from brainlit/models/test_1/model.ckpt-10000\n"
     ]
    },
    {
     "name": "stderr",
     "output_type": "stream",
     "text": [
      "INFO:tensorflow:Restoring parameters from brainlit/models/test_1/model.ckpt-10000\n"
     ]
    },
    {
     "name": "stdout",
     "output_type": "stream",
     "text": [
      "Keys: <KeysViewHDF5 ['raw']>\n",
      "current seg_id = 111...\n",
      "INFO:tensorflow:Restoring parameters from brainlit/models/test_1/model.ckpt-10000\n"
     ]
    },
    {
     "name": "stderr",
     "output_type": "stream",
     "text": [
      "INFO:tensorflow:Restoring parameters from brainlit/models/test_1/model.ckpt-10000\n"
     ]
    },
    {
     "name": "stdout",
     "output_type": "stream",
     "text": [
      "Keys: <KeysViewHDF5 ['raw']>\n",
      "current seg_id = 112...\n",
      "INFO:tensorflow:Restoring parameters from brainlit/models/test_1/model.ckpt-10000\n"
     ]
    },
    {
     "name": "stderr",
     "output_type": "stream",
     "text": [
      "INFO:tensorflow:Restoring parameters from brainlit/models/test_1/model.ckpt-10000\n"
     ]
    },
    {
     "name": "stdout",
     "output_type": "stream",
     "text": [
      "Keys: <KeysViewHDF5 ['raw']>\n",
      "current seg_id = 115...\n",
      "INFO:tensorflow:Restoring parameters from brainlit/models/test_1/model.ckpt-10000\n"
     ]
    },
    {
     "name": "stderr",
     "output_type": "stream",
     "text": [
      "INFO:tensorflow:Restoring parameters from brainlit/models/test_1/model.ckpt-10000\n"
     ]
    },
    {
     "name": "stdout",
     "output_type": "stream",
     "text": [
      "Keys: <KeysViewHDF5 ['raw']>\n",
      "current seg_id = 118...\n",
      "INFO:tensorflow:Restoring parameters from brainlit/models/test_1/model.ckpt-10000\n"
     ]
    },
    {
     "name": "stderr",
     "output_type": "stream",
     "text": [
      "INFO:tensorflow:Restoring parameters from brainlit/models/test_1/model.ckpt-10000\n"
     ]
    },
    {
     "name": "stdout",
     "output_type": "stream",
     "text": [
      "Keys: <KeysViewHDF5 ['raw']>\n",
      "current seg_id = 120...\n",
      "INFO:tensorflow:Restoring parameters from brainlit/models/test_1/model.ckpt-10000\n"
     ]
    },
    {
     "name": "stderr",
     "output_type": "stream",
     "text": [
      "INFO:tensorflow:Restoring parameters from brainlit/models/test_1/model.ckpt-10000\n"
     ]
    },
    {
     "name": "stdout",
     "output_type": "stream",
     "text": [
      "Keys: <KeysViewHDF5 ['raw']>\n",
      "current seg_id = 124...\n",
      "INFO:tensorflow:Restoring parameters from brainlit/models/test_1/model.ckpt-10000\n"
     ]
    },
    {
     "name": "stderr",
     "output_type": "stream",
     "text": [
      "INFO:tensorflow:Restoring parameters from brainlit/models/test_1/model.ckpt-10000\n"
     ]
    },
    {
     "name": "stdout",
     "output_type": "stream",
     "text": [
      "Keys: <KeysViewHDF5 ['raw']>\n",
      "current seg_id = 126...\n",
      "INFO:tensorflow:Restoring parameters from brainlit/models/test_1/model.ckpt-10000\n"
     ]
    },
    {
     "name": "stderr",
     "output_type": "stream",
     "text": [
      "INFO:tensorflow:Restoring parameters from brainlit/models/test_1/model.ckpt-10000\n"
     ]
    },
    {
     "name": "stdout",
     "output_type": "stream",
     "text": [
      "Keys: <KeysViewHDF5 ['raw']>\n",
      "current seg_id = 127...\n",
      "INFO:tensorflow:Restoring parameters from brainlit/models/test_1/model.ckpt-10000\n"
     ]
    },
    {
     "name": "stderr",
     "output_type": "stream",
     "text": [
      "INFO:tensorflow:Restoring parameters from brainlit/models/test_1/model.ckpt-10000\n"
     ]
    },
    {
     "name": "stdout",
     "output_type": "stream",
     "text": [
      "Keys: <KeysViewHDF5 ['raw']>\n",
      "current seg_id = 129...\n",
      "INFO:tensorflow:Restoring parameters from brainlit/models/test_1/model.ckpt-10000\n"
     ]
    },
    {
     "name": "stderr",
     "output_type": "stream",
     "text": [
      "INFO:tensorflow:Restoring parameters from brainlit/models/test_1/model.ckpt-10000\n"
     ]
    },
    {
     "name": "stdout",
     "output_type": "stream",
     "text": [
      "Keys: <KeysViewHDF5 ['raw']>\n",
      "current seg_id = 132...\n",
      "INFO:tensorflow:Restoring parameters from brainlit/models/test_1/model.ckpt-10000\n"
     ]
    },
    {
     "name": "stderr",
     "output_type": "stream",
     "text": [
      "INFO:tensorflow:Restoring parameters from brainlit/models/test_1/model.ckpt-10000\n"
     ]
    },
    {
     "name": "stdout",
     "output_type": "stream",
     "text": [
      "Keys: <KeysViewHDF5 ['raw']>\n",
      "current seg_id = 133...\n",
      "INFO:tensorflow:Restoring parameters from brainlit/models/test_1/model.ckpt-10000\n"
     ]
    },
    {
     "name": "stderr",
     "output_type": "stream",
     "text": [
      "INFO:tensorflow:Restoring parameters from brainlit/models/test_1/model.ckpt-10000\n"
     ]
    },
    {
     "name": "stdout",
     "output_type": "stream",
     "text": [
      "Keys: <KeysViewHDF5 ['raw']>\n",
      "current seg_id = 136...\n",
      "INFO:tensorflow:Restoring parameters from brainlit/models/test_1/model.ckpt-10000\n"
     ]
    },
    {
     "name": "stderr",
     "output_type": "stream",
     "text": [
      "INFO:tensorflow:Restoring parameters from brainlit/models/test_1/model.ckpt-10000\n"
     ]
    },
    {
     "name": "stdout",
     "output_type": "stream",
     "text": [
      "Keys: <KeysViewHDF5 ['raw']>\n",
      "current seg_id = 137...\n",
      "INFO:tensorflow:Restoring parameters from brainlit/models/test_1/model.ckpt-10000\n"
     ]
    },
    {
     "name": "stderr",
     "output_type": "stream",
     "text": [
      "INFO:tensorflow:Restoring parameters from brainlit/models/test_1/model.ckpt-10000\n"
     ]
    },
    {
     "name": "stdout",
     "output_type": "stream",
     "text": [
      "Keys: <KeysViewHDF5 ['raw']>\n",
      "current seg_id = 140...\n",
      "INFO:tensorflow:Restoring parameters from brainlit/models/test_1/model.ckpt-10000\n"
     ]
    },
    {
     "name": "stderr",
     "output_type": "stream",
     "text": [
      "INFO:tensorflow:Restoring parameters from brainlit/models/test_1/model.ckpt-10000\n"
     ]
    },
    {
     "name": "stdout",
     "output_type": "stream",
     "text": [
      "Keys: <KeysViewHDF5 ['raw']>\n",
      "current seg_id = 141...\n",
      "INFO:tensorflow:Restoring parameters from brainlit/models/test_1/model.ckpt-10000\n"
     ]
    },
    {
     "name": "stderr",
     "output_type": "stream",
     "text": [
      "INFO:tensorflow:Restoring parameters from brainlit/models/test_1/model.ckpt-10000\n"
     ]
    },
    {
     "name": "stdout",
     "output_type": "stream",
     "text": [
      "Keys: <KeysViewHDF5 ['raw']>\n",
      "current seg_id = 142...\n",
      "INFO:tensorflow:Restoring parameters from brainlit/models/test_1/model.ckpt-10000\n"
     ]
    },
    {
     "name": "stderr",
     "output_type": "stream",
     "text": [
      "INFO:tensorflow:Restoring parameters from brainlit/models/test_1/model.ckpt-10000\n"
     ]
    },
    {
     "name": "stdout",
     "output_type": "stream",
     "text": [
      "Keys: <KeysViewHDF5 ['raw']>\n",
      "current seg_id = 143...\n",
      "INFO:tensorflow:Restoring parameters from brainlit/models/test_1/model.ckpt-10000\n"
     ]
    },
    {
     "name": "stderr",
     "output_type": "stream",
     "text": [
      "INFO:tensorflow:Restoring parameters from brainlit/models/test_1/model.ckpt-10000\n"
     ]
    },
    {
     "name": "stdout",
     "output_type": "stream",
     "text": [
      "Keys: <KeysViewHDF5 ['raw']>\n",
      "current seg_id = 144...\n",
      "INFO:tensorflow:Restoring parameters from brainlit/models/test_1/model.ckpt-10000\n"
     ]
    },
    {
     "name": "stderr",
     "output_type": "stream",
     "text": [
      "INFO:tensorflow:Restoring parameters from brainlit/models/test_1/model.ckpt-10000\n"
     ]
    },
    {
     "name": "stdout",
     "output_type": "stream",
     "text": [
      "Keys: <KeysViewHDF5 ['raw']>\n",
      "current seg_id = 145...\n",
      "INFO:tensorflow:Restoring parameters from brainlit/models/test_1/model.ckpt-10000\n"
     ]
    },
    {
     "name": "stderr",
     "output_type": "stream",
     "text": [
      "INFO:tensorflow:Restoring parameters from brainlit/models/test_1/model.ckpt-10000\n"
     ]
    },
    {
     "name": "stdout",
     "output_type": "stream",
     "text": [
      "Keys: <KeysViewHDF5 ['raw']>\n",
      "current seg_id = 146...\n",
      "INFO:tensorflow:Restoring parameters from brainlit/models/test_1/model.ckpt-10000\n"
     ]
    },
    {
     "name": "stderr",
     "output_type": "stream",
     "text": [
      "INFO:tensorflow:Restoring parameters from brainlit/models/test_1/model.ckpt-10000\n"
     ]
    },
    {
     "name": "stdout",
     "output_type": "stream",
     "text": [
      "Keys: <KeysViewHDF5 ['raw']>\n",
      "current seg_id = 147...\n",
      "INFO:tensorflow:Restoring parameters from brainlit/models/test_1/model.ckpt-10000\n"
     ]
    },
    {
     "name": "stderr",
     "output_type": "stream",
     "text": [
      "INFO:tensorflow:Restoring parameters from brainlit/models/test_1/model.ckpt-10000\n"
     ]
    },
    {
     "name": "stdout",
     "output_type": "stream",
     "text": [
      "Keys: <KeysViewHDF5 ['raw']>\n",
      "current seg_id = 149...\n",
      "INFO:tensorflow:Restoring parameters from brainlit/models/test_1/model.ckpt-10000\n"
     ]
    },
    {
     "name": "stderr",
     "output_type": "stream",
     "text": [
      "INFO:tensorflow:Restoring parameters from brainlit/models/test_1/model.ckpt-10000\n"
     ]
    },
    {
     "name": "stdout",
     "output_type": "stream",
     "text": [
      "Keys: <KeysViewHDF5 ['raw']>\n",
      "current seg_id = 150...\n",
      "INFO:tensorflow:Restoring parameters from brainlit/models/test_1/model.ckpt-10000\n"
     ]
    },
    {
     "name": "stderr",
     "output_type": "stream",
     "text": [
      "INFO:tensorflow:Restoring parameters from brainlit/models/test_1/model.ckpt-10000\n"
     ]
    },
    {
     "name": "stdout",
     "output_type": "stream",
     "text": [
      "Keys: <KeysViewHDF5 ['raw']>\n",
      "current seg_id = 151...\n",
      "INFO:tensorflow:Restoring parameters from brainlit/models/test_1/model.ckpt-10000\n"
     ]
    },
    {
     "name": "stderr",
     "output_type": "stream",
     "text": [
      "INFO:tensorflow:Restoring parameters from brainlit/models/test_1/model.ckpt-10000\n"
     ]
    },
    {
     "name": "stdout",
     "output_type": "stream",
     "text": [
      "Keys: <KeysViewHDF5 ['raw']>\n",
      "current seg_id = 152...\n",
      "INFO:tensorflow:Restoring parameters from brainlit/models/test_1/model.ckpt-10000\n"
     ]
    },
    {
     "name": "stderr",
     "output_type": "stream",
     "text": [
      "INFO:tensorflow:Restoring parameters from brainlit/models/test_1/model.ckpt-10000\n"
     ]
    },
    {
     "name": "stdout",
     "output_type": "stream",
     "text": [
      "Keys: <KeysViewHDF5 ['raw']>\n",
      "current seg_id = 153...\n",
      "INFO:tensorflow:Restoring parameters from brainlit/models/test_1/model.ckpt-10000\n"
     ]
    },
    {
     "name": "stderr",
     "output_type": "stream",
     "text": [
      "INFO:tensorflow:Restoring parameters from brainlit/models/test_1/model.ckpt-10000\n"
     ]
    },
    {
     "name": "stdout",
     "output_type": "stream",
     "text": [
      "Keys: <KeysViewHDF5 ['raw']>\n",
      "current seg_id = 154...\n",
      "INFO:tensorflow:Restoring parameters from brainlit/models/test_1/model.ckpt-10000\n"
     ]
    },
    {
     "name": "stderr",
     "output_type": "stream",
     "text": [
      "INFO:tensorflow:Restoring parameters from brainlit/models/test_1/model.ckpt-10000\n"
     ]
    },
    {
     "name": "stdout",
     "output_type": "stream",
     "text": [
      "Keys: <KeysViewHDF5 ['raw']>\n",
      "current seg_id = 155...\n",
      "INFO:tensorflow:Restoring parameters from brainlit/models/test_1/model.ckpt-10000\n"
     ]
    },
    {
     "name": "stderr",
     "output_type": "stream",
     "text": [
      "INFO:tensorflow:Restoring parameters from brainlit/models/test_1/model.ckpt-10000\n"
     ]
    },
    {
     "name": "stdout",
     "output_type": "stream",
     "text": [
      "Keys: <KeysViewHDF5 ['raw']>\n",
      "current seg_id = 156...\n",
      "INFO:tensorflow:Restoring parameters from brainlit/models/test_1/model.ckpt-10000\n"
     ]
    },
    {
     "name": "stderr",
     "output_type": "stream",
     "text": [
      "INFO:tensorflow:Restoring parameters from brainlit/models/test_1/model.ckpt-10000\n"
     ]
    },
    {
     "name": "stdout",
     "output_type": "stream",
     "text": [
      "Keys: <KeysViewHDF5 ['raw']>\n",
      "current seg_id = 157...\n",
      "INFO:tensorflow:Restoring parameters from brainlit/models/test_1/model.ckpt-10000\n"
     ]
    },
    {
     "name": "stderr",
     "output_type": "stream",
     "text": [
      "INFO:tensorflow:Restoring parameters from brainlit/models/test_1/model.ckpt-10000\n"
     ]
    },
    {
     "name": "stdout",
     "output_type": "stream",
     "text": [
      "Keys: <KeysViewHDF5 ['raw']>\n",
      "current seg_id = 158...\n",
      "INFO:tensorflow:Restoring parameters from brainlit/models/test_1/model.ckpt-10000\n"
     ]
    },
    {
     "name": "stderr",
     "output_type": "stream",
     "text": [
      "INFO:tensorflow:Restoring parameters from brainlit/models/test_1/model.ckpt-10000\n"
     ]
    },
    {
     "name": "stdout",
     "output_type": "stream",
     "text": [
      "Keys: <KeysViewHDF5 ['raw']>\n",
      "current seg_id = 159...\n",
      "INFO:tensorflow:Restoring parameters from brainlit/models/test_1/model.ckpt-10000\n"
     ]
    },
    {
     "name": "stderr",
     "output_type": "stream",
     "text": [
      "INFO:tensorflow:Restoring parameters from brainlit/models/test_1/model.ckpt-10000\n"
     ]
    },
    {
     "name": "stdout",
     "output_type": "stream",
     "text": [
      "Keys: <KeysViewHDF5 ['raw']>\n",
      "current seg_id = 160...\n",
      "INFO:tensorflow:Restoring parameters from brainlit/models/test_1/model.ckpt-10000\n"
     ]
    },
    {
     "name": "stderr",
     "output_type": "stream",
     "text": [
      "INFO:tensorflow:Restoring parameters from brainlit/models/test_1/model.ckpt-10000\n"
     ]
    },
    {
     "name": "stdout",
     "output_type": "stream",
     "text": [
      "Keys: <KeysViewHDF5 ['raw']>\n",
      "current seg_id = 161...\n",
      "INFO:tensorflow:Restoring parameters from brainlit/models/test_1/model.ckpt-10000\n"
     ]
    },
    {
     "name": "stderr",
     "output_type": "stream",
     "text": [
      "INFO:tensorflow:Restoring parameters from brainlit/models/test_1/model.ckpt-10000\n"
     ]
    },
    {
     "name": "stdout",
     "output_type": "stream",
     "text": [
      "Keys: <KeysViewHDF5 ['raw']>\n",
      "current seg_id = 162...\n",
      "INFO:tensorflow:Restoring parameters from brainlit/models/test_1/model.ckpt-10000\n"
     ]
    },
    {
     "name": "stderr",
     "output_type": "stream",
     "text": [
      "INFO:tensorflow:Restoring parameters from brainlit/models/test_1/model.ckpt-10000\n"
     ]
    },
    {
     "name": "stdout",
     "output_type": "stream",
     "text": [
      "Keys: <KeysViewHDF5 ['raw']>\n",
      "current seg_id = 163...\n",
      "INFO:tensorflow:Restoring parameters from brainlit/models/test_1/model.ckpt-10000\n"
     ]
    },
    {
     "name": "stderr",
     "output_type": "stream",
     "text": [
      "INFO:tensorflow:Restoring parameters from brainlit/models/test_1/model.ckpt-10000\n"
     ]
    },
    {
     "name": "stdout",
     "output_type": "stream",
     "text": [
      "Keys: <KeysViewHDF5 ['raw']>\n",
      "current seg_id = 164...\n",
      "INFO:tensorflow:Restoring parameters from brainlit/models/test_1/model.ckpt-10000\n"
     ]
    },
    {
     "name": "stderr",
     "output_type": "stream",
     "text": [
      "INFO:tensorflow:Restoring parameters from brainlit/models/test_1/model.ckpt-10000\n"
     ]
    },
    {
     "name": "stdout",
     "output_type": "stream",
     "text": [
      "Keys: <KeysViewHDF5 ['raw']>\n",
      "current seg_id = 165...\n",
      "INFO:tensorflow:Restoring parameters from brainlit/models/test_1/model.ckpt-10000\n"
     ]
    },
    {
     "name": "stderr",
     "output_type": "stream",
     "text": [
      "INFO:tensorflow:Restoring parameters from brainlit/models/test_1/model.ckpt-10000\n"
     ]
    },
    {
     "name": "stdout",
     "output_type": "stream",
     "text": [
      "Keys: <KeysViewHDF5 ['raw']>\n",
      "current seg_id = 166...\n",
      "INFO:tensorflow:Restoring parameters from brainlit/models/test_1/model.ckpt-10000\n"
     ]
    },
    {
     "name": "stderr",
     "output_type": "stream",
     "text": [
      "INFO:tensorflow:Restoring parameters from brainlit/models/test_1/model.ckpt-10000\n"
     ]
    },
    {
     "name": "stdout",
     "output_type": "stream",
     "text": [
      "Keys: <KeysViewHDF5 ['raw']>\n",
      "current seg_id = 167...\n",
      "INFO:tensorflow:Restoring parameters from brainlit/models/test_1/model.ckpt-10000\n"
     ]
    },
    {
     "name": "stderr",
     "output_type": "stream",
     "text": [
      "INFO:tensorflow:Restoring parameters from brainlit/models/test_1/model.ckpt-10000\n"
     ]
    },
    {
     "name": "stdout",
     "output_type": "stream",
     "text": [
      "Keys: <KeysViewHDF5 ['raw']>\n",
      "current seg_id = 169...\n",
      "INFO:tensorflow:Restoring parameters from brainlit/models/test_1/model.ckpt-10000\n"
     ]
    },
    {
     "name": "stderr",
     "output_type": "stream",
     "text": [
      "INFO:tensorflow:Restoring parameters from brainlit/models/test_1/model.ckpt-10000\n"
     ]
    },
    {
     "name": "stdout",
     "output_type": "stream",
     "text": [
      "Keys: <KeysViewHDF5 ['raw']>\n",
      "current seg_id = 170...\n",
      "INFO:tensorflow:Restoring parameters from brainlit/models/test_1/model.ckpt-10000\n"
     ]
    },
    {
     "name": "stderr",
     "output_type": "stream",
     "text": [
      "INFO:tensorflow:Restoring parameters from brainlit/models/test_1/model.ckpt-10000\n"
     ]
    },
    {
     "name": "stdout",
     "output_type": "stream",
     "text": [
      "Keys: <KeysViewHDF5 ['raw']>\n",
      "current seg_id = 171...\n",
      "INFO:tensorflow:Restoring parameters from brainlit/models/test_1/model.ckpt-10000\n"
     ]
    },
    {
     "name": "stderr",
     "output_type": "stream",
     "text": [
      "INFO:tensorflow:Restoring parameters from brainlit/models/test_1/model.ckpt-10000\n"
     ]
    },
    {
     "name": "stdout",
     "output_type": "stream",
     "text": [
      "Keys: <KeysViewHDF5 ['raw']>\n",
      "current seg_id = 172...\n",
      "INFO:tensorflow:Restoring parameters from brainlit/models/test_1/model.ckpt-10000\n"
     ]
    },
    {
     "name": "stderr",
     "output_type": "stream",
     "text": [
      "INFO:tensorflow:Restoring parameters from brainlit/models/test_1/model.ckpt-10000\n"
     ]
    },
    {
     "name": "stdout",
     "output_type": "stream",
     "text": [
      "Keys: <KeysViewHDF5 ['raw']>\n",
      "current seg_id = 173...\n",
      "INFO:tensorflow:Restoring parameters from brainlit/models/test_1/model.ckpt-10000\n"
     ]
    },
    {
     "name": "stderr",
     "output_type": "stream",
     "text": [
      "INFO:tensorflow:Restoring parameters from brainlit/models/test_1/model.ckpt-10000\n"
     ]
    },
    {
     "name": "stdout",
     "output_type": "stream",
     "text": [
      "Keys: <KeysViewHDF5 ['raw']>\n",
      "current seg_id = 174...\n",
      "INFO:tensorflow:Restoring parameters from brainlit/models/test_1/model.ckpt-10000\n"
     ]
    },
    {
     "name": "stderr",
     "output_type": "stream",
     "text": [
      "INFO:tensorflow:Restoring parameters from brainlit/models/test_1/model.ckpt-10000\n"
     ]
    },
    {
     "name": "stdout",
     "output_type": "stream",
     "text": [
      "Keys: <KeysViewHDF5 ['raw']>\n",
      "current seg_id = 175...\n",
      "INFO:tensorflow:Restoring parameters from brainlit/models/test_1/model.ckpt-10000\n"
     ]
    },
    {
     "name": "stderr",
     "output_type": "stream",
     "text": [
      "INFO:tensorflow:Restoring parameters from brainlit/models/test_1/model.ckpt-10000\n"
     ]
    },
    {
     "name": "stdout",
     "output_type": "stream",
     "text": [
      "Keys: <KeysViewHDF5 ['raw']>\n",
      "current seg_id = 176...\n",
      "INFO:tensorflow:Restoring parameters from brainlit/models/test_1/model.ckpt-10000\n"
     ]
    },
    {
     "name": "stderr",
     "output_type": "stream",
     "text": [
      "INFO:tensorflow:Restoring parameters from brainlit/models/test_1/model.ckpt-10000\n"
     ]
    },
    {
     "name": "stdout",
     "output_type": "stream",
     "text": [
      "Keys: <KeysViewHDF5 ['raw']>\n",
      "current seg_id = 177...\n",
      "INFO:tensorflow:Restoring parameters from brainlit/models/test_1/model.ckpt-10000\n"
     ]
    },
    {
     "name": "stderr",
     "output_type": "stream",
     "text": [
      "INFO:tensorflow:Restoring parameters from brainlit/models/test_1/model.ckpt-10000\n"
     ]
    },
    {
     "name": "stdout",
     "output_type": "stream",
     "text": [
      "Keys: <KeysViewHDF5 ['raw']>\n",
      "current seg_id = 178...\n",
      "INFO:tensorflow:Restoring parameters from brainlit/models/test_1/model.ckpt-10000\n"
     ]
    },
    {
     "name": "stderr",
     "output_type": "stream",
     "text": [
      "INFO:tensorflow:Restoring parameters from brainlit/models/test_1/model.ckpt-10000\n"
     ]
    },
    {
     "name": "stdout",
     "output_type": "stream",
     "text": [
      "Keys: <KeysViewHDF5 ['raw']>\n",
      "current seg_id = 179...\n",
      "INFO:tensorflow:Restoring parameters from brainlit/models/test_1/model.ckpt-10000\n"
     ]
    },
    {
     "name": "stderr",
     "output_type": "stream",
     "text": [
      "INFO:tensorflow:Restoring parameters from brainlit/models/test_1/model.ckpt-10000\n"
     ]
    },
    {
     "name": "stdout",
     "output_type": "stream",
     "text": [
      "Keys: <KeysViewHDF5 ['raw']>\n",
      "current seg_id = 180...\n",
      "INFO:tensorflow:Restoring parameters from brainlit/models/test_1/model.ckpt-10000\n"
     ]
    },
    {
     "name": "stderr",
     "output_type": "stream",
     "text": [
      "INFO:tensorflow:Restoring parameters from brainlit/models/test_1/model.ckpt-10000\n"
     ]
    },
    {
     "name": "stdout",
     "output_type": "stream",
     "text": [
      "Keys: <KeysViewHDF5 ['raw']>\n",
      "current seg_id = 181...\n",
      "INFO:tensorflow:Restoring parameters from brainlit/models/test_1/model.ckpt-10000\n"
     ]
    },
    {
     "name": "stderr",
     "output_type": "stream",
     "text": [
      "INFO:tensorflow:Restoring parameters from brainlit/models/test_1/model.ckpt-10000\n"
     ]
    },
    {
     "name": "stdout",
     "output_type": "stream",
     "text": [
      "Keys: <KeysViewHDF5 ['raw']>\n",
      "current seg_id = 182...\n",
      "INFO:tensorflow:Restoring parameters from brainlit/models/test_1/model.ckpt-10000\n"
     ]
    },
    {
     "name": "stderr",
     "output_type": "stream",
     "text": [
      "INFO:tensorflow:Restoring parameters from brainlit/models/test_1/model.ckpt-10000\n"
     ]
    },
    {
     "name": "stdout",
     "output_type": "stream",
     "text": [
      "Keys: <KeysViewHDF5 ['raw']>\n",
      "current seg_id = 183...\n",
      "INFO:tensorflow:Restoring parameters from brainlit/models/test_1/model.ckpt-10000\n"
     ]
    },
    {
     "name": "stderr",
     "output_type": "stream",
     "text": [
      "INFO:tensorflow:Restoring parameters from brainlit/models/test_1/model.ckpt-10000\n"
     ]
    },
    {
     "name": "stdout",
     "output_type": "stream",
     "text": [
      "Keys: <KeysViewHDF5 ['raw']>\n",
      "current seg_id = 184...\n",
      "INFO:tensorflow:Restoring parameters from brainlit/models/test_1/model.ckpt-10000\n"
     ]
    },
    {
     "name": "stderr",
     "output_type": "stream",
     "text": [
      "INFO:tensorflow:Restoring parameters from brainlit/models/test_1/model.ckpt-10000\n"
     ]
    },
    {
     "name": "stdout",
     "output_type": "stream",
     "text": [
      "Keys: <KeysViewHDF5 ['raw']>\n",
      "current seg_id = 185...\n",
      "INFO:tensorflow:Restoring parameters from brainlit/models/test_1/model.ckpt-10000\n"
     ]
    },
    {
     "name": "stderr",
     "output_type": "stream",
     "text": [
      "INFO:tensorflow:Restoring parameters from brainlit/models/test_1/model.ckpt-10000\n"
     ]
    },
    {
     "name": "stdout",
     "output_type": "stream",
     "text": [
      "Keys: <KeysViewHDF5 ['raw']>\n",
      "current seg_id = 186...\n",
      "INFO:tensorflow:Restoring parameters from brainlit/models/test_1/model.ckpt-10000\n"
     ]
    },
    {
     "name": "stderr",
     "output_type": "stream",
     "text": [
      "INFO:tensorflow:Restoring parameters from brainlit/models/test_1/model.ckpt-10000\n"
     ]
    },
    {
     "name": "stdout",
     "output_type": "stream",
     "text": [
      "Keys: <KeysViewHDF5 ['raw']>\n",
      "current seg_id = 187...\n",
      "INFO:tensorflow:Restoring parameters from brainlit/models/test_1/model.ckpt-10000\n"
     ]
    },
    {
     "name": "stderr",
     "output_type": "stream",
     "text": [
      "INFO:tensorflow:Restoring parameters from brainlit/models/test_1/model.ckpt-10000\n"
     ]
    },
    {
     "name": "stdout",
     "output_type": "stream",
     "text": [
      "Keys: <KeysViewHDF5 ['raw']>\n",
      "current seg_id = 188...\n",
      "INFO:tensorflow:Restoring parameters from brainlit/models/test_1/model.ckpt-10000\n"
     ]
    },
    {
     "name": "stderr",
     "output_type": "stream",
     "text": [
      "INFO:tensorflow:Restoring parameters from brainlit/models/test_1/model.ckpt-10000\n"
     ]
    },
    {
     "name": "stdout",
     "output_type": "stream",
     "text": [
      "Keys: <KeysViewHDF5 ['raw']>\n",
      "current seg_id = 189...\n",
      "INFO:tensorflow:Restoring parameters from brainlit/models/test_1/model.ckpt-10000\n"
     ]
    },
    {
     "name": "stderr",
     "output_type": "stream",
     "text": [
      "INFO:tensorflow:Restoring parameters from brainlit/models/test_1/model.ckpt-10000\n"
     ]
    },
    {
     "name": "stdout",
     "output_type": "stream",
     "text": [
      "Keys: <KeysViewHDF5 ['raw']>\n",
      "current seg_id = 190...\n",
      "INFO:tensorflow:Restoring parameters from brainlit/models/test_1/model.ckpt-10000\n"
     ]
    },
    {
     "name": "stderr",
     "output_type": "stream",
     "text": [
      "INFO:tensorflow:Restoring parameters from brainlit/models/test_1/model.ckpt-10000\n"
     ]
    },
    {
     "name": "stdout",
     "output_type": "stream",
     "text": [
      "Keys: <KeysViewHDF5 ['raw']>\n",
      "current seg_id = 192...\n",
      "INFO:tensorflow:Restoring parameters from brainlit/models/test_1/model.ckpt-10000\n"
     ]
    },
    {
     "name": "stderr",
     "output_type": "stream",
     "text": [
      "INFO:tensorflow:Restoring parameters from brainlit/models/test_1/model.ckpt-10000\n"
     ]
    },
    {
     "name": "stdout",
     "output_type": "stream",
     "text": [
      "Keys: <KeysViewHDF5 ['raw']>\n",
      "current seg_id = 193...\n",
      "INFO:tensorflow:Restoring parameters from brainlit/models/test_1/model.ckpt-10000\n"
     ]
    },
    {
     "name": "stderr",
     "output_type": "stream",
     "text": [
      "INFO:tensorflow:Restoring parameters from brainlit/models/test_1/model.ckpt-10000\n"
     ]
    },
    {
     "name": "stdout",
     "output_type": "stream",
     "text": [
      "Keys: <KeysViewHDF5 ['raw']>\n",
      "current seg_id = 194...\n",
      "INFO:tensorflow:Restoring parameters from brainlit/models/test_1/model.ckpt-10000\n"
     ]
    },
    {
     "name": "stderr",
     "output_type": "stream",
     "text": [
      "INFO:tensorflow:Restoring parameters from brainlit/models/test_1/model.ckpt-10000\n"
     ]
    },
    {
     "name": "stdout",
     "output_type": "stream",
     "text": [
      "Keys: <KeysViewHDF5 ['raw']>\n",
      "current seg_id = 195...\n",
      "INFO:tensorflow:Restoring parameters from brainlit/models/test_1/model.ckpt-10000\n"
     ]
    },
    {
     "name": "stderr",
     "output_type": "stream",
     "text": [
      "INFO:tensorflow:Restoring parameters from brainlit/models/test_1/model.ckpt-10000\n"
     ]
    },
    {
     "name": "stdout",
     "output_type": "stream",
     "text": [
      "Keys: <KeysViewHDF5 ['raw']>\n",
      "current seg_id = 196...\n",
      "INFO:tensorflow:Restoring parameters from brainlit/models/test_1/model.ckpt-10000\n"
     ]
    },
    {
     "name": "stderr",
     "output_type": "stream",
     "text": [
      "INFO:tensorflow:Restoring parameters from brainlit/models/test_1/model.ckpt-10000\n"
     ]
    },
    {
     "name": "stdout",
     "output_type": "stream",
     "text": [
      "Keys: <KeysViewHDF5 ['raw']>\n",
      "current seg_id = 197...\n",
      "INFO:tensorflow:Restoring parameters from brainlit/models/test_1/model.ckpt-10000\n"
     ]
    },
    {
     "name": "stderr",
     "output_type": "stream",
     "text": [
      "INFO:tensorflow:Restoring parameters from brainlit/models/test_1/model.ckpt-10000\n"
     ]
    },
    {
     "name": "stdout",
     "output_type": "stream",
     "text": [
      "Keys: <KeysViewHDF5 ['raw']>\n",
      "current seg_id = 198...\n",
      "INFO:tensorflow:Restoring parameters from brainlit/models/test_1/model.ckpt-10000\n"
     ]
    },
    {
     "name": "stderr",
     "output_type": "stream",
     "text": [
      "INFO:tensorflow:Restoring parameters from brainlit/models/test_1/model.ckpt-10000\n"
     ]
    },
    {
     "name": "stdout",
     "output_type": "stream",
     "text": [
      "Keys: <KeysViewHDF5 ['raw']>\n",
      "current seg_id = 199...\n",
      "INFO:tensorflow:Restoring parameters from brainlit/models/test_1/model.ckpt-10000\n"
     ]
    },
    {
     "name": "stderr",
     "output_type": "stream",
     "text": [
      "INFO:tensorflow:Restoring parameters from brainlit/models/test_1/model.ckpt-10000\n"
     ]
    },
    {
     "name": "stdout",
     "output_type": "stream",
     "text": [
      "Keys: <KeysViewHDF5 ['raw']>\n",
      "current seg_id = 200...\n",
      "INFO:tensorflow:Restoring parameters from brainlit/models/test_1/model.ckpt-10000\n"
     ]
    },
    {
     "name": "stderr",
     "output_type": "stream",
     "text": [
      "INFO:tensorflow:Restoring parameters from brainlit/models/test_1/model.ckpt-10000\n"
     ]
    },
    {
     "name": "stdout",
     "output_type": "stream",
     "text": [
      "Keys: <KeysViewHDF5 ['raw']>\n",
      "current seg_id = 201...\n",
      "INFO:tensorflow:Restoring parameters from brainlit/models/test_1/model.ckpt-10000\n"
     ]
    },
    {
     "name": "stderr",
     "output_type": "stream",
     "text": [
      "INFO:tensorflow:Restoring parameters from brainlit/models/test_1/model.ckpt-10000\n"
     ]
    },
    {
     "name": "stdout",
     "output_type": "stream",
     "text": [
      "Keys: <KeysViewHDF5 ['raw']>\n",
      "current seg_id = 202...\n",
      "INFO:tensorflow:Restoring parameters from brainlit/models/test_1/model.ckpt-10000\n"
     ]
    },
    {
     "name": "stderr",
     "output_type": "stream",
     "text": [
      "INFO:tensorflow:Restoring parameters from brainlit/models/test_1/model.ckpt-10000\n"
     ]
    },
    {
     "name": "stdout",
     "output_type": "stream",
     "text": [
      "Keys: <KeysViewHDF5 ['raw']>\n",
      "current seg_id = 205...\n",
      "INFO:tensorflow:Restoring parameters from brainlit/models/test_1/model.ckpt-10000\n"
     ]
    },
    {
     "name": "stderr",
     "output_type": "stream",
     "text": [
      "INFO:tensorflow:Restoring parameters from brainlit/models/test_1/model.ckpt-10000\n"
     ]
    },
    {
     "name": "stdout",
     "output_type": "stream",
     "text": [
      "Keys: <KeysViewHDF5 ['raw']>\n",
      "current seg_id = 207...\n",
      "INFO:tensorflow:Restoring parameters from brainlit/models/test_1/model.ckpt-10000\n"
     ]
    },
    {
     "name": "stderr",
     "output_type": "stream",
     "text": [
      "INFO:tensorflow:Restoring parameters from brainlit/models/test_1/model.ckpt-10000\n"
     ]
    },
    {
     "name": "stdout",
     "output_type": "stream",
     "text": [
      "Keys: <KeysViewHDF5 ['raw']>\n",
      "current seg_id = 208...\n",
      "INFO:tensorflow:Restoring parameters from brainlit/models/test_1/model.ckpt-10000\n"
     ]
    },
    {
     "name": "stderr",
     "output_type": "stream",
     "text": [
      "INFO:tensorflow:Restoring parameters from brainlit/models/test_1/model.ckpt-10000\n"
     ]
    },
    {
     "name": "stdout",
     "output_type": "stream",
     "text": [
      "Keys: <KeysViewHDF5 ['raw']>\n",
      "current seg_id = 214...\n",
      "INFO:tensorflow:Restoring parameters from brainlit/models/test_1/model.ckpt-10000\n"
     ]
    },
    {
     "name": "stderr",
     "output_type": "stream",
     "text": [
      "INFO:tensorflow:Restoring parameters from brainlit/models/test_1/model.ckpt-10000\n"
     ]
    },
    {
     "name": "stdout",
     "output_type": "stream",
     "text": [
      "Keys: <KeysViewHDF5 ['raw']>\n",
      "current seg_id = 223...\n",
      "INFO:tensorflow:Restoring parameters from brainlit/models/test_1/model.ckpt-10000\n"
     ]
    },
    {
     "name": "stderr",
     "output_type": "stream",
     "text": [
      "INFO:tensorflow:Restoring parameters from brainlit/models/test_1/model.ckpt-10000\n"
     ]
    },
    {
     "name": "stdout",
     "output_type": "stream",
     "text": [
      "Keys: <KeysViewHDF5 ['raw']>\n",
      "current seg_id = 224...\n",
      "INFO:tensorflow:Restoring parameters from brainlit/models/test_1/model.ckpt-10000\n"
     ]
    },
    {
     "name": "stderr",
     "output_type": "stream",
     "text": [
      "INFO:tensorflow:Restoring parameters from brainlit/models/test_1/model.ckpt-10000\n"
     ]
    },
    {
     "name": "stdout",
     "output_type": "stream",
     "text": [
      "Keys: <KeysViewHDF5 ['raw']>\n",
      "current seg_id = 225...\n",
      "INFO:tensorflow:Restoring parameters from brainlit/models/test_1/model.ckpt-10000\n"
     ]
    },
    {
     "name": "stderr",
     "output_type": "stream",
     "text": [
      "INFO:tensorflow:Restoring parameters from brainlit/models/test_1/model.ckpt-10000\n"
     ]
    },
    {
     "name": "stdout",
     "output_type": "stream",
     "text": [
      "Keys: <KeysViewHDF5 ['raw']>\n",
      "current seg_id = 227...\n",
      "INFO:tensorflow:Restoring parameters from brainlit/models/test_1/model.ckpt-10000\n"
     ]
    },
    {
     "name": "stderr",
     "output_type": "stream",
     "text": [
      "INFO:tensorflow:Restoring parameters from brainlit/models/test_1/model.ckpt-10000\n"
     ]
    },
    {
     "name": "stdout",
     "output_type": "stream",
     "text": [
      "Keys: <KeysViewHDF5 ['raw']>\n",
      "current seg_id = 228...\n",
      "INFO:tensorflow:Restoring parameters from brainlit/models/test_1/model.ckpt-10000\n"
     ]
    },
    {
     "name": "stderr",
     "output_type": "stream",
     "text": [
      "INFO:tensorflow:Restoring parameters from brainlit/models/test_1/model.ckpt-10000\n"
     ]
    },
    {
     "name": "stdout",
     "output_type": "stream",
     "text": [
      "Keys: <KeysViewHDF5 ['raw']>\n",
      "current seg_id = 229...\n",
      "INFO:tensorflow:Restoring parameters from brainlit/models/test_1/model.ckpt-10000\n"
     ]
    },
    {
     "name": "stderr",
     "output_type": "stream",
     "text": [
      "INFO:tensorflow:Restoring parameters from brainlit/models/test_1/model.ckpt-10000\n"
     ]
    },
    {
     "name": "stdout",
     "output_type": "stream",
     "text": [
      "Keys: <KeysViewHDF5 ['raw']>\n",
      "current seg_id = 230...\n",
      "INFO:tensorflow:Restoring parameters from brainlit/models/test_1/model.ckpt-10000\n"
     ]
    },
    {
     "name": "stderr",
     "output_type": "stream",
     "text": [
      "INFO:tensorflow:Restoring parameters from brainlit/models/test_1/model.ckpt-10000\n"
     ]
    },
    {
     "name": "stdout",
     "output_type": "stream",
     "text": [
      "Keys: <KeysViewHDF5 ['raw']>\n",
      "current seg_id = 231...\n",
      "INFO:tensorflow:Restoring parameters from brainlit/models/test_1/model.ckpt-10000\n"
     ]
    },
    {
     "name": "stderr",
     "output_type": "stream",
     "text": [
      "INFO:tensorflow:Restoring parameters from brainlit/models/test_1/model.ckpt-10000\n"
     ]
    },
    {
     "name": "stdout",
     "output_type": "stream",
     "text": [
      "Keys: <KeysViewHDF5 ['raw']>\n",
      "current seg_id = 232...\n",
      "INFO:tensorflow:Restoring parameters from brainlit/models/test_1/model.ckpt-10000\n"
     ]
    },
    {
     "name": "stderr",
     "output_type": "stream",
     "text": [
      "INFO:tensorflow:Restoring parameters from brainlit/models/test_1/model.ckpt-10000\n"
     ]
    },
    {
     "name": "stdout",
     "output_type": "stream",
     "text": [
      "Keys: <KeysViewHDF5 ['raw']>\n",
      "current seg_id = 234...\n",
      "INFO:tensorflow:Restoring parameters from brainlit/models/test_1/model.ckpt-10000\n"
     ]
    },
    {
     "name": "stderr",
     "output_type": "stream",
     "text": [
      "INFO:tensorflow:Restoring parameters from brainlit/models/test_1/model.ckpt-10000\n"
     ]
    },
    {
     "name": "stdout",
     "output_type": "stream",
     "text": [
      "Keys: <KeysViewHDF5 ['raw']>\n",
      "current seg_id = 235...\n",
      "INFO:tensorflow:Restoring parameters from brainlit/models/test_1/model.ckpt-10000\n"
     ]
    },
    {
     "name": "stderr",
     "output_type": "stream",
     "text": [
      "INFO:tensorflow:Restoring parameters from brainlit/models/test_1/model.ckpt-10000\n"
     ]
    },
    {
     "name": "stdout",
     "output_type": "stream",
     "text": [
      "Keys: <KeysViewHDF5 ['raw']>\n",
      "current seg_id = 236...\n",
      "INFO:tensorflow:Restoring parameters from brainlit/models/test_1/model.ckpt-10000\n"
     ]
    },
    {
     "name": "stderr",
     "output_type": "stream",
     "text": [
      "INFO:tensorflow:Restoring parameters from brainlit/models/test_1/model.ckpt-10000\n"
     ]
    },
    {
     "name": "stdout",
     "output_type": "stream",
     "text": [
      "Keys: <KeysViewHDF5 ['raw']>\n",
      "current seg_id = 237...\n",
      "INFO:tensorflow:Restoring parameters from brainlit/models/test_1/model.ckpt-10000\n"
     ]
    },
    {
     "name": "stderr",
     "output_type": "stream",
     "text": [
      "INFO:tensorflow:Restoring parameters from brainlit/models/test_1/model.ckpt-10000\n"
     ]
    },
    {
     "name": "stdout",
     "output_type": "stream",
     "text": [
      "Keys: <KeysViewHDF5 ['raw']>\n",
      "current seg_id = 240...\n",
      "INFO:tensorflow:Restoring parameters from brainlit/models/test_1/model.ckpt-10000\n"
     ]
    },
    {
     "name": "stderr",
     "output_type": "stream",
     "text": [
      "INFO:tensorflow:Restoring parameters from brainlit/models/test_1/model.ckpt-10000\n"
     ]
    },
    {
     "name": "stdout",
     "output_type": "stream",
     "text": [
      "Keys: <KeysViewHDF5 ['raw']>\n",
      "current seg_id = 243...\n",
      "INFO:tensorflow:Restoring parameters from brainlit/models/test_1/model.ckpt-10000\n"
     ]
    },
    {
     "name": "stderr",
     "output_type": "stream",
     "text": [
      "INFO:tensorflow:Restoring parameters from brainlit/models/test_1/model.ckpt-10000\n"
     ]
    },
    {
     "name": "stdout",
     "output_type": "stream",
     "text": [
      "Keys: <KeysViewHDF5 ['raw']>\n",
      "current seg_id = 246...\n",
      "INFO:tensorflow:Restoring parameters from brainlit/models/test_1/model.ckpt-10000\n"
     ]
    },
    {
     "name": "stderr",
     "output_type": "stream",
     "text": [
      "INFO:tensorflow:Restoring parameters from brainlit/models/test_1/model.ckpt-10000\n"
     ]
    },
    {
     "name": "stdout",
     "output_type": "stream",
     "text": [
      "Keys: <KeysViewHDF5 ['raw']>\n",
      "current seg_id = 247...\n",
      "INFO:tensorflow:Restoring parameters from brainlit/models/test_1/model.ckpt-10000\n"
     ]
    },
    {
     "name": "stderr",
     "output_type": "stream",
     "text": [
      "INFO:tensorflow:Restoring parameters from brainlit/models/test_1/model.ckpt-10000\n"
     ]
    },
    {
     "name": "stdout",
     "output_type": "stream",
     "text": [
      "Keys: <KeysViewHDF5 ['raw']>\n",
      "current seg_id = 248...\n",
      "INFO:tensorflow:Restoring parameters from brainlit/models/test_1/model.ckpt-10000\n"
     ]
    },
    {
     "name": "stderr",
     "output_type": "stream",
     "text": [
      "INFO:tensorflow:Restoring parameters from brainlit/models/test_1/model.ckpt-10000\n"
     ]
    },
    {
     "name": "stdout",
     "output_type": "stream",
     "text": [
      "Keys: <KeysViewHDF5 ['raw']>\n",
      "current seg_id = 249...\n",
      "INFO:tensorflow:Restoring parameters from brainlit/models/test_1/model.ckpt-10000\n"
     ]
    },
    {
     "name": "stderr",
     "output_type": "stream",
     "text": [
      "INFO:tensorflow:Restoring parameters from brainlit/models/test_1/model.ckpt-10000\n"
     ]
    },
    {
     "name": "stdout",
     "output_type": "stream",
     "text": [
      "Keys: <KeysViewHDF5 ['raw']>\n",
      "current seg_id = 250...\n",
      "INFO:tensorflow:Restoring parameters from brainlit/models/test_1/model.ckpt-10000\n"
     ]
    },
    {
     "name": "stderr",
     "output_type": "stream",
     "text": [
      "INFO:tensorflow:Restoring parameters from brainlit/models/test_1/model.ckpt-10000\n"
     ]
    },
    {
     "name": "stdout",
     "output_type": "stream",
     "text": [
      "Keys: <KeysViewHDF5 ['raw']>\n",
      "current seg_id = 252...\n",
      "INFO:tensorflow:Restoring parameters from brainlit/models/test_1/model.ckpt-10000\n"
     ]
    },
    {
     "name": "stderr",
     "output_type": "stream",
     "text": [
      "INFO:tensorflow:Restoring parameters from brainlit/models/test_1/model.ckpt-10000\n"
     ]
    },
    {
     "name": "stdout",
     "output_type": "stream",
     "text": [
      "Keys: <KeysViewHDF5 ['raw']>\n",
      "current seg_id = 253...\n",
      "INFO:tensorflow:Restoring parameters from brainlit/models/test_1/model.ckpt-10000\n"
     ]
    },
    {
     "name": "stderr",
     "output_type": "stream",
     "text": [
      "INFO:tensorflow:Restoring parameters from brainlit/models/test_1/model.ckpt-10000\n"
     ]
    },
    {
     "name": "stdout",
     "output_type": "stream",
     "text": [
      "Keys: <KeysViewHDF5 ['raw']>\n",
      "current seg_id = 254...\n",
      "INFO:tensorflow:Restoring parameters from brainlit/models/test_1/model.ckpt-10000\n"
     ]
    },
    {
     "name": "stderr",
     "output_type": "stream",
     "text": [
      "INFO:tensorflow:Restoring parameters from brainlit/models/test_1/model.ckpt-10000\n"
     ]
    },
    {
     "name": "stdout",
     "output_type": "stream",
     "text": [
      "Keys: <KeysViewHDF5 ['raw']>\n",
      "current seg_id = 255...\n",
      "INFO:tensorflow:Restoring parameters from brainlit/models/test_1/model.ckpt-10000\n"
     ]
    },
    {
     "name": "stderr",
     "output_type": "stream",
     "text": [
      "INFO:tensorflow:Restoring parameters from brainlit/models/test_1/model.ckpt-10000\n"
     ]
    },
    {
     "name": "stdout",
     "output_type": "stream",
     "text": [
      "Keys: <KeysViewHDF5 ['raw']>\n",
      "current seg_id = 256...\n",
      "INFO:tensorflow:Restoring parameters from brainlit/models/test_1/model.ckpt-10000\n"
     ]
    },
    {
     "name": "stderr",
     "output_type": "stream",
     "text": [
      "INFO:tensorflow:Restoring parameters from brainlit/models/test_1/model.ckpt-10000\n"
     ]
    },
    {
     "name": "stdout",
     "output_type": "stream",
     "text": [
      "Keys: <KeysViewHDF5 ['raw']>\n",
      "current seg_id = 257...\n",
      "INFO:tensorflow:Restoring parameters from brainlit/models/test_1/model.ckpt-10000\n"
     ]
    },
    {
     "name": "stderr",
     "output_type": "stream",
     "text": [
      "INFO:tensorflow:Restoring parameters from brainlit/models/test_1/model.ckpt-10000\n"
     ]
    },
    {
     "name": "stdout",
     "output_type": "stream",
     "text": [
      "Keys: <KeysViewHDF5 ['raw']>\n",
      "current seg_id = 258...\n",
      "INFO:tensorflow:Restoring parameters from brainlit/models/test_1/model.ckpt-10000\n"
     ]
    },
    {
     "name": "stderr",
     "output_type": "stream",
     "text": [
      "INFO:tensorflow:Restoring parameters from brainlit/models/test_1/model.ckpt-10000\n"
     ]
    },
    {
     "name": "stdout",
     "output_type": "stream",
     "text": [
      "Keys: <KeysViewHDF5 ['raw']>\n",
      "current seg_id = 259...\n",
      "INFO:tensorflow:Restoring parameters from brainlit/models/test_1/model.ckpt-10000\n"
     ]
    },
    {
     "name": "stderr",
     "output_type": "stream",
     "text": [
      "INFO:tensorflow:Restoring parameters from brainlit/models/test_1/model.ckpt-10000\n"
     ]
    },
    {
     "name": "stdout",
     "output_type": "stream",
     "text": [
      "Keys: <KeysViewHDF5 ['raw']>\n",
      "current seg_id = 261...\n",
      "INFO:tensorflow:Restoring parameters from brainlit/models/test_1/model.ckpt-10000\n"
     ]
    },
    {
     "name": "stderr",
     "output_type": "stream",
     "text": [
      "INFO:tensorflow:Restoring parameters from brainlit/models/test_1/model.ckpt-10000\n"
     ]
    },
    {
     "name": "stdout",
     "output_type": "stream",
     "text": [
      "Keys: <KeysViewHDF5 ['raw']>\n",
      "current seg_id = 262...\n",
      "INFO:tensorflow:Restoring parameters from brainlit/models/test_1/model.ckpt-10000\n"
     ]
    },
    {
     "name": "stderr",
     "output_type": "stream",
     "text": [
      "INFO:tensorflow:Restoring parameters from brainlit/models/test_1/model.ckpt-10000\n"
     ]
    },
    {
     "name": "stdout",
     "output_type": "stream",
     "text": [
      "Keys: <KeysViewHDF5 ['raw']>\n",
      "current seg_id = 265...\n",
      "INFO:tensorflow:Restoring parameters from brainlit/models/test_1/model.ckpt-10000\n"
     ]
    },
    {
     "name": "stderr",
     "output_type": "stream",
     "text": [
      "INFO:tensorflow:Restoring parameters from brainlit/models/test_1/model.ckpt-10000\n"
     ]
    },
    {
     "name": "stdout",
     "output_type": "stream",
     "text": [
      "Keys: <KeysViewHDF5 ['raw']>\n",
      "current seg_id = 266...\n",
      "INFO:tensorflow:Restoring parameters from brainlit/models/test_1/model.ckpt-10000\n"
     ]
    },
    {
     "name": "stderr",
     "output_type": "stream",
     "text": [
      "INFO:tensorflow:Restoring parameters from brainlit/models/test_1/model.ckpt-10000\n"
     ]
    },
    {
     "name": "stdout",
     "output_type": "stream",
     "text": [
      "Keys: <KeysViewHDF5 ['raw']>\n",
      "current seg_id = 267...\n",
      "INFO:tensorflow:Restoring parameters from brainlit/models/test_1/model.ckpt-10000\n"
     ]
    },
    {
     "name": "stderr",
     "output_type": "stream",
     "text": [
      "INFO:tensorflow:Restoring parameters from brainlit/models/test_1/model.ckpt-10000\n"
     ]
    },
    {
     "name": "stdout",
     "output_type": "stream",
     "text": [
      "Keys: <KeysViewHDF5 ['raw']>\n",
      "current seg_id = 269...\n",
      "INFO:tensorflow:Restoring parameters from brainlit/models/test_1/model.ckpt-10000\n"
     ]
    },
    {
     "name": "stderr",
     "output_type": "stream",
     "text": [
      "INFO:tensorflow:Restoring parameters from brainlit/models/test_1/model.ckpt-10000\n"
     ]
    },
    {
     "name": "stdout",
     "output_type": "stream",
     "text": [
      "Keys: <KeysViewHDF5 ['raw']>\n",
      "current seg_id = 270...\n",
      "INFO:tensorflow:Restoring parameters from brainlit/models/test_1/model.ckpt-10000\n"
     ]
    },
    {
     "name": "stderr",
     "output_type": "stream",
     "text": [
      "INFO:tensorflow:Restoring parameters from brainlit/models/test_1/model.ckpt-10000\n"
     ]
    },
    {
     "name": "stdout",
     "output_type": "stream",
     "text": [
      "Keys: <KeysViewHDF5 ['raw']>\n",
      "current seg_id = 271...\n",
      "INFO:tensorflow:Restoring parameters from brainlit/models/test_1/model.ckpt-10000\n"
     ]
    },
    {
     "name": "stderr",
     "output_type": "stream",
     "text": [
      "INFO:tensorflow:Restoring parameters from brainlit/models/test_1/model.ckpt-10000\n"
     ]
    },
    {
     "name": "stdout",
     "output_type": "stream",
     "text": [
      "Keys: <KeysViewHDF5 ['raw']>\n",
      "current seg_id = 272...\n",
      "INFO:tensorflow:Restoring parameters from brainlit/models/test_1/model.ckpt-10000\n"
     ]
    },
    {
     "name": "stderr",
     "output_type": "stream",
     "text": [
      "INFO:tensorflow:Restoring parameters from brainlit/models/test_1/model.ckpt-10000\n"
     ]
    },
    {
     "name": "stdout",
     "output_type": "stream",
     "text": [
      "Keys: <KeysViewHDF5 ['raw']>\n",
      "current seg_id = 274...\n",
      "INFO:tensorflow:Restoring parameters from brainlit/models/test_1/model.ckpt-10000\n"
     ]
    },
    {
     "name": "stderr",
     "output_type": "stream",
     "text": [
      "INFO:tensorflow:Restoring parameters from brainlit/models/test_1/model.ckpt-10000\n"
     ]
    },
    {
     "name": "stdout",
     "output_type": "stream",
     "text": [
      "Keys: <KeysViewHDF5 ['raw']>\n",
      "current seg_id = 275...\n",
      "INFO:tensorflow:Restoring parameters from brainlit/models/test_1/model.ckpt-10000\n"
     ]
    },
    {
     "name": "stderr",
     "output_type": "stream",
     "text": [
      "INFO:tensorflow:Restoring parameters from brainlit/models/test_1/model.ckpt-10000\n"
     ]
    },
    {
     "name": "stdout",
     "output_type": "stream",
     "text": [
      "Keys: <KeysViewHDF5 ['raw']>\n",
      "current seg_id = 276...\n",
      "INFO:tensorflow:Restoring parameters from brainlit/models/test_1/model.ckpt-10000\n"
     ]
    },
    {
     "name": "stderr",
     "output_type": "stream",
     "text": [
      "INFO:tensorflow:Restoring parameters from brainlit/models/test_1/model.ckpt-10000\n"
     ]
    },
    {
     "name": "stdout",
     "output_type": "stream",
     "text": [
      "Keys: <KeysViewHDF5 ['raw']>\n",
      "current seg_id = 277...\n",
      "INFO:tensorflow:Restoring parameters from brainlit/models/test_1/model.ckpt-10000\n"
     ]
    },
    {
     "name": "stderr",
     "output_type": "stream",
     "text": [
      "INFO:tensorflow:Restoring parameters from brainlit/models/test_1/model.ckpt-10000\n"
     ]
    },
    {
     "name": "stdout",
     "output_type": "stream",
     "text": [
      "Keys: <KeysViewHDF5 ['raw']>\n",
      "current seg_id = 278...\n",
      "INFO:tensorflow:Restoring parameters from brainlit/models/test_1/model.ckpt-10000\n"
     ]
    },
    {
     "name": "stderr",
     "output_type": "stream",
     "text": [
      "INFO:tensorflow:Restoring parameters from brainlit/models/test_1/model.ckpt-10000\n"
     ]
    },
    {
     "name": "stdout",
     "output_type": "stream",
     "text": [
      "Keys: <KeysViewHDF5 ['raw']>\n",
      "current seg_id = 279...\n",
      "INFO:tensorflow:Restoring parameters from brainlit/models/test_1/model.ckpt-10000\n"
     ]
    },
    {
     "name": "stderr",
     "output_type": "stream",
     "text": [
      "INFO:tensorflow:Restoring parameters from brainlit/models/test_1/model.ckpt-10000\n"
     ]
    },
    {
     "name": "stdout",
     "output_type": "stream",
     "text": [
      "Keys: <KeysViewHDF5 ['raw']>\n",
      "current seg_id = 280...\n",
      "INFO:tensorflow:Restoring parameters from brainlit/models/test_1/model.ckpt-10000\n"
     ]
    },
    {
     "name": "stderr",
     "output_type": "stream",
     "text": [
      "INFO:tensorflow:Restoring parameters from brainlit/models/test_1/model.ckpt-10000\n"
     ]
    },
    {
     "name": "stdout",
     "output_type": "stream",
     "text": [
      "Keys: <KeysViewHDF5 ['raw']>\n",
      "current seg_id = 281...\n",
      "INFO:tensorflow:Restoring parameters from brainlit/models/test_1/model.ckpt-10000\n"
     ]
    },
    {
     "name": "stderr",
     "output_type": "stream",
     "text": [
      "INFO:tensorflow:Restoring parameters from brainlit/models/test_1/model.ckpt-10000\n"
     ]
    },
    {
     "name": "stdout",
     "output_type": "stream",
     "text": [
      "Keys: <KeysViewHDF5 ['raw']>\n",
      "current seg_id = 282...\n",
      "INFO:tensorflow:Restoring parameters from brainlit/models/test_1/model.ckpt-10000\n"
     ]
    },
    {
     "name": "stderr",
     "output_type": "stream",
     "text": [
      "INFO:tensorflow:Restoring parameters from brainlit/models/test_1/model.ckpt-10000\n"
     ]
    },
    {
     "name": "stdout",
     "output_type": "stream",
     "text": [
      "Keys: <KeysViewHDF5 ['raw']>\n",
      "current seg_id = 283...\n",
      "INFO:tensorflow:Restoring parameters from brainlit/models/test_1/model.ckpt-10000\n"
     ]
    },
    {
     "name": "stderr",
     "output_type": "stream",
     "text": [
      "INFO:tensorflow:Restoring parameters from brainlit/models/test_1/model.ckpt-10000\n"
     ]
    },
    {
     "name": "stdout",
     "output_type": "stream",
     "text": [
      "Keys: <KeysViewHDF5 ['raw']>\n",
      "current seg_id = 284...\n",
      "INFO:tensorflow:Restoring parameters from brainlit/models/test_1/model.ckpt-10000\n"
     ]
    },
    {
     "name": "stderr",
     "output_type": "stream",
     "text": [
      "INFO:tensorflow:Restoring parameters from brainlit/models/test_1/model.ckpt-10000\n"
     ]
    },
    {
     "name": "stdout",
     "output_type": "stream",
     "text": [
      "Keys: <KeysViewHDF5 ['raw']>\n",
      "current seg_id = 285...\n",
      "INFO:tensorflow:Restoring parameters from brainlit/models/test_1/model.ckpt-10000\n"
     ]
    },
    {
     "name": "stderr",
     "output_type": "stream",
     "text": [
      "INFO:tensorflow:Restoring parameters from brainlit/models/test_1/model.ckpt-10000\n"
     ]
    },
    {
     "name": "stdout",
     "output_type": "stream",
     "text": [
      "Keys: <KeysViewHDF5 ['raw']>\n",
      "current seg_id = 286...\n",
      "INFO:tensorflow:Restoring parameters from brainlit/models/test_1/model.ckpt-10000\n"
     ]
    },
    {
     "name": "stderr",
     "output_type": "stream",
     "text": [
      "INFO:tensorflow:Restoring parameters from brainlit/models/test_1/model.ckpt-10000\n"
     ]
    },
    {
     "name": "stdout",
     "output_type": "stream",
     "text": [
      "Keys: <KeysViewHDF5 ['raw']>\n",
      "current seg_id = 287...\n",
      "INFO:tensorflow:Restoring parameters from brainlit/models/test_1/model.ckpt-10000\n"
     ]
    },
    {
     "name": "stderr",
     "output_type": "stream",
     "text": [
      "INFO:tensorflow:Restoring parameters from brainlit/models/test_1/model.ckpt-10000\n"
     ]
    },
    {
     "name": "stdout",
     "output_type": "stream",
     "text": [
      "Keys: <KeysViewHDF5 ['raw']>\n",
      "current seg_id = 288...\n",
      "INFO:tensorflow:Restoring parameters from brainlit/models/test_1/model.ckpt-10000\n"
     ]
    },
    {
     "name": "stderr",
     "output_type": "stream",
     "text": [
      "INFO:tensorflow:Restoring parameters from brainlit/models/test_1/model.ckpt-10000\n"
     ]
    },
    {
     "name": "stdout",
     "output_type": "stream",
     "text": [
      "Keys: <KeysViewHDF5 ['raw']>\n",
      "current seg_id = 293...\n",
      "INFO:tensorflow:Restoring parameters from brainlit/models/test_1/model.ckpt-10000\n"
     ]
    },
    {
     "name": "stderr",
     "output_type": "stream",
     "text": [
      "INFO:tensorflow:Restoring parameters from brainlit/models/test_1/model.ckpt-10000\n"
     ]
    },
    {
     "name": "stdout",
     "output_type": "stream",
     "text": [
      "Keys: <KeysViewHDF5 ['raw']>\n",
      "current seg_id = 294...\n",
      "INFO:tensorflow:Restoring parameters from brainlit/models/test_1/model.ckpt-10000\n"
     ]
    },
    {
     "name": "stderr",
     "output_type": "stream",
     "text": [
      "INFO:tensorflow:Restoring parameters from brainlit/models/test_1/model.ckpt-10000\n"
     ]
    },
    {
     "name": "stdout",
     "output_type": "stream",
     "text": [
      "Keys: <KeysViewHDF5 ['raw']>\n",
      "current seg_id = 295...\n",
      "INFO:tensorflow:Restoring parameters from brainlit/models/test_1/model.ckpt-10000\n"
     ]
    },
    {
     "name": "stderr",
     "output_type": "stream",
     "text": [
      "INFO:tensorflow:Restoring parameters from brainlit/models/test_1/model.ckpt-10000\n"
     ]
    },
    {
     "name": "stdout",
     "output_type": "stream",
     "text": [
      "Keys: <KeysViewHDF5 ['raw']>\n",
      "current seg_id = 298...\n",
      "INFO:tensorflow:Restoring parameters from brainlit/models/test_1/model.ckpt-10000\n"
     ]
    },
    {
     "name": "stderr",
     "output_type": "stream",
     "text": [
      "INFO:tensorflow:Restoring parameters from brainlit/models/test_1/model.ckpt-10000\n"
     ]
    },
    {
     "name": "stdout",
     "output_type": "stream",
     "text": [
      "Keys: <KeysViewHDF5 ['raw']>\n"
     ]
    }
   ],
   "source": [
    "results_path = \"C:/Users/Tanch/ffn/brainlit/results/test_1/cells\"\n",
    "napari_view = False\n",
    "for seg_id in seg_ids:\n",
    "    warnings.filterwarnings(\"ignore\")\n",
    "    seg_id = int(seg_id)\n",
    "    print(f\"current seg_id = {seg_id}...\")\n",
    "    result_path = results_path + \"/\" + str(seg_id)\n",
    "    if not os.path.exists(result_path):\n",
    "        os.makedirs(result_path)\n",
    "    result_path = result_path + \"/0\"\n",
    "    if not os.path.exists(result_path):\n",
    "        os.makedirs(result_path)\n",
    "    \n",
    "    config = '''image {\n",
    "      hdf5: \"brainlit/images/cells/image%d.h5:raw\"\n",
    "    }\n",
    "    image_mean: 64\n",
    "    image_stddev: 33\n",
    "    checkpoint_interval: 1800\n",
    "    seed_policy: \"PolicyPeaks\"\n",
    "    model_checkpoint_path: \"brainlit/models/test_1/model.ckpt-10000\"\n",
    "    model_name: \"convstack_3d.ConvStack3DFFNModel\"\n",
    "    model_args: \"{\\\\\"depth\\\\\": 6, \\\\\"fov_size\\\\\": [11, 11, 11], \\\\\"deltas\\\\\": [4, 4, 4]}\"\n",
    "    segmentation_output_dir: \"brainlit/results/test_1/cells/%d\"\n",
    "    inference_options {\n",
    "      init_activation: 0.95\n",
    "      pad_value: 0.05\n",
    "      move_threshold: 0.9\n",
    "      min_boundary_dist { x: 1 y: 1 z: 1}\n",
    "      segment_threshold: 0.6\n",
    "      min_segment_size: 1000\n",
    "    }''' % (seg_id, seg_id)\n",
    "    req = inference_pb2.InferenceRequest()\n",
    "    _ = text_format.Parse(config, req)\n",
    "\n",
    "    runner = inference.Runner()\n",
    "    runner.start(req)\n",
    "    canvas, alignment = runner.make_canvas((0, 0, 0), (150, 150, 150))\n",
    "\n",
    "    bbox = bounding_box_pb2.BoundingBox()\n",
    "    bounding_box = 'start { x:0 y:0 z:0 } size { x:150 y:150 z:150 }'\n",
    "    text_format.Parse(bounding_box, bbox)\n",
    "\n",
    "    runner.run((bbox.start.z, bbox.start.y, bbox.start.x), (bbox.size.z, bbox.size.y, bbox.size.x))\n",
    "\n",
    "    filename = \"brainlit/images/cells/image%d.h5\" % (seg_id)\n",
    "    with h5py.File(filename, \"r\") as f:\n",
    "        # List all groups\n",
    "        print(\"Keys: %s\" % f.keys())\n",
    "\n",
    "        # Get the data\n",
    "        data = list(f[\"raw\"])\n",
    "        img = np.array(data)\n",
    "\n",
    "    seg, _ = storage.load_segmentation('brainlit/results/test_1/cells/%d' % (seg_id), (0, 0, 0))\n",
    "    seg2 = seg\n",
    "    seg2 = np.int64(seg2>0)\n",
    "    sum(sum(sum(seg2)))\n",
    "    if napari_view:\n",
    "        napari_viewer(img, labels=seg2)"
   ]
  },
  {
   "cell_type": "code",
   "execution_count": 5,
   "metadata": {
    "scrolled": false
   },
   "outputs": [
    {
     "name": "stdout",
     "output_type": "stream",
     "text": [
      "Keys: <KeysViewHDF5 ['raw']>\n",
      "seg_id = 2.0\n",
      "The number of labels: 29436\n",
      "Keys: <KeysViewHDF5 ['raw']>\n",
      "seg_id = 7.0\n",
      "The number of labels: 13470\n",
      "Keys: <KeysViewHDF5 ['raw']>\n",
      "seg_id = 11.0\n",
      "The number of labels: 13483\n",
      "Keys: <KeysViewHDF5 ['raw']>\n",
      "seg_id = 12.0\n",
      "The number of labels: 21141\n",
      "Keys: <KeysViewHDF5 ['raw']>\n",
      "seg_id = 13.0\n",
      "The number of labels: 31902\n",
      "Keys: <KeysViewHDF5 ['raw']>\n",
      "seg_id = 14.0\n",
      "The number of labels: 33082\n",
      "Keys: <KeysViewHDF5 ['raw']>\n",
      "seg_id = 20.0\n",
      "The number of labels: 12363\n",
      "Keys: <KeysViewHDF5 ['raw']>\n",
      "seg_id = 24.0\n",
      "The number of labels: 19003\n",
      "Keys: <KeysViewHDF5 ['raw']>\n",
      "seg_id = 28.0\n",
      "The number of labels: 32341\n",
      "Keys: <KeysViewHDF5 ['raw']>\n",
      "seg_id = 35.0\n",
      "The number of labels: 35448\n",
      "Keys: <KeysViewHDF5 ['raw']>\n",
      "seg_id = 40.0\n",
      "The number of labels: 5030\n",
      "Keys: <KeysViewHDF5 ['raw']>\n",
      "seg_id = 45.0\n",
      "The number of labels: 0\n",
      "Keys: <KeysViewHDF5 ['raw']>\n",
      "seg_id = 48.0\n",
      "The number of labels: 13157\n",
      "Keys: <KeysViewHDF5 ['raw']>\n",
      "seg_id = 49.0\n",
      "The number of labels: 0\n",
      "Keys: <KeysViewHDF5 ['raw']>\n",
      "seg_id = 51.0\n",
      "The number of labels: 15456\n",
      "Keys: <KeysViewHDF5 ['raw']>\n",
      "seg_id = 53.0\n",
      "The number of labels: 19540\n",
      "Keys: <KeysViewHDF5 ['raw']>\n",
      "seg_id = 59.0\n",
      "The number of labels: 6177\n",
      "Keys: <KeysViewHDF5 ['raw']>\n",
      "seg_id = 60.0\n",
      "The number of labels: 27230\n",
      "Keys: <KeysViewHDF5 ['raw']>\n",
      "seg_id = 65.0\n",
      "The number of labels: 0\n",
      "Keys: <KeysViewHDF5 ['raw']>\n",
      "seg_id = 67.0\n",
      "The number of labels: 7327\n",
      "Keys: <KeysViewHDF5 ['raw']>\n",
      "seg_id = 69.0\n",
      "The number of labels: 7573\n",
      "Keys: <KeysViewHDF5 ['raw']>\n",
      "seg_id = 71.0\n",
      "The number of labels: 7865\n",
      "Keys: <KeysViewHDF5 ['raw']>\n",
      "seg_id = 72.0\n",
      "The number of labels: 8669\n",
      "Keys: <KeysViewHDF5 ['raw']>\n",
      "seg_id = 73.0\n",
      "The number of labels: 7857\n",
      "Keys: <KeysViewHDF5 ['raw']>\n",
      "seg_id = 74.0\n",
      "The number of labels: 29248\n",
      "Keys: <KeysViewHDF5 ['raw']>\n",
      "seg_id = 75.0\n",
      "The number of labels: 11675\n",
      "Keys: <KeysViewHDF5 ['raw']>\n",
      "seg_id = 76.0\n",
      "The number of labels: 24770\n",
      "Keys: <KeysViewHDF5 ['raw']>\n",
      "seg_id = 77.0\n",
      "The number of labels: 0\n",
      "Keys: <KeysViewHDF5 ['raw']>\n",
      "seg_id = 78.0\n",
      "The number of labels: 16352\n",
      "Keys: <KeysViewHDF5 ['raw']>\n",
      "seg_id = 79.0\n",
      "The number of labels: 11542\n",
      "Keys: <KeysViewHDF5 ['raw']>\n",
      "seg_id = 81.0\n",
      "The number of labels: 20741\n",
      "Keys: <KeysViewHDF5 ['raw']>\n",
      "seg_id = 82.0\n",
      "The number of labels: 18758\n",
      "Keys: <KeysViewHDF5 ['raw']>\n",
      "seg_id = 83.0\n",
      "The number of labels: 6069\n",
      "Keys: <KeysViewHDF5 ['raw']>\n",
      "seg_id = 85.0\n",
      "The number of labels: 8189\n",
      "Keys: <KeysViewHDF5 ['raw']>\n",
      "seg_id = 86.0\n",
      "The number of labels: 15290\n",
      "Keys: <KeysViewHDF5 ['raw']>\n",
      "seg_id = 91.0\n",
      "The number of labels: 19280\n",
      "Keys: <KeysViewHDF5 ['raw']>\n",
      "seg_id = 97.0\n",
      "The number of labels: 19095\n",
      "Keys: <KeysViewHDF5 ['raw']>\n",
      "seg_id = 98.0\n",
      "The number of labels: 23559\n",
      "Keys: <KeysViewHDF5 ['raw']>\n",
      "seg_id = 99.0\n",
      "The number of labels: 0\n",
      "Keys: <KeysViewHDF5 ['raw']>\n",
      "seg_id = 101.0\n",
      "The number of labels: 0\n",
      "Keys: <KeysViewHDF5 ['raw']>\n",
      "seg_id = 103.0\n",
      "The number of labels: 4814\n",
      "Keys: <KeysViewHDF5 ['raw']>\n",
      "seg_id = 106.0\n",
      "The number of labels: 7727\n",
      "Keys: <KeysViewHDF5 ['raw']>\n",
      "seg_id = 107.0\n",
      "The number of labels: 6084\n",
      "Keys: <KeysViewHDF5 ['raw']>\n",
      "seg_id = 109.0\n",
      "The number of labels: 0\n",
      "Keys: <KeysViewHDF5 ['raw']>\n",
      "seg_id = 111.0\n",
      "The number of labels: 10644\n",
      "Keys: <KeysViewHDF5 ['raw']>\n",
      "seg_id = 112.0\n",
      "The number of labels: 7665\n",
      "Keys: <KeysViewHDF5 ['raw']>\n",
      "seg_id = 115.0\n",
      "The number of labels: 0\n",
      "Keys: <KeysViewHDF5 ['raw']>\n",
      "seg_id = 118.0\n",
      "The number of labels: 14515\n",
      "Keys: <KeysViewHDF5 ['raw']>\n",
      "seg_id = 120.0\n",
      "The number of labels: 10488\n",
      "Keys: <KeysViewHDF5 ['raw']>\n",
      "seg_id = 124.0\n",
      "The number of labels: 17046\n",
      "Keys: <KeysViewHDF5 ['raw']>\n",
      "seg_id = 126.0\n",
      "The number of labels: 19796\n",
      "Keys: <KeysViewHDF5 ['raw']>\n",
      "seg_id = 127.0\n",
      "The number of labels: 16758\n",
      "Keys: <KeysViewHDF5 ['raw']>\n",
      "seg_id = 129.0\n",
      "The number of labels: 19186\n",
      "Keys: <KeysViewHDF5 ['raw']>\n",
      "seg_id = 132.0\n",
      "The number of labels: 19100\n",
      "Keys: <KeysViewHDF5 ['raw']>\n",
      "seg_id = 133.0\n",
      "The number of labels: 31274\n",
      "Keys: <KeysViewHDF5 ['raw']>\n",
      "seg_id = 136.0\n",
      "The number of labels: 16175\n",
      "Keys: <KeysViewHDF5 ['raw']>\n",
      "seg_id = 137.0\n",
      "The number of labels: 6177\n",
      "Keys: <KeysViewHDF5 ['raw']>\n",
      "seg_id = 140.0\n",
      "The number of labels: 33624\n",
      "Keys: <KeysViewHDF5 ['raw']>\n",
      "seg_id = 141.0\n",
      "The number of labels: 25659\n",
      "Keys: <KeysViewHDF5 ['raw']>\n",
      "seg_id = 142.0\n",
      "The number of labels: 0\n",
      "Keys: <KeysViewHDF5 ['raw']>\n",
      "seg_id = 143.0\n",
      "The number of labels: 36779\n",
      "Keys: <KeysViewHDF5 ['raw']>\n",
      "seg_id = 144.0\n",
      "The number of labels: 43027\n",
      "Keys: <KeysViewHDF5 ['raw']>\n",
      "seg_id = 145.0\n",
      "The number of labels: 0\n",
      "Keys: <KeysViewHDF5 ['raw']>\n",
      "seg_id = 146.0\n",
      "The number of labels: 10958\n",
      "Keys: <KeysViewHDF5 ['raw']>\n",
      "seg_id = 147.0\n",
      "The number of labels: 7272\n",
      "Keys: <KeysViewHDF5 ['raw']>\n",
      "seg_id = 149.0\n",
      "The number of labels: 38954\n",
      "Keys: <KeysViewHDF5 ['raw']>\n",
      "seg_id = 150.0\n",
      "The number of labels: 15620\n",
      "Keys: <KeysViewHDF5 ['raw']>\n",
      "seg_id = 151.0\n",
      "The number of labels: 56347\n",
      "Keys: <KeysViewHDF5 ['raw']>\n",
      "seg_id = 152.0\n",
      "The number of labels: 36854\n",
      "Keys: <KeysViewHDF5 ['raw']>\n",
      "seg_id = 153.0\n",
      "The number of labels: 41101\n",
      "Keys: <KeysViewHDF5 ['raw']>\n",
      "seg_id = 154.0\n",
      "The number of labels: 0\n",
      "Keys: <KeysViewHDF5 ['raw']>\n",
      "seg_id = 155.0\n",
      "The number of labels: 19417\n",
      "Keys: <KeysViewHDF5 ['raw']>\n",
      "seg_id = 156.0\n",
      "The number of labels: 19684\n",
      "Keys: <KeysViewHDF5 ['raw']>\n",
      "seg_id = 157.0\n",
      "The number of labels: 7232\n",
      "Keys: <KeysViewHDF5 ['raw']>\n",
      "seg_id = 158.0\n",
      "The number of labels: 16280\n",
      "Keys: <KeysViewHDF5 ['raw']>\n",
      "seg_id = 159.0\n",
      "The number of labels: 57742\n",
      "Keys: <KeysViewHDF5 ['raw']>\n",
      "seg_id = 160.0\n",
      "The number of labels: 12139\n",
      "Keys: <KeysViewHDF5 ['raw']>\n",
      "seg_id = 161.0\n",
      "The number of labels: 38989\n",
      "Keys: <KeysViewHDF5 ['raw']>\n",
      "seg_id = 162.0\n",
      "The number of labels: 20553\n",
      "Keys: <KeysViewHDF5 ['raw']>\n",
      "seg_id = 163.0\n",
      "The number of labels: 29210\n",
      "Keys: <KeysViewHDF5 ['raw']>\n",
      "seg_id = 164.0\n",
      "The number of labels: 36630\n",
      "Keys: <KeysViewHDF5 ['raw']>\n",
      "seg_id = 165.0\n",
      "The number of labels: 38510\n",
      "Keys: <KeysViewHDF5 ['raw']>\n",
      "seg_id = 166.0\n",
      "The number of labels: 32400\n",
      "Keys: <KeysViewHDF5 ['raw']>\n",
      "seg_id = 167.0\n",
      "The number of labels: 34847\n",
      "Keys: <KeysViewHDF5 ['raw']>\n",
      "seg_id = 169.0\n",
      "The number of labels: 25078\n",
      "Keys: <KeysViewHDF5 ['raw']>\n",
      "seg_id = 170.0\n",
      "The number of labels: 19974\n",
      "Keys: <KeysViewHDF5 ['raw']>\n",
      "seg_id = 171.0\n",
      "The number of labels: 9631\n",
      "Keys: <KeysViewHDF5 ['raw']>\n",
      "seg_id = 172.0\n",
      "The number of labels: 25520\n",
      "Keys: <KeysViewHDF5 ['raw']>\n",
      "seg_id = 173.0\n",
      "The number of labels: 15431\n",
      "Keys: <KeysViewHDF5 ['raw']>\n",
      "seg_id = 174.0\n",
      "The number of labels: 15045\n",
      "Keys: <KeysViewHDF5 ['raw']>\n",
      "seg_id = 175.0\n",
      "The number of labels: 23289\n",
      "Keys: <KeysViewHDF5 ['raw']>\n",
      "seg_id = 176.0\n",
      "The number of labels: 89287\n",
      "Keys: <KeysViewHDF5 ['raw']>\n",
      "seg_id = 177.0\n",
      "The number of labels: 23863\n",
      "Keys: <KeysViewHDF5 ['raw']>\n",
      "seg_id = 178.0\n",
      "The number of labels: 25763\n",
      "Keys: <KeysViewHDF5 ['raw']>\n",
      "seg_id = 179.0\n",
      "The number of labels: 10996\n",
      "Keys: <KeysViewHDF5 ['raw']>\n",
      "seg_id = 180.0\n",
      "The number of labels: 19757\n",
      "Keys: <KeysViewHDF5 ['raw']>\n",
      "seg_id = 181.0\n",
      "The number of labels: 30356\n",
      "Keys: <KeysViewHDF5 ['raw']>\n",
      "seg_id = 182.0\n",
      "The number of labels: 52395\n",
      "Keys: <KeysViewHDF5 ['raw']>\n",
      "seg_id = 183.0\n",
      "The number of labels: 33486\n",
      "Keys: <KeysViewHDF5 ['raw']>\n",
      "seg_id = 184.0\n",
      "The number of labels: 42094\n",
      "Keys: <KeysViewHDF5 ['raw']>\n",
      "seg_id = 185.0\n",
      "The number of labels: 14132\n",
      "Keys: <KeysViewHDF5 ['raw']>\n",
      "seg_id = 186.0\n",
      "The number of labels: 7276\n",
      "Keys: <KeysViewHDF5 ['raw']>\n",
      "seg_id = 187.0\n",
      "The number of labels: 15910\n",
      "Keys: <KeysViewHDF5 ['raw']>\n",
      "seg_id = 188.0\n",
      "The number of labels: 21960\n",
      "Keys: <KeysViewHDF5 ['raw']>\n",
      "seg_id = 189.0\n",
      "The number of labels: 11773\n",
      "Keys: <KeysViewHDF5 ['raw']>\n",
      "seg_id = 190.0\n",
      "The number of labels: 20732\n",
      "Keys: <KeysViewHDF5 ['raw']>\n",
      "seg_id = 192.0\n",
      "The number of labels: 33508\n",
      "Keys: <KeysViewHDF5 ['raw']>\n",
      "seg_id = 193.0\n",
      "The number of labels: 19099\n",
      "Keys: <KeysViewHDF5 ['raw']>\n",
      "seg_id = 194.0\n",
      "The number of labels: 22691\n",
      "Keys: <KeysViewHDF5 ['raw']>\n",
      "seg_id = 195.0\n",
      "The number of labels: 12992\n",
      "Keys: <KeysViewHDF5 ['raw']>\n",
      "seg_id = 196.0\n",
      "The number of labels: 6088\n",
      "Keys: <KeysViewHDF5 ['raw']>\n",
      "seg_id = 197.0\n",
      "The number of labels: 0\n",
      "Keys: <KeysViewHDF5 ['raw']>\n",
      "seg_id = 198.0\n",
      "The number of labels: 10835\n",
      "Keys: <KeysViewHDF5 ['raw']>\n",
      "seg_id = 199.0\n",
      "The number of labels: 5337\n",
      "Keys: <KeysViewHDF5 ['raw']>\n",
      "seg_id = 200.0\n",
      "The number of labels: 4828\n",
      "Keys: <KeysViewHDF5 ['raw']>\n"
     ]
    },
    {
     "name": "stdout",
     "output_type": "stream",
     "text": [
      "seg_id = 201.0\n",
      "The number of labels: 17777\n",
      "Keys: <KeysViewHDF5 ['raw']>\n",
      "seg_id = 202.0\n",
      "The number of labels: 9099\n",
      "Keys: <KeysViewHDF5 ['raw']>\n",
      "seg_id = 205.0\n",
      "The number of labels: 32827\n",
      "Keys: <KeysViewHDF5 ['raw']>\n",
      "seg_id = 207.0\n",
      "The number of labels: 43885\n",
      "Keys: <KeysViewHDF5 ['raw']>\n",
      "seg_id = 208.0\n",
      "The number of labels: 26537\n",
      "Keys: <KeysViewHDF5 ['raw']>\n",
      "seg_id = 214.0\n",
      "The number of labels: 11038\n",
      "Keys: <KeysViewHDF5 ['raw']>\n",
      "seg_id = 223.0\n",
      "The number of labels: 14663\n",
      "Keys: <KeysViewHDF5 ['raw']>\n",
      "seg_id = 224.0\n",
      "The number of labels: 9942\n",
      "Keys: <KeysViewHDF5 ['raw']>\n",
      "seg_id = 225.0\n",
      "The number of labels: 14493\n",
      "Keys: <KeysViewHDF5 ['raw']>\n",
      "seg_id = 227.0\n",
      "The number of labels: 9685\n",
      "Keys: <KeysViewHDF5 ['raw']>\n",
      "seg_id = 228.0\n",
      "The number of labels: 12190\n",
      "Keys: <KeysViewHDF5 ['raw']>\n",
      "seg_id = 229.0\n",
      "The number of labels: 10032\n",
      "Keys: <KeysViewHDF5 ['raw']>\n",
      "seg_id = 230.0\n",
      "The number of labels: 7793\n",
      "Keys: <KeysViewHDF5 ['raw']>\n",
      "seg_id = 231.0\n",
      "The number of labels: 0\n",
      "Keys: <KeysViewHDF5 ['raw']>\n",
      "seg_id = 232.0\n",
      "The number of labels: 11299\n",
      "Keys: <KeysViewHDF5 ['raw']>\n",
      "seg_id = 234.0\n",
      "The number of labels: 0\n",
      "Keys: <KeysViewHDF5 ['raw']>\n",
      "seg_id = 235.0\n",
      "The number of labels: 11021\n",
      "Keys: <KeysViewHDF5 ['raw']>\n",
      "seg_id = 236.0\n",
      "The number of labels: 0\n",
      "Keys: <KeysViewHDF5 ['raw']>\n",
      "seg_id = 237.0\n",
      "The number of labels: 0\n",
      "Keys: <KeysViewHDF5 ['raw']>\n",
      "seg_id = 240.0\n",
      "The number of labels: 18909\n",
      "Keys: <KeysViewHDF5 ['raw']>\n",
      "seg_id = 243.0\n",
      "The number of labels: 0\n",
      "Keys: <KeysViewHDF5 ['raw']>\n",
      "seg_id = 246.0\n",
      "The number of labels: 0\n",
      "Keys: <KeysViewHDF5 ['raw']>\n",
      "seg_id = 247.0\n",
      "The number of labels: 0\n",
      "Keys: <KeysViewHDF5 ['raw']>\n",
      "seg_id = 248.0\n",
      "The number of labels: 8189\n",
      "Keys: <KeysViewHDF5 ['raw']>\n",
      "seg_id = 249.0\n",
      "The number of labels: 7975\n",
      "Keys: <KeysViewHDF5 ['raw']>\n",
      "seg_id = 250.0\n",
      "The number of labels: 3176\n",
      "Keys: <KeysViewHDF5 ['raw']>\n",
      "seg_id = 252.0\n",
      "The number of labels: 0\n",
      "Keys: <KeysViewHDF5 ['raw']>\n",
      "seg_id = 253.0\n",
      "The number of labels: 10816\n",
      "Keys: <KeysViewHDF5 ['raw']>\n",
      "seg_id = 254.0\n",
      "The number of labels: 0\n",
      "Keys: <KeysViewHDF5 ['raw']>\n",
      "seg_id = 255.0\n",
      "The number of labels: 5617\n",
      "Keys: <KeysViewHDF5 ['raw']>\n",
      "seg_id = 256.0\n",
      "The number of labels: 4710\n",
      "Keys: <KeysViewHDF5 ['raw']>\n",
      "seg_id = 257.0\n",
      "The number of labels: 0\n",
      "Keys: <KeysViewHDF5 ['raw']>\n",
      "seg_id = 258.0\n",
      "The number of labels: 10407\n",
      "Keys: <KeysViewHDF5 ['raw']>\n",
      "seg_id = 259.0\n",
      "The number of labels: 0\n",
      "Keys: <KeysViewHDF5 ['raw']>\n",
      "seg_id = 261.0\n",
      "The number of labels: 5456\n",
      "Keys: <KeysViewHDF5 ['raw']>\n",
      "seg_id = 262.0\n",
      "The number of labels: 13652\n",
      "Keys: <KeysViewHDF5 ['raw']>\n",
      "seg_id = 265.0\n",
      "The number of labels: 12980\n",
      "Keys: <KeysViewHDF5 ['raw']>\n",
      "seg_id = 266.0\n",
      "The number of labels: 0\n",
      "Keys: <KeysViewHDF5 ['raw']>\n",
      "seg_id = 267.0\n",
      "The number of labels: 4680\n",
      "Keys: <KeysViewHDF5 ['raw']>\n",
      "seg_id = 269.0\n",
      "The number of labels: 0\n",
      "Keys: <KeysViewHDF5 ['raw']>\n",
      "seg_id = 270.0\n",
      "The number of labels: 0\n",
      "Keys: <KeysViewHDF5 ['raw']>\n",
      "seg_id = 271.0\n",
      "The number of labels: 0\n",
      "Keys: <KeysViewHDF5 ['raw']>\n",
      "seg_id = 272.0\n",
      "The number of labels: 0\n",
      "Keys: <KeysViewHDF5 ['raw']>\n",
      "seg_id = 274.0\n",
      "The number of labels: 0\n",
      "Keys: <KeysViewHDF5 ['raw']>\n",
      "seg_id = 275.0\n",
      "The number of labels: 0\n",
      "Keys: <KeysViewHDF5 ['raw']>\n",
      "seg_id = 276.0\n",
      "The number of labels: 0\n",
      "Keys: <KeysViewHDF5 ['raw']>\n",
      "seg_id = 277.0\n",
      "The number of labels: 0\n",
      "Keys: <KeysViewHDF5 ['raw']>\n",
      "seg_id = 278.0\n",
      "The number of labels: 0\n",
      "Keys: <KeysViewHDF5 ['raw']>\n",
      "seg_id = 279.0\n",
      "The number of labels: 14299\n",
      "Keys: <KeysViewHDF5 ['raw']>\n",
      "seg_id = 280.0\n",
      "The number of labels: 0\n",
      "Keys: <KeysViewHDF5 ['raw']>\n",
      "seg_id = 281.0\n",
      "The number of labels: 0\n",
      "Keys: <KeysViewHDF5 ['raw']>\n",
      "seg_id = 282.0\n",
      "The number of labels: 4759\n",
      "Keys: <KeysViewHDF5 ['raw']>\n",
      "seg_id = 283.0\n",
      "The number of labels: 0\n",
      "Keys: <KeysViewHDF5 ['raw']>\n",
      "seg_id = 284.0\n",
      "The number of labels: 3465\n",
      "Keys: <KeysViewHDF5 ['raw']>\n",
      "seg_id = 285.0\n",
      "The number of labels: 0\n",
      "Keys: <KeysViewHDF5 ['raw']>\n",
      "seg_id = 286.0\n",
      "The number of labels: 0\n",
      "Keys: <KeysViewHDF5 ['raw']>\n",
      "seg_id = 287.0\n",
      "The number of labels: 0\n",
      "Keys: <KeysViewHDF5 ['raw']>\n",
      "seg_id = 288.0\n",
      "The number of labels: 0\n",
      "Keys: <KeysViewHDF5 ['raw']>\n",
      "seg_id = 293.0\n",
      "The number of labels: 6572\n",
      "Keys: <KeysViewHDF5 ['raw']>\n",
      "seg_id = 294.0\n",
      "The number of labels: 0\n",
      "Keys: <KeysViewHDF5 ['raw']>\n",
      "seg_id = 295.0\n",
      "The number of labels: 0\n",
      "Keys: <KeysViewHDF5 ['raw']>\n",
      "seg_id = 298.0\n",
      "The number of labels: 13652\n"
     ]
    }
   ],
   "source": [
    "for seg_id in seg_ids:\n",
    "    filename = \"brainlit/images/cells/image%d.h5\" % (seg_id)\n",
    "    with h5py.File(filename, \"r\") as f:\n",
    "        print(\"Keys: %s\" % f.keys())\n",
    "\n",
    "        data = list(f[\"raw\"])\n",
    "        img = np.array(data)\n",
    "\n",
    "    seg, _ = storage.load_segmentation('brainlit/results/test_1/cells/%d' % (seg_id), (0, 0, 0))\n",
    "    seg2 = seg\n",
    "    seg2 = np.int64(seg2>0)\n",
    "    print(f\"seg_id = {seg_id}\")\n",
    "    print(f\"The number of labels: {sum(sum(sum(seg2)))}\")\n",
    "    napari_viewer(img, labels=seg2)"
   ]
  },
  {
   "cell_type": "code",
   "execution_count": 6,
   "metadata": {},
   "outputs": [
    {
     "name": "stdout",
     "output_type": "stream",
     "text": [
      "seg_id = 81\n",
      "The number of labels: 20741\n"
     ]
    },
    {
     "data": {
      "text/plain": [
       "<napari.viewer.Viewer at 0x1fd8cd2ffc8>"
      ]
     },
     "execution_count": 6,
     "metadata": {},
     "output_type": "execute_result"
    }
   ],
   "source": [
    "seg_id = 81\n",
    "filename = \"brainlit/images/cells/image%d.h5\" % (seg_id)\n",
    "with h5py.File(filename, \"r\") as f:\n",
    "    data = list(f[\"raw\"])\n",
    "    img = np.array(data)\n",
    "\n",
    "seg, _ = storage.load_segmentation('brainlit/results/test_1/cells/%d' % (seg_id), (0, 0, 0))\n",
    "seg2 = seg\n",
    "seg2 = np.int64(seg2>0)\n",
    "print(f\"seg_id = {seg_id}\")\n",
    "print(f\"The number of labels: {sum(sum(sum(seg2)))}\")\n",
    "napari_viewer(img, labels=seg2)"
   ]
  },
  {
   "cell_type": "code",
   "execution_count": 9,
   "metadata": {},
   "outputs": [
    {
     "name": "stdout",
     "output_type": "stream",
     "text": [
      "seg_id = 60\n",
      "The number of labels: 27230\n"
     ]
    },
    {
     "data": {
      "text/plain": [
       "<napari.viewer.Viewer at 0x1fdbd855c08>"
      ]
     },
     "execution_count": 9,
     "metadata": {},
     "output_type": "execute_result"
    }
   ],
   "source": [
    "seg_id = 60\n",
    "filename = \"brainlit/images/cells/image%d.h5\" % (seg_id)\n",
    "with h5py.File(filename, \"r\") as f:\n",
    "    data = list(f[\"raw\"])\n",
    "    img = np.array(data)\n",
    "\n",
    "seg, _ = storage.load_segmentation('brainlit/results/test_1/cells/%d' % (seg_id), (0, 0, 0))\n",
    "seg2 = seg\n",
    "seg2 = np.int64(seg2>0)\n",
    "print(f\"seg_id = {seg_id}\")\n",
    "print(f\"The number of labels: {sum(sum(sum(seg2)))}\")\n",
    "napari_viewer(img, labels=seg2)"
   ]
  },
  {
   "cell_type": "code",
   "execution_count": 10,
   "metadata": {},
   "outputs": [
    {
     "name": "stdout",
     "output_type": "stream",
     "text": [
      "seg_id = 271\n",
      "The number of labels: 0\n"
     ]
    },
    {
     "data": {
      "text/plain": [
       "<napari.viewer.Viewer at 0x1fd93ab10c8>"
      ]
     },
     "execution_count": 10,
     "metadata": {},
     "output_type": "execute_result"
    }
   ],
   "source": [
    "seg_id = 271\n",
    "filename = \"brainlit/images/cells/image%d.h5\" % (seg_id)\n",
    "with h5py.File(filename, \"r\") as f:\n",
    "    data = list(f[\"raw\"])\n",
    "    img = np.array(data)\n",
    "\n",
    "seg, _ = storage.load_segmentation('brainlit/results/test_1/cells/%d' % (seg_id), (0, 0, 0))\n",
    "seg2 = seg\n",
    "seg2 = np.int64(seg2>0)\n",
    "print(f\"seg_id = {seg_id}\")\n",
    "print(f\"The number of labels: {sum(sum(sum(seg2)))}\")\n",
    "napari_viewer(img, labels=seg2)"
   ]
  },
  {
   "cell_type": "code",
   "execution_count": null,
   "metadata": {},
   "outputs": [],
   "source": []
  }
 ],
 "metadata": {
  "kernelspec": {
   "display_name": "Python 3",
   "language": "python",
   "name": "python3"
  },
  "language_info": {
   "codemirror_mode": {
    "name": "ipython",
    "version": 3
   },
   "file_extension": ".py",
   "mimetype": "text/x-python",
   "name": "python",
   "nbconvert_exporter": "python",
   "pygments_lexer": "ipython3",
   "version": "3.7.9"
  }
 },
 "nbformat": 4,
 "nbformat_minor": 4
}
