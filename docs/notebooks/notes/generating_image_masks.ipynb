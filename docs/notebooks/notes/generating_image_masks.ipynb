{
 "cells": [
  {
   "cell_type": "code",
   "execution_count": 1,
   "metadata": {},
   "outputs": [
    {
     "name": "stderr",
     "output_type": "stream",
     "text": [
      "D:\\Anaconda3\\envs\\brainlit\\lib\\site-packages\\napari\\__init__.py:44: UserWarning: \n",
      "    napari was tested with QT library `>=5.12.3`.\n",
      "    The version installed is 5.9.6. Please report any issues with this\n",
      "    specific QT version at https://github.com/Napari/napari/issues.\n",
      "    \n",
      "  warn(message=warn_message)\n"
     ]
    }
   ],
   "source": [
    "from brainlit.utils import read_swc, df_to_graph, graph_to_paths\n",
    "from brainlit.viz.visualize import napari_viewer\n",
    "import numpy as np\n",
    "from skimage import io\n",
    "from scipy.ndimage.morphology import distance_transform_edt\n",
    "from pathlib import Path\n",
    "# from mouselight_code.src import swc2voxel"
   ]
  },
  {
   "cell_type": "code",
   "execution_count": 2,
   "metadata": {},
   "outputs": [],
   "source": [
    "def Bresenham3D(x1, y1, z1, x2, y2, z2):\n",
    "    \"\"\"Takes two coordinates and gives the set of coordinates that connects them with a straight line\n",
    "    \n",
    "    Adapted from https://www.geeksforgeeks.org/bresenhams-algorithm-for-3-d-line-drawing/\n",
    "    \n",
    "    Arguments:\n",
    "        x1 {int} -- first x coodinate\n",
    "        y1 {int} -- first y coodinate\n",
    "        z1 {int} -- first z coodinate\n",
    "        x2 {int} -- second x coodinate\n",
    "        y2 {int} -- second y coodinate\n",
    "        z2 {int} -- second z coodinate\n",
    "    \n",
    "    Returns:\n",
    "        [list] -- list of x coordinate connecting the points\n",
    "        [list] -- list of y coordinate connecting the points\n",
    "        [list] -- list of z coordinate connecting the points\n",
    "    \"\"\"\n",
    "    xlist = []\n",
    "    xlist.append(x1)\n",
    "    ylist = []\n",
    "    ylist.append(y1)\n",
    "    zlist = []\n",
    "    zlist.append(z1)\n",
    "\n",
    "    dx = abs(x2 - x1)\n",
    "    dy = abs(y2 - y1)\n",
    "    dz = abs(z2 - z1)\n",
    "    if x2 > x1:\n",
    "        xs = 1\n",
    "    else:\n",
    "        xs = -1\n",
    "    if y2 > y1:\n",
    "        ys = 1\n",
    "    else:\n",
    "        ys = -1\n",
    "    if z2 > z1:\n",
    "        zs = 1\n",
    "    else:\n",
    "        zs = -1\n",
    "\n",
    "    # Driving axis is X-axis\"\n",
    "    if dx >= dy and dx >= dz:\n",
    "        p1 = 2 * dy - dx\n",
    "        p2 = 2 * dz - dx\n",
    "        while x1 != x2:\n",
    "            x1 += xs\n",
    "            if p1 >= 0:\n",
    "                y1 += ys\n",
    "                p1 -= 2 * dx\n",
    "            if p2 >= 0:\n",
    "                z1 += zs\n",
    "                p2 -= 2 * dx\n",
    "            p1 += 2 * dy\n",
    "            p2 += 2 * dz\n",
    "\n",
    "            xlist.append(x1)\n",
    "            ylist.append(y1)\n",
    "            zlist.append(z1)\n",
    "\n",
    "    # Driving axis is Y-axis\"\n",
    "    elif dy >= dx and dy >= dz:\n",
    "        p1 = 2 * dx - dy\n",
    "        p2 = 2 * dz - dy\n",
    "        while y1 != y2:\n",
    "            y1 += ys\n",
    "            if p1 >= 0:\n",
    "                x1 += xs\n",
    "                p1 -= 2 * dy\n",
    "            if p2 >= 0:\n",
    "                z1 += zs\n",
    "                p2 -= 2 * dy\n",
    "            p1 += 2 * dx\n",
    "            p2 += 2 * dz\n",
    "            xlist.append(x1)\n",
    "            ylist.append(y1)\n",
    "            zlist.append(z1)\n",
    "\n",
    "    # Driving axis is Z-axis\"\n",
    "    else:\n",
    "        p1 = 2 * dy - dz\n",
    "        p2 = 2 * dx - dz\n",
    "        while z1 != z2:\n",
    "            z1 += zs\n",
    "            if p1 >= 0:\n",
    "                y1 += ys\n",
    "                p1 -= 2 * dz\n",
    "            if p2 >= 0:\n",
    "                x1 += xs\n",
    "                p2 -= 2 * dz\n",
    "            p1 += 2 * dy\n",
    "            p2 += 2 * dx\n",
    "            xlist.append(x1)\n",
    "            ylist.append(y1)\n",
    "            zlist.append(z1)\n",
    "    return xlist, ylist, zlist"
   ]
  },
  {
   "cell_type": "code",
   "execution_count": 3,
   "metadata": {},
   "outputs": [],
   "source": [
    "brain_offsets = {\n",
    "    \"10-01\": [69445.19581378, 12917.40798423, 30199.63896704],\n",
    "    \"8-01\": [70093.27584462, 15071.5958194, 29306.73645404],\n",
    "}\n",
    "vol_offsets = {\n",
    "    \"10-01\": {\n",
    "        1: [3944.427317, 1689.489974, 2904.058044],\n",
    "        2: [7562.41721, 2517.659516, 6720.099583],\n",
    "        3: [6440.344565, 3724.653335, 3315.921558],\n",
    "        4: [3693.850008, 4690.851133, 4759.545202],\n",
    "        5: [2176.050385, 4472.356622, 5422.519379],\n",
    "        6: [5186.880558, 1607.205131, 5627.930585],\n",
    "        7: [4474.380558, 3801.205131, 5641.030585],\n",
    "        8: [8625.680558, 3461.805131, 7853.730585],\n",
    "        9: [8036.380558, 2739.005131, 7646.730585],\n",
    "        10: [8908.480558, 2241.305131, 5275.430585],\n",
    "        11: [5763.576767, 920.389294, 6949.146129],\n",
    "        12: [4395.108079, 3142.101761, 7674.109968],\n",
    "        13: [6357.017903, 3962.134266, 1793.497497],\n",
    "        14: [1290.816602, 3784.927683, 5489.762402],\n",
    "        15: [3261.686282, 4042.901892, 2753.811915],\n",
    "        16: [6434.371327, 3146.622337, 5511.826519],\n",
    "        17: [8759.453985, 3140.594903, 8062.858693],\n",
    "        18: [3647.85608, 4787.29009, 5026.415948],\n",
    "        19: [6278.469831, 1981.820562, 2234.779833],\n",
    "        20: [2202.332629, 3856.654157, 2746.457209],\n",
    "        21: [6119.880378, 3134.567468, 4973.882337],\n",
    "        22: [7348.575311, 1596.96885, 3394.721975],\n",
    "        23: [6633.877456, 2001.108354, 7079.429486],\n",
    "        24: [6226.801328, 4177.61506, 3591.197682],\n",
    "        25: [6270.405961, 4555.535222, 3526.056004],\n",
    "    },\n",
    "    \"8-01\": {\n",
    "        1: [3808.881423, 2359.223225, 5006.26702],\n",
    "        2: [6889.089085, 2566.530453, 8891.683733],\n",
    "        3: [7128.395228, 1863.63414, 9648.801312],\n",
    "        4: [5482.231871, 4208.245402, 11971.55106],\n",
    "        5: [6671.293606, 3960.755275, 9643.859292],\n",
    "        6: [5762.10132, 3843.673284, 5200.517052],\n",
    "        7: [6337.40132, 4651.873284, 3297.317052],\n",
    "        8: [5744.50132, 2051.973284, 5214.317052],\n",
    "        9: [4518.90132, 1426.273284, 6342.517052],\n",
    "        10: [4765.10132, 4331.973284, 9779.817052],\n",
    "        11: [8681.046946, 3866.08193, 9473.853778],\n",
    "        12: [3311.148546, 2486.773487, 9180.297745],\n",
    "        13: [4844.082155, 1247.496358, 9977.939894],\n",
    "        14: [5799.812932, 3939.750578, 8438.994633],\n",
    "        15: [4774.172495, 2561.964214, 4977.603299],\n",
    "        16: [4698.885169, 2982.058156, 7392.274638],\n",
    "        17: [5052.616098, 4900.487158, 2202.164446],\n",
    "        18: [4697.092614, 6292.276653, 1738.6029],\n",
    "        19: [3954.675928, 2249.329085, 10126.20052],\n",
    "        20: [3368.211559, 4350.103211, 6341.601026],\n",
    "        21: [2275.350296, 2058.764732, 9266.288906],\n",
    "        22: [6348.036119, 2952.529814, 10122.2469],\n",
    "        23: [3842.043698, 4089.827617, 7974.444682],\n",
    "        24: [73194, 15978.7, 35029.3],\n",
    "        25: [5878.386609, 2172.311862, 5313.66071],\n",
    "    },\n",
    "}\n",
    "\n",
    "scales = {\n",
    "    \"10-01\": np.array([298.66187, 301.37174, 1050.67223]),\n",
    "    \"8-01\": np.array([298.75923295, 304.41589844, 988.40414663]),\n",
    "}\n",
    "\n",
    "type_to_date = {\"validation\": \"10-01\", \"test\": \"8-01\"}"
   ]
  },
  {
   "cell_type": "code",
   "execution_count": 4,
   "metadata": {},
   "outputs": [
    {
     "name": "stdout",
     "output_type": "stream",
     "text": [
      "D:\\Study\\Nuero Data Design\\brainlit\\benchmarking_datasets\\Images\\test_1-gfp.tif\n",
      "D:\\Study\\Nuero Data Design\\brainlit\\benchmarking_datasets\\Manual-GT\\8-01_test_1-5\\8-01_test_1\\tree_1.swc\n",
      "D:\\Study\\Nuero Data Design\\brainlit\\benchmarking_datasets\\Manual-GT\\8-01_test_1-5\\8-01_test_1\\tree_10.swc\n",
      "D:\\Study\\Nuero Data Design\\brainlit\\benchmarking_datasets\\Manual-GT\\8-01_test_1-5\\8-01_test_1\\tree_11.swc\n",
      "D:\\Study\\Nuero Data Design\\brainlit\\benchmarking_datasets\\Manual-GT\\8-01_test_1-5\\8-01_test_1\\tree_12.swc\n",
      "D:\\Study\\Nuero Data Design\\brainlit\\benchmarking_datasets\\Manual-GT\\8-01_test_1-5\\8-01_test_1\\tree_13.swc\n",
      "D:\\Study\\Nuero Data Design\\brainlit\\benchmarking_datasets\\Manual-GT\\8-01_test_1-5\\8-01_test_1\\tree_14.swc\n",
      "D:\\Study\\Nuero Data Design\\brainlit\\benchmarking_datasets\\Manual-GT\\8-01_test_1-5\\8-01_test_1\\tree_15.swc\n",
      "D:\\Study\\Nuero Data Design\\brainlit\\benchmarking_datasets\\Manual-GT\\8-01_test_1-5\\8-01_test_1\\tree_16.swc\n",
      "D:\\Study\\Nuero Data Design\\brainlit\\benchmarking_datasets\\Manual-GT\\8-01_test_1-5\\8-01_test_1\\tree_17.swc\n",
      "D:\\Study\\Nuero Data Design\\brainlit\\benchmarking_datasets\\Manual-GT\\8-01_test_1-5\\8-01_test_1\\tree_18.swc\n",
      "D:\\Study\\Nuero Data Design\\brainlit\\benchmarking_datasets\\Manual-GT\\8-01_test_1-5\\8-01_test_1\\tree_19.swc\n",
      "D:\\Study\\Nuero Data Design\\brainlit\\benchmarking_datasets\\Manual-GT\\8-01_test_1-5\\8-01_test_1\\tree_2.swc\n",
      "D:\\Study\\Nuero Data Design\\brainlit\\benchmarking_datasets\\Manual-GT\\8-01_test_1-5\\8-01_test_1\\tree_3.swc\n",
      "D:\\Study\\Nuero Data Design\\brainlit\\benchmarking_datasets\\Manual-GT\\8-01_test_1-5\\8-01_test_1\\tree_4.swc\n",
      "D:\\Study\\Nuero Data Design\\brainlit\\benchmarking_datasets\\Manual-GT\\8-01_test_1-5\\8-01_test_1\\tree_5.swc\n",
      "D:\\Study\\Nuero Data Design\\brainlit\\benchmarking_datasets\\Manual-GT\\8-01_test_1-5\\8-01_test_1\\tree_6.swc\n",
      "D:\\Study\\Nuero Data Design\\brainlit\\benchmarking_datasets\\Manual-GT\\8-01_test_1-5\\8-01_test_1\\tree_7.swc\n",
      "D:\\Study\\Nuero Data Design\\brainlit\\benchmarking_datasets\\Manual-GT\\8-01_test_1-5\\8-01_test_1\\tree_8.swc\n",
      "D:\\Study\\Nuero Data Design\\brainlit\\benchmarking_datasets\\Manual-GT\\8-01_test_1-5\\8-01_test_1\\tree_9.swc\n"
     ]
    },
    {
     "name": "stderr",
     "output_type": "stream",
     "text": [
      "D:\\Anaconda3\\envs\\brainlit\\lib\\site-packages\\ipykernel_launcher.py:78: UserWarning: D:\\Study\\Nuero Data Design\\brainlit\\benchmarking_masks\\test_1_mask.tif is a low contrast image\n"
     ]
    },
    {
     "name": "stdout",
     "output_type": "stream",
     "text": [
      "D:\\Study\\Nuero Data Design\\brainlit\\benchmarking_datasets\\Images\\test_10-gfp.tif\n",
      "D:\\Study\\Nuero Data Design\\brainlit\\benchmarking_datasets\\Manual-GT\\8-01_test_6-10\\8-01_test_10\\tree_1.swc\n",
      "D:\\Study\\Nuero Data Design\\brainlit\\benchmarking_datasets\\Manual-GT\\8-01_test_6-10\\8-01_test_10\\tree_2.swc\n",
      "D:\\Study\\Nuero Data Design\\brainlit\\benchmarking_datasets\\Manual-GT\\8-01_test_6-10\\8-01_test_10\\tree_3.swc\n",
      "D:\\Study\\Nuero Data Design\\brainlit\\benchmarking_datasets\\Manual-GT\\8-01_test_6-10\\8-01_test_10\\tree_4.swc\n",
      "D:\\Study\\Nuero Data Design\\brainlit\\benchmarking_datasets\\Manual-GT\\8-01_test_6-10\\8-01_test_10\\tree_5.swc\n",
      "D:\\Study\\Nuero Data Design\\brainlit\\benchmarking_datasets\\Manual-GT\\8-01_test_6-10\\8-01_test_10\\tree_6.swc\n",
      "D:\\Study\\Nuero Data Design\\brainlit\\benchmarking_datasets\\Manual-GT\\8-01_test_6-10\\8-01_test_10\\tree_7.swc\n",
      "D:\\Study\\Nuero Data Design\\brainlit\\benchmarking_datasets\\Manual-GT\\8-01_test_6-10\\8-01_test_10\\tree_8.swc\n",
      "D:\\Study\\Nuero Data Design\\brainlit\\benchmarking_datasets\\Manual-GT\\8-01_test_6-10\\8-01_test_10\\tree_9.swc\n"
     ]
    },
    {
     "name": "stderr",
     "output_type": "stream",
     "text": [
      "D:\\Anaconda3\\envs\\brainlit\\lib\\site-packages\\ipykernel_launcher.py:78: UserWarning: D:\\Study\\Nuero Data Design\\brainlit\\benchmarking_masks\\test_10_mask.tif is a low contrast image\n"
     ]
    },
    {
     "name": "stdout",
     "output_type": "stream",
     "text": [
      "D:\\Study\\Nuero Data Design\\brainlit\\benchmarking_datasets\\Images\\test_11-gfp.tif\n",
      "D:\\Study\\Nuero Data Design\\brainlit\\benchmarking_datasets\\Manual-GT\\8-01_test_11-15\\8-01_test_11\\tree_1.swc\n",
      "D:\\Study\\Nuero Data Design\\brainlit\\benchmarking_datasets\\Manual-GT\\8-01_test_11-15\\8-01_test_11\\tree_2.swc\n",
      "D:\\Study\\Nuero Data Design\\brainlit\\benchmarking_datasets\\Manual-GT\\8-01_test_11-15\\8-01_test_11\\tree_3.swc\n",
      "D:\\Study\\Nuero Data Design\\brainlit\\benchmarking_datasets\\Manual-GT\\8-01_test_11-15\\8-01_test_11\\tree_4.swc\n"
     ]
    },
    {
     "name": "stderr",
     "output_type": "stream",
     "text": [
      "D:\\Anaconda3\\envs\\brainlit\\lib\\site-packages\\ipykernel_launcher.py:78: UserWarning: D:\\Study\\Nuero Data Design\\brainlit\\benchmarking_masks\\test_11_mask.tif is a low contrast image\n"
     ]
    },
    {
     "name": "stdout",
     "output_type": "stream",
     "text": [
      "D:\\Study\\Nuero Data Design\\brainlit\\benchmarking_datasets\\Images\\test_12-gfp.tif\n",
      "D:\\Study\\Nuero Data Design\\brainlit\\benchmarking_datasets\\Manual-GT\\8-01_test_11-15\\8-01_test_12\\tree_1.swc\n",
      "D:\\Study\\Nuero Data Design\\brainlit\\benchmarking_datasets\\Manual-GT\\8-01_test_11-15\\8-01_test_12\\tree_10.swc\n",
      "D:\\Study\\Nuero Data Design\\brainlit\\benchmarking_datasets\\Manual-GT\\8-01_test_11-15\\8-01_test_12\\tree_11.swc\n",
      "D:\\Study\\Nuero Data Design\\brainlit\\benchmarking_datasets\\Manual-GT\\8-01_test_11-15\\8-01_test_12\\tree_12.swc\n",
      "D:\\Study\\Nuero Data Design\\brainlit\\benchmarking_datasets\\Manual-GT\\8-01_test_11-15\\8-01_test_12\\tree_13.swc\n",
      "D:\\Study\\Nuero Data Design\\brainlit\\benchmarking_datasets\\Manual-GT\\8-01_test_11-15\\8-01_test_12\\tree_2.swc\n",
      "D:\\Study\\Nuero Data Design\\brainlit\\benchmarking_datasets\\Manual-GT\\8-01_test_11-15\\8-01_test_12\\tree_3.swc\n",
      "D:\\Study\\Nuero Data Design\\brainlit\\benchmarking_datasets\\Manual-GT\\8-01_test_11-15\\8-01_test_12\\tree_4.swc\n",
      "D:\\Study\\Nuero Data Design\\brainlit\\benchmarking_datasets\\Manual-GT\\8-01_test_11-15\\8-01_test_12\\tree_5.swc\n",
      "D:\\Study\\Nuero Data Design\\brainlit\\benchmarking_datasets\\Manual-GT\\8-01_test_11-15\\8-01_test_12\\tree_6.swc\n",
      "D:\\Study\\Nuero Data Design\\brainlit\\benchmarking_datasets\\Manual-GT\\8-01_test_11-15\\8-01_test_12\\tree_7.swc\n",
      "D:\\Study\\Nuero Data Design\\brainlit\\benchmarking_datasets\\Manual-GT\\8-01_test_11-15\\8-01_test_12\\tree_8.swc\n",
      "D:\\Study\\Nuero Data Design\\brainlit\\benchmarking_datasets\\Manual-GT\\8-01_test_11-15\\8-01_test_12\\tree_9.swc\n"
     ]
    },
    {
     "name": "stderr",
     "output_type": "stream",
     "text": [
      "D:\\Anaconda3\\envs\\brainlit\\lib\\site-packages\\ipykernel_launcher.py:78: UserWarning: D:\\Study\\Nuero Data Design\\brainlit\\benchmarking_masks\\test_12_mask.tif is a low contrast image\n"
     ]
    },
    {
     "name": "stdout",
     "output_type": "stream",
     "text": [
      "D:\\Study\\Nuero Data Design\\brainlit\\benchmarking_datasets\\Images\\test_13-gfp.tif\n",
      "D:\\Study\\Nuero Data Design\\brainlit\\benchmarking_datasets\\Manual-GT\\8-01_test_11-15\\8-01_test_13\\tree_1.swc\n",
      "D:\\Study\\Nuero Data Design\\brainlit\\benchmarking_datasets\\Manual-GT\\8-01_test_11-15\\8-01_test_13\\tree_2.swc\n",
      "D:\\Study\\Nuero Data Design\\brainlit\\benchmarking_datasets\\Manual-GT\\8-01_test_11-15\\8-01_test_13\\tree_3.swc\n",
      "D:\\Study\\Nuero Data Design\\brainlit\\benchmarking_datasets\\Manual-GT\\8-01_test_11-15\\8-01_test_13\\tree_4.swc\n",
      "D:\\Study\\Nuero Data Design\\brainlit\\benchmarking_datasets\\Manual-GT\\8-01_test_11-15\\8-01_test_13\\tree_5.swc\n",
      "D:\\Study\\Nuero Data Design\\brainlit\\benchmarking_datasets\\Manual-GT\\8-01_test_11-15\\8-01_test_13\\tree_6.swc\n",
      "D:\\Study\\Nuero Data Design\\brainlit\\benchmarking_datasets\\Manual-GT\\8-01_test_11-15\\8-01_test_13\\tree_7.swc\n",
      "D:\\Study\\Nuero Data Design\\brainlit\\benchmarking_datasets\\Manual-GT\\8-01_test_11-15\\8-01_test_13\\tree_8.swc\n"
     ]
    },
    {
     "name": "stderr",
     "output_type": "stream",
     "text": [
      "D:\\Anaconda3\\envs\\brainlit\\lib\\site-packages\\ipykernel_launcher.py:78: UserWarning: D:\\Study\\Nuero Data Design\\brainlit\\benchmarking_masks\\test_13_mask.tif is a low contrast image\n"
     ]
    },
    {
     "name": "stdout",
     "output_type": "stream",
     "text": [
      "D:\\Study\\Nuero Data Design\\brainlit\\benchmarking_datasets\\Images\\test_14-gfp.tif\n",
      "D:\\Study\\Nuero Data Design\\brainlit\\benchmarking_datasets\\Manual-GT\\8-01_test_11-15\\8-01_test_14\\tree_1.swc\n",
      "D:\\Study\\Nuero Data Design\\brainlit\\benchmarking_datasets\\Manual-GT\\8-01_test_11-15\\8-01_test_14\\tree_2.swc\n",
      "D:\\Study\\Nuero Data Design\\brainlit\\benchmarking_datasets\\Manual-GT\\8-01_test_11-15\\8-01_test_14\\tree_3.swc\n",
      "D:\\Study\\Nuero Data Design\\brainlit\\benchmarking_datasets\\Manual-GT\\8-01_test_11-15\\8-01_test_14\\tree_4.swc\n",
      "D:\\Study\\Nuero Data Design\\brainlit\\benchmarking_datasets\\Manual-GT\\8-01_test_11-15\\8-01_test_14\\tree_5.swc\n",
      "D:\\Study\\Nuero Data Design\\brainlit\\benchmarking_datasets\\Manual-GT\\8-01_test_11-15\\8-01_test_14\\tree_6.swc\n",
      "D:\\Study\\Nuero Data Design\\brainlit\\benchmarking_datasets\\Manual-GT\\8-01_test_11-15\\8-01_test_14\\tree_7.swc\n"
     ]
    },
    {
     "name": "stderr",
     "output_type": "stream",
     "text": [
      "D:\\Anaconda3\\envs\\brainlit\\lib\\site-packages\\ipykernel_launcher.py:78: UserWarning: D:\\Study\\Nuero Data Design\\brainlit\\benchmarking_masks\\test_14_mask.tif is a low contrast image\n"
     ]
    },
    {
     "name": "stdout",
     "output_type": "stream",
     "text": [
      "D:\\Study\\Nuero Data Design\\brainlit\\benchmarking_datasets\\Images\\test_15-gfp.tif\n",
      "D:\\Study\\Nuero Data Design\\brainlit\\benchmarking_datasets\\Manual-GT\\8-01_test_11-15\\8-01_test_15\\tree_1.swc\n",
      "D:\\Study\\Nuero Data Design\\brainlit\\benchmarking_datasets\\Manual-GT\\8-01_test_11-15\\8-01_test_15\\tree_10.swc\n",
      "D:\\Study\\Nuero Data Design\\brainlit\\benchmarking_datasets\\Manual-GT\\8-01_test_11-15\\8-01_test_15\\tree_11.swc\n",
      "D:\\Study\\Nuero Data Design\\brainlit\\benchmarking_datasets\\Manual-GT\\8-01_test_11-15\\8-01_test_15\\tree_12.swc\n",
      "D:\\Study\\Nuero Data Design\\brainlit\\benchmarking_datasets\\Manual-GT\\8-01_test_11-15\\8-01_test_15\\tree_13.swc\n",
      "D:\\Study\\Nuero Data Design\\brainlit\\benchmarking_datasets\\Manual-GT\\8-01_test_11-15\\8-01_test_15\\tree_14.swc\n",
      "D:\\Study\\Nuero Data Design\\brainlit\\benchmarking_datasets\\Manual-GT\\8-01_test_11-15\\8-01_test_15\\tree_15.swc\n",
      "D:\\Study\\Nuero Data Design\\brainlit\\benchmarking_datasets\\Manual-GT\\8-01_test_11-15\\8-01_test_15\\tree_16.swc\n",
      "D:\\Study\\Nuero Data Design\\brainlit\\benchmarking_datasets\\Manual-GT\\8-01_test_11-15\\8-01_test_15\\tree_17.swc\n",
      "D:\\Study\\Nuero Data Design\\brainlit\\benchmarking_datasets\\Manual-GT\\8-01_test_11-15\\8-01_test_15\\tree_18.swc\n",
      "D:\\Study\\Nuero Data Design\\brainlit\\benchmarking_datasets\\Manual-GT\\8-01_test_11-15\\8-01_test_15\\tree_2.swc\n",
      "D:\\Study\\Nuero Data Design\\brainlit\\benchmarking_datasets\\Manual-GT\\8-01_test_11-15\\8-01_test_15\\tree_3.swc\n",
      "D:\\Study\\Nuero Data Design\\brainlit\\benchmarking_datasets\\Manual-GT\\8-01_test_11-15\\8-01_test_15\\tree_4.swc\n",
      "D:\\Study\\Nuero Data Design\\brainlit\\benchmarking_datasets\\Manual-GT\\8-01_test_11-15\\8-01_test_15\\tree_5.swc\n",
      "D:\\Study\\Nuero Data Design\\brainlit\\benchmarking_datasets\\Manual-GT\\8-01_test_11-15\\8-01_test_15\\tree_6.swc\n",
      "D:\\Study\\Nuero Data Design\\brainlit\\benchmarking_datasets\\Manual-GT\\8-01_test_11-15\\8-01_test_15\\tree_7.swc\n",
      "D:\\Study\\Nuero Data Design\\brainlit\\benchmarking_datasets\\Manual-GT\\8-01_test_11-15\\8-01_test_15\\tree_8.swc\n",
      "D:\\Study\\Nuero Data Design\\brainlit\\benchmarking_datasets\\Manual-GT\\8-01_test_11-15\\8-01_test_15\\tree_9.swc\n"
     ]
    },
    {
     "name": "stderr",
     "output_type": "stream",
     "text": [
      "D:\\Anaconda3\\envs\\brainlit\\lib\\site-packages\\ipykernel_launcher.py:78: UserWarning: D:\\Study\\Nuero Data Design\\brainlit\\benchmarking_masks\\test_15_mask.tif is a low contrast image\n"
     ]
    },
    {
     "name": "stdout",
     "output_type": "stream",
     "text": [
      "D:\\Study\\Nuero Data Design\\brainlit\\benchmarking_datasets\\Images\\test_16-gfp.tif\n",
      "D:\\Study\\Nuero Data Design\\brainlit\\benchmarking_datasets\\Manual-GT\\8-01_test_16-20\\8-01_test_16\\tree_1.swc\n",
      "D:\\Study\\Nuero Data Design\\brainlit\\benchmarking_datasets\\Manual-GT\\8-01_test_16-20\\8-01_test_16\\tree_10.swc\n",
      "D:\\Study\\Nuero Data Design\\brainlit\\benchmarking_datasets\\Manual-GT\\8-01_test_16-20\\8-01_test_16\\tree_2.swc\n",
      "D:\\Study\\Nuero Data Design\\brainlit\\benchmarking_datasets\\Manual-GT\\8-01_test_16-20\\8-01_test_16\\tree_3.swc\n",
      "D:\\Study\\Nuero Data Design\\brainlit\\benchmarking_datasets\\Manual-GT\\8-01_test_16-20\\8-01_test_16\\tree_4.swc\n",
      "D:\\Study\\Nuero Data Design\\brainlit\\benchmarking_datasets\\Manual-GT\\8-01_test_16-20\\8-01_test_16\\tree_5.swc\n",
      "D:\\Study\\Nuero Data Design\\brainlit\\benchmarking_datasets\\Manual-GT\\8-01_test_16-20\\8-01_test_16\\tree_6.swc\n",
      "D:\\Study\\Nuero Data Design\\brainlit\\benchmarking_datasets\\Manual-GT\\8-01_test_16-20\\8-01_test_16\\tree_7.swc\n",
      "D:\\Study\\Nuero Data Design\\brainlit\\benchmarking_datasets\\Manual-GT\\8-01_test_16-20\\8-01_test_16\\tree_8.swc\n",
      "D:\\Study\\Nuero Data Design\\brainlit\\benchmarking_datasets\\Manual-GT\\8-01_test_16-20\\8-01_test_16\\tree_9.swc\n"
     ]
    },
    {
     "name": "stderr",
     "output_type": "stream",
     "text": [
      "D:\\Anaconda3\\envs\\brainlit\\lib\\site-packages\\ipykernel_launcher.py:78: UserWarning: D:\\Study\\Nuero Data Design\\brainlit\\benchmarking_masks\\test_16_mask.tif is a low contrast image\n"
     ]
    },
    {
     "name": "stdout",
     "output_type": "stream",
     "text": [
      "D:\\Study\\Nuero Data Design\\brainlit\\benchmarking_datasets\\Images\\test_17-gfp.tif\n",
      "D:\\Study\\Nuero Data Design\\brainlit\\benchmarking_datasets\\Manual-GT\\8-01_test_16-20\\8-01_test_17\\tree_1.swc\n",
      "D:\\Study\\Nuero Data Design\\brainlit\\benchmarking_datasets\\Manual-GT\\8-01_test_16-20\\8-01_test_17\\tree_2.swc\n",
      "D:\\Study\\Nuero Data Design\\brainlit\\benchmarking_datasets\\Manual-GT\\8-01_test_16-20\\8-01_test_17\\tree_3.swc\n",
      "D:\\Study\\Nuero Data Design\\brainlit\\benchmarking_datasets\\Manual-GT\\8-01_test_16-20\\8-01_test_17\\tree_4.swc\n",
      "D:\\Study\\Nuero Data Design\\brainlit\\benchmarking_datasets\\Manual-GT\\8-01_test_16-20\\8-01_test_17\\tree_5.swc\n"
     ]
    },
    {
     "name": "stderr",
     "output_type": "stream",
     "text": [
      "D:\\Anaconda3\\envs\\brainlit\\lib\\site-packages\\ipykernel_launcher.py:78: UserWarning: D:\\Study\\Nuero Data Design\\brainlit\\benchmarking_masks\\test_17_mask.tif is a low contrast image\n"
     ]
    },
    {
     "name": "stdout",
     "output_type": "stream",
     "text": [
      "D:\\Study\\Nuero Data Design\\brainlit\\benchmarking_datasets\\Images\\test_18-gfp.tif\n",
      "D:\\Study\\Nuero Data Design\\brainlit\\benchmarking_datasets\\Manual-GT\\8-01_test_16-20\\8-01_test_18\\tree_1.swc\n",
      "D:\\Study\\Nuero Data Design\\brainlit\\benchmarking_datasets\\Manual-GT\\8-01_test_16-20\\8-01_test_18\\tree_10.swc\n",
      "D:\\Study\\Nuero Data Design\\brainlit\\benchmarking_datasets\\Manual-GT\\8-01_test_16-20\\8-01_test_18\\tree_11.swc\n",
      "D:\\Study\\Nuero Data Design\\brainlit\\benchmarking_datasets\\Manual-GT\\8-01_test_16-20\\8-01_test_18\\tree_12.swc\n",
      "D:\\Study\\Nuero Data Design\\brainlit\\benchmarking_datasets\\Manual-GT\\8-01_test_16-20\\8-01_test_18\\tree_13.swc\n",
      "D:\\Study\\Nuero Data Design\\brainlit\\benchmarking_datasets\\Manual-GT\\8-01_test_16-20\\8-01_test_18\\tree_14.swc\n",
      "D:\\Study\\Nuero Data Design\\brainlit\\benchmarking_datasets\\Manual-GT\\8-01_test_16-20\\8-01_test_18\\tree_15.swc\n",
      "D:\\Study\\Nuero Data Design\\brainlit\\benchmarking_datasets\\Manual-GT\\8-01_test_16-20\\8-01_test_18\\tree_16.swc\n",
      "D:\\Study\\Nuero Data Design\\brainlit\\benchmarking_datasets\\Manual-GT\\8-01_test_16-20\\8-01_test_18\\tree_17.swc\n",
      "D:\\Study\\Nuero Data Design\\brainlit\\benchmarking_datasets\\Manual-GT\\8-01_test_16-20\\8-01_test_18\\tree_18.swc\n",
      "D:\\Study\\Nuero Data Design\\brainlit\\benchmarking_datasets\\Manual-GT\\8-01_test_16-20\\8-01_test_18\\tree_19.swc\n",
      "D:\\Study\\Nuero Data Design\\brainlit\\benchmarking_datasets\\Manual-GT\\8-01_test_16-20\\8-01_test_18\\tree_2.swc\n",
      "D:\\Study\\Nuero Data Design\\brainlit\\benchmarking_datasets\\Manual-GT\\8-01_test_16-20\\8-01_test_18\\tree_20.swc\n",
      "D:\\Study\\Nuero Data Design\\brainlit\\benchmarking_datasets\\Manual-GT\\8-01_test_16-20\\8-01_test_18\\tree_21.swc\n",
      "D:\\Study\\Nuero Data Design\\brainlit\\benchmarking_datasets\\Manual-GT\\8-01_test_16-20\\8-01_test_18\\tree_22.swc\n",
      "D:\\Study\\Nuero Data Design\\brainlit\\benchmarking_datasets\\Manual-GT\\8-01_test_16-20\\8-01_test_18\\tree_23.swc\n",
      "D:\\Study\\Nuero Data Design\\brainlit\\benchmarking_datasets\\Manual-GT\\8-01_test_16-20\\8-01_test_18\\tree_24.swc\n",
      "D:\\Study\\Nuero Data Design\\brainlit\\benchmarking_datasets\\Manual-GT\\8-01_test_16-20\\8-01_test_18\\tree_25.swc\n",
      "D:\\Study\\Nuero Data Design\\brainlit\\benchmarking_datasets\\Manual-GT\\8-01_test_16-20\\8-01_test_18\\tree_26.swc\n",
      "D:\\Study\\Nuero Data Design\\brainlit\\benchmarking_datasets\\Manual-GT\\8-01_test_16-20\\8-01_test_18\\tree_27.swc\n",
      "D:\\Study\\Nuero Data Design\\brainlit\\benchmarking_datasets\\Manual-GT\\8-01_test_16-20\\8-01_test_18\\tree_3.swc\n",
      "D:\\Study\\Nuero Data Design\\brainlit\\benchmarking_datasets\\Manual-GT\\8-01_test_16-20\\8-01_test_18\\tree_4.swc\n",
      "D:\\Study\\Nuero Data Design\\brainlit\\benchmarking_datasets\\Manual-GT\\8-01_test_16-20\\8-01_test_18\\tree_5.swc\n",
      "D:\\Study\\Nuero Data Design\\brainlit\\benchmarking_datasets\\Manual-GT\\8-01_test_16-20\\8-01_test_18\\tree_6.swc\n",
      "D:\\Study\\Nuero Data Design\\brainlit\\benchmarking_datasets\\Manual-GT\\8-01_test_16-20\\8-01_test_18\\tree_7.swc\n",
      "D:\\Study\\Nuero Data Design\\brainlit\\benchmarking_datasets\\Manual-GT\\8-01_test_16-20\\8-01_test_18\\tree_8.swc\n",
      "D:\\Study\\Nuero Data Design\\brainlit\\benchmarking_datasets\\Manual-GT\\8-01_test_16-20\\8-01_test_18\\tree_9.swc\n"
     ]
    },
    {
     "name": "stderr",
     "output_type": "stream",
     "text": [
      "D:\\Anaconda3\\envs\\brainlit\\lib\\site-packages\\ipykernel_launcher.py:78: UserWarning: D:\\Study\\Nuero Data Design\\brainlit\\benchmarking_masks\\test_18_mask.tif is a low contrast image\n"
     ]
    },
    {
     "name": "stdout",
     "output_type": "stream",
     "text": [
      "D:\\Study\\Nuero Data Design\\brainlit\\benchmarking_datasets\\Images\\test_19-gfp.tif\n",
      "D:\\Study\\Nuero Data Design\\brainlit\\benchmarking_datasets\\Manual-GT\\8-01_test_16-20\\8-01_test_19\\tree_1.swc\n",
      "D:\\Study\\Nuero Data Design\\brainlit\\benchmarking_datasets\\Manual-GT\\8-01_test_16-20\\8-01_test_19\\tree_10.swc\n",
      "D:\\Study\\Nuero Data Design\\brainlit\\benchmarking_datasets\\Manual-GT\\8-01_test_16-20\\8-01_test_19\\tree_11.swc\n",
      "D:\\Study\\Nuero Data Design\\brainlit\\benchmarking_datasets\\Manual-GT\\8-01_test_16-20\\8-01_test_19\\tree_12.swc\n",
      "D:\\Study\\Nuero Data Design\\brainlit\\benchmarking_datasets\\Manual-GT\\8-01_test_16-20\\8-01_test_19\\tree_13.swc\n",
      "D:\\Study\\Nuero Data Design\\brainlit\\benchmarking_datasets\\Manual-GT\\8-01_test_16-20\\8-01_test_19\\tree_14.swc\n",
      "D:\\Study\\Nuero Data Design\\brainlit\\benchmarking_datasets\\Manual-GT\\8-01_test_16-20\\8-01_test_19\\tree_15.swc\n",
      "D:\\Study\\Nuero Data Design\\brainlit\\benchmarking_datasets\\Manual-GT\\8-01_test_16-20\\8-01_test_19\\tree_2.swc\n",
      "D:\\Study\\Nuero Data Design\\brainlit\\benchmarking_datasets\\Manual-GT\\8-01_test_16-20\\8-01_test_19\\tree_3.swc\n",
      "D:\\Study\\Nuero Data Design\\brainlit\\benchmarking_datasets\\Manual-GT\\8-01_test_16-20\\8-01_test_19\\tree_4.swc\n",
      "D:\\Study\\Nuero Data Design\\brainlit\\benchmarking_datasets\\Manual-GT\\8-01_test_16-20\\8-01_test_19\\tree_5.swc\n",
      "D:\\Study\\Nuero Data Design\\brainlit\\benchmarking_datasets\\Manual-GT\\8-01_test_16-20\\8-01_test_19\\tree_6.swc\n",
      "D:\\Study\\Nuero Data Design\\brainlit\\benchmarking_datasets\\Manual-GT\\8-01_test_16-20\\8-01_test_19\\tree_7.swc\n",
      "D:\\Study\\Nuero Data Design\\brainlit\\benchmarking_datasets\\Manual-GT\\8-01_test_16-20\\8-01_test_19\\tree_8.swc\n",
      "D:\\Study\\Nuero Data Design\\brainlit\\benchmarking_datasets\\Manual-GT\\8-01_test_16-20\\8-01_test_19\\tree_9.swc\n"
     ]
    },
    {
     "name": "stderr",
     "output_type": "stream",
     "text": [
      "D:\\Anaconda3\\envs\\brainlit\\lib\\site-packages\\ipykernel_launcher.py:78: UserWarning: D:\\Study\\Nuero Data Design\\brainlit\\benchmarking_masks\\test_19_mask.tif is a low contrast image\n"
     ]
    },
    {
     "name": "stdout",
     "output_type": "stream",
     "text": [
      "D:\\Study\\Nuero Data Design\\brainlit\\benchmarking_datasets\\Images\\test_2-gfp.tif\n",
      "D:\\Study\\Nuero Data Design\\brainlit\\benchmarking_datasets\\Manual-GT\\8-01_test_1-5\\8-01_test_2\\tree_1.swc\n",
      "D:\\Study\\Nuero Data Design\\brainlit\\benchmarking_datasets\\Manual-GT\\8-01_test_1-5\\8-01_test_2\\tree_2.swc\n",
      "D:\\Study\\Nuero Data Design\\brainlit\\benchmarking_datasets\\Manual-GT\\8-01_test_1-5\\8-01_test_2\\tree_3.swc\n"
     ]
    },
    {
     "name": "stderr",
     "output_type": "stream",
     "text": [
      "D:\\Anaconda3\\envs\\brainlit\\lib\\site-packages\\ipykernel_launcher.py:78: UserWarning: D:\\Study\\Nuero Data Design\\brainlit\\benchmarking_masks\\test_2_mask.tif is a low contrast image\n"
     ]
    },
    {
     "name": "stdout",
     "output_type": "stream",
     "text": [
      "D:\\Study\\Nuero Data Design\\brainlit\\benchmarking_datasets\\Images\\test_20-gfp.tif\n",
      "D:\\Study\\Nuero Data Design\\brainlit\\benchmarking_datasets\\Manual-GT\\8-01_test_16-20\\8-01_test_20\\tree_1.swc\n",
      "D:\\Study\\Nuero Data Design\\brainlit\\benchmarking_datasets\\Manual-GT\\8-01_test_16-20\\8-01_test_20\\tree_10.swc\n",
      "D:\\Study\\Nuero Data Design\\brainlit\\benchmarking_datasets\\Manual-GT\\8-01_test_16-20\\8-01_test_20\\tree_11.swc\n",
      "D:\\Study\\Nuero Data Design\\brainlit\\benchmarking_datasets\\Manual-GT\\8-01_test_16-20\\8-01_test_20\\tree_12.swc\n",
      "D:\\Study\\Nuero Data Design\\brainlit\\benchmarking_datasets\\Manual-GT\\8-01_test_16-20\\8-01_test_20\\tree_13.swc\n",
      "D:\\Study\\Nuero Data Design\\brainlit\\benchmarking_datasets\\Manual-GT\\8-01_test_16-20\\8-01_test_20\\tree_2.swc\n",
      "D:\\Study\\Nuero Data Design\\brainlit\\benchmarking_datasets\\Manual-GT\\8-01_test_16-20\\8-01_test_20\\tree_3.swc\n",
      "D:\\Study\\Nuero Data Design\\brainlit\\benchmarking_datasets\\Manual-GT\\8-01_test_16-20\\8-01_test_20\\tree_4.swc\n",
      "D:\\Study\\Nuero Data Design\\brainlit\\benchmarking_datasets\\Manual-GT\\8-01_test_16-20\\8-01_test_20\\tree_5.swc\n",
      "D:\\Study\\Nuero Data Design\\brainlit\\benchmarking_datasets\\Manual-GT\\8-01_test_16-20\\8-01_test_20\\tree_6.swc\n",
      "D:\\Study\\Nuero Data Design\\brainlit\\benchmarking_datasets\\Manual-GT\\8-01_test_16-20\\8-01_test_20\\tree_7.swc\n",
      "D:\\Study\\Nuero Data Design\\brainlit\\benchmarking_datasets\\Manual-GT\\8-01_test_16-20\\8-01_test_20\\tree_8.swc\n",
      "D:\\Study\\Nuero Data Design\\brainlit\\benchmarking_datasets\\Manual-GT\\8-01_test_16-20\\8-01_test_20\\tree_9.swc\n"
     ]
    },
    {
     "name": "stderr",
     "output_type": "stream",
     "text": [
      "D:\\Anaconda3\\envs\\brainlit\\lib\\site-packages\\ipykernel_launcher.py:78: UserWarning: D:\\Study\\Nuero Data Design\\brainlit\\benchmarking_masks\\test_20_mask.tif is a low contrast image\n"
     ]
    },
    {
     "name": "stdout",
     "output_type": "stream",
     "text": [
      "D:\\Study\\Nuero Data Design\\brainlit\\benchmarking_datasets\\Images\\test_21-gfp.tif\n",
      "D:\\Study\\Nuero Data Design\\brainlit\\benchmarking_datasets\\Manual-GT\\8-01_test_21-25\\8-01_test_21\\tree_1.swc\n",
      "D:\\Study\\Nuero Data Design\\brainlit\\benchmarking_datasets\\Manual-GT\\8-01_test_21-25\\8-01_test_21\\tree_2.swc\n",
      "D:\\Study\\Nuero Data Design\\brainlit\\benchmarking_datasets\\Manual-GT\\8-01_test_21-25\\8-01_test_21\\tree_3.swc\n",
      "D:\\Study\\Nuero Data Design\\brainlit\\benchmarking_datasets\\Manual-GT\\8-01_test_21-25\\8-01_test_21\\tree_4.swc\n",
      "D:\\Study\\Nuero Data Design\\brainlit\\benchmarking_datasets\\Manual-GT\\8-01_test_21-25\\8-01_test_21\\tree_5.swc\n"
     ]
    },
    {
     "name": "stderr",
     "output_type": "stream",
     "text": [
      "D:\\Anaconda3\\envs\\brainlit\\lib\\site-packages\\ipykernel_launcher.py:78: UserWarning: D:\\Study\\Nuero Data Design\\brainlit\\benchmarking_masks\\test_21_mask.tif is a low contrast image\n"
     ]
    },
    {
     "name": "stdout",
     "output_type": "stream",
     "text": [
      "D:\\Study\\Nuero Data Design\\brainlit\\benchmarking_datasets\\Images\\test_22-gfp.tif\n",
      "D:\\Study\\Nuero Data Design\\brainlit\\benchmarking_datasets\\Manual-GT\\8-01_test_21-25\\8-01_test_22\\tree_1.swc\n",
      "D:\\Study\\Nuero Data Design\\brainlit\\benchmarking_datasets\\Manual-GT\\8-01_test_21-25\\8-01_test_22\\tree_2.swc\n",
      "D:\\Study\\Nuero Data Design\\brainlit\\benchmarking_datasets\\Manual-GT\\8-01_test_21-25\\8-01_test_22\\tree_3.swc\n"
     ]
    },
    {
     "name": "stderr",
     "output_type": "stream",
     "text": [
      "D:\\Anaconda3\\envs\\brainlit\\lib\\site-packages\\ipykernel_launcher.py:78: UserWarning: D:\\Study\\Nuero Data Design\\brainlit\\benchmarking_masks\\test_22_mask.tif is a low contrast image\n"
     ]
    },
    {
     "name": "stdout",
     "output_type": "stream",
     "text": [
      "D:\\Study\\Nuero Data Design\\brainlit\\benchmarking_datasets\\Images\\test_23-gfp.tif\n",
      "D:\\Study\\Nuero Data Design\\brainlit\\benchmarking_datasets\\Manual-GT\\8-01_test_21-25\\8-01_test_23\\tree_1.swc\n",
      "D:\\Study\\Nuero Data Design\\brainlit\\benchmarking_datasets\\Manual-GT\\8-01_test_21-25\\8-01_test_23\\tree_2.swc\n",
      "D:\\Study\\Nuero Data Design\\brainlit\\benchmarking_datasets\\Manual-GT\\8-01_test_21-25\\8-01_test_23\\tree_3.swc\n"
     ]
    },
    {
     "name": "stderr",
     "output_type": "stream",
     "text": [
      "D:\\Anaconda3\\envs\\brainlit\\lib\\site-packages\\ipykernel_launcher.py:78: UserWarning: D:\\Study\\Nuero Data Design\\brainlit\\benchmarking_masks\\test_23_mask.tif is a low contrast image\n"
     ]
    },
    {
     "name": "stdout",
     "output_type": "stream",
     "text": [
      "D:\\Study\\Nuero Data Design\\brainlit\\benchmarking_datasets\\Images\\test_24-gfp.tif\n",
      "D:\\Study\\Nuero Data Design\\brainlit\\benchmarking_datasets\\Manual-GT\\8-01_test_21-25\\8-01_test_24\\tree_1.swc\n",
      "D:\\Study\\Nuero Data Design\\brainlit\\benchmarking_datasets\\Manual-GT\\8-01_test_21-25\\8-01_test_24\\tree_10.swc\n",
      "D:\\Study\\Nuero Data Design\\brainlit\\benchmarking_datasets\\Manual-GT\\8-01_test_21-25\\8-01_test_24\\tree_11.swc\n",
      "D:\\Study\\Nuero Data Design\\brainlit\\benchmarking_datasets\\Manual-GT\\8-01_test_21-25\\8-01_test_24\\tree_2.swc\n",
      "D:\\Study\\Nuero Data Design\\brainlit\\benchmarking_datasets\\Manual-GT\\8-01_test_21-25\\8-01_test_24\\tree_3.swc\n",
      "D:\\Study\\Nuero Data Design\\brainlit\\benchmarking_datasets\\Manual-GT\\8-01_test_21-25\\8-01_test_24\\tree_4.swc\n",
      "D:\\Study\\Nuero Data Design\\brainlit\\benchmarking_datasets\\Manual-GT\\8-01_test_21-25\\8-01_test_24\\tree_5.swc\n",
      "D:\\Study\\Nuero Data Design\\brainlit\\benchmarking_datasets\\Manual-GT\\8-01_test_21-25\\8-01_test_24\\tree_6.swc\n",
      "D:\\Study\\Nuero Data Design\\brainlit\\benchmarking_datasets\\Manual-GT\\8-01_test_21-25\\8-01_test_24\\tree_7.swc\n",
      "D:\\Study\\Nuero Data Design\\brainlit\\benchmarking_datasets\\Manual-GT\\8-01_test_21-25\\8-01_test_24\\tree_8.swc\n",
      "D:\\Study\\Nuero Data Design\\brainlit\\benchmarking_datasets\\Manual-GT\\8-01_test_21-25\\8-01_test_24\\tree_9.swc\n"
     ]
    },
    {
     "name": "stderr",
     "output_type": "stream",
     "text": [
      "D:\\Anaconda3\\envs\\brainlit\\lib\\site-packages\\ipykernel_launcher.py:78: UserWarning: D:\\Study\\Nuero Data Design\\brainlit\\benchmarking_masks\\test_24_mask.tif is a low contrast image\n"
     ]
    },
    {
     "name": "stdout",
     "output_type": "stream",
     "text": [
      "D:\\Study\\Nuero Data Design\\brainlit\\benchmarking_datasets\\Images\\test_25-gfp.tif\n",
      "D:\\Study\\Nuero Data Design\\brainlit\\benchmarking_datasets\\Manual-GT\\8-01_test_21-25\\8-01_test_25\\tree_1.swc\n",
      "D:\\Study\\Nuero Data Design\\brainlit\\benchmarking_datasets\\Manual-GT\\8-01_test_21-25\\8-01_test_25\\tree_10.swc\n",
      "D:\\Study\\Nuero Data Design\\brainlit\\benchmarking_datasets\\Manual-GT\\8-01_test_21-25\\8-01_test_25\\tree_11.swc\n",
      "D:\\Study\\Nuero Data Design\\brainlit\\benchmarking_datasets\\Manual-GT\\8-01_test_21-25\\8-01_test_25\\tree_12.swc\n",
      "D:\\Study\\Nuero Data Design\\brainlit\\benchmarking_datasets\\Manual-GT\\8-01_test_21-25\\8-01_test_25\\tree_13.swc\n",
      "D:\\Study\\Nuero Data Design\\brainlit\\benchmarking_datasets\\Manual-GT\\8-01_test_21-25\\8-01_test_25\\tree_14.swc\n",
      "D:\\Study\\Nuero Data Design\\brainlit\\benchmarking_datasets\\Manual-GT\\8-01_test_21-25\\8-01_test_25\\tree_15.swc\n",
      "D:\\Study\\Nuero Data Design\\brainlit\\benchmarking_datasets\\Manual-GT\\8-01_test_21-25\\8-01_test_25\\tree_16.swc\n",
      "D:\\Study\\Nuero Data Design\\brainlit\\benchmarking_datasets\\Manual-GT\\8-01_test_21-25\\8-01_test_25\\tree_17.swc\n",
      "D:\\Study\\Nuero Data Design\\brainlit\\benchmarking_datasets\\Manual-GT\\8-01_test_21-25\\8-01_test_25\\tree_18.swc\n",
      "D:\\Study\\Nuero Data Design\\brainlit\\benchmarking_datasets\\Manual-GT\\8-01_test_21-25\\8-01_test_25\\tree_19.swc\n",
      "D:\\Study\\Nuero Data Design\\brainlit\\benchmarking_datasets\\Manual-GT\\8-01_test_21-25\\8-01_test_25\\tree_2.swc\n",
      "D:\\Study\\Nuero Data Design\\brainlit\\benchmarking_datasets\\Manual-GT\\8-01_test_21-25\\8-01_test_25\\tree_20.swc\n",
      "D:\\Study\\Nuero Data Design\\brainlit\\benchmarking_datasets\\Manual-GT\\8-01_test_21-25\\8-01_test_25\\tree_21.swc\n",
      "D:\\Study\\Nuero Data Design\\brainlit\\benchmarking_datasets\\Manual-GT\\8-01_test_21-25\\8-01_test_25\\tree_3.swc\n",
      "D:\\Study\\Nuero Data Design\\brainlit\\benchmarking_datasets\\Manual-GT\\8-01_test_21-25\\8-01_test_25\\tree_4.swc\n",
      "D:\\Study\\Nuero Data Design\\brainlit\\benchmarking_datasets\\Manual-GT\\8-01_test_21-25\\8-01_test_25\\tree_5.swc\n",
      "D:\\Study\\Nuero Data Design\\brainlit\\benchmarking_datasets\\Manual-GT\\8-01_test_21-25\\8-01_test_25\\tree_6.swc\n",
      "D:\\Study\\Nuero Data Design\\brainlit\\benchmarking_datasets\\Manual-GT\\8-01_test_21-25\\8-01_test_25\\tree_7.swc\n",
      "D:\\Study\\Nuero Data Design\\brainlit\\benchmarking_datasets\\Manual-GT\\8-01_test_21-25\\8-01_test_25\\tree_8.swc\n",
      "D:\\Study\\Nuero Data Design\\brainlit\\benchmarking_datasets\\Manual-GT\\8-01_test_21-25\\8-01_test_25\\tree_9.swc\n"
     ]
    },
    {
     "name": "stderr",
     "output_type": "stream",
     "text": [
      "D:\\Anaconda3\\envs\\brainlit\\lib\\site-packages\\ipykernel_launcher.py:78: UserWarning: D:\\Study\\Nuero Data Design\\brainlit\\benchmarking_masks\\test_25_mask.tif is a low contrast image\n"
     ]
    },
    {
     "name": "stdout",
     "output_type": "stream",
     "text": [
      "D:\\Study\\Nuero Data Design\\brainlit\\benchmarking_datasets\\Images\\test_3-gfp.tif\n",
      "D:\\Study\\Nuero Data Design\\brainlit\\benchmarking_datasets\\Manual-GT\\8-01_test_1-5\\8-01_test_3\\tree_1.swc\n",
      "D:\\Study\\Nuero Data Design\\brainlit\\benchmarking_datasets\\Manual-GT\\8-01_test_1-5\\8-01_test_3\\tree_10.swc\n",
      "D:\\Study\\Nuero Data Design\\brainlit\\benchmarking_datasets\\Manual-GT\\8-01_test_1-5\\8-01_test_3\\tree_11.swc\n",
      "D:\\Study\\Nuero Data Design\\brainlit\\benchmarking_datasets\\Manual-GT\\8-01_test_1-5\\8-01_test_3\\tree_12.swc\n",
      "D:\\Study\\Nuero Data Design\\brainlit\\benchmarking_datasets\\Manual-GT\\8-01_test_1-5\\8-01_test_3\\tree_13.swc\n",
      "D:\\Study\\Nuero Data Design\\brainlit\\benchmarking_datasets\\Manual-GT\\8-01_test_1-5\\8-01_test_3\\tree_2.swc\n",
      "D:\\Study\\Nuero Data Design\\brainlit\\benchmarking_datasets\\Manual-GT\\8-01_test_1-5\\8-01_test_3\\tree_3.swc\n",
      "D:\\Study\\Nuero Data Design\\brainlit\\benchmarking_datasets\\Manual-GT\\8-01_test_1-5\\8-01_test_3\\tree_4.swc\n",
      "D:\\Study\\Nuero Data Design\\brainlit\\benchmarking_datasets\\Manual-GT\\8-01_test_1-5\\8-01_test_3\\tree_5.swc\n",
      "D:\\Study\\Nuero Data Design\\brainlit\\benchmarking_datasets\\Manual-GT\\8-01_test_1-5\\8-01_test_3\\tree_6.swc\n",
      "D:\\Study\\Nuero Data Design\\brainlit\\benchmarking_datasets\\Manual-GT\\8-01_test_1-5\\8-01_test_3\\tree_7.swc\n",
      "D:\\Study\\Nuero Data Design\\brainlit\\benchmarking_datasets\\Manual-GT\\8-01_test_1-5\\8-01_test_3\\tree_8.swc\n",
      "D:\\Study\\Nuero Data Design\\brainlit\\benchmarking_datasets\\Manual-GT\\8-01_test_1-5\\8-01_test_3\\tree_9.swc\n"
     ]
    },
    {
     "name": "stderr",
     "output_type": "stream",
     "text": [
      "D:\\Anaconda3\\envs\\brainlit\\lib\\site-packages\\ipykernel_launcher.py:78: UserWarning: D:\\Study\\Nuero Data Design\\brainlit\\benchmarking_masks\\test_3_mask.tif is a low contrast image\n"
     ]
    },
    {
     "name": "stdout",
     "output_type": "stream",
     "text": [
      "D:\\Study\\Nuero Data Design\\brainlit\\benchmarking_datasets\\Images\\test_4-gfp.tif\n",
      "D:\\Study\\Nuero Data Design\\brainlit\\benchmarking_datasets\\Manual-GT\\8-01_test_1-5\\8-01_test_4\\tree_1.swc\n"
     ]
    },
    {
     "name": "stderr",
     "output_type": "stream",
     "text": [
      "D:\\Anaconda3\\envs\\brainlit\\lib\\site-packages\\ipykernel_launcher.py:78: UserWarning: D:\\Study\\Nuero Data Design\\brainlit\\benchmarking_masks\\test_4_mask.tif is a low contrast image\n"
     ]
    },
    {
     "name": "stdout",
     "output_type": "stream",
     "text": [
      "D:\\Study\\Nuero Data Design\\brainlit\\benchmarking_datasets\\Images\\test_5-gfp.tif\n",
      "D:\\Study\\Nuero Data Design\\brainlit\\benchmarking_datasets\\Manual-GT\\8-01_test_1-5\\8-01_test_5\\tree_1.swc\n",
      "D:\\Study\\Nuero Data Design\\brainlit\\benchmarking_datasets\\Manual-GT\\8-01_test_1-5\\8-01_test_5\\tree_2.swc\n",
      "D:\\Study\\Nuero Data Design\\brainlit\\benchmarking_datasets\\Manual-GT\\8-01_test_1-5\\8-01_test_5\\tree_3.swc\n",
      "D:\\Study\\Nuero Data Design\\brainlit\\benchmarking_datasets\\Manual-GT\\8-01_test_1-5\\8-01_test_5\\tree_4.swc\n",
      "D:\\Study\\Nuero Data Design\\brainlit\\benchmarking_datasets\\Manual-GT\\8-01_test_1-5\\8-01_test_5\\tree_5.swc\n"
     ]
    },
    {
     "name": "stderr",
     "output_type": "stream",
     "text": [
      "D:\\Anaconda3\\envs\\brainlit\\lib\\site-packages\\ipykernel_launcher.py:78: UserWarning: D:\\Study\\Nuero Data Design\\brainlit\\benchmarking_masks\\test_5_mask.tif is a low contrast image\n"
     ]
    },
    {
     "name": "stdout",
     "output_type": "stream",
     "text": [
      "D:\\Study\\Nuero Data Design\\brainlit\\benchmarking_datasets\\Images\\test_6-gfp.tif\n",
      "D:\\Study\\Nuero Data Design\\brainlit\\benchmarking_datasets\\Manual-GT\\8-01_test_6-10\\8-01_test_6\\tree_1.swc\n",
      "D:\\Study\\Nuero Data Design\\brainlit\\benchmarking_datasets\\Manual-GT\\8-01_test_6-10\\8-01_test_6\\tree_10.swc\n",
      "D:\\Study\\Nuero Data Design\\brainlit\\benchmarking_datasets\\Manual-GT\\8-01_test_6-10\\8-01_test_6\\tree_11.swc\n",
      "D:\\Study\\Nuero Data Design\\brainlit\\benchmarking_datasets\\Manual-GT\\8-01_test_6-10\\8-01_test_6\\tree_2.swc\n",
      "D:\\Study\\Nuero Data Design\\brainlit\\benchmarking_datasets\\Manual-GT\\8-01_test_6-10\\8-01_test_6\\tree_3.swc\n",
      "D:\\Study\\Nuero Data Design\\brainlit\\benchmarking_datasets\\Manual-GT\\8-01_test_6-10\\8-01_test_6\\tree_4.swc\n",
      "D:\\Study\\Nuero Data Design\\brainlit\\benchmarking_datasets\\Manual-GT\\8-01_test_6-10\\8-01_test_6\\tree_5.swc\n",
      "D:\\Study\\Nuero Data Design\\brainlit\\benchmarking_datasets\\Manual-GT\\8-01_test_6-10\\8-01_test_6\\tree_6.swc\n",
      "D:\\Study\\Nuero Data Design\\brainlit\\benchmarking_datasets\\Manual-GT\\8-01_test_6-10\\8-01_test_6\\tree_7.swc\n",
      "D:\\Study\\Nuero Data Design\\brainlit\\benchmarking_datasets\\Manual-GT\\8-01_test_6-10\\8-01_test_6\\tree_8.swc\n",
      "D:\\Study\\Nuero Data Design\\brainlit\\benchmarking_datasets\\Manual-GT\\8-01_test_6-10\\8-01_test_6\\tree_9.swc\n"
     ]
    },
    {
     "name": "stderr",
     "output_type": "stream",
     "text": [
      "D:\\Anaconda3\\envs\\brainlit\\lib\\site-packages\\ipykernel_launcher.py:78: UserWarning: D:\\Study\\Nuero Data Design\\brainlit\\benchmarking_masks\\test_6_mask.tif is a low contrast image\n"
     ]
    },
    {
     "name": "stdout",
     "output_type": "stream",
     "text": [
      "D:\\Study\\Nuero Data Design\\brainlit\\benchmarking_datasets\\Images\\test_7-gfp.tif\n",
      "D:\\Study\\Nuero Data Design\\brainlit\\benchmarking_datasets\\Manual-GT\\8-01_test_6-10\\8-01_test_7\\tree_1.swc\n",
      "D:\\Study\\Nuero Data Design\\brainlit\\benchmarking_datasets\\Manual-GT\\8-01_test_6-10\\8-01_test_7\\tree_10.swc\n",
      "D:\\Study\\Nuero Data Design\\brainlit\\benchmarking_datasets\\Manual-GT\\8-01_test_6-10\\8-01_test_7\\tree_11.swc\n",
      "D:\\Study\\Nuero Data Design\\brainlit\\benchmarking_datasets\\Manual-GT\\8-01_test_6-10\\8-01_test_7\\tree_12.swc\n",
      "D:\\Study\\Nuero Data Design\\brainlit\\benchmarking_datasets\\Manual-GT\\8-01_test_6-10\\8-01_test_7\\tree_13.swc\n",
      "D:\\Study\\Nuero Data Design\\brainlit\\benchmarking_datasets\\Manual-GT\\8-01_test_6-10\\8-01_test_7\\tree_14.swc\n",
      "D:\\Study\\Nuero Data Design\\brainlit\\benchmarking_datasets\\Manual-GT\\8-01_test_6-10\\8-01_test_7\\tree_15.swc\n",
      "D:\\Study\\Nuero Data Design\\brainlit\\benchmarking_datasets\\Manual-GT\\8-01_test_6-10\\8-01_test_7\\tree_16.swc\n",
      "D:\\Study\\Nuero Data Design\\brainlit\\benchmarking_datasets\\Manual-GT\\8-01_test_6-10\\8-01_test_7\\tree_17.swc\n",
      "D:\\Study\\Nuero Data Design\\brainlit\\benchmarking_datasets\\Manual-GT\\8-01_test_6-10\\8-01_test_7\\tree_18.swc\n",
      "D:\\Study\\Nuero Data Design\\brainlit\\benchmarking_datasets\\Manual-GT\\8-01_test_6-10\\8-01_test_7\\tree_19.swc\n",
      "D:\\Study\\Nuero Data Design\\brainlit\\benchmarking_datasets\\Manual-GT\\8-01_test_6-10\\8-01_test_7\\tree_2.swc\n",
      "D:\\Study\\Nuero Data Design\\brainlit\\benchmarking_datasets\\Manual-GT\\8-01_test_6-10\\8-01_test_7\\tree_20.swc\n",
      "D:\\Study\\Nuero Data Design\\brainlit\\benchmarking_datasets\\Manual-GT\\8-01_test_6-10\\8-01_test_7\\tree_21.swc\n",
      "D:\\Study\\Nuero Data Design\\brainlit\\benchmarking_datasets\\Manual-GT\\8-01_test_6-10\\8-01_test_7\\tree_22.swc\n",
      "D:\\Study\\Nuero Data Design\\brainlit\\benchmarking_datasets\\Manual-GT\\8-01_test_6-10\\8-01_test_7\\tree_23.swc\n",
      "D:\\Study\\Nuero Data Design\\brainlit\\benchmarking_datasets\\Manual-GT\\8-01_test_6-10\\8-01_test_7\\tree_25.swc\n",
      "D:\\Study\\Nuero Data Design\\brainlit\\benchmarking_datasets\\Manual-GT\\8-01_test_6-10\\8-01_test_7\\tree_26.swc\n",
      "D:\\Study\\Nuero Data Design\\brainlit\\benchmarking_datasets\\Manual-GT\\8-01_test_6-10\\8-01_test_7\\tree_27.swc\n",
      "D:\\Study\\Nuero Data Design\\brainlit\\benchmarking_datasets\\Manual-GT\\8-01_test_6-10\\8-01_test_7\\tree_28.swc\n",
      "D:\\Study\\Nuero Data Design\\brainlit\\benchmarking_datasets\\Manual-GT\\8-01_test_6-10\\8-01_test_7\\tree_3.swc\n",
      "D:\\Study\\Nuero Data Design\\brainlit\\benchmarking_datasets\\Manual-GT\\8-01_test_6-10\\8-01_test_7\\tree_4.swc\n",
      "D:\\Study\\Nuero Data Design\\brainlit\\benchmarking_datasets\\Manual-GT\\8-01_test_6-10\\8-01_test_7\\tree_6.swc\n",
      "D:\\Study\\Nuero Data Design\\brainlit\\benchmarking_datasets\\Manual-GT\\8-01_test_6-10\\8-01_test_7\\tree_7.swc\n",
      "D:\\Study\\Nuero Data Design\\brainlit\\benchmarking_datasets\\Manual-GT\\8-01_test_6-10\\8-01_test_7\\tree_8.swc\n",
      "D:\\Study\\Nuero Data Design\\brainlit\\benchmarking_datasets\\Manual-GT\\8-01_test_6-10\\8-01_test_7\\tree_9.swc\n"
     ]
    },
    {
     "name": "stderr",
     "output_type": "stream",
     "text": [
      "D:\\Anaconda3\\envs\\brainlit\\lib\\site-packages\\ipykernel_launcher.py:78: UserWarning: D:\\Study\\Nuero Data Design\\brainlit\\benchmarking_masks\\test_7_mask.tif is a low contrast image\n"
     ]
    },
    {
     "name": "stdout",
     "output_type": "stream",
     "text": [
      "D:\\Study\\Nuero Data Design\\brainlit\\benchmarking_datasets\\Images\\test_8-gfp.tif\n",
      "D:\\Study\\Nuero Data Design\\brainlit\\benchmarking_datasets\\Manual-GT\\8-01_test_6-10\\8-01_test_8\\tree_1.swc\n",
      "D:\\Study\\Nuero Data Design\\brainlit\\benchmarking_datasets\\Manual-GT\\8-01_test_6-10\\8-01_test_8\\tree_10.swc\n",
      "D:\\Study\\Nuero Data Design\\brainlit\\benchmarking_datasets\\Manual-GT\\8-01_test_6-10\\8-01_test_8\\tree_11.swc\n",
      "D:\\Study\\Nuero Data Design\\brainlit\\benchmarking_datasets\\Manual-GT\\8-01_test_6-10\\8-01_test_8\\tree_12.swc\n",
      "D:\\Study\\Nuero Data Design\\brainlit\\benchmarking_datasets\\Manual-GT\\8-01_test_6-10\\8-01_test_8\\tree_13.swc\n",
      "D:\\Study\\Nuero Data Design\\brainlit\\benchmarking_datasets\\Manual-GT\\8-01_test_6-10\\8-01_test_8\\tree_14.swc\n",
      "D:\\Study\\Nuero Data Design\\brainlit\\benchmarking_datasets\\Manual-GT\\8-01_test_6-10\\8-01_test_8\\tree_15.swc\n",
      "D:\\Study\\Nuero Data Design\\brainlit\\benchmarking_datasets\\Manual-GT\\8-01_test_6-10\\8-01_test_8\\tree_16.swc\n",
      "D:\\Study\\Nuero Data Design\\brainlit\\benchmarking_datasets\\Manual-GT\\8-01_test_6-10\\8-01_test_8\\tree_17.swc\n",
      "D:\\Study\\Nuero Data Design\\brainlit\\benchmarking_datasets\\Manual-GT\\8-01_test_6-10\\8-01_test_8\\tree_18.swc\n",
      "D:\\Study\\Nuero Data Design\\brainlit\\benchmarking_datasets\\Manual-GT\\8-01_test_6-10\\8-01_test_8\\tree_19.swc\n",
      "D:\\Study\\Nuero Data Design\\brainlit\\benchmarking_datasets\\Manual-GT\\8-01_test_6-10\\8-01_test_8\\tree_2.swc\n",
      "D:\\Study\\Nuero Data Design\\brainlit\\benchmarking_datasets\\Manual-GT\\8-01_test_6-10\\8-01_test_8\\tree_20.swc\n",
      "D:\\Study\\Nuero Data Design\\brainlit\\benchmarking_datasets\\Manual-GT\\8-01_test_6-10\\8-01_test_8\\tree_21.swc\n",
      "D:\\Study\\Nuero Data Design\\brainlit\\benchmarking_datasets\\Manual-GT\\8-01_test_6-10\\8-01_test_8\\tree_22.swc\n",
      "D:\\Study\\Nuero Data Design\\brainlit\\benchmarking_datasets\\Manual-GT\\8-01_test_6-10\\8-01_test_8\\tree_23.swc\n",
      "D:\\Study\\Nuero Data Design\\brainlit\\benchmarking_datasets\\Manual-GT\\8-01_test_6-10\\8-01_test_8\\tree_24.swc\n",
      "D:\\Study\\Nuero Data Design\\brainlit\\benchmarking_datasets\\Manual-GT\\8-01_test_6-10\\8-01_test_8\\tree_25.swc\n",
      "D:\\Study\\Nuero Data Design\\brainlit\\benchmarking_datasets\\Manual-GT\\8-01_test_6-10\\8-01_test_8\\tree_26.swc\n",
      "D:\\Study\\Nuero Data Design\\brainlit\\benchmarking_datasets\\Manual-GT\\8-01_test_6-10\\8-01_test_8\\tree_27.swc\n",
      "D:\\Study\\Nuero Data Design\\brainlit\\benchmarking_datasets\\Manual-GT\\8-01_test_6-10\\8-01_test_8\\tree_28.swc\n",
      "D:\\Study\\Nuero Data Design\\brainlit\\benchmarking_datasets\\Manual-GT\\8-01_test_6-10\\8-01_test_8\\tree_29.swc\n",
      "D:\\Study\\Nuero Data Design\\brainlit\\benchmarking_datasets\\Manual-GT\\8-01_test_6-10\\8-01_test_8\\tree_3.swc\n",
      "D:\\Study\\Nuero Data Design\\brainlit\\benchmarking_datasets\\Manual-GT\\8-01_test_6-10\\8-01_test_8\\tree_30.swc\n",
      "D:\\Study\\Nuero Data Design\\brainlit\\benchmarking_datasets\\Manual-GT\\8-01_test_6-10\\8-01_test_8\\tree_31.swc\n",
      "D:\\Study\\Nuero Data Design\\brainlit\\benchmarking_datasets\\Manual-GT\\8-01_test_6-10\\8-01_test_8\\tree_4.swc\n",
      "D:\\Study\\Nuero Data Design\\brainlit\\benchmarking_datasets\\Manual-GT\\8-01_test_6-10\\8-01_test_8\\tree_5.swc\n",
      "D:\\Study\\Nuero Data Design\\brainlit\\benchmarking_datasets\\Manual-GT\\8-01_test_6-10\\8-01_test_8\\tree_6.swc\n",
      "D:\\Study\\Nuero Data Design\\brainlit\\benchmarking_datasets\\Manual-GT\\8-01_test_6-10\\8-01_test_8\\tree_7.swc\n",
      "D:\\Study\\Nuero Data Design\\brainlit\\benchmarking_datasets\\Manual-GT\\8-01_test_6-10\\8-01_test_8\\tree_8.swc\n",
      "D:\\Study\\Nuero Data Design\\brainlit\\benchmarking_datasets\\Manual-GT\\8-01_test_6-10\\8-01_test_8\\tree_9.swc\n",
      "D:\\Study\\Nuero Data Design\\brainlit\\benchmarking_datasets\\Images\\test_9-gfp.tif\n",
      "D:\\Study\\Nuero Data Design\\brainlit\\benchmarking_datasets\\Manual-GT\\8-01_test_6-10\\8-01_test_9\\tree_1.swc\n",
      "D:\\Study\\Nuero Data Design\\brainlit\\benchmarking_datasets\\Manual-GT\\8-01_test_6-10\\8-01_test_9\\tree_10.swc\n",
      "D:\\Study\\Nuero Data Design\\brainlit\\benchmarking_datasets\\Manual-GT\\8-01_test_6-10\\8-01_test_9\\tree_11.swc\n",
      "D:\\Study\\Nuero Data Design\\brainlit\\benchmarking_datasets\\Manual-GT\\8-01_test_6-10\\8-01_test_9\\tree_12.swc\n",
      "D:\\Study\\Nuero Data Design\\brainlit\\benchmarking_datasets\\Manual-GT\\8-01_test_6-10\\8-01_test_9\\tree_13.swc\n",
      "D:\\Study\\Nuero Data Design\\brainlit\\benchmarking_datasets\\Manual-GT\\8-01_test_6-10\\8-01_test_9\\tree_14.swc\n",
      "D:\\Study\\Nuero Data Design\\brainlit\\benchmarking_datasets\\Manual-GT\\8-01_test_6-10\\8-01_test_9\\tree_15.swc\n",
      "D:\\Study\\Nuero Data Design\\brainlit\\benchmarking_datasets\\Manual-GT\\8-01_test_6-10\\8-01_test_9\\tree_16.swc\n",
      "D:\\Study\\Nuero Data Design\\brainlit\\benchmarking_datasets\\Manual-GT\\8-01_test_6-10\\8-01_test_9\\tree_17.swc\n",
      "D:\\Study\\Nuero Data Design\\brainlit\\benchmarking_datasets\\Manual-GT\\8-01_test_6-10\\8-01_test_9\\tree_18.swc\n",
      "D:\\Study\\Nuero Data Design\\brainlit\\benchmarking_datasets\\Manual-GT\\8-01_test_6-10\\8-01_test_9\\tree_19.swc\n",
      "D:\\Study\\Nuero Data Design\\brainlit\\benchmarking_datasets\\Manual-GT\\8-01_test_6-10\\8-01_test_9\\tree_2.swc\n",
      "D:\\Study\\Nuero Data Design\\brainlit\\benchmarking_datasets\\Manual-GT\\8-01_test_6-10\\8-01_test_9\\tree_20.swc\n",
      "D:\\Study\\Nuero Data Design\\brainlit\\benchmarking_datasets\\Manual-GT\\8-01_test_6-10\\8-01_test_9\\tree_21.swc\n",
      "D:\\Study\\Nuero Data Design\\brainlit\\benchmarking_datasets\\Manual-GT\\8-01_test_6-10\\8-01_test_9\\tree_22.swc\n",
      "D:\\Study\\Nuero Data Design\\brainlit\\benchmarking_datasets\\Manual-GT\\8-01_test_6-10\\8-01_test_9\\tree_23.swc\n",
      "D:\\Study\\Nuero Data Design\\brainlit\\benchmarking_datasets\\Manual-GT\\8-01_test_6-10\\8-01_test_9\\tree_24.swc\n",
      "D:\\Study\\Nuero Data Design\\brainlit\\benchmarking_datasets\\Manual-GT\\8-01_test_6-10\\8-01_test_9\\tree_25.swc\n",
      "D:\\Study\\Nuero Data Design\\brainlit\\benchmarking_datasets\\Manual-GT\\8-01_test_6-10\\8-01_test_9\\tree_26.swc\n",
      "D:\\Study\\Nuero Data Design\\brainlit\\benchmarking_datasets\\Manual-GT\\8-01_test_6-10\\8-01_test_9\\tree_27.swc\n",
      "D:\\Study\\Nuero Data Design\\brainlit\\benchmarking_datasets\\Manual-GT\\8-01_test_6-10\\8-01_test_9\\tree_3.swc\n",
      "D:\\Study\\Nuero Data Design\\brainlit\\benchmarking_datasets\\Manual-GT\\8-01_test_6-10\\8-01_test_9\\tree_4.swc\n",
      "D:\\Study\\Nuero Data Design\\brainlit\\benchmarking_datasets\\Manual-GT\\8-01_test_6-10\\8-01_test_9\\tree_5.swc\n",
      "D:\\Study\\Nuero Data Design\\brainlit\\benchmarking_datasets\\Manual-GT\\8-01_test_6-10\\8-01_test_9\\tree_6.swc\n",
      "D:\\Study\\Nuero Data Design\\brainlit\\benchmarking_datasets\\Manual-GT\\8-01_test_6-10\\8-01_test_9\\tree_7.swc\n",
      "D:\\Study\\Nuero Data Design\\brainlit\\benchmarking_datasets\\Manual-GT\\8-01_test_6-10\\8-01_test_9\\tree_8.swc\n",
      "D:\\Study\\Nuero Data Design\\brainlit\\benchmarking_datasets\\Manual-GT\\8-01_test_6-10\\8-01_test_9\\tree_9.swc\n",
      "D:\\Study\\Nuero Data Design\\brainlit\\benchmarking_datasets\\Images\\validation_1-gfp.tif\n",
      "D:\\Study\\Nuero Data Design\\brainlit\\benchmarking_datasets\\Manual-GT\\10-01_validation_1-5\\10-01_validation_1\\tree_1.swc\n",
      "D:\\Study\\Nuero Data Design\\brainlit\\benchmarking_datasets\\Manual-GT\\10-01_validation_1-5\\10-01_validation_1\\tree_2.swc\n",
      "D:\\Study\\Nuero Data Design\\brainlit\\benchmarking_datasets\\Manual-GT\\10-01_validation_1-5\\10-01_validation_1\\tree_3.swc\n"
     ]
    },
    {
     "name": "stderr",
     "output_type": "stream",
     "text": [
      "D:\\Anaconda3\\envs\\brainlit\\lib\\site-packages\\ipykernel_launcher.py:78: UserWarning: D:\\Study\\Nuero Data Design\\brainlit\\benchmarking_masks\\validation_1_mask.tif is a low contrast image\n"
     ]
    },
    {
     "name": "stdout",
     "output_type": "stream",
     "text": [
      "D:\\Study\\Nuero Data Design\\brainlit\\benchmarking_datasets\\Images\\validation_10-gfp.tif\n",
      "D:\\Study\\Nuero Data Design\\brainlit\\benchmarking_datasets\\Manual-GT\\10-01_validation_6-10\\10-01_validation_10\\tree_1.swc\n",
      "D:\\Study\\Nuero Data Design\\brainlit\\benchmarking_datasets\\Manual-GT\\10-01_validation_6-10\\10-01_validation_10\\tree_2.swc\n"
     ]
    },
    {
     "name": "stderr",
     "output_type": "stream",
     "text": [
      "D:\\Anaconda3\\envs\\brainlit\\lib\\site-packages\\ipykernel_launcher.py:78: UserWarning: D:\\Study\\Nuero Data Design\\brainlit\\benchmarking_masks\\validation_10_mask.tif is a low contrast image\n"
     ]
    },
    {
     "name": "stdout",
     "output_type": "stream",
     "text": [
      "D:\\Study\\Nuero Data Design\\brainlit\\benchmarking_datasets\\Images\\validation_11-gfp.tif\n",
      "D:\\Study\\Nuero Data Design\\brainlit\\benchmarking_datasets\\Manual-GT\\10-01_validation_11-15\\10-01_validation_11\\tree_1.swc\n",
      "D:\\Study\\Nuero Data Design\\brainlit\\benchmarking_datasets\\Manual-GT\\10-01_validation_11-15\\10-01_validation_11\\tree_2.swc\n",
      "D:\\Study\\Nuero Data Design\\brainlit\\benchmarking_datasets\\Manual-GT\\10-01_validation_11-15\\10-01_validation_11\\tree_3.swc\n",
      "D:\\Study\\Nuero Data Design\\brainlit\\benchmarking_datasets\\Manual-GT\\10-01_validation_11-15\\10-01_validation_11\\tree_4.swc\n",
      "D:\\Study\\Nuero Data Design\\brainlit\\benchmarking_datasets\\Manual-GT\\10-01_validation_11-15\\10-01_validation_11\\tree_5.swc\n",
      "D:\\Study\\Nuero Data Design\\brainlit\\benchmarking_datasets\\Manual-GT\\10-01_validation_11-15\\10-01_validation_11\\tree_6.swc\n",
      "D:\\Study\\Nuero Data Design\\brainlit\\benchmarking_datasets\\Manual-GT\\10-01_validation_11-15\\10-01_validation_11\\tree_7.swc\n",
      "D:\\Study\\Nuero Data Design\\brainlit\\benchmarking_datasets\\Manual-GT\\10-01_validation_11-15\\10-01_validation_11\\tree_8.swc\n",
      "D:\\Study\\Nuero Data Design\\brainlit\\benchmarking_datasets\\Manual-GT\\10-01_validation_11-15\\10-01_validation_11\\tree_9.swc\n"
     ]
    },
    {
     "name": "stderr",
     "output_type": "stream",
     "text": [
      "D:\\Anaconda3\\envs\\brainlit\\lib\\site-packages\\ipykernel_launcher.py:78: UserWarning: D:\\Study\\Nuero Data Design\\brainlit\\benchmarking_masks\\validation_11_mask.tif is a low contrast image\n"
     ]
    },
    {
     "name": "stdout",
     "output_type": "stream",
     "text": [
      "D:\\Study\\Nuero Data Design\\brainlit\\benchmarking_datasets\\Images\\validation_12-gfp.tif\n",
      "D:\\Study\\Nuero Data Design\\brainlit\\benchmarking_datasets\\Manual-GT\\10-01_validation_11-15\\10-01_validation_12\\tree_1.swc\n",
      "D:\\Study\\Nuero Data Design\\brainlit\\benchmarking_datasets\\Manual-GT\\10-01_validation_11-15\\10-01_validation_12\\tree_2.swc\n"
     ]
    },
    {
     "name": "stderr",
     "output_type": "stream",
     "text": [
      "D:\\Anaconda3\\envs\\brainlit\\lib\\site-packages\\ipykernel_launcher.py:78: UserWarning: D:\\Study\\Nuero Data Design\\brainlit\\benchmarking_masks\\validation_12_mask.tif is a low contrast image\n"
     ]
    },
    {
     "name": "stdout",
     "output_type": "stream",
     "text": [
      "D:\\Study\\Nuero Data Design\\brainlit\\benchmarking_datasets\\Images\\validation_13-gfp.tif\n",
      "D:\\Study\\Nuero Data Design\\brainlit\\benchmarking_datasets\\Manual-GT\\10-01_validation_11-15\\10-01_validation_13\\tree_1.swc\n",
      "D:\\Study\\Nuero Data Design\\brainlit\\benchmarking_datasets\\Manual-GT\\10-01_validation_11-15\\10-01_validation_13\\tree_2.swc\n",
      "D:\\Study\\Nuero Data Design\\brainlit\\benchmarking_datasets\\Manual-GT\\10-01_validation_11-15\\10-01_validation_13\\tree_3.swc\n",
      "D:\\Study\\Nuero Data Design\\brainlit\\benchmarking_datasets\\Manual-GT\\10-01_validation_11-15\\10-01_validation_13\\tree_4.swc\n",
      "D:\\Study\\Nuero Data Design\\brainlit\\benchmarking_datasets\\Manual-GT\\10-01_validation_11-15\\10-01_validation_13\\tree_5.swc\n"
     ]
    },
    {
     "name": "stderr",
     "output_type": "stream",
     "text": [
      "D:\\Anaconda3\\envs\\brainlit\\lib\\site-packages\\ipykernel_launcher.py:78: UserWarning: D:\\Study\\Nuero Data Design\\brainlit\\benchmarking_masks\\validation_13_mask.tif is a low contrast image\n"
     ]
    },
    {
     "name": "stdout",
     "output_type": "stream",
     "text": [
      "D:\\Study\\Nuero Data Design\\brainlit\\benchmarking_datasets\\Images\\validation_14-gfp.tif\n",
      "D:\\Study\\Nuero Data Design\\brainlit\\benchmarking_datasets\\Manual-GT\\10-01_validation_11-15\\10-01_validation_14\\tree_1.swc\n",
      "D:\\Study\\Nuero Data Design\\brainlit\\benchmarking_datasets\\Manual-GT\\10-01_validation_11-15\\10-01_validation_14\\tree_2.swc\n"
     ]
    },
    {
     "name": "stderr",
     "output_type": "stream",
     "text": [
      "D:\\Anaconda3\\envs\\brainlit\\lib\\site-packages\\ipykernel_launcher.py:78: UserWarning: D:\\Study\\Nuero Data Design\\brainlit\\benchmarking_masks\\validation_14_mask.tif is a low contrast image\n"
     ]
    },
    {
     "name": "stdout",
     "output_type": "stream",
     "text": [
      "D:\\Study\\Nuero Data Design\\brainlit\\benchmarking_datasets\\Images\\validation_15-gfp.tif\n",
      "D:\\Study\\Nuero Data Design\\brainlit\\benchmarking_datasets\\Manual-GT\\10-01_validation_11-15\\10-01_validation_15\\tree_1.swc\n",
      "D:\\Study\\Nuero Data Design\\brainlit\\benchmarking_datasets\\Manual-GT\\10-01_validation_11-15\\10-01_validation_15\\tree_2.swc\n",
      "D:\\Study\\Nuero Data Design\\brainlit\\benchmarking_datasets\\Manual-GT\\10-01_validation_11-15\\10-01_validation_15\\tree_3.swc\n"
     ]
    },
    {
     "name": "stderr",
     "output_type": "stream",
     "text": [
      "D:\\Anaconda3\\envs\\brainlit\\lib\\site-packages\\ipykernel_launcher.py:78: UserWarning: D:\\Study\\Nuero Data Design\\brainlit\\benchmarking_masks\\validation_15_mask.tif is a low contrast image\n"
     ]
    },
    {
     "name": "stdout",
     "output_type": "stream",
     "text": [
      "D:\\Study\\Nuero Data Design\\brainlit\\benchmarking_datasets\\Images\\validation_16-gfp.tif\n",
      "D:\\Study\\Nuero Data Design\\brainlit\\benchmarking_datasets\\Manual-GT\\10-01_validation_16-20\\10-01_validation_16\\tree_1.swc\n",
      "D:\\Study\\Nuero Data Design\\brainlit\\benchmarking_datasets\\Manual-GT\\10-01_validation_16-20\\10-01_validation_16\\tree_2.swc\n",
      "D:\\Study\\Nuero Data Design\\brainlit\\benchmarking_datasets\\Manual-GT\\10-01_validation_16-20\\10-01_validation_16\\tree_3.swc\n",
      "D:\\Study\\Nuero Data Design\\brainlit\\benchmarking_datasets\\Manual-GT\\10-01_validation_16-20\\10-01_validation_16\\tree_4.swc\n",
      "D:\\Study\\Nuero Data Design\\brainlit\\benchmarking_datasets\\Manual-GT\\10-01_validation_16-20\\10-01_validation_16\\tree_5.swc\n"
     ]
    },
    {
     "name": "stderr",
     "output_type": "stream",
     "text": [
      "D:\\Anaconda3\\envs\\brainlit\\lib\\site-packages\\ipykernel_launcher.py:78: UserWarning: D:\\Study\\Nuero Data Design\\brainlit\\benchmarking_masks\\validation_16_mask.tif is a low contrast image\n"
     ]
    },
    {
     "name": "stdout",
     "output_type": "stream",
     "text": [
      "D:\\Study\\Nuero Data Design\\brainlit\\benchmarking_datasets\\Images\\validation_17-gfp.tif\n",
      "D:\\Study\\Nuero Data Design\\brainlit\\benchmarking_datasets\\Manual-GT\\10-01_validation_16-20\\10-01_validation_17\\tree_1.swc\n",
      "D:\\Study\\Nuero Data Design\\brainlit\\benchmarking_datasets\\Manual-GT\\10-01_validation_16-20\\10-01_validation_17\\tree_2.swc\n",
      "D:\\Study\\Nuero Data Design\\brainlit\\benchmarking_datasets\\Manual-GT\\10-01_validation_16-20\\10-01_validation_17\\tree_3.swc\n",
      "D:\\Study\\Nuero Data Design\\brainlit\\benchmarking_datasets\\Manual-GT\\10-01_validation_16-20\\10-01_validation_17\\tree_4.swc\n"
     ]
    },
    {
     "name": "stderr",
     "output_type": "stream",
     "text": [
      "D:\\Anaconda3\\envs\\brainlit\\lib\\site-packages\\ipykernel_launcher.py:78: UserWarning: D:\\Study\\Nuero Data Design\\brainlit\\benchmarking_masks\\validation_17_mask.tif is a low contrast image\n"
     ]
    },
    {
     "name": "stdout",
     "output_type": "stream",
     "text": [
      "D:\\Study\\Nuero Data Design\\brainlit\\benchmarking_datasets\\Images\\validation_18-gfp.tif\n",
      "D:\\Study\\Nuero Data Design\\brainlit\\benchmarking_datasets\\Manual-GT\\10-01_validation_16-20\\10-01_validation_18\\tree_1.swc\n",
      "D:\\Study\\Nuero Data Design\\brainlit\\benchmarking_datasets\\Manual-GT\\10-01_validation_16-20\\10-01_validation_18\\tree_2.swc\n",
      "D:\\Study\\Nuero Data Design\\brainlit\\benchmarking_datasets\\Manual-GT\\10-01_validation_16-20\\10-01_validation_18\\tree_3.swc\n",
      "D:\\Study\\Nuero Data Design\\brainlit\\benchmarking_datasets\\Manual-GT\\10-01_validation_16-20\\10-01_validation_18\\tree_4.swc\n",
      "D:\\Study\\Nuero Data Design\\brainlit\\benchmarking_datasets\\Manual-GT\\10-01_validation_16-20\\10-01_validation_18\\tree_5.swc\n",
      "D:\\Study\\Nuero Data Design\\brainlit\\benchmarking_datasets\\Manual-GT\\10-01_validation_16-20\\10-01_validation_18\\tree_6.swc\n"
     ]
    },
    {
     "name": "stderr",
     "output_type": "stream",
     "text": [
      "D:\\Anaconda3\\envs\\brainlit\\lib\\site-packages\\ipykernel_launcher.py:78: UserWarning: D:\\Study\\Nuero Data Design\\brainlit\\benchmarking_masks\\validation_18_mask.tif is a low contrast image\n"
     ]
    },
    {
     "name": "stdout",
     "output_type": "stream",
     "text": [
      "D:\\Study\\Nuero Data Design\\brainlit\\benchmarking_datasets\\Images\\validation_19-gfp.tif\n",
      "D:\\Study\\Nuero Data Design\\brainlit\\benchmarking_datasets\\Manual-GT\\10-01_validation_16-20\\10-01_validation_19\\tree_1.swc\n",
      "D:\\Study\\Nuero Data Design\\brainlit\\benchmarking_datasets\\Manual-GT\\10-01_validation_16-20\\10-01_validation_19\\tree_2.swc\n",
      "D:\\Study\\Nuero Data Design\\brainlit\\benchmarking_datasets\\Manual-GT\\10-01_validation_16-20\\10-01_validation_19\\tree_3.swc\n",
      "D:\\Study\\Nuero Data Design\\brainlit\\benchmarking_datasets\\Manual-GT\\10-01_validation_16-20\\10-01_validation_19\\tree_4.swc\n"
     ]
    },
    {
     "name": "stderr",
     "output_type": "stream",
     "text": [
      "D:\\Anaconda3\\envs\\brainlit\\lib\\site-packages\\ipykernel_launcher.py:78: UserWarning: D:\\Study\\Nuero Data Design\\brainlit\\benchmarking_masks\\validation_19_mask.tif is a low contrast image\n"
     ]
    },
    {
     "name": "stdout",
     "output_type": "stream",
     "text": [
      "D:\\Study\\Nuero Data Design\\brainlit\\benchmarking_datasets\\Images\\validation_2-gfp.tif\n",
      "D:\\Study\\Nuero Data Design\\brainlit\\benchmarking_datasets\\Manual-GT\\10-01_validation_1-5\\10-01_validation_2\\tree_1.swc\n",
      "D:\\Study\\Nuero Data Design\\brainlit\\benchmarking_datasets\\Manual-GT\\10-01_validation_1-5\\10-01_validation_2\\tree_2.swc\n",
      "D:\\Study\\Nuero Data Design\\brainlit\\benchmarking_datasets\\Manual-GT\\10-01_validation_1-5\\10-01_validation_2\\tree_3.swc\n",
      "D:\\Study\\Nuero Data Design\\brainlit\\benchmarking_datasets\\Manual-GT\\10-01_validation_1-5\\10-01_validation_2\\tree_4.swc\n"
     ]
    },
    {
     "name": "stderr",
     "output_type": "stream",
     "text": [
      "D:\\Anaconda3\\envs\\brainlit\\lib\\site-packages\\ipykernel_launcher.py:78: UserWarning: D:\\Study\\Nuero Data Design\\brainlit\\benchmarking_masks\\validation_2_mask.tif is a low contrast image\n"
     ]
    },
    {
     "name": "stdout",
     "output_type": "stream",
     "text": [
      "D:\\Study\\Nuero Data Design\\brainlit\\benchmarking_datasets\\Images\\validation_20-gfp.tif\n",
      "D:\\Study\\Nuero Data Design\\brainlit\\benchmarking_datasets\\Manual-GT\\10-01_validation_16-20\\10-01_validation_20\\tree_1.swc\n",
      "D:\\Study\\Nuero Data Design\\brainlit\\benchmarking_datasets\\Manual-GT\\10-01_validation_16-20\\10-01_validation_20\\tree_2.swc\n",
      "D:\\Study\\Nuero Data Design\\brainlit\\benchmarking_datasets\\Manual-GT\\10-01_validation_16-20\\10-01_validation_20\\tree_3.swc\n",
      "D:\\Study\\Nuero Data Design\\brainlit\\benchmarking_datasets\\Manual-GT\\10-01_validation_16-20\\10-01_validation_20\\tree_4.swc\n",
      "D:\\Study\\Nuero Data Design\\brainlit\\benchmarking_datasets\\Manual-GT\\10-01_validation_16-20\\10-01_validation_20\\tree_5.swc\n",
      "D:\\Study\\Nuero Data Design\\brainlit\\benchmarking_datasets\\Manual-GT\\10-01_validation_16-20\\10-01_validation_20\\tree_6.swc\n",
      "D:\\Study\\Nuero Data Design\\brainlit\\benchmarking_datasets\\Manual-GT\\10-01_validation_16-20\\10-01_validation_20\\tree_7.swc\n",
      "D:\\Study\\Nuero Data Design\\brainlit\\benchmarking_datasets\\Manual-GT\\10-01_validation_16-20\\10-01_validation_20\\tree_8.swc\n",
      "D:\\Study\\Nuero Data Design\\brainlit\\benchmarking_datasets\\Manual-GT\\10-01_validation_16-20\\10-01_validation_20\\tree_9.swc\n"
     ]
    },
    {
     "name": "stderr",
     "output_type": "stream",
     "text": [
      "D:\\Anaconda3\\envs\\brainlit\\lib\\site-packages\\ipykernel_launcher.py:78: UserWarning: D:\\Study\\Nuero Data Design\\brainlit\\benchmarking_masks\\validation_20_mask.tif is a low contrast image\n"
     ]
    },
    {
     "name": "stdout",
     "output_type": "stream",
     "text": [
      "D:\\Study\\Nuero Data Design\\brainlit\\benchmarking_datasets\\Images\\validation_21-gfp.tif\n",
      "D:\\Study\\Nuero Data Design\\brainlit\\benchmarking_datasets\\Manual-GT\\10-01_validation_21-25\\10-01_validation_21\\tree_1.swc\n",
      "D:\\Study\\Nuero Data Design\\brainlit\\benchmarking_datasets\\Manual-GT\\10-01_validation_21-25\\10-01_validation_21\\tree_2.swc\n",
      "D:\\Study\\Nuero Data Design\\brainlit\\benchmarking_datasets\\Manual-GT\\10-01_validation_21-25\\10-01_validation_21\\tree_3.swc\n",
      "D:\\Study\\Nuero Data Design\\brainlit\\benchmarking_datasets\\Manual-GT\\10-01_validation_21-25\\10-01_validation_21\\tree_4.swc\n",
      "D:\\Study\\Nuero Data Design\\brainlit\\benchmarking_datasets\\Manual-GT\\10-01_validation_21-25\\10-01_validation_21\\tree_5.swc\n"
     ]
    },
    {
     "name": "stderr",
     "output_type": "stream",
     "text": [
      "D:\\Anaconda3\\envs\\brainlit\\lib\\site-packages\\ipykernel_launcher.py:78: UserWarning: D:\\Study\\Nuero Data Design\\brainlit\\benchmarking_masks\\validation_21_mask.tif is a low contrast image\n"
     ]
    },
    {
     "name": "stdout",
     "output_type": "stream",
     "text": [
      "D:\\Study\\Nuero Data Design\\brainlit\\benchmarking_datasets\\Images\\validation_22-gfp.tif\n",
      "D:\\Study\\Nuero Data Design\\brainlit\\benchmarking_datasets\\Manual-GT\\10-01_validation_21-25\\10-01_validation_22\\tree_1.swc\n",
      "D:\\Study\\Nuero Data Design\\brainlit\\benchmarking_datasets\\Manual-GT\\10-01_validation_21-25\\10-01_validation_22\\tree_2.swc\n",
      "D:\\Study\\Nuero Data Design\\brainlit\\benchmarking_datasets\\Manual-GT\\10-01_validation_21-25\\10-01_validation_22\\tree_3.swc\n",
      "D:\\Study\\Nuero Data Design\\brainlit\\benchmarking_datasets\\Manual-GT\\10-01_validation_21-25\\10-01_validation_22\\tree_4.swc\n",
      "D:\\Study\\Nuero Data Design\\brainlit\\benchmarking_datasets\\Manual-GT\\10-01_validation_21-25\\10-01_validation_22\\tree_5.swc\n"
     ]
    },
    {
     "name": "stderr",
     "output_type": "stream",
     "text": [
      "D:\\Anaconda3\\envs\\brainlit\\lib\\site-packages\\ipykernel_launcher.py:78: UserWarning: D:\\Study\\Nuero Data Design\\brainlit\\benchmarking_masks\\validation_22_mask.tif is a low contrast image\n"
     ]
    },
    {
     "name": "stdout",
     "output_type": "stream",
     "text": [
      "D:\\Study\\Nuero Data Design\\brainlit\\benchmarking_datasets\\Images\\validation_23-gfp.tif\n",
      "D:\\Study\\Nuero Data Design\\brainlit\\benchmarking_datasets\\Manual-GT\\10-01_validation_21-25\\10-01_validation_23\\tree_1.swc\n",
      "D:\\Study\\Nuero Data Design\\brainlit\\benchmarking_datasets\\Manual-GT\\10-01_validation_21-25\\10-01_validation_23\\tree_10.swc\n",
      "D:\\Study\\Nuero Data Design\\brainlit\\benchmarking_datasets\\Manual-GT\\10-01_validation_21-25\\10-01_validation_23\\tree_11.swc\n",
      "D:\\Study\\Nuero Data Design\\brainlit\\benchmarking_datasets\\Manual-GT\\10-01_validation_21-25\\10-01_validation_23\\tree_12.swc\n",
      "D:\\Study\\Nuero Data Design\\brainlit\\benchmarking_datasets\\Manual-GT\\10-01_validation_21-25\\10-01_validation_23\\tree_13.swc\n",
      "D:\\Study\\Nuero Data Design\\brainlit\\benchmarking_datasets\\Manual-GT\\10-01_validation_21-25\\10-01_validation_23\\tree_14.swc\n",
      "D:\\Study\\Nuero Data Design\\brainlit\\benchmarking_datasets\\Manual-GT\\10-01_validation_21-25\\10-01_validation_23\\tree_2.swc\n",
      "D:\\Study\\Nuero Data Design\\brainlit\\benchmarking_datasets\\Manual-GT\\10-01_validation_21-25\\10-01_validation_23\\tree_3.swc\n",
      "D:\\Study\\Nuero Data Design\\brainlit\\benchmarking_datasets\\Manual-GT\\10-01_validation_21-25\\10-01_validation_23\\tree_4.swc\n",
      "D:\\Study\\Nuero Data Design\\brainlit\\benchmarking_datasets\\Manual-GT\\10-01_validation_21-25\\10-01_validation_23\\tree_5.swc\n",
      "D:\\Study\\Nuero Data Design\\brainlit\\benchmarking_datasets\\Manual-GT\\10-01_validation_21-25\\10-01_validation_23\\tree_6.swc\n",
      "D:\\Study\\Nuero Data Design\\brainlit\\benchmarking_datasets\\Manual-GT\\10-01_validation_21-25\\10-01_validation_23\\tree_7.swc\n",
      "D:\\Study\\Nuero Data Design\\brainlit\\benchmarking_datasets\\Manual-GT\\10-01_validation_21-25\\10-01_validation_23\\tree_8.swc\n",
      "D:\\Study\\Nuero Data Design\\brainlit\\benchmarking_datasets\\Manual-GT\\10-01_validation_21-25\\10-01_validation_23\\tree_9.swc\n"
     ]
    },
    {
     "name": "stderr",
     "output_type": "stream",
     "text": [
      "D:\\Anaconda3\\envs\\brainlit\\lib\\site-packages\\ipykernel_launcher.py:78: UserWarning: D:\\Study\\Nuero Data Design\\brainlit\\benchmarking_masks\\validation_23_mask.tif is a low contrast image\n"
     ]
    },
    {
     "name": "stdout",
     "output_type": "stream",
     "text": [
      "D:\\Study\\Nuero Data Design\\brainlit\\benchmarking_datasets\\Images\\validation_24-gfp.tif\n",
      "D:\\Study\\Nuero Data Design\\brainlit\\benchmarking_datasets\\Manual-GT\\10-01_validation_21-25\\10-01_validation_24\\tree_1.swc\n",
      "D:\\Study\\Nuero Data Design\\brainlit\\benchmarking_datasets\\Manual-GT\\10-01_validation_21-25\\10-01_validation_24\\tree_2.swc\n",
      "D:\\Study\\Nuero Data Design\\brainlit\\benchmarking_datasets\\Manual-GT\\10-01_validation_21-25\\10-01_validation_24\\tree_3.swc\n",
      "D:\\Study\\Nuero Data Design\\brainlit\\benchmarking_datasets\\Manual-GT\\10-01_validation_21-25\\10-01_validation_24\\tree_4.swc\n",
      "D:\\Study\\Nuero Data Design\\brainlit\\benchmarking_datasets\\Manual-GT\\10-01_validation_21-25\\10-01_validation_24\\tree_5.swc\n",
      "D:\\Study\\Nuero Data Design\\brainlit\\benchmarking_datasets\\Manual-GT\\10-01_validation_21-25\\10-01_validation_24\\tree_6.swc\n",
      "D:\\Study\\Nuero Data Design\\brainlit\\benchmarking_datasets\\Manual-GT\\10-01_validation_21-25\\10-01_validation_24\\tree_7.swc\n"
     ]
    },
    {
     "name": "stderr",
     "output_type": "stream",
     "text": [
      "D:\\Anaconda3\\envs\\brainlit\\lib\\site-packages\\ipykernel_launcher.py:78: UserWarning: D:\\Study\\Nuero Data Design\\brainlit\\benchmarking_masks\\validation_24_mask.tif is a low contrast image\n"
     ]
    },
    {
     "name": "stdout",
     "output_type": "stream",
     "text": [
      "D:\\Study\\Nuero Data Design\\brainlit\\benchmarking_datasets\\Images\\validation_25-gfp.tif\n",
      "D:\\Study\\Nuero Data Design\\brainlit\\benchmarking_datasets\\Manual-GT\\10-01_validation_21-25\\10-01_validation_25\\tree_1.swc\n",
      "D:\\Study\\Nuero Data Design\\brainlit\\benchmarking_datasets\\Manual-GT\\10-01_validation_21-25\\10-01_validation_25\\tree_2.swc\n",
      "D:\\Study\\Nuero Data Design\\brainlit\\benchmarking_datasets\\Manual-GT\\10-01_validation_21-25\\10-01_validation_25\\tree_3.swc\n",
      "D:\\Study\\Nuero Data Design\\brainlit\\benchmarking_datasets\\Manual-GT\\10-01_validation_21-25\\10-01_validation_25\\tree_4.swc\n",
      "D:\\Study\\Nuero Data Design\\brainlit\\benchmarking_datasets\\Manual-GT\\10-01_validation_21-25\\10-01_validation_25\\tree_5.swc\n"
     ]
    },
    {
     "name": "stderr",
     "output_type": "stream",
     "text": [
      "D:\\Anaconda3\\envs\\brainlit\\lib\\site-packages\\ipykernel_launcher.py:78: UserWarning: D:\\Study\\Nuero Data Design\\brainlit\\benchmarking_masks\\validation_25_mask.tif is a low contrast image\n"
     ]
    },
    {
     "name": "stdout",
     "output_type": "stream",
     "text": [
      "D:\\Study\\Nuero Data Design\\brainlit\\benchmarking_datasets\\Images\\validation_3-gfp.tif\n",
      "D:\\Study\\Nuero Data Design\\brainlit\\benchmarking_datasets\\Manual-GT\\10-01_validation_1-5\\10-01_validation_3\\tree_1.swc\n",
      "D:\\Study\\Nuero Data Design\\brainlit\\benchmarking_datasets\\Manual-GT\\10-01_validation_1-5\\10-01_validation_3\\tree_2.swc\n",
      "D:\\Study\\Nuero Data Design\\brainlit\\benchmarking_datasets\\Manual-GT\\10-01_validation_1-5\\10-01_validation_3\\tree_3.swc\n",
      "D:\\Study\\Nuero Data Design\\brainlit\\benchmarking_datasets\\Manual-GT\\10-01_validation_1-5\\10-01_validation_3\\tree_4.swc\n",
      "D:\\Study\\Nuero Data Design\\brainlit\\benchmarking_datasets\\Manual-GT\\10-01_validation_1-5\\10-01_validation_3\\tree_5.swc\n",
      "D:\\Study\\Nuero Data Design\\brainlit\\benchmarking_datasets\\Manual-GT\\10-01_validation_1-5\\10-01_validation_3\\tree_6.swc\n",
      "D:\\Study\\Nuero Data Design\\brainlit\\benchmarking_datasets\\Manual-GT\\10-01_validation_1-5\\10-01_validation_3\\tree_7.swc\n",
      "D:\\Study\\Nuero Data Design\\brainlit\\benchmarking_datasets\\Manual-GT\\10-01_validation_1-5\\10-01_validation_3\\tree_8.swc\n"
     ]
    },
    {
     "name": "stderr",
     "output_type": "stream",
     "text": [
      "D:\\Anaconda3\\envs\\brainlit\\lib\\site-packages\\ipykernel_launcher.py:78: UserWarning: D:\\Study\\Nuero Data Design\\brainlit\\benchmarking_masks\\validation_3_mask.tif is a low contrast image\n"
     ]
    },
    {
     "name": "stdout",
     "output_type": "stream",
     "text": [
      "D:\\Study\\Nuero Data Design\\brainlit\\benchmarking_datasets\\Images\\validation_4-gfp.tif\n",
      "D:\\Study\\Nuero Data Design\\brainlit\\benchmarking_datasets\\Manual-GT\\10-01_validation_1-5\\10-01_validation_4\\tree_1.swc\n",
      "D:\\Study\\Nuero Data Design\\brainlit\\benchmarking_datasets\\Manual-GT\\10-01_validation_1-5\\10-01_validation_4\\tree_2.swc\n",
      "D:\\Study\\Nuero Data Design\\brainlit\\benchmarking_datasets\\Manual-GT\\10-01_validation_1-5\\10-01_validation_4\\tree_3.swc\n",
      "D:\\Study\\Nuero Data Design\\brainlit\\benchmarking_datasets\\Manual-GT\\10-01_validation_1-5\\10-01_validation_4\\tree_4.swc\n",
      "D:\\Study\\Nuero Data Design\\brainlit\\benchmarking_datasets\\Manual-GT\\10-01_validation_1-5\\10-01_validation_4\\tree_5.swc\n"
     ]
    },
    {
     "name": "stderr",
     "output_type": "stream",
     "text": [
      "D:\\Anaconda3\\envs\\brainlit\\lib\\site-packages\\ipykernel_launcher.py:78: UserWarning: D:\\Study\\Nuero Data Design\\brainlit\\benchmarking_masks\\validation_4_mask.tif is a low contrast image\n"
     ]
    },
    {
     "name": "stdout",
     "output_type": "stream",
     "text": [
      "D:\\Study\\Nuero Data Design\\brainlit\\benchmarking_datasets\\Images\\validation_5-gfp.tif\n",
      "D:\\Study\\Nuero Data Design\\brainlit\\benchmarking_datasets\\Manual-GT\\10-01_validation_1-5\\10-01_validation_5\\tree_1.swc\n"
     ]
    },
    {
     "name": "stderr",
     "output_type": "stream",
     "text": [
      "D:\\Anaconda3\\envs\\brainlit\\lib\\site-packages\\ipykernel_launcher.py:78: UserWarning: D:\\Study\\Nuero Data Design\\brainlit\\benchmarking_masks\\validation_5_mask.tif is a low contrast image\n"
     ]
    },
    {
     "name": "stdout",
     "output_type": "stream",
     "text": [
      "D:\\Study\\Nuero Data Design\\brainlit\\benchmarking_datasets\\Images\\validation_6-gfp.tif\n",
      "D:\\Study\\Nuero Data Design\\brainlit\\benchmarking_datasets\\Manual-GT\\10-01_validation_6-10\\10-01_validation_6\\tree_1.swc\n",
      "D:\\Study\\Nuero Data Design\\brainlit\\benchmarking_datasets\\Manual-GT\\10-01_validation_6-10\\10-01_validation_6\\tree_2.swc\n",
      "D:\\Study\\Nuero Data Design\\brainlit\\benchmarking_datasets\\Manual-GT\\10-01_validation_6-10\\10-01_validation_6\\tree_3.swc\n",
      "D:\\Study\\Nuero Data Design\\brainlit\\benchmarking_datasets\\Manual-GT\\10-01_validation_6-10\\10-01_validation_6\\tree_4.swc\n",
      "D:\\Study\\Nuero Data Design\\brainlit\\benchmarking_datasets\\Manual-GT\\10-01_validation_6-10\\10-01_validation_6\\tree_5.swc\n",
      "D:\\Study\\Nuero Data Design\\brainlit\\benchmarking_datasets\\Manual-GT\\10-01_validation_6-10\\10-01_validation_6\\tree_6.swc\n",
      "D:\\Study\\Nuero Data Design\\brainlit\\benchmarking_datasets\\Manual-GT\\10-01_validation_6-10\\10-01_validation_6\\tree_7.swc\n",
      "D:\\Study\\Nuero Data Design\\brainlit\\benchmarking_datasets\\Manual-GT\\10-01_validation_6-10\\10-01_validation_6\\tree_8.swc\n",
      "D:\\Study\\Nuero Data Design\\brainlit\\benchmarking_datasets\\Manual-GT\\10-01_validation_6-10\\10-01_validation_6\\tree_9.swc\n"
     ]
    },
    {
     "name": "stderr",
     "output_type": "stream",
     "text": [
      "D:\\Anaconda3\\envs\\brainlit\\lib\\site-packages\\ipykernel_launcher.py:78: UserWarning: D:\\Study\\Nuero Data Design\\brainlit\\benchmarking_masks\\validation_6_mask.tif is a low contrast image\n"
     ]
    },
    {
     "name": "stdout",
     "output_type": "stream",
     "text": [
      "D:\\Study\\Nuero Data Design\\brainlit\\benchmarking_datasets\\Images\\validation_7-gfp.tif\n",
      "D:\\Study\\Nuero Data Design\\brainlit\\benchmarking_datasets\\Manual-GT\\10-01_validation_6-10\\10-01_validation_7\\tree_1.swc\n",
      "D:\\Study\\Nuero Data Design\\brainlit\\benchmarking_datasets\\Manual-GT\\10-01_validation_6-10\\10-01_validation_7\\tree_2.swc\n",
      "D:\\Study\\Nuero Data Design\\brainlit\\benchmarking_datasets\\Manual-GT\\10-01_validation_6-10\\10-01_validation_7\\tree_3.swc\n",
      "D:\\Study\\Nuero Data Design\\brainlit\\benchmarking_datasets\\Manual-GT\\10-01_validation_6-10\\10-01_validation_7\\tree_4.swc\n"
     ]
    },
    {
     "name": "stderr",
     "output_type": "stream",
     "text": [
      "D:\\Anaconda3\\envs\\brainlit\\lib\\site-packages\\ipykernel_launcher.py:78: UserWarning: D:\\Study\\Nuero Data Design\\brainlit\\benchmarking_masks\\validation_7_mask.tif is a low contrast image\n"
     ]
    },
    {
     "name": "stdout",
     "output_type": "stream",
     "text": [
      "D:\\Study\\Nuero Data Design\\brainlit\\benchmarking_datasets\\Images\\validation_8-gfp.tif\n",
      "D:\\Study\\Nuero Data Design\\brainlit\\benchmarking_datasets\\Manual-GT\\10-01_validation_6-10\\10-01_validation_8\\tree_1.swc\n",
      "D:\\Study\\Nuero Data Design\\brainlit\\benchmarking_datasets\\Manual-GT\\10-01_validation_6-10\\10-01_validation_8\\tree_10.swc\n",
      "D:\\Study\\Nuero Data Design\\brainlit\\benchmarking_datasets\\Manual-GT\\10-01_validation_6-10\\10-01_validation_8\\tree_11.swc\n",
      "D:\\Study\\Nuero Data Design\\brainlit\\benchmarking_datasets\\Manual-GT\\10-01_validation_6-10\\10-01_validation_8\\tree_12.swc\n",
      "D:\\Study\\Nuero Data Design\\brainlit\\benchmarking_datasets\\Manual-GT\\10-01_validation_6-10\\10-01_validation_8\\tree_13.swc\n",
      "D:\\Study\\Nuero Data Design\\brainlit\\benchmarking_datasets\\Manual-GT\\10-01_validation_6-10\\10-01_validation_8\\tree_14.swc\n",
      "D:\\Study\\Nuero Data Design\\brainlit\\benchmarking_datasets\\Manual-GT\\10-01_validation_6-10\\10-01_validation_8\\tree_15.swc\n",
      "D:\\Study\\Nuero Data Design\\brainlit\\benchmarking_datasets\\Manual-GT\\10-01_validation_6-10\\10-01_validation_8\\tree_16.swc\n",
      "D:\\Study\\Nuero Data Design\\brainlit\\benchmarking_datasets\\Manual-GT\\10-01_validation_6-10\\10-01_validation_8\\tree_17.swc\n",
      "D:\\Study\\Nuero Data Design\\brainlit\\benchmarking_datasets\\Manual-GT\\10-01_validation_6-10\\10-01_validation_8\\tree_18.swc\n",
      "D:\\Study\\Nuero Data Design\\brainlit\\benchmarking_datasets\\Manual-GT\\10-01_validation_6-10\\10-01_validation_8\\tree_19.swc\n",
      "D:\\Study\\Nuero Data Design\\brainlit\\benchmarking_datasets\\Manual-GT\\10-01_validation_6-10\\10-01_validation_8\\tree_2.swc\n",
      "D:\\Study\\Nuero Data Design\\brainlit\\benchmarking_datasets\\Manual-GT\\10-01_validation_6-10\\10-01_validation_8\\tree_20.swc\n",
      "D:\\Study\\Nuero Data Design\\brainlit\\benchmarking_datasets\\Manual-GT\\10-01_validation_6-10\\10-01_validation_8\\tree_21.swc\n",
      "D:\\Study\\Nuero Data Design\\brainlit\\benchmarking_datasets\\Manual-GT\\10-01_validation_6-10\\10-01_validation_8\\tree_22.swc\n",
      "D:\\Study\\Nuero Data Design\\brainlit\\benchmarking_datasets\\Manual-GT\\10-01_validation_6-10\\10-01_validation_8\\tree_23.swc\n",
      "D:\\Study\\Nuero Data Design\\brainlit\\benchmarking_datasets\\Manual-GT\\10-01_validation_6-10\\10-01_validation_8\\tree_24.swc\n",
      "D:\\Study\\Nuero Data Design\\brainlit\\benchmarking_datasets\\Manual-GT\\10-01_validation_6-10\\10-01_validation_8\\tree_25.swc\n",
      "D:\\Study\\Nuero Data Design\\brainlit\\benchmarking_datasets\\Manual-GT\\10-01_validation_6-10\\10-01_validation_8\\tree_26.swc\n",
      "D:\\Study\\Nuero Data Design\\brainlit\\benchmarking_datasets\\Manual-GT\\10-01_validation_6-10\\10-01_validation_8\\tree_27.swc\n",
      "D:\\Study\\Nuero Data Design\\brainlit\\benchmarking_datasets\\Manual-GT\\10-01_validation_6-10\\10-01_validation_8\\tree_28.swc\n",
      "D:\\Study\\Nuero Data Design\\brainlit\\benchmarking_datasets\\Manual-GT\\10-01_validation_6-10\\10-01_validation_8\\tree_3.swc\n",
      "D:\\Study\\Nuero Data Design\\brainlit\\benchmarking_datasets\\Manual-GT\\10-01_validation_6-10\\10-01_validation_8\\tree_4.swc\n",
      "D:\\Study\\Nuero Data Design\\brainlit\\benchmarking_datasets\\Manual-GT\\10-01_validation_6-10\\10-01_validation_8\\tree_5.swc\n",
      "D:\\Study\\Nuero Data Design\\brainlit\\benchmarking_datasets\\Manual-GT\\10-01_validation_6-10\\10-01_validation_8\\tree_6.swc\n",
      "D:\\Study\\Nuero Data Design\\brainlit\\benchmarking_datasets\\Manual-GT\\10-01_validation_6-10\\10-01_validation_8\\tree_7.swc\n",
      "D:\\Study\\Nuero Data Design\\brainlit\\benchmarking_datasets\\Manual-GT\\10-01_validation_6-10\\10-01_validation_8\\tree_8.swc\n",
      "D:\\Study\\Nuero Data Design\\brainlit\\benchmarking_datasets\\Manual-GT\\10-01_validation_6-10\\10-01_validation_8\\tree_9.swc\n"
     ]
    },
    {
     "name": "stderr",
     "output_type": "stream",
     "text": [
      "D:\\Anaconda3\\envs\\brainlit\\lib\\site-packages\\ipykernel_launcher.py:78: UserWarning: D:\\Study\\Nuero Data Design\\brainlit\\benchmarking_masks\\validation_8_mask.tif is a low contrast image\n"
     ]
    },
    {
     "name": "stdout",
     "output_type": "stream",
     "text": [
      "D:\\Study\\Nuero Data Design\\brainlit\\benchmarking_datasets\\Images\\validation_9-gfp.tif\n",
      "D:\\Study\\Nuero Data Design\\brainlit\\benchmarking_datasets\\Manual-GT\\10-01_validation_6-10\\10-01_validation_9\\tree_1.swc\n",
      "D:\\Study\\Nuero Data Design\\brainlit\\benchmarking_datasets\\Manual-GT\\10-01_validation_6-10\\10-01_validation_9\\tree_10.swc\n",
      "D:\\Study\\Nuero Data Design\\brainlit\\benchmarking_datasets\\Manual-GT\\10-01_validation_6-10\\10-01_validation_9\\tree_11.swc\n",
      "D:\\Study\\Nuero Data Design\\brainlit\\benchmarking_datasets\\Manual-GT\\10-01_validation_6-10\\10-01_validation_9\\tree_12.swc\n",
      "D:\\Study\\Nuero Data Design\\brainlit\\benchmarking_datasets\\Manual-GT\\10-01_validation_6-10\\10-01_validation_9\\tree_13.swc\n",
      "D:\\Study\\Nuero Data Design\\brainlit\\benchmarking_datasets\\Manual-GT\\10-01_validation_6-10\\10-01_validation_9\\tree_14.swc\n",
      "D:\\Study\\Nuero Data Design\\brainlit\\benchmarking_datasets\\Manual-GT\\10-01_validation_6-10\\10-01_validation_9\\tree_15.swc\n",
      "D:\\Study\\Nuero Data Design\\brainlit\\benchmarking_datasets\\Manual-GT\\10-01_validation_6-10\\10-01_validation_9\\tree_16.swc\n",
      "D:\\Study\\Nuero Data Design\\brainlit\\benchmarking_datasets\\Manual-GT\\10-01_validation_6-10\\10-01_validation_9\\tree_17.swc\n",
      "D:\\Study\\Nuero Data Design\\brainlit\\benchmarking_datasets\\Manual-GT\\10-01_validation_6-10\\10-01_validation_9\\tree_2.swc\n",
      "D:\\Study\\Nuero Data Design\\brainlit\\benchmarking_datasets\\Manual-GT\\10-01_validation_6-10\\10-01_validation_9\\tree_3.swc\n",
      "D:\\Study\\Nuero Data Design\\brainlit\\benchmarking_datasets\\Manual-GT\\10-01_validation_6-10\\10-01_validation_9\\tree_4.swc\n",
      "D:\\Study\\Nuero Data Design\\brainlit\\benchmarking_datasets\\Manual-GT\\10-01_validation_6-10\\10-01_validation_9\\tree_5.swc\n",
      "D:\\Study\\Nuero Data Design\\brainlit\\benchmarking_datasets\\Manual-GT\\10-01_validation_6-10\\10-01_validation_9\\tree_6.swc\n",
      "D:\\Study\\Nuero Data Design\\brainlit\\benchmarking_datasets\\Manual-GT\\10-01_validation_6-10\\10-01_validation_9\\tree_7.swc\n",
      "D:\\Study\\Nuero Data Design\\brainlit\\benchmarking_datasets\\Manual-GT\\10-01_validation_6-10\\10-01_validation_9\\tree_8.swc\n",
      "D:\\Study\\Nuero Data Design\\brainlit\\benchmarking_datasets\\Manual-GT\\10-01_validation_6-10\\10-01_validation_9\\tree_9.swc\n"
     ]
    },
    {
     "name": "stderr",
     "output_type": "stream",
     "text": [
      "D:\\Anaconda3\\envs\\brainlit\\lib\\site-packages\\ipykernel_launcher.py:78: UserWarning: D:\\Study\\Nuero Data Design\\brainlit\\benchmarking_masks\\validation_9_mask.tif is a low contrast image\n"
     ]
    }
   ],
   "source": [
    "base_dir = Path(\"D:/Study/Nuero Data Design/brainlit\")\n",
    "data_dir = base_dir / \"benchmarking_datasets\"\n",
    "im_dir = data_dir / \"Images\"\n",
    "mask_dir = base_dir / \"benchmarking_masks\"\n",
    "gfp_files = list(im_dir.glob(\"**/*.tif\"))\n",
    "swc_base_path = data_dir / \"Manual-GT\"\n",
    "save = True\n",
    "\n",
    "for im_num, im_path in enumerate(gfp_files):\n",
    "    print(str(im_path))\n",
    "    im = io.imread(im_path, plugin=\"tifffile\")\n",
    "    im = np.swapaxes(im, 0, 2)\n",
    "    \n",
    "    file_name = im_path.parts[-1][:-8]\n",
    "    \n",
    "    f = im_path.parts[-1][:-8].split(\"_\")\n",
    "    image = f[0]\n",
    "    date = type_to_date[image]\n",
    "    num = int(f[1])\n",
    "\n",
    "    scale = scales[date]\n",
    "    brain_offset = brain_offsets[date]\n",
    "    vol_offset = vol_offsets[date][num]\n",
    "    im_offset = np.add(brain_offset, vol_offset)\n",
    "\n",
    "    lower = int(np.floor((num - 1) / 5) * 5 + 1)\n",
    "    upper = int(np.floor((num - 1) / 5) * 5 + 5)\n",
    "    dir1 = date + \"_\" + image + \"_\" + str(lower) + \"-\" + str(upper)\n",
    "    dir2 = date + \"_\" + image + \"_\" + str(num)\n",
    "    swc_path = swc_base_path / dir1 / dir2\n",
    "\n",
    "    swc_files = list(swc_path.glob(\"**/*.swc\"))\n",
    "\n",
    "    paths_total = []\n",
    "    labels_total = np.zeros(im.shape)\n",
    "    \n",
    "    for swc_num, swc in enumerate(swc_files):\n",
    "        if \"cube\" in swc.parts[-1]:\n",
    "            # skip the bounding box swc\n",
    "            continue\n",
    "        print(swc)\n",
    "        df, swc_offset, _, _, _ = read_swc(swc)\n",
    "\n",
    "        offset_diff = np.subtract(swc_offset, im_offset)\n",
    "        G = df_to_graph(df)\n",
    "\n",
    "        paths = graph_to_paths(G)\n",
    "\n",
    "        # for every path in that swc\n",
    "        for path_num, p in enumerate(paths):\n",
    "            pvox = (p + offset_diff) / (scale) * 1000\n",
    "            paths_total.append(pvox)\n",
    "    \n",
    "    # napari_viewer(im,  shapes=paths_total)\n",
    "            \n",
    "    for path_voxel in paths_total:\n",
    "        for voxel_num, voxel in enumerate(path_voxel):\n",
    "            if voxel_num == 0:\n",
    "                continue\n",
    "            voxel_prev = path_voxel[voxel_num-1,:]\n",
    "            # xs,ys,zs = swc2voxel.Bresenham3D(int(voxel_prev[0]), int(voxel_prev[1]), int(voxel_prev[2]),int(voxel[0]), int(voxel[1]), int(voxel[2]))\n",
    "            xs,ys,zs = Bresenham3D(int(voxel_prev[0]), int(voxel_prev[1]), int(voxel_prev[2]),int(voxel[0]), int(voxel[1]), int(voxel[2]))\n",
    "            for x,y,z in zip(xs,ys,zs):\n",
    "                vox = np.array((x,y,z))\n",
    "                if (vox >= 0).all() and (vox < im.shape).all():\n",
    "                    labels_total[x,y,z] = 1  \n",
    "    \n",
    "    label_flipped = labels_total*0\n",
    "    label_flipped[labels_total==0] = 1\n",
    "    dists = distance_transform_edt(label_flipped, sampling = scale)\n",
    "    labels_total[dists <= 1000] = 1\n",
    "    \n",
    "    # napari_viewer(im, labels=labels_total, label_name=\"Labels\")\n",
    "    \n",
    "    if save:\n",
    "        im_file_name = file_name + \"_mask.tif\"\n",
    "        out_file = mask_dir / im_file_name\n",
    "        io.imsave(out_file, labels_total, plugin=\"tifffile\")"
   ]
  },
  {
   "cell_type": "code",
   "execution_count": 5,
   "metadata": {},
   "outputs": [
    {
     "name": "stdout",
     "output_type": "stream",
     "text": [
      "loading the mask of test_1 ...\n",
      "loading the mask of test_10 ...\n",
      "loading the mask of test_11 ...\n",
      "loading the mask of test_12 ...\n",
      "loading the mask of test_13 ...\n",
      "loading the mask of test_14 ...\n",
      "loading the mask of test_15 ...\n",
      "loading the mask of test_16 ...\n",
      "loading the mask of test_17 ...\n",
      "loading the mask of test_18 ...\n",
      "loading the mask of test_19 ...\n",
      "loading the mask of test_2 ...\n",
      "loading the mask of test_20 ...\n",
      "loading the mask of test_21 ...\n",
      "loading the mask of test_22 ...\n",
      "loading the mask of test_23 ...\n",
      "loading the mask of test_24 ...\n",
      "loading the mask of test_25 ...\n",
      "loading the mask of test_3 ...\n",
      "loading the mask of test_4 ...\n",
      "loading the mask of test_5 ...\n",
      "loading the mask of test_6 ...\n",
      "loading the mask of test_7 ...\n",
      "loading the mask of test_8 ...\n",
      "loading the mask of test_9 ...\n",
      "loading the mask of validation_1 ...\n",
      "loading the mask of validation_10 ...\n",
      "loading the mask of validation_11 ...\n",
      "loading the mask of validation_12 ...\n",
      "loading the mask of validation_13 ...\n",
      "loading the mask of validation_14 ...\n",
      "loading the mask of validation_15 ...\n",
      "loading the mask of validation_16 ...\n",
      "loading the mask of validation_17 ...\n",
      "loading the mask of validation_18 ...\n",
      "loading the mask of validation_19 ...\n",
      "loading the mask of validation_2 ...\n",
      "loading the mask of validation_20 ...\n",
      "loading the mask of validation_21 ...\n",
      "loading the mask of validation_22 ...\n",
      "loading the mask of validation_23 ...\n",
      "loading the mask of validation_24 ...\n",
      "loading the mask of validation_25 ...\n",
      "loading the mask of validation_3 ...\n",
      "loading the mask of validation_4 ...\n",
      "loading the mask of validation_5 ...\n",
      "loading the mask of validation_6 ...\n",
      "loading the mask of validation_7 ...\n",
      "loading the mask of validation_8 ...\n",
      "loading the mask of validation_9 ...\n"
     ]
    }
   ],
   "source": [
    "show_napari = False\n",
    "mask_files = list(mask_dir.glob(\"**/*.tif\"))\n",
    "\n",
    "for im_num, im_path in enumerate(gfp_files):\n",
    "    im = io.imread(im_path, plugin=\"tifffile\")\n",
    "    im = np.swapaxes(im, 0, 2)\n",
    "    \n",
    "    file_name = im_path.parts[-1][:-8]\n",
    "    mask_file = file_name + \"_mask.tif\"\n",
    "    mask_path = mask_dir / mask_file\n",
    "    mask = io.imread(mask_path, plugin=\"tifffile\")\n",
    "    \n",
    "    print(\"loading the mask of\", file_name, \"...\")\n",
    "    if show_napari:\n",
    "        napari_viewer(im, labels=mask, label_name=\"mask\")"
   ]
  },
  {
   "cell_type": "code",
   "execution_count": null,
   "metadata": {},
   "outputs": [],
   "source": []
  }
 ],
 "metadata": {
  "kernelspec": {
   "display_name": "Python 3",
   "language": "python",
   "name": "python3"
  },
  "language_info": {
   "codemirror_mode": {
    "name": "ipython",
    "version": 3
   },
   "file_extension": ".py",
   "mimetype": "text/x-python",
   "name": "python",
   "nbconvert_exporter": "python",
   "pygments_lexer": "ipython3",
   "version": "3.7.9"
  }
 },
 "nbformat": 4,
 "nbformat_minor": 4
}
