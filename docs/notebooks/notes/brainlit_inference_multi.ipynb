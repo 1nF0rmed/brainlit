{
 "cells": [
  {
   "cell_type": "code",
   "execution_count": 1,
   "metadata": {},
   "outputs": [
    {
     "name": "stderr",
     "output_type": "stream",
     "text": [
      "D:\\Anaconda3\\envs\\brainlit\\lib\\site-packages\\napari\\__init__.py:44: UserWarning: \n",
      "    napari was tested with QT library `>=5.12.3`.\n",
      "    The version installed is 5.9.6. Please report any issues with this\n",
      "    specific QT version at https://github.com/Napari/napari/issues.\n",
      "    \n",
      "  warn(message=warn_message)\n"
     ]
    }
   ],
   "source": [
    "from google.protobuf import text_format\n",
    "from brainlit.viz.visualize import napari_viewer\n",
    "\n",
    "from ffn.utils import bounding_box_pb2\n",
    "from ffn.inference import storage\n",
    "from ffn.inference import inference\n",
    "from ffn.inference import inference_pb2\n",
    "from ffn.inference import inference_flags\n",
    "\n",
    "import numpy as np\n",
    "import h5py\n",
    "import os\n",
    "from skimage import io\n",
    "from pathlib import Path\n",
    "import warnings\n",
    "warnings.filterwarnings(\"ignore\")"
   ]
  },
  {
   "cell_type": "code",
   "execution_count": 3,
   "metadata": {},
   "outputs": [
    {
     "name": "stdout",
     "output_type": "stream",
     "text": [
      "test_1\n",
      "it's test img\n",
      "test_10\n",
      "it's test img\n",
      "test_11\n",
      "it's test img\n",
      "test_12\n",
      "it's test img\n",
      "test_13\n",
      "it's test img\n",
      "test_14\n",
      "it's test img\n",
      "test_15\n",
      "it's test img\n",
      "test_16\n",
      "it's test img\n",
      "test_17\n",
      "it's test img\n",
      "test_18\n",
      "it's test img\n",
      "test_19\n",
      "it's test img\n",
      "test_2\n",
      "it's test img\n",
      "test_20\n",
      "it's test img\n",
      "test_21\n",
      "it's test img\n",
      "test_22\n",
      "it's test img\n",
      "test_23\n",
      "it's test img\n",
      "test_24\n",
      "it's test img\n",
      "test_25\n",
      "it's test img\n",
      "test_3\n",
      "it's test img\n",
      "test_4\n",
      "it's test img\n",
      "test_5\n",
      "it's test img\n",
      "test_6\n",
      "it's test img\n",
      "test_7\n",
      "it's test img\n",
      "test_8\n",
      "it's test img\n",
      "test_9\n",
      "it's test img\n",
      "validation_1\n",
      "it's validation img\n",
      "validation_10\n",
      "it's validation img\n",
      "validation_11\n",
      "it's validation img\n",
      "validation_12\n",
      "it's validation img\n",
      "validation_13\n",
      "it's validation img\n",
      "validation_14\n",
      "it's validation img\n",
      "validation_15\n",
      "it's validation img\n",
      "validation_16\n",
      "it's validation img\n",
      "validation_17\n",
      "it's validation img\n",
      "validation_18\n",
      "it's validation img\n",
      "validation_19\n",
      "it's validation img\n",
      "validation_2\n",
      "it's validation img\n",
      "validation_20\n",
      "it's validation img\n",
      "validation_21\n",
      "it's validation img\n",
      "validation_22\n",
      "it's validation img\n",
      "validation_23\n",
      "it's validation img\n",
      "validation_24\n",
      "it's validation img\n",
      "validation_25\n",
      "it's validation img\n",
      "validation_3\n",
      "it's validation img\n",
      "validation_4\n",
      "it's validation img\n",
      "validation_5\n",
      "it's validation img\n",
      "validation_6\n",
      "it's validation img\n",
      "validation_7\n",
      "it's validation img\n",
      "validation_8\n",
      "it's validation img\n",
      "validation_9\n",
      "it's validation img\n"
     ]
    }
   ],
   "source": [
    "base_dir = Path(\"D:/Study/Nuero Data Design/brainlit\")\n",
    "data_dir = base_dir / \"benchmarking_datasets\"\n",
    "im_dir = data_dir / \"Images\"\n",
    "mask_dir = base_dir / \"benchmarking_masks\"\n",
    "gfp_files = list(im_dir.glob(\"**/*.tif\"))\n",
    "save_path = \"C:/Users/Tanch/ffn/brainlit/images\"\n",
    "test_path = save_path + \"/test\"\n",
    "validation_path = save_path + \"/validation\"\n",
    "if not os.path.exists(test_path):\n",
    "    os.makedirs(test_path)\n",
    "if not os.path.exists(validation_path):\n",
    "    os.makedirs(validation_path)\n",
    "\n",
    "for im_num, im_path in enumerate(gfp_files):\n",
    "    file_name = im_path.parts[-1][:-8]\n",
    "    print(file_name)\n",
    "    if file_name[:10] != \"validation\":\n",
    "        print(\"it's test img\")\n",
    "        im = io.imread(im_path, plugin=\"tifffile\")\n",
    "        im = np.swapaxes(im, 0, 2)\n",
    "        mask_file = file_name + \"_mask.tif\"\n",
    "        mask_path = mask_dir / mask_file\n",
    "        mask = io.imread(mask_path, plugin=\"tifffile\")\n",
    "        test_file = test_path + \"/\" + file_name + \".h5\"\n",
    "        with h5py.File(test_file, 'w') as f:\n",
    "            f.create_dataset('raw', data = im, compression = 'gzip') \n",
    "            f.create_dataset('mask', data = mask, compression = 'gzip')\n",
    "    else:\n",
    "        print(\"it's validation img\")\n",
    "        im = io.imread(im_path, plugin=\"tifffile\")\n",
    "        im = np.swapaxes(im, 0, 2)\n",
    "        mask_file = file_name + \"_mask.tif\"\n",
    "        mask_path = mask_dir / mask_file\n",
    "        mask = io.imread(mask_path, plugin=\"tifffile\")\n",
    "        val_file = validation_path + \"/\" + file_name + \".h5\"\n",
    "        with h5py.File(val_file, 'w') as f:\n",
    "            f.create_dataset('raw', data = im, compression = 'gzip') \n",
    "            f.create_dataset('mask', data = mask, compression = 'gzip')"
   ]
  },
  {
   "cell_type": "code",
   "execution_count": 6,
   "metadata": {},
   "outputs": [],
   "source": [
    "result_path = \"C:/Users/Tanch/ffn/brainlit/results\"\n",
    "for i in range(25):\n",
    "    i += 1\n",
    "    test_path = result_path + \"/test_\" + str(i)\n",
    "    if not os.path.exists(test_path):\n",
    "        os.makedirs(test_path)\n",
    "    for j in range(25):\n",
    "        j += 1\n",
    "        val_path = test_path + \"/validation_\" + str(j)\n",
    "        if not os.path.exists(val_path):\n",
    "            os.makedirs(val_path)\n",
    "        val_path += \"/0\"\n",
    "        if not os.path.exists(val_path):\n",
    "            os.makedirs(val_path)\n",
    "test_path = result_path + \"/10_images\"\n",
    "for j in range(25):\n",
    "    j += 1\n",
    "    val_path = test_path + \"/validation_\" + str(j)\n",
    "    if not os.path.exists(val_path):\n",
    "        os.makedirs(val_path)\n",
    "    val_path += \"/0\"\n",
    "    if not os.path.exists(val_path):\n",
    "        os.makedirs(val_path)"
   ]
  },
  {
   "cell_type": "code",
   "execution_count": 4,
   "metadata": {},
   "outputs": [
    {
     "data": {
      "text/plain": [
       "<napari.viewer.Viewer at 0x220421737c8>"
      ]
     },
     "execution_count": 4,
     "metadata": {},
     "output_type": "execute_result"
    }
   ],
   "source": [
    "napari_viewer(im, labels = mask)"
   ]
  },
  {
   "cell_type": "code",
   "execution_count": 2,
   "metadata": {},
   "outputs": [
    {
     "name": "stdout",
     "output_type": "stream",
     "text": [
      "WARNING:tensorflow:From C:\\Users\\Tanch\\ffn\\ffn\\inference\\inference.py:833: The name tf.gfile.Exists is deprecated. Please use tf.io.gfile.exists instead.\n",
      "\n"
     ]
    },
    {
     "name": "stderr",
     "output_type": "stream",
     "text": [
      "WARNING:tensorflow:From C:\\Users\\Tanch\\ffn\\ffn\\inference\\inference.py:833: The name tf.gfile.Exists is deprecated. Please use tf.io.gfile.exists instead.\n",
      "\n"
     ]
    },
    {
     "name": "stdout",
     "output_type": "stream",
     "text": [
      "WARNING:tensorflow:From C:\\Users\\Tanch\\ffn\\ffn\\inference\\inference.py:887: The name tf.ConfigProto is deprecated. Please use tf.compat.v1.ConfigProto instead.\n",
      "\n"
     ]
    },
    {
     "name": "stderr",
     "output_type": "stream",
     "text": [
      "WARNING:tensorflow:From C:\\Users\\Tanch\\ffn\\ffn\\inference\\inference.py:887: The name tf.ConfigProto is deprecated. Please use tf.compat.v1.ConfigProto instead.\n",
      "\n"
     ]
    },
    {
     "name": "stdout",
     "output_type": "stream",
     "text": [
      "WARNING:tensorflow:From C:\\Users\\Tanch\\ffn\\ffn\\inference\\inference.py:888: The name tf.reset_default_graph is deprecated. Please use tf.compat.v1.reset_default_graph instead.\n",
      "\n"
     ]
    },
    {
     "name": "stderr",
     "output_type": "stream",
     "text": [
      "WARNING:tensorflow:From C:\\Users\\Tanch\\ffn\\ffn\\inference\\inference.py:888: The name tf.reset_default_graph is deprecated. Please use tf.compat.v1.reset_default_graph instead.\n",
      "\n"
     ]
    },
    {
     "name": "stdout",
     "output_type": "stream",
     "text": [
      "WARNING:tensorflow:From C:\\Users\\Tanch\\ffn\\ffn\\inference\\inference.py:889: The name tf.Session is deprecated. Please use tf.compat.v1.Session instead.\n",
      "\n"
     ]
    },
    {
     "name": "stderr",
     "output_type": "stream",
     "text": [
      "WARNING:tensorflow:From C:\\Users\\Tanch\\ffn\\ffn\\inference\\inference.py:889: The name tf.Session is deprecated. Please use tf.compat.v1.Session instead.\n",
      "\n"
     ]
    },
    {
     "name": "stdout",
     "output_type": "stream",
     "text": [
      "WARNING:tensorflow:From C:\\Users\\Tanch\\ffn\\ffn\\training\\model.py:78: The name tf.placeholder is deprecated. Please use tf.compat.v1.placeholder instead.\n",
      "\n"
     ]
    },
    {
     "name": "stderr",
     "output_type": "stream",
     "text": [
      "WARNING:tensorflow:From C:\\Users\\Tanch\\ffn\\ffn\\training\\model.py:78: The name tf.placeholder is deprecated. Please use tf.compat.v1.placeholder instead.\n",
      "\n"
     ]
    },
    {
     "name": "stdout",
     "output_type": "stream",
     "text": [
      "WARNING:tensorflow:From C:\\Users\\Tanch\\ffn\\ffn\\training\\models\\convstack_3d.py:69: The name tf.variable_scope is deprecated. Please use tf.compat.v1.variable_scope instead.\n",
      "\n"
     ]
    },
    {
     "name": "stderr",
     "output_type": "stream",
     "text": [
      "WARNING:tensorflow:From C:\\Users\\Tanch\\ffn\\ffn\\training\\models\\convstack_3d.py:69: The name tf.variable_scope is deprecated. Please use tf.compat.v1.variable_scope instead.\n",
      "\n"
     ]
    },
    {
     "name": "stdout",
     "output_type": "stream",
     "text": [
      "WARNING:tensorflow:\n",
      "The TensorFlow contrib module will not be included in TensorFlow 2.0.\n",
      "For more information, please see:\n",
      "  * https://github.com/tensorflow/community/blob/master/rfcs/20180907-contrib-sunset.md\n",
      "  * https://github.com/tensorflow/addons\n",
      "  * https://github.com/tensorflow/io (for I/O related ops)\n",
      "If you depend on functionality not listed there, please file an issue.\n",
      "\n"
     ]
    },
    {
     "name": "stderr",
     "output_type": "stream",
     "text": [
      "WARNING:tensorflow:\n",
      "The TensorFlow contrib module will not be included in TensorFlow 2.0.\n",
      "For more information, please see:\n",
      "  * https://github.com/tensorflow/community/blob/master/rfcs/20180907-contrib-sunset.md\n",
      "  * https://github.com/tensorflow/addons\n",
      "  * https://github.com/tensorflow/io (for I/O related ops)\n",
      "If you depend on functionality not listed there, please file an issue.\n",
      "\n"
     ]
    },
    {
     "name": "stdout",
     "output_type": "stream",
     "text": [
      "WARNING:tensorflow:From D:\\Anaconda3\\envs\\brainlit\\lib\\site-packages\\tensorflow_core\\contrib\\layers\\python\\layers\\layers.py:1057: Layer.apply (from tensorflow.python.keras.engine.base_layer) is deprecated and will be removed in a future version.\n",
      "Instructions for updating:\n",
      "Please use `layer.__call__` method instead.\n"
     ]
    },
    {
     "name": "stderr",
     "output_type": "stream",
     "text": [
      "WARNING:tensorflow:From D:\\Anaconda3\\envs\\brainlit\\lib\\site-packages\\tensorflow_core\\contrib\\layers\\python\\layers\\layers.py:1057: Layer.apply (from tensorflow.python.keras.engine.base_layer) is deprecated and will be removed in a future version.\n",
      "Instructions for updating:\n",
      "Please use `layer.__call__` method instead.\n"
     ]
    },
    {
     "name": "stdout",
     "output_type": "stream",
     "text": [
      "WARNING:tensorflow:From C:\\Users\\Tanch\\ffn\\ffn\\training\\models\\convstack_3d.py:85: The name tf.train.Saver is deprecated. Please use tf.compat.v1.train.Saver instead.\n",
      "\n"
     ]
    },
    {
     "name": "stderr",
     "output_type": "stream",
     "text": [
      "WARNING:tensorflow:From C:\\Users\\Tanch\\ffn\\ffn\\training\\models\\convstack_3d.py:85: The name tf.train.Saver is deprecated. Please use tf.compat.v1.train.Saver instead.\n",
      "\n"
     ]
    },
    {
     "name": "stdout",
     "output_type": "stream",
     "text": [
      "INFO:tensorflow:Restoring parameters from brainlit/models/test_1/model.ckpt-10000\n"
     ]
    },
    {
     "name": "stderr",
     "output_type": "stream",
     "text": [
      "INFO:tensorflow:Restoring parameters from brainlit/models/test_1/model.ckpt-10000\n"
     ]
    },
    {
     "name": "stdout",
     "output_type": "stream",
     "text": [
      "INFO:tensorflow:Restoring parameters from brainlit/models/test_1/model.ckpt-10000\n"
     ]
    },
    {
     "name": "stderr",
     "output_type": "stream",
     "text": [
      "INFO:tensorflow:Restoring parameters from brainlit/models/test_1/model.ckpt-10000\n"
     ]
    },
    {
     "name": "stdout",
     "output_type": "stream",
     "text": [
      "INFO:tensorflow:Restoring parameters from brainlit/models/test_1/model.ckpt-10000\n"
     ]
    },
    {
     "name": "stderr",
     "output_type": "stream",
     "text": [
      "INFO:tensorflow:Restoring parameters from brainlit/models/test_1/model.ckpt-10000\n"
     ]
    },
    {
     "name": "stdout",
     "output_type": "stream",
     "text": [
      "WARNING:tensorflow:From C:\\Users\\Tanch\\ffn\\ffn\\inference\\storage.py:128: The name tf.gfile.MakeDirs is deprecated. Please use tf.io.gfile.makedirs instead.\n",
      "\n"
     ]
    },
    {
     "name": "stderr",
     "output_type": "stream",
     "text": [
      "WARNING:tensorflow:From C:\\Users\\Tanch\\ffn\\ffn\\inference\\storage.py:128: The name tf.gfile.MakeDirs is deprecated. Please use tf.io.gfile.makedirs instead.\n",
      "\n"
     ]
    },
    {
     "name": "stdout",
     "output_type": "stream",
     "text": [
      "WARNING:tensorflow:From C:\\Users\\Tanch\\ffn\\ffn\\inference\\storage.py:95: The name tf.gfile.Copy is deprecated. Please use tf.io.gfile.copy instead.\n",
      "\n"
     ]
    },
    {
     "name": "stderr",
     "output_type": "stream",
     "text": [
      "WARNING:tensorflow:From C:\\Users\\Tanch\\ffn\\ffn\\inference\\storage.py:95: The name tf.gfile.Copy is deprecated. Please use tf.io.gfile.copy instead.\n",
      "\n"
     ]
    },
    {
     "name": "stdout",
     "output_type": "stream",
     "text": [
      "WARNING:tensorflow:From C:\\Users\\Tanch\\ffn\\ffn\\inference\\storage.py:96: The name tf.gfile.Rename is deprecated. Please use tf.io.gfile.rename instead.\n",
      "\n"
     ]
    },
    {
     "name": "stderr",
     "output_type": "stream",
     "text": [
      "WARNING:tensorflow:From C:\\Users\\Tanch\\ffn\\ffn\\inference\\storage.py:96: The name tf.gfile.Rename is deprecated. Please use tf.io.gfile.rename instead.\n",
      "\n"
     ]
    },
    {
     "name": "stdout",
     "output_type": "stream",
     "text": [
      "WARNING:tensorflow:From C:\\Users\\Tanch\\ffn\\ffn\\inference\\inference.py:1215: The name tf.gfile.Remove is deprecated. Please use tf.io.gfile.remove instead.\n",
      "\n"
     ]
    },
    {
     "name": "stderr",
     "output_type": "stream",
     "text": [
      "WARNING:tensorflow:From C:\\Users\\Tanch\\ffn\\ffn\\inference\\inference.py:1215: The name tf.gfile.Remove is deprecated. Please use tf.io.gfile.remove instead.\n",
      "\n"
     ]
    },
    {
     "name": "stdout",
     "output_type": "stream",
     "text": [
      "INFO:tensorflow:Restoring parameters from brainlit/models/test_1/model.ckpt-10000\n"
     ]
    },
    {
     "name": "stderr",
     "output_type": "stream",
     "text": [
      "INFO:tensorflow:Restoring parameters from brainlit/models/test_1/model.ckpt-10000\n"
     ]
    },
    {
     "name": "stdout",
     "output_type": "stream",
     "text": [
      "INFO:tensorflow:Restoring parameters from brainlit/models/test_1/model.ckpt-10000\n"
     ]
    },
    {
     "name": "stderr",
     "output_type": "stream",
     "text": [
      "INFO:tensorflow:Restoring parameters from brainlit/models/test_1/model.ckpt-10000\n"
     ]
    },
    {
     "name": "stdout",
     "output_type": "stream",
     "text": [
      "INFO:tensorflow:Restoring parameters from brainlit/models/test_1/model.ckpt-10000\n"
     ]
    },
    {
     "name": "stderr",
     "output_type": "stream",
     "text": [
      "INFO:tensorflow:Restoring parameters from brainlit/models/test_1/model.ckpt-10000\n"
     ]
    },
    {
     "name": "stdout",
     "output_type": "stream",
     "text": [
      "INFO:tensorflow:Restoring parameters from brainlit/models/test_1/model.ckpt-10000\n"
     ]
    },
    {
     "name": "stderr",
     "output_type": "stream",
     "text": [
      "INFO:tensorflow:Restoring parameters from brainlit/models/test_1/model.ckpt-10000\n"
     ]
    },
    {
     "name": "stdout",
     "output_type": "stream",
     "text": [
      "INFO:tensorflow:Restoring parameters from brainlit/models/test_1/model.ckpt-10000\n"
     ]
    },
    {
     "name": "stderr",
     "output_type": "stream",
     "text": [
      "INFO:tensorflow:Restoring parameters from brainlit/models/test_1/model.ckpt-10000\n"
     ]
    },
    {
     "name": "stdout",
     "output_type": "stream",
     "text": [
      "INFO:tensorflow:Restoring parameters from brainlit/models/test_1/model.ckpt-10000\n"
     ]
    },
    {
     "name": "stderr",
     "output_type": "stream",
     "text": [
      "INFO:tensorflow:Restoring parameters from brainlit/models/test_1/model.ckpt-10000\n"
     ]
    },
    {
     "name": "stdout",
     "output_type": "stream",
     "text": [
      "INFO:tensorflow:Restoring parameters from brainlit/models/test_1/model.ckpt-10000\n"
     ]
    },
    {
     "name": "stderr",
     "output_type": "stream",
     "text": [
      "INFO:tensorflow:Restoring parameters from brainlit/models/test_1/model.ckpt-10000\n"
     ]
    },
    {
     "name": "stdout",
     "output_type": "stream",
     "text": [
      "INFO:tensorflow:Restoring parameters from brainlit/models/test_1/model.ckpt-10000\n"
     ]
    },
    {
     "name": "stderr",
     "output_type": "stream",
     "text": [
      "INFO:tensorflow:Restoring parameters from brainlit/models/test_1/model.ckpt-10000\n"
     ]
    },
    {
     "name": "stdout",
     "output_type": "stream",
     "text": [
      "INFO:tensorflow:Restoring parameters from brainlit/models/test_1/model.ckpt-10000\n"
     ]
    },
    {
     "name": "stderr",
     "output_type": "stream",
     "text": [
      "INFO:tensorflow:Restoring parameters from brainlit/models/test_1/model.ckpt-10000\n"
     ]
    },
    {
     "name": "stdout",
     "output_type": "stream",
     "text": [
      "INFO:tensorflow:Restoring parameters from brainlit/models/test_1/model.ckpt-10000\n"
     ]
    },
    {
     "name": "stderr",
     "output_type": "stream",
     "text": [
      "INFO:tensorflow:Restoring parameters from brainlit/models/test_1/model.ckpt-10000\n"
     ]
    },
    {
     "name": "stdout",
     "output_type": "stream",
     "text": [
      "INFO:tensorflow:Restoring parameters from brainlit/models/test_1/model.ckpt-10000\n"
     ]
    },
    {
     "name": "stderr",
     "output_type": "stream",
     "text": [
      "INFO:tensorflow:Restoring parameters from brainlit/models/test_1/model.ckpt-10000\n"
     ]
    },
    {
     "name": "stdout",
     "output_type": "stream",
     "text": [
      "INFO:tensorflow:Restoring parameters from brainlit/models/test_1/model.ckpt-10000\n"
     ]
    },
    {
     "name": "stderr",
     "output_type": "stream",
     "text": [
      "INFO:tensorflow:Restoring parameters from brainlit/models/test_1/model.ckpt-10000\n"
     ]
    },
    {
     "name": "stdout",
     "output_type": "stream",
     "text": [
      "INFO:tensorflow:Restoring parameters from brainlit/models/test_1/model.ckpt-10000\n"
     ]
    },
    {
     "name": "stderr",
     "output_type": "stream",
     "text": [
      "INFO:tensorflow:Restoring parameters from brainlit/models/test_1/model.ckpt-10000\n"
     ]
    },
    {
     "name": "stdout",
     "output_type": "stream",
     "text": [
      "INFO:tensorflow:Restoring parameters from brainlit/models/test_1/model.ckpt-10000\n"
     ]
    },
    {
     "name": "stderr",
     "output_type": "stream",
     "text": [
      "INFO:tensorflow:Restoring parameters from brainlit/models/test_1/model.ckpt-10000\n"
     ]
    },
    {
     "name": "stdout",
     "output_type": "stream",
     "text": [
      "INFO:tensorflow:Restoring parameters from brainlit/models/test_1/model.ckpt-10000\n"
     ]
    },
    {
     "name": "stderr",
     "output_type": "stream",
     "text": [
      "INFO:tensorflow:Restoring parameters from brainlit/models/test_1/model.ckpt-10000\n"
     ]
    },
    {
     "name": "stdout",
     "output_type": "stream",
     "text": [
      "INFO:tensorflow:Restoring parameters from brainlit/models/test_1/model.ckpt-10000\n"
     ]
    },
    {
     "name": "stderr",
     "output_type": "stream",
     "text": [
      "INFO:tensorflow:Restoring parameters from brainlit/models/test_1/model.ckpt-10000\n"
     ]
    },
    {
     "name": "stdout",
     "output_type": "stream",
     "text": [
      "INFO:tensorflow:Restoring parameters from brainlit/models/test_1/model.ckpt-10000\n"
     ]
    },
    {
     "name": "stderr",
     "output_type": "stream",
     "text": [
      "INFO:tensorflow:Restoring parameters from brainlit/models/test_1/model.ckpt-10000\n"
     ]
    },
    {
     "name": "stdout",
     "output_type": "stream",
     "text": [
      "INFO:tensorflow:Restoring parameters from brainlit/models/test_1/model.ckpt-10000\n"
     ]
    },
    {
     "name": "stderr",
     "output_type": "stream",
     "text": [
      "INFO:tensorflow:Restoring parameters from brainlit/models/test_1/model.ckpt-10000\n"
     ]
    },
    {
     "name": "stdout",
     "output_type": "stream",
     "text": [
      "INFO:tensorflow:Restoring parameters from brainlit/models/test_1/model.ckpt-10000\n"
     ]
    },
    {
     "name": "stderr",
     "output_type": "stream",
     "text": [
      "INFO:tensorflow:Restoring parameters from brainlit/models/test_1/model.ckpt-10000\n"
     ]
    },
    {
     "name": "stdout",
     "output_type": "stream",
     "text": [
      "INFO:tensorflow:Restoring parameters from brainlit/models/test_1/model.ckpt-10000\n"
     ]
    },
    {
     "name": "stderr",
     "output_type": "stream",
     "text": [
      "INFO:tensorflow:Restoring parameters from brainlit/models/test_1/model.ckpt-10000\n"
     ]
    },
    {
     "name": "stdout",
     "output_type": "stream",
     "text": [
      "INFO:tensorflow:Restoring parameters from brainlit/models/test_1/model.ckpt-10000\n"
     ]
    },
    {
     "name": "stderr",
     "output_type": "stream",
     "text": [
      "INFO:tensorflow:Restoring parameters from brainlit/models/test_1/model.ckpt-10000\n"
     ]
    },
    {
     "name": "stdout",
     "output_type": "stream",
     "text": [
      "INFO:tensorflow:Restoring parameters from brainlit/models/test_1/model.ckpt-10000\n"
     ]
    },
    {
     "name": "stderr",
     "output_type": "stream",
     "text": [
      "INFO:tensorflow:Restoring parameters from brainlit/models/test_1/model.ckpt-10000\n"
     ]
    }
   ],
   "source": [
    "napari_view = True\n",
    "for im_num in range(25):\n",
    "    im_num += 1\n",
    "    config = '''image {\n",
    "      hdf5: \"brainlit/images/validation/validation_%d.h5:raw\"\n",
    "    }\n",
    "    image_mean: 64\n",
    "    image_stddev: 33\n",
    "    checkpoint_interval: 1800\n",
    "    seed_policy: \"PolicyPeaks\"\n",
    "    model_checkpoint_path: \"brainlit/models/test_1/model.ckpt-10000\"\n",
    "    model_name: \"convstack_3d.ConvStack3DFFNModel\"\n",
    "    model_args: \"{\\\\\"depth\\\\\": 6, \\\\\"fov_size\\\\\": [11, 11, 11], \\\\\"deltas\\\\\": [4, 4, 4]}\"\n",
    "    segmentation_output_dir: \"brainlit/results/test_1/validation_%d\"\n",
    "    inference_options {\n",
    "      init_activation: 0.95\n",
    "      pad_value: 0.05\n",
    "      move_threshold: 0.9\n",
    "      min_boundary_dist { x: 1 y: 1 z: 1}\n",
    "      segment_threshold: 0.6\n",
    "      min_segment_size: 1000\n",
    "    }''' % (im_num, im_num)\n",
    "    req = inference_pb2.InferenceRequest()\n",
    "    _ = text_format.Parse(config, req)\n",
    "    \n",
    "    runner = inference.Runner()\n",
    "    runner.start(req)\n",
    "    canvas, alignment = runner.make_canvas((0, 0, 0), (330, 330, 100))\n",
    "    \n",
    "    bbox = bounding_box_pb2.BoundingBox()\n",
    "    bounding_box = 'start { x:0 y:0 z:0 } size { x:330 y:330 z:100 }'\n",
    "    text_format.Parse(bounding_box, bbox)\n",
    "    \n",
    "    runner.run((bbox.start.z, bbox.start.y, bbox.start.x), (bbox.size.z, bbox.size.y, bbox.size.x))"
   ]
  },
  {
   "cell_type": "code",
   "execution_count": 4,
   "metadata": {},
   "outputs": [
    {
     "name": "stdout",
     "output_type": "stream",
     "text": [
      "WARNING:tensorflow:From C:\\Users\\Tanch\\ffn\\ffn\\inference\\storage.py:414: The name tf.gfile.Open is deprecated. Please use tf.io.gfile.GFile instead.\n",
      "\n"
     ]
    },
    {
     "name": "stderr",
     "output_type": "stream",
     "text": [
      "WARNING:tensorflow:From C:\\Users\\Tanch\\ffn\\ffn\\inference\\storage.py:414: The name tf.gfile.Open is deprecated. Please use tf.io.gfile.GFile instead.\n",
      "\n"
     ]
    },
    {
     "name": "stdout",
     "output_type": "stream",
     "text": [
      "Keys: <KeysViewHDF5 ['mask', 'raw']>\n",
      "im_num = 1\n",
      "The number of labels: 2839\n",
      "Keys: <KeysViewHDF5 ['mask', 'raw']>\n",
      "im_num = 2\n",
      "The number of labels: 0\n",
      "Keys: <KeysViewHDF5 ['mask', 'raw']>\n",
      "im_num = 3\n",
      "The number of labels: 0\n",
      "Keys: <KeysViewHDF5 ['mask', 'raw']>\n",
      "im_num = 4\n",
      "The number of labels: 0\n",
      "Keys: <KeysViewHDF5 ['mask', 'raw']>\n",
      "im_num = 5\n",
      "The number of labels: 0\n",
      "Keys: <KeysViewHDF5 ['mask', 'raw']>\n",
      "im_num = 6\n",
      "The number of labels: 0\n",
      "Keys: <KeysViewHDF5 ['mask', 'raw']>\n",
      "im_num = 7\n",
      "The number of labels: 0\n",
      "Keys: <KeysViewHDF5 ['mask', 'raw']>\n",
      "im_num = 8\n",
      "The number of labels: 0\n",
      "Keys: <KeysViewHDF5 ['mask', 'raw']>\n",
      "im_num = 9\n",
      "The number of labels: 3392\n",
      "Keys: <KeysViewHDF5 ['mask', 'raw']>\n",
      "im_num = 10\n",
      "The number of labels: 0\n",
      "Keys: <KeysViewHDF5 ['mask', 'raw']>\n",
      "im_num = 11\n",
      "The number of labels: 0\n",
      "Keys: <KeysViewHDF5 ['mask', 'raw']>\n",
      "im_num = 12\n",
      "The number of labels: 0\n",
      "Keys: <KeysViewHDF5 ['mask', 'raw']>\n",
      "im_num = 13\n",
      "The number of labels: 0\n",
      "Keys: <KeysViewHDF5 ['mask', 'raw']>\n",
      "im_num = 14\n",
      "The number of labels: 0\n",
      "Keys: <KeysViewHDF5 ['mask', 'raw']>\n",
      "im_num = 15\n",
      "The number of labels: 0\n",
      "Keys: <KeysViewHDF5 ['mask', 'raw']>\n",
      "im_num = 16\n",
      "The number of labels: 0\n",
      "Keys: <KeysViewHDF5 ['mask', 'raw']>\n",
      "im_num = 17\n",
      "The number of labels: 0\n",
      "Keys: <KeysViewHDF5 ['mask', 'raw']>\n",
      "im_num = 18\n",
      "The number of labels: 2206\n",
      "Keys: <KeysViewHDF5 ['mask', 'raw']>\n",
      "im_num = 19\n",
      "The number of labels: 0\n",
      "Keys: <KeysViewHDF5 ['mask', 'raw']>\n",
      "im_num = 20\n",
      "The number of labels: 0\n",
      "Keys: <KeysViewHDF5 ['mask', 'raw']>\n",
      "im_num = 21\n",
      "The number of labels: 0\n",
      "Keys: <KeysViewHDF5 ['mask', 'raw']>\n",
      "im_num = 22\n",
      "The number of labels: 0\n",
      "Keys: <KeysViewHDF5 ['mask', 'raw']>\n",
      "im_num = 23\n",
      "The number of labels: 0\n",
      "Keys: <KeysViewHDF5 ['mask', 'raw']>\n",
      "im_num = 24\n",
      "The number of labels: 0\n",
      "Keys: <KeysViewHDF5 ['mask', 'raw']>\n",
      "im_num = 25\n",
      "The number of labels: 0\n"
     ]
    }
   ],
   "source": [
    "for im_num in range(25):\n",
    "    im_num += 1\n",
    "    seg, _ = storage.load_segmentation('brainlit/results/test_1/validation_%d' % im_num, (0, 0, 0))\n",
    "    seg2 = seg\n",
    "    seg2 = np.int64(seg2 > 0)\n",
    "    \n",
    "    filename = \"brainlit/images/validation/validation_%d.h5\" % im_num\n",
    "    with h5py.File(filename, \"r\") as f:\n",
    "        # List all groups\n",
    "        print(\"Keys: %s\" % f.keys())\n",
    "\n",
    "        # Get the data\n",
    "        data = list(f[\"raw\"])\n",
    "        img = np.array(data)\n",
    "        data = list(f[\"mask\"])\n",
    "        mask = np.array(data)\n",
    "\n",
    "    print(f\"im_num = {im_num}\")\n",
    "    print(f\"The number of labels: {sum(sum(sum(seg2)))}\")    \n",
    "    napari_viewer(img, labels=seg2)"
   ]
  },
  {
   "cell_type": "code",
   "execution_count": null,
   "metadata": {},
   "outputs": [],
   "source": []
  }
 ],
 "metadata": {
  "kernelspec": {
   "display_name": "Python 3",
   "language": "python",
   "name": "python3"
  },
  "language_info": {
   "codemirror_mode": {
    "name": "ipython",
    "version": 3
   },
   "file_extension": ".py",
   "mimetype": "text/x-python",
   "name": "python",
   "nbconvert_exporter": "python",
   "pygments_lexer": "ipython3",
   "version": "3.7.9"
  }
 },
 "nbformat": 4,
 "nbformat_minor": 4
}
