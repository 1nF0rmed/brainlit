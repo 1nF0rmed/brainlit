{
 "cells": [
  {
   "cell_type": "code",
   "execution_count": 1,
   "metadata": {},
   "outputs": [],
   "source": [
    "import h5py\n",
    "import os\n",
    "import numpy as np"
   ]
  },
  {
   "cell_type": "code",
   "execution_count": 2,
   "metadata": {},
   "outputs": [],
   "source": [
    "ROOT_PATH = \"C:/Users/Tanch/ffn/\"\n",
    "train_data_directory = os.path.join(ROOT_PATH, \"third_party/neuroproof_examples/\")"
   ]
  },
  {
   "cell_type": "code",
   "execution_count": 3,
   "metadata": {},
   "outputs": [
    {
     "name": "stdout",
     "output_type": "stream",
     "text": [
      "Keys: <KeysViewHDF5 ['raw']>\n"
     ]
    }
   ],
   "source": [
    "filename = os.path.join(train_data_directory, \"training_sample1/grayscale_maps.h5\")\n",
    "with h5py.File(filename, \"r\") as f:\n",
    "    # List all groups\n",
    "    print(\"Keys: %s\" % f.keys())\n",
    "    a_group_key = list(f.keys())[0]\n",
    "\n",
    "    # Get the data\n",
    "    data = list(f[a_group_key])\n",
    "    training1 = np.array(data)"
   ]
  },
  {
   "cell_type": "code",
   "execution_count": 4,
   "metadata": {},
   "outputs": [
    {
     "data": {
      "text/plain": [
       "3"
      ]
     },
     "execution_count": 4,
     "metadata": {},
     "output_type": "execute_result"
    }
   ],
   "source": [
    "training1.ndim"
   ]
  },
  {
   "cell_type": "code",
   "execution_count": 5,
   "metadata": {},
   "outputs": [
    {
     "data": {
      "text/plain": [
       "(250, 250, 250)"
      ]
     },
     "execution_count": 5,
     "metadata": {},
     "output_type": "execute_result"
    }
   ],
   "source": [
    "training1.shape"
   ]
  },
  {
   "cell_type": "code",
   "execution_count": 6,
   "metadata": {},
   "outputs": [
    {
     "name": "stdout",
     "output_type": "stream",
     "text": [
      "Keys: <KeysViewHDF5 ['raw']>\n"
     ]
    }
   ],
   "source": [
    "filename = os.path.join(train_data_directory, \"training_sample2/grayscale_maps.h5\")\n",
    "\n",
    "with h5py.File(filename, \"r\") as f:\n",
    "    # List all groups\n",
    "    print(\"Keys: %s\" % f.keys())\n",
    "    a_group_key = list(f.keys())[0]\n",
    "\n",
    "    # Get the data\n",
    "    data = list(f[a_group_key])\n",
    "    training2 = np.array(data)"
   ]
  },
  {
   "cell_type": "code",
   "execution_count": 7,
   "metadata": {},
   "outputs": [
    {
     "data": {
      "text/plain": [
       "3"
      ]
     },
     "execution_count": 7,
     "metadata": {},
     "output_type": "execute_result"
    }
   ],
   "source": [
    "training2.ndim"
   ]
  },
  {
   "cell_type": "code",
   "execution_count": 8,
   "metadata": {},
   "outputs": [
    {
     "data": {
      "text/plain": [
       "(250, 250, 250)"
      ]
     },
     "execution_count": 8,
     "metadata": {},
     "output_type": "execute_result"
    }
   ],
   "source": [
    "training2.shape"
   ]
  },
  {
   "cell_type": "code",
   "execution_count": 9,
   "metadata": {},
   "outputs": [
    {
     "name": "stdout",
     "output_type": "stream",
     "text": [
      "Keys: <KeysViewHDF5 ['stack', 'transforms']>\n"
     ]
    }
   ],
   "source": [
    "filename = os.path.join(train_data_directory, \"training_sample2/groundtruth.h5\")\n",
    "\n",
    "with h5py.File(filename, \"r\") as f:\n",
    "    # List all groups\n",
    "    print(\"Keys: %s\" % f.keys())\n",
    "    a_group_key = list(f.keys())[0]\n",
    "    b_group_key = list(f.keys())[1]\n",
    "\n",
    "    # Get the data\n",
    "    data = list(f[a_group_key])\n",
    "    groundtruth_s = np.array(data)\n",
    "    data = list(f[b_group_key])\n",
    "    groundtruth_t = np.array(data)"
   ]
  },
  {
   "cell_type": "code",
   "execution_count": 10,
   "metadata": {},
   "outputs": [
    {
     "data": {
      "text/plain": [
       "3"
      ]
     },
     "execution_count": 10,
     "metadata": {},
     "output_type": "execute_result"
    }
   ],
   "source": [
    "groundtruth_s.ndim"
   ]
  },
  {
   "cell_type": "code",
   "execution_count": 11,
   "metadata": {},
   "outputs": [
    {
     "data": {
      "text/plain": [
       "(250, 250, 250)"
      ]
     },
     "execution_count": 11,
     "metadata": {},
     "output_type": "execute_result"
    }
   ],
   "source": [
    "groundtruth_s.shape"
   ]
  },
  {
   "cell_type": "code",
   "execution_count": 15,
   "metadata": {},
   "outputs": [
    {
     "data": {
      "text/plain": [
       "array([[[    0,     4,     4, ...,     3,     3,     3],\n",
       "        [    4,     4,     4, ...,     3,     3,     3],\n",
       "        [    4,     4,     4, ...,     3,     3,     3],\n",
       "        ...,\n",
       "        [   22,    22,    22, ...,    14,    14,    14],\n",
       "        [   22,    22,    22, ...,    14,    14,    14],\n",
       "        [   22,    22,    22, ...,    14,    14,    14]],\n",
       "\n",
       "       [[    0,     4,     4, ...,     3,     3,     3],\n",
       "        [    4,     4,     4, ...,     3,     3,     3],\n",
       "        [    4,     4,     4, ...,     3,     3,     3],\n",
       "        ...,\n",
       "        [   22,    22,    22, ...,    14,    14,    14],\n",
       "        [   22,    22,    22, ...,    14,    14,    14],\n",
       "        [   22,    22,    22, ...,    14,    14,    14]],\n",
       "\n",
       "       [[    0,     4,     4, ...,     3,     3,     3],\n",
       "        [    4,     4,     4, ...,     3,     3,     3],\n",
       "        [    4,     4,     4, ...,     3,     3,     3],\n",
       "        ...,\n",
       "        [  165,   165,   165, ...,    14,    14,    14],\n",
       "        [  165,   165,   165, ...,    14,    14,    14],\n",
       "        [  165,   165,   165, ...,    14,    14,    14]],\n",
       "\n",
       "       ...,\n",
       "\n",
       "       [[    0, 21141, 21141, ..., 21114, 21114, 21114],\n",
       "        [21141, 21141, 21141, ..., 21114, 21114, 21114],\n",
       "        [21141, 21141, 21141, ..., 21114, 21114, 21114],\n",
       "        ...,\n",
       "        [21117, 21117, 21117, ..., 21120, 21120, 21120],\n",
       "        [21117, 21117, 21117, ..., 21120, 21120, 21120],\n",
       "        [21117, 21117, 21117, ..., 21120, 21120, 21120]],\n",
       "\n",
       "       [[    0, 21220, 21220, ..., 21194, 21194, 21194],\n",
       "        [21220, 21220, 21220, ..., 21194, 21194, 21194],\n",
       "        [21220, 21220, 21220, ..., 21194, 21194, 21194],\n",
       "        ...,\n",
       "        [21197, 21197, 21197, ..., 21200, 21200, 21200],\n",
       "        [21197, 21197, 21197, ..., 21200, 21200, 21200],\n",
       "        [21197, 21197, 21197, ..., 21200, 21200, 21200]],\n",
       "\n",
       "       [[    0, 21291, 21291, ..., 21267, 21267, 21267],\n",
       "        [21291, 21291, 21291, ..., 21267, 21267, 21267],\n",
       "        [21291, 21291, 21291, ..., 21267, 21267, 21267],\n",
       "        ...,\n",
       "        [21270, 21270, 21270, ..., 21273, 21273, 21273],\n",
       "        [21270, 21270, 21270, ..., 21273, 21273, 21273],\n",
       "        [21270, 21270, 21270, ..., 21273, 21273, 21273]]])"
      ]
     },
     "execution_count": 15,
     "metadata": {},
     "output_type": "execute_result"
    }
   ],
   "source": [
    "groundtruth_s"
   ]
  },
  {
   "cell_type": "code",
   "execution_count": 12,
   "metadata": {},
   "outputs": [
    {
     "data": {
      "text/plain": [
       "2"
      ]
     },
     "execution_count": 12,
     "metadata": {},
     "output_type": "execute_result"
    }
   ],
   "source": [
    "groundtruth_t.ndim"
   ]
  },
  {
   "cell_type": "code",
   "execution_count": 13,
   "metadata": {},
   "outputs": [
    {
     "data": {
      "text/plain": [
       "(21317, 2)"
      ]
     },
     "execution_count": 13,
     "metadata": {},
     "output_type": "execute_result"
    }
   ],
   "source": [
    "groundtruth_t.shape"
   ]
  },
  {
   "cell_type": "code",
   "execution_count": 54,
   "metadata": {},
   "outputs": [
    {
     "data": {
      "text/plain": [
       "array([[     0,      0],\n",
       "       [     1,    115],\n",
       "       [     2,    182],\n",
       "       [     3,    197],\n",
       "       [     4,    228],\n",
       "       [     5,  14433],\n",
       "       [     6,    719],\n",
       "       [     7,    728],\n",
       "       [     8,    766],\n",
       "       [     9,    811],\n",
       "       [    10,  60683],\n",
       "       [    11,  18228],\n",
       "       [    12,    959],\n",
       "       [    13,  73660],\n",
       "       [    14,   1031],\n",
       "       [    15,  10343],\n",
       "       [    16,   1567],\n",
       "       [    17,   2150],\n",
       "       [    18,   8240],\n",
       "       [    19,   2491],\n",
       "       [    20,   1921],\n",
       "       [    21,   1944],\n",
       "       [    22,   1955],\n",
       "       [    23,   2427],\n",
       "       [    24,   2491],\n",
       "       [    25,   6291],\n",
       "       [    26,  18458],\n",
       "       [    27,   8697],\n",
       "       [    28,  10622],\n",
       "       [    29,  14049],\n",
       "       [    30,  19925],\n",
       "       [    31,  18228],\n",
       "       [    32,  24720],\n",
       "       [    33,  56811],\n",
       "       [    34,  37164],\n",
       "       [    35,  80907],\n",
       "       [    36,  49774],\n",
       "       [    37, 134492],\n",
       "       [    38,   2150],\n",
       "       [    39,  60683],\n",
       "       [    40, 135620],\n",
       "       [    41, 135673],\n",
       "       [    42,   6710],\n",
       "       [    43,  60683],\n",
       "       [    44, 135620],\n",
       "       [    45, 135670],\n",
       "       [    46, 135673],\n",
       "       [    47,   6710],\n",
       "       [    48,   2150],\n",
       "       [    49,   2150],\n",
       "       [    50,  60683],\n",
       "       [    51,  60683],\n",
       "       [    52, 135620],\n",
       "       [    53, 135670],\n",
       "       [    54, 135673],\n",
       "       [    55,   6710],\n",
       "       [    56, 135670],\n",
       "       [    57, 135673],\n",
       "       [    58,   6710],\n",
       "       [    59,   6710],\n",
       "       [    60, 135673],\n",
       "       [    61,   6710],\n",
       "       [    62, 135673],\n",
       "       [    63,   6710],\n",
       "       [    64, 135673],\n",
       "       [    65, 135673],\n",
       "       [    66,   6710],\n",
       "       [    67, 135673],\n",
       "       [    68, 135673],\n",
       "       [    69, 135673],\n",
       "       [    70,   6710],\n",
       "       [    71,   6710],\n",
       "       [    72, 135673],\n",
       "       [    73,   6710],\n",
       "       [    74,   2150],\n",
       "       [    75,  60683],\n",
       "       [    76,   2491],\n",
       "       [    77, 135620],\n",
       "       [    78,   6710],\n",
       "       [    79,   6710],\n",
       "       [    80,   6710],\n",
       "       [    81, 135620],\n",
       "       [    82,   6710],\n",
       "       [    83,  60683],\n",
       "       [    84, 134983],\n",
       "       [    85, 114488],\n",
       "       [    86, 135620],\n",
       "       [    87,   2150],\n",
       "       [    88, 135602],\n",
       "       [    89, 135602],\n",
       "       [    90, 135349],\n",
       "       [    91, 135349],\n",
       "       [    92, 135709],\n",
       "       [    93, 135709],\n",
       "       [    94, 114488],\n",
       "       [    95, 135478],\n",
       "       [    96, 135287],\n",
       "       [    97, 135349],\n",
       "       [    98, 135709],\n",
       "       [    99,  60683]], dtype=int64)"
      ]
     },
     "execution_count": 54,
     "metadata": {},
     "output_type": "execute_result"
    }
   ],
   "source": [
    "groundtruth_t[0:100, ]"
   ]
  },
  {
   "cell_type": "code",
   "execution_count": 26,
   "metadata": {},
   "outputs": [
    {
     "data": {
      "text/plain": [
       "2910"
      ]
     },
     "execution_count": 26,
     "metadata": {},
     "output_type": "execute_result"
    }
   ],
   "source": [
    "sum(sum(sum(groundtruth_s==5)))"
   ]
  },
  {
   "cell_type": "code",
   "execution_count": 28,
   "metadata": {},
   "outputs": [],
   "source": [
    "import napari\n",
    "\n",
    "with napari.gui_qt():\n",
    "    viewer = napari.Viewer(ndisplay=3)\n",
    "    viewer.add_image(training2)"
   ]
  },
  {
   "cell_type": "code",
   "execution_count": null,
   "metadata": {},
   "outputs": [],
   "source": []
  }
 ],
 "metadata": {
  "kernelspec": {
   "display_name": "Python 3",
   "language": "python",
   "name": "python3"
  },
  "language_info": {
   "codemirror_mode": {
    "name": "ipython",
    "version": 3
   },
   "file_extension": ".py",
   "mimetype": "text/x-python",
   "name": "python",
   "nbconvert_exporter": "python",
   "pygments_lexer": "ipython3",
   "version": "3.7.9"
  }
 },
 "nbformat": 4,
 "nbformat_minor": 4
}
