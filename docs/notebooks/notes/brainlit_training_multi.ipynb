{
 "cells": [
  {
   "cell_type": "code",
   "execution_count": 1,
   "metadata": {},
   "outputs": [
    {
     "name": "stderr",
     "output_type": "stream",
     "text": [
      "D:\\Anaconda3\\envs\\brainlit\\lib\\site-packages\\napari\\__init__.py:44: UserWarning: \n",
      "    napari was tested with QT library `>=5.12.3`.\n",
      "    The version installed is 5.9.6. Please report any issues with this\n",
      "    specific QT version at https://github.com/Napari/napari/issues.\n",
      "    \n",
      "  warn(message=warn_message)\n"
     ]
    }
   ],
   "source": [
    "from brainlit.utils.session import NeuroglancerSession\n",
    "from brainlit.utils.swc import graph_to_paths\n",
    "from brainlit.viz.visualize import napari_viewer\n",
    "\n",
    "import numpy as np\n",
    "import h5py\n",
    "import os\n",
    "from skimage import io\n",
    "from pathlib import Path\n",
    "import warnings\n",
    "warnings.filterwarnings(\"ignore\")"
   ]
  },
  {
   "cell_type": "code",
   "execution_count": 10,
   "metadata": {},
   "outputs": [
    {
     "name": "stdout",
     "output_type": "stream",
     "text": [
      "image used:\n",
      "test_1\n",
      "image used:\n",
      "test_10\n",
      "image used:\n",
      "test_11\n",
      "image used:\n",
      "test_12\n",
      "image used:\n",
      "test_13\n"
     ]
    }
   ],
   "source": [
    "base_dir = Path(\"D:/Study/Nuero Data Design/brainlit\")\n",
    "data_dir = base_dir / \"benchmarking_datasets\"\n",
    "im_dir = data_dir / \"Images\"\n",
    "mask_dir = base_dir / \"benchmarking_masks\"\n",
    "gfp_files = list(im_dir.glob(\"**/*.tif\"))\n",
    "\n",
    "try:\n",
    "    del im_train, im_mask\n",
    "except:\n",
    "    im_nums = 5\n",
    "    for im_num in range(im_nums):\n",
    "        im_path = gfp_files[im_num]\n",
    "        file_name = im_path.parts[-1][:-8]\n",
    "        print(\"image used:\")\n",
    "        print(file_name)\n",
    "        im = io.imread(im_path, plugin=\"tifffile\")\n",
    "        im = np.swapaxes(im, 0, 2)\n",
    "        mask_file = file_name + \"_mask.tif\"\n",
    "        mask_path = mask_dir / mask_file\n",
    "        mask = io.imread(mask_path, plugin=\"tifffile\")\n",
    "        im = im.astype(\"int16\")\n",
    "        mask = mask.astype(\"int32\")\n",
    "        try:\n",
    "            im_train\n",
    "            im_train = np.append(im_train, im, axis = 2)\n",
    "        except:\n",
    "            im_train = im\n",
    "        try:\n",
    "            im_mask\n",
    "            im_mask = np.append(im_mask, mask, axis = 2)\n",
    "        except:\n",
    "            im_mask = mask"
   ]
  },
  {
   "cell_type": "code",
   "execution_count": 11,
   "metadata": {},
   "outputs": [
    {
     "data": {
      "text/plain": [
       "(330, 330, 500)"
      ]
     },
     "execution_count": 11,
     "metadata": {},
     "output_type": "execute_result"
    }
   ],
   "source": [
    "im_train.shape"
   ]
  },
  {
   "cell_type": "code",
   "execution_count": 12,
   "metadata": {},
   "outputs": [
    {
     "data": {
      "text/plain": [
       "<napari.viewer.Viewer at 0x218d61a8b48>"
      ]
     },
     "execution_count": 12,
     "metadata": {},
     "output_type": "execute_result"
    }
   ],
   "source": [
    "napari_viewer(im_train, labels = im_mask, label_name = \"mask\")"
   ]
  },
  {
   "cell_type": "code",
   "execution_count": 13,
   "metadata": {},
   "outputs": [],
   "source": [
    "save_path = \"C:/Users/Tanch/ffn/brainlit/images\"\n",
    "file_name = str(im_nums) + \"_images\"\n",
    "train_dir = save_path + \"/\" + file_name\n",
    "if not os.path.exists(train_dir):\n",
    "    os.makedirs(train_dir)\n",
    "train_path = train_dir + \"/grayscale_maps.h5\"\n",
    "with h5py.File(train_path, 'w') as f:\n",
    "    f.create_dataset('raw', data = im_train, compression = 'gzip') \n",
    "mask_path = train_dir + \"/groundtruth.h5\"\n",
    "with h5py.File(mask_path, 'w') as f:\n",
    "    f.create_dataset('stack', data = im_mask, compression = 'gzip') "
   ]
  },
  {
   "cell_type": "markdown",
   "metadata": {},
   "source": [
    "    python compute_partitions.py --input_volume brainlit/images/10_images/groundtruth.h5:stack --output_volume brainlit/images/10_images/af.h5:af --thresholds 0.025,0.05,0.075,0.1,0.2,0.3,0.4,0.5,0.6,0.7,0.8,0.9 --lom_radius 24,24,24 --min_size 10000、\n",
    "    python build_coordinates.py --partition_volumes validation1:brainlit/images/10_images/af.h5:af --coordinate_output brainlit/images/10_images/tf_record_file --margin 24,24,24\n",
    "    python train.py --train_coords brainlit/images/10_images/tf_record_file --data_volumes validation1:brainlit/images/10_images/grayscale_maps.h5:raw --label_volumes validation1:brainlit/images/10_images/groundtruth.h5:stack --model_name convstack_3d.ConvStack3DFFNModel --model_args \"{\\\"depth\\\": 6, \\\"fov_size\\\": [11, 11, 11], \\\"deltas\\\": [4, 4, 4]}\" --image_mean 64 --image_stddev 33"
   ]
  },
  {
   "cell_type": "markdown",
   "metadata": {},
   "source": [
    "    python compute_partitions.py --input_volume brainlit/images/5_images/groundtruth.h5:stack --output_volume brainlit/images/5_images/af.h5:af --thresholds 0.025,0.05,0.075,0.1,0.2,0.3,0.4,0.5,0.6,0.7,0.8,0.9 --lom_radius 24,24,24 --min_size 10000\n",
    "    python build_coordinates.py --partition_volumes validation1:brainlit/images/5_images/af.h5:af --coordinate_output brainlit/images/5_images/tf_record_file --margin 24,24,24\n",
    "    python train.py --train_coords brainlit/images/5_images/tf_record_file --data_volumes validation1:brainlit/images/5_images/grayscale_maps.h5:raw --label_volumes validation1:brainlit/images/5_images/groundtruth.h5:stack --model_name convstack_3d.ConvStack3DFFNModel --model_args \"{\\\"depth\\\": 6, \\\"fov_size\\\": [11, 11, 11], \\\"deltas\\\": [4, 4, 4]}\" --image_mean 64 --image_stddev 33"
   ]
  },
  {
   "cell_type": "code",
   "execution_count": null,
   "metadata": {},
   "outputs": [],
   "source": []
  }
 ],
 "metadata": {
  "kernelspec": {
   "display_name": "Python 3",
   "language": "python",
   "name": "python3"
  },
  "language_info": {
   "codemirror_mode": {
    "name": "ipython",
    "version": 3
   },
   "file_extension": ".py",
   "mimetype": "text/x-python",
   "name": "python",
   "nbconvert_exporter": "python",
   "pygments_lexer": "ipython3",
   "version": "3.7.9"
  }
 },
 "nbformat": 4,
 "nbformat_minor": 4
}
