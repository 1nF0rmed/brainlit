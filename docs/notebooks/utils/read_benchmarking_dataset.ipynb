{
 "metadata": {
  "language_info": {
   "codemirror_mode": {
    "name": "ipython",
    "version": 3
   },
   "file_extension": ".py",
   "mimetype": "text/x-python",
   "name": "python",
   "nbconvert_exporter": "python",
   "pygments_lexer": "ipython3",
   "version": "3.8.6-final"
  },
  "orig_nbformat": 2,
  "kernelspec": {
   "name": "python3",
   "display_name": "Python 3"
  }
 },
 "nbformat": 4,
 "nbformat_minor": 2,
 "cells": [
  {
   "cell_type": "code",
   "execution_count": 21,
   "metadata": {},
   "outputs": [],
   "source": [
    "from brainlit.utils import read_swc, df_to_graph, graph_to_paths\n",
    "from brainlit.viz.visualize import napari_viewer\n",
    "from mouselight_code.src import swc2voxel\n",
    "import numpy as np\n",
    "from skimage import io\n",
    "from scipy.ndimage.morphology import distance_transform_edt\n",
    "from pathlib import Path"
   ]
  },
  {
   "cell_type": "code",
   "execution_count": 22,
   "metadata": {},
   "outputs": [],
   "source": [
    "brain_offsets = {\n",
    "    \"10-01\": [69445.19581378, 12917.40798423, 30199.63896704],\n",
    "    \"8-01\": [70093.27584462, 15071.5958194, 29306.73645404],\n",
    "}\n",
    "vol_offsets = {\n",
    "    \"10-01\": {\n",
    "        1: [3944.427317, 1689.489974, 2904.058044],\n",
    "        2: [7562.41721, 2517.659516, 6720.099583],\n",
    "        3: [6440.344565, 3724.653335, 3315.921558],\n",
    "        4: [3693.850008, 4690.851133, 4759.545202],\n",
    "        5: [2176.050385, 4472.356622, 5422.519379],\n",
    "        6: [5186.880558, 1607.205131, 5627.930585],\n",
    "        7: [4474.380558, 3801.205131, 5641.030585],\n",
    "        8: [8625.680558, 3461.805131, 7853.730585],\n",
    "        9: [8036.380558, 2739.005131, 7646.730585],\n",
    "        10: [8908.480558, 2241.305131, 5275.430585],\n",
    "        11: [5763.576767, 920.389294, 6949.146129],\n",
    "        12: [4395.108079, 3142.101761, 7674.109968],\n",
    "        13: [6357.017903, 3962.134266, 1793.497497],\n",
    "        14: [1290.816602, 3784.927683, 5489.762402],\n",
    "        15: [3261.686282, 4042.901892, 2753.811915],\n",
    "        16: [6434.371327, 3146.622337, 5511.826519],\n",
    "        17: [8759.453985, 3140.594903, 8062.858693],\n",
    "        18: [3647.85608, 4787.29009, 5026.415948],\n",
    "        19: [6278.469831, 1981.820562, 2234.779833],\n",
    "        20: [2202.332629, 3856.654157, 2746.457209],\n",
    "        21: [6119.880378, 3134.567468, 4973.882337],\n",
    "        22: [7348.575311, 1596.96885, 3394.721975],\n",
    "        23: [6633.877456, 2001.108354, 7079.429486],\n",
    "        24: [6226.801328, 4177.61506, 3591.197682],\n",
    "        25: [6270.405961, 4555.535222, 3526.056004],\n",
    "    },\n",
    "    \"8-01\": {\n",
    "        1: [3808.881423, 2359.223225, 5006.26702],\n",
    "        2: [6889.089085, 2566.530453, 8891.683733],\n",
    "        3: [7128.395228, 1863.63414, 9648.801312],\n",
    "        4: [5482.231871, 4208.245402, 11971.55106],\n",
    "        5: [6671.293606, 3960.755275, 9643.859292],\n",
    "        6: [5762.10132, 3843.673284, 5200.517052],\n",
    "        7: [6337.40132, 4651.873284, 3297.317052],\n",
    "        8: [5744.50132, 2051.973284, 5214.317052],\n",
    "        9: [4518.90132, 1426.273284, 6342.517052],\n",
    "        10: [4765.10132, 4331.973284, 9779.817052],\n",
    "        11: [8681.046946, 3866.08193, 9473.853778],\n",
    "        12: [3311.148546, 2486.773487, 9180.297745],\n",
    "        13: [4844.082155, 1247.496358, 9977.939894],\n",
    "        14: [5799.812932, 3939.750578, 8438.994633],\n",
    "        15: [4774.172495, 2561.964214, 4977.603299],\n",
    "        16: [4698.885169, 2982.058156, 7392.274638],\n",
    "        17: [5052.616098, 4900.487158, 2202.164446],\n",
    "        18: [4697.092614, 6292.276653, 1738.6029],\n",
    "        19: [3954.675928, 2249.329085, 10126.20052],\n",
    "        20: [3368.211559, 4350.103211, 6341.601026],\n",
    "        21: [2275.350296, 2058.764732, 9266.288906],\n",
    "        22: [6348.036119, 2952.529814, 10122.2469],\n",
    "        23: [3842.043698, 4089.827617, 7974.444682],\n",
    "        24: [73194, 15978.7, 35029.3],\n",
    "        25: [5878.386609, 2172.311862, 5313.66071],\n",
    "    },\n",
    "}\n",
    "\n",
    "scales = {\n",
    "    \"10-01\": np.array([298.66187, 301.37174, 1050.67223]),\n",
    "    \"8-01\": np.array([298.75923295, 304.41589844, 988.40414663]),\n",
    "}\n",
    "\n",
    "\n",
    "type_to_date = {\"validation\": \"10-01\", \"test\": \"8-01\"}"
   ]
  },
  {
   "cell_type": "code",
   "execution_count": 23,
   "metadata": {},
   "outputs": [],
   "source": [
    "base_path = Path(\n",
    "    \"/Users/thomasathey/Documents/mimlab/mouselight/benchmarking_datasets\"\n",
    ")\n"
   ]
  },
  {
   "cell_type": "code",
   "execution_count": 24,
   "metadata": {},
   "outputs": [],
   "source": [
    "im_path = base_path / \"test_1-gfp.tif\"\n",
    "im = io.imread(im_path, plugin=\"tifffile\")\n",
    "im = np.swapaxes(im,0,2)\n",
    "\n",
    "swc_base_path = base_path / \"Manual-GT\"\n",
    "\n",
    "f = im_path.parts[-1][:-8].split(\"_\")\n",
    "image = f[0]\n",
    "date = type_to_date[image]\n",
    "num = int(f[1])\n",
    "\n",
    "scale = scales[date]\n",
    "brain_offset = brain_offsets[date]\n",
    "vol_offset = vol_offsets[date][num]\n",
    "im_offset = np.add(brain_offset, vol_offset)\n",
    "\n",
    "lower = int(np.floor((num - 1) / 5) * 5 + 1)\n",
    "upper = int(np.floor((num - 1) / 5) * 5 + 5)\n",
    "dir1 = date + \"_\" + image + \"_\" + str(lower) + \"-\" + str(upper)\n",
    "dir2 = date + \"_\" + image + \"_\" + str(num)\n",
    "swc_path = swc_base_path / dir1 / dir2\n",
    "\n",
    "swc_files = list(swc_path.glob(\"**/*.swc\"))"
   ]
  },
  {
   "cell_type": "code",
   "execution_count": 25,
   "metadata": {
    "tags": []
   },
   "outputs": [],
   "source": [
    "paths_total = []\n",
    "labels_total = np.zeros(im.shape)\n",
    "for swc_num, swc in enumerate(swc_files):\n",
    "    if \"cube\" in swc.parts[-1]:\n",
    "        # skip the bounding box swc\n",
    "        continue\n",
    "\n",
    "    df, swc_offset, _, _, _ = read_swc(swc)\n",
    "\n",
    "    offset_diff = np.subtract(swc_offset, im_offset)\n",
    "    G = df_to_graph(df)\n",
    "\n",
    "    paths = graph_to_paths(G)\n",
    "\n",
    "    # for every path in that swc\n",
    "    for path_num, p in enumerate(paths):\n",
    "        pvox = (p + offset_diff) / (scale) * 1000\n",
    "        paths_total.append(pvox)\n",
    "\n",
    "                    "
   ]
  },
  {
   "cell_type": "code",
   "execution_count": 26,
   "metadata": {},
   "outputs": [
    {
     "output_type": "execute_result",
     "data": {
      "text/plain": [
       "<napari.viewer.Viewer at 0x185e91d90>"
      ]
     },
     "metadata": {},
     "execution_count": 26
    }
   ],
   "source": [
    "napari_viewer(im,  shapes=paths_total)"
   ]
  },
  {
   "cell_type": "code",
   "execution_count": 27,
   "metadata": {
    "tags": []
   },
   "outputs": [],
   "source": [
    "for path_voxel in paths_total:\n",
    "    for voxel_num, voxel in enumerate(path_voxel):\n",
    "        if voxel_num == 0:\n",
    "            continue\n",
    "        voxel_prev = path_voxel[voxel_num-1,:]\n",
    "        xs,ys,zs = swc2voxel.Bresenham3D(int(voxel_prev[0]), int(voxel_prev[1]), int(voxel_prev[2]),int(voxel[0]), int(voxel[1]), int(voxel[2]))\n",
    "        for x,y,z in zip(xs,ys,zs):\n",
    "            vox = np.array((x,y,z))\n",
    "            if (vox >= 0).all() and (vox < im.shape).all():\n",
    "                labels_total[x,y,z] = 1\n"
   ]
  },
  {
   "cell_type": "code",
   "execution_count": 28,
   "metadata": {},
   "outputs": [],
   "source": [
    "label_flipped = labels_total*0\n",
    "label_flipped[labels_total==0] = 1\n",
    "dists = distance_transform_edt(label_flipped, sampling = scale)\n",
    "\n",
    "labels_total[dists <= 1000] = 1"
   ]
  },
  {
   "cell_type": "code",
   "execution_count": 29,
   "metadata": {},
   "outputs": [
    {
     "output_type": "execute_result",
     "data": {
      "text/plain": [
       "<napari.viewer.Viewer at 0x183a21700>"
      ]
     },
     "metadata": {},
     "execution_count": 29
    }
   ],
   "source": [
    "napari_viewer(im,  labels=labels_total)"
   ]
  },
  {
   "cell_type": "code",
   "execution_count": null,
   "metadata": {},
   "outputs": [],
   "source": []
  }
 ]
}