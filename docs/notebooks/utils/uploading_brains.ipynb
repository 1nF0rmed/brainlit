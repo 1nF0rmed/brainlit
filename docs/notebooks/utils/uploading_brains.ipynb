{
 "cells": [
  {
   "cell_type": "code",
   "execution_count": 1,
   "metadata": {
    "tags": []
   },
   "outputs": [],
   "source": [
    "from brainlit.utils import upload, session\n",
    "from pathlib import Path"
   ]
  },
  {
   "cell_type": "markdown",
   "metadata": {},
   "source": [
    "## Uploading Brain Images from data in the Octree format.\n",
    "This notebook demonstrates uploading the 2 lowest-resolution brain volumes, as well as a `.swc` segment file.\n",
    "The upload destination could easily be set to a url of a cloud data server such as s3.\n",
    "\n",
    "## 1) Define variables.\n",
    " - `source` and `source_segments` are the root directories of the octree-formatted data and swc files.\n",
    " - `p` is the prefix string. `file://` indicates a filepath, while `s3://` or `gc://` indicate URLs.\n",
    " - `dest` and `dest_segments` are the destinations for the uploads (in this case, filepaths).\n",
    " - `num_res` denotes the number of resolutions to upload."
   ]
  },
  {
   "cell_type": "code",
   "execution_count": 2,
   "metadata": {},
   "outputs": [],
   "source": [
    "source = str(Path().resolve().parents[2] / \"data\" / \"data_octree\")\n",
    "p = \"file://\"\n",
    "dest = str(Path().resolve().parents[2] / \"data\" / \"upload\")\n",
    "dest_segments = str(Path().resolve().parents[2] / \"data\" / \"upload_segments\")\n",
    "num_res = 2"
   ]
  },
  {
   "cell_type": "markdown",
   "metadata": {},
   "source": [
    "## 2) Upload the image data."
   ]
  },
  {
   "cell_type": "code",
   "execution_count": 3,
   "metadata": {
    "tags": []
   },
   "outputs": [
    {
     "output_type": "stream",
     "name": "stderr",
     "text": "Creating precomputed volume: 100%|██████████| 1/1 [00:04<00:00,  4.41s/it]\nCreating precomputed volume:   0%|          | 0/8 [00:00<?, ?it/s]\nFinished mip 0, took 4.411967992782593 seconds\nCreating precomputed volume: 100%|██████████| 8/8 [00:13<00:00,  1.72s/it]\nFinished mip 1, took 13.773943901062012 seconds\n\n"
    }
   ],
   "source": [
    "upload.upload_volumes(source, p+dest, num_res)"
   ]
  },
  {
   "cell_type": "code",
   "execution_count": 4,
   "metadata": {
    "tags": []
   },
   "outputs": [
    {
     "output_type": "stream",
     "name": "stderr",
     "text": "converting swcs to neuroglancer format...: 100%|██████████| 1/1 [00:00<00:00, 82.28it/s]\nUploading: 100%|██████████| 1/1 [00:00<00:00, 152.60it/s]\n"
    }
   ],
   "source": [
    "upload.upload_segments(source, p+dest_segments, num_res)"
   ]
  },
  {
   "cell_type": "markdown",
   "metadata": {},
   "source": [
    "## Visualize your data with NeuroglancerSession and napari"
   ]
  },
  {
   "cell_type": "code",
   "execution_count": 5,
   "metadata": {},
   "outputs": [],
   "source": [
    "from cloudvolume import Bbox\n",
    "from brainlit.utils.swc import graph_to_paths\n",
    "import napari"
   ]
  },
  {
   "cell_type": "code",
   "execution_count": 6,
   "metadata": {
    "tags": []
   },
   "outputs": [
    {
     "output_type": "stream",
     "name": "stderr",
     "text": "Downloading:   0%|          | 0/8 [00:00<?, ?it/s]\nDownloading: 100%|██████████| 1/1 [00:00<00:00, 1006.07it/s]\n"
    }
   ],
   "source": [
    "ngl_sess = session.NeuroglancerSession(mip=1, url=p+dest, url_segments=p+dest_segments)\n",
    "bounds = Bbox((0,0,0), (528,400,208))\n",
    "img = ngl_sess.pull_bounds_img(bounds)\n",
    "G_sub = ngl_sess.get_segments(2, bounds)\n",
    "paths = graph_to_paths(G_sub)"
   ]
  },
  {
   "cell_type": "code",
   "execution_count": 7,
   "metadata": {
    "tags": []
   },
   "outputs": [],
   "source": [
    "with napari.gui_qt():\n",
    "    viewer = napari.Viewer(ndisplay=3)\n",
    "    viewer.add_image(img)\n",
    "    viewer.add_shapes(data=paths, shape_type='path', edge_width=0.1, edge_color='blue', opacity=0.1)"
   ]
  },
  {
   "cell_type": "code",
   "execution_count": null,
   "metadata": {},
   "outputs": [],
   "source": []
  }
 ],
 "metadata": {
  "kernelspec": {
   "display_name": "Python 3.8.3 64-bit ('brainlit3.8': conda)",
   "language": "python",
   "name": "python_defaultSpec_1596517008962"
  },
  "language_info": {
   "codemirror_mode": {
    "name": "ipython",
    "version": 3
   },
   "file_extension": ".py",
   "mimetype": "text/x-python",
   "name": "python",
   "nbconvert_exporter": "python",
   "pygments_lexer": "ipython3",
   "version": "3.8.3-final"
  }
 },
 "nbformat": 4,
 "nbformat_minor": 4
}