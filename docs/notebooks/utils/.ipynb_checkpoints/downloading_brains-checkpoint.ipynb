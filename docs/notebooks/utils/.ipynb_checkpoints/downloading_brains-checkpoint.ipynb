{
 "metadata": {
  "language_info": {
   "codemirror_mode": {
    "name": "ipython",
    "version": 3
   },
   "file_extension": ".py",
   "mimetype": "text/x-python",
   "name": "python",
   "nbconvert_exporter": "python",
   "pygments_lexer": "ipython3",
   "version": 3
  },
  "orig_nbformat": 2,
  "kernelspec": {
   "name": "python_defaultSpec_1596115160987",
   "display_name": "Python 3.7.0 64-bit ('brainlit': conda)"
  }
 },
 "nbformat": 4,
 "nbformat_minor": 2,
 "cells": [
  {
   "cell_type": "code",
   "execution_count": 28,
   "metadata": {},
   "outputs": [],
   "source": [
    "from brainlit.utils.ngl_pipeline import NeuroglancerSession\n",
    "from brainlit.utils.swc import read_s3, df_to_graph, get_sub_neuron, graph_to_paths\n",
    "import numpy as np\n",
    "import napari\n",
    "%gui qt"
   ]
  },
  {
   "cell_type": "code",
   "execution_count": 29,
   "metadata": {},
   "outputs": [],
   "source": [
    "dir_s3 = \"s3://mouse-light-viz/precomputed_volumes/brain1_lowres\"\n",
    "dir_segments_s3 = \"s3://mouse-light-viz/precomputed_volumes/brain1_lowres_segments\"\n",
    "num_res = 2\n",
    "s_id = 2\n",
    "v_id = 300\n",
    "mip = 1\n",
    "radius = 20"
   ]
  },
  {
   "cell_type": "code",
   "execution_count": 97,
   "metadata": {
    "tags": []
   },
   "outputs": [
    {
     "output_type": "stream",
     "name": "stderr",
     "text": "Downloading: 100%|██████████| 2/2 [00:00<00:00,  3.62it/s]\n"
    }
   ],
   "source": [
    "# get image and center point\n",
    "ngl_sess = NeuroglancerSession(mip = mip, url = dir_s3, url_segments=dir_segments_s3)\n",
    "img, bbox, vox = ngl_sess.pull_voxel(s_id, v_id, radius, radius, radius)\n",
    "box = [bbox.to_list()[:3], bbox.to_list()[3:]]\n",
    "point = np.subtract(bbox.center(),box[:3]).astype(int)"
   ]
  },
  {
   "cell_type": "code",
   "execution_count": 98,
   "metadata": {},
   "outputs": [],
   "source": [
    "# get paths (must get bounding box info from image)\n",
    "df = read_s3(dir_segments_s3, s_id, mip)\n",
    "G = df_to_graph(df)\n",
    "G2 = get_sub_neuron(G, box)\n",
    "paths = graph_to_paths(G2)"
   ]
  },
  {
   "cell_type": "code",
   "execution_count": 99,
   "metadata": {
    "tags": []
   },
   "outputs": [
    {
     "output_type": "execute_result",
     "data": {
      "text/plain": "<Points layer 'Points' at 0x1d9ac4f98>"
     },
     "metadata": {},
     "execution_count": 99
    }
   ],
   "source": [
    "# view\n",
    "viewer = napari.Viewer(ndisplay=3)\n",
    "viewer.add_image(np.squeeze(np.array(img)))\n",
    "viewer.add_shapes(data=paths, shape_type='path', edge_width=0.1, edge_color='blue', name=f'SEG {s_id}', opacity=0.2)\n",
    "viewer.add_points(point, face_color='green', size=1)"
   ]
  },
  {
   "cell_type": "code",
   "execution_count": null,
   "metadata": {},
   "outputs": [],
   "source": []
  }
 ]
}