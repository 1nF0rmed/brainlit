{
 "cells": [
  {
   "cell_type": "code",
   "execution_count": 1,
   "metadata": {},
   "outputs": [
    {
     "name": "stderr",
     "output_type": "stream",
     "text": [
      "c:\\users\\shrey\\anaconda3\\envs\\ndd-windows\\lib\\site-packages\\python_jsonschema_objects\\__init__.py:53: UserWarning: Schema version http://json-schema.org/draft-04/schema not recognized. Some keywords and features may not be supported.\n",
      "  self.schema[\"$schema\"]\n"
     ]
    }
   ],
   "source": [
    "from mouselight_code.src import swc2voxel\n",
    "from skimage import io\n",
    "import pandas as pd\n",
    "import matplotlib.pyplot as plt\n",
    "import SimpleITK as sitk\n",
    "import numpy as np\n",
    "import napari\n",
    "from pathlib import Path\n",
    "from mouselight_code.src import octree, combine_swc_img, read_swc\n",
    "import tifffile as tf\n",
    "import os.path\n",
    "from os import path\n",
    "from scipy.ndimage.morphology import distance_transform_edt\n",
    "from brainlit.utils.swc import df_to_graph, graph_to_paths, read_swc"
   ]
  },
  {
   "cell_type": "code",
   "execution_count": 2,
   "metadata": {},
   "outputs": [],
   "source": [
    "def napari_viewer(img, labels=None, shapes=None, label_name=\"Segmentation\"):\n",
    "    with napari.gui_qt():\n",
    "        viewer = napari.view_image(np.squeeze(np.array(img)))\n",
    "        if labels is not None:\n",
    "            viewer.add_labels(labels, name=label_name)\n",
    "        if shapes is not None:\n",
    "            viewer.add_shapes(\n",
    "                data=shapes, shape_type=\"path\", edge_color=\"blue\", name=\"Skeleton\"\n",
    "            )\n",
    "        return viewer"
   ]
  },
  {
   "cell_type": "code",
   "execution_count": 3,
   "metadata": {},
   "outputs": [],
   "source": [
    "#where do these come from?\n",
    "brain_offsets = {\n",
    "    \"10-01\": [69445.19581378, 12917.40798423, 30199.63896704],\n",
    "    \"8-01\": [70093.27584462, 15071.5958194, 29306.73645404],\n",
    "}\n",
    "vol_offsets = {\n",
    "    \"10-01\": {\n",
    "        1: [3944.427317, 1689.489974, 2904.058044],\n",
    "        2: [7562.41721, 2517.659516, 6720.099583],\n",
    "        3: [6440.344565, 3724.653335, 3315.921558],\n",
    "        4: [3693.850008, 4690.851133, 4759.545202],\n",
    "        5: [2176.050385, 4472.356622, 5422.519379],\n",
    "        6: [5186.880558, 1607.205131, 5627.930585],\n",
    "        7: [4474.380558, 3801.205131, 5641.030585],\n",
    "        8: [8625.680558, 3461.805131, 7853.730585],\n",
    "        9: [8036.380558, 2739.005131, 7646.730585],\n",
    "        10: [8908.480558, 2241.305131, 5275.430585],\n",
    "        11: [5763.576767, 920.389294, 6949.146129],\n",
    "        12: [4395.108079, 3142.101761, 7674.109968],\n",
    "        13: [6357.017903, 3962.134266, 1793.497497],\n",
    "        14: [1290.816602, 3784.927683, 5489.762402],\n",
    "        15: [3261.686282, 4042.901892, 2753.811915],\n",
    "        16: [6434.371327, 3146.622337, 5511.826519],\n",
    "        17: [8759.453985, 3140.594903, 8062.858693],\n",
    "        18: [3647.85608, 4787.29009, 5026.415948],\n",
    "        19: [6278.469831, 1981.820562, 2234.779833],\n",
    "        20: [2202.332629, 3856.654157, 2746.457209],\n",
    "        21: [6119.880378, 3134.567468, 4973.882337],\n",
    "        22: [7348.575311, 1596.96885, 3394.721975],\n",
    "        23: [6633.877456, 2001.108354, 7079.429486],\n",
    "        24: [6226.801328, 4177.61506, 3591.197682],\n",
    "        25: [6270.405961, 4555.535222, 3526.056004],\n",
    "    },\n",
    "    \"8-01\": {\n",
    "        1: [3808.881423, 2359.223225, 5006.26702],\n",
    "        2: [6889.089085, 2566.530453, 8891.683733],\n",
    "        3: [7128.395228, 1863.63414, 9648.801312],\n",
    "        4: [5482.231871, 4208.245402, 11971.55106],\n",
    "        5: [6671.293606, 3960.755275, 9643.859292],\n",
    "        6: [5762.10132, 3843.673284, 5200.517052],\n",
    "        7: [6337.40132, 4651.873284, 3297.317052],\n",
    "        8: [5744.50132, 2051.973284, 5214.317052],\n",
    "        9: [4518.90132, 1426.273284, 6342.517052],\n",
    "        10: [4765.10132, 4331.973284, 9779.817052],\n",
    "        11: [8681.046946, 3866.08193, 9473.853778],\n",
    "        12: [3311.148546, 2486.773487, 9180.297745],\n",
    "        13: [4844.082155, 1247.496358, 9977.939894],\n",
    "        14: [5799.812932, 3939.750578, 8438.994633],\n",
    "        15: [4774.172495, 2561.964214, 4977.603299],\n",
    "        16: [4698.885169, 2982.058156, 7392.274638],\n",
    "        17: [5052.616098, 4900.487158, 2202.164446],\n",
    "        18: [4697.092614, 6292.276653, 1738.6029],\n",
    "        19: [3954.675928, 2249.329085, 10126.20052],\n",
    "        20: [3368.211559, 4350.103211, 6341.601026],\n",
    "        21: [2275.350296, 2058.764732, 9266.288906],\n",
    "        22: [6348.036119, 2952.529814, 10122.2469],\n",
    "        23: [3842.043698, 4089.827617, 7974.444682],\n",
    "        24: [73194, 15978.7, 35029.3],\n",
    "        25: [5878.386609, 2172.311862, 5313.66071],\n",
    "    },\n",
    "}\n",
    "\n",
    "\n",
    "scales = {\n",
    "    \"10-01\": np.array([298.66187, 301.37174, 1050.67223]),\n",
    "    \"8-01\": np.array([298.75923295, 304.41589844, 988.40414663]),\n",
    "}\n",
    "\n",
    "\n",
    "\n",
    "#im_dir = Path(\"/Users/alishakodibagkar/Desktop/JovoLab/benchmarking_datasets/\")\n",
    "#gfp_files = list(im_dir.glob(\"*-gfp.tif\"))\n",
    "#swc_base_path = Path(\"/Users/alishakodibagkar/Desktop/JovoLab/benchmarking_datasets/Manual-GT/\")\n",
    "#out_base = Path(\"/Users/alishakodibagkar/Desktop/JovoLab/benchmarking_datasets/athey_files/anisotropic\")\n",
    "#ims = [\"/Users/alishakodibagkar/Desktop/JovoLab/benchmarking_datasets/benchmarking_datasets_test_2-gfp.tif\", \"/Users/alishakodibagkar/Desktop/JovoLab/benchmarking_datasets/benchmarking_datasets_validation_12-gfp.tif\", \"/Users/alishakodibagkar/Desktop/JovoLab/benchmarking_datasets/benchmarking_datasets_validation_18-gfp.tif\", \"/Users/alishakodibagkar/Desktop/JovoLab/benchmarking_datasets/benchmarking_datasets_validation_22-gfp.tif\"]\n",
    "\n",
    "\n",
    "data_dir = Path(\"C:/Users/shrey/Downloads\")\n",
    "im_dir = data_dir / \"Images\"\n",
    "gfp_files = list(im_dir.glob(\"**/*.tif\"))\n",
    "swc_base_path = data_dir / \"Manual-GT\"\n",
    "out_base = data_dir / \"anisotropic\"\n",
    "type_to_date = {\"validation\": \"10-01\", \"test\": \"8-01\"}"
   ]
  },
  {
   "cell_type": "code",
   "execution_count": 4,
   "metadata": {
    "scrolled": true
   },
   "outputs": [
    {
     "name": "stdout",
     "output_type": "stream",
     "text": [
      "C:\\Users\\shrey\\Downloads\\Manual-GT\\8-01_test_1-5\\8-01_test_1\\tree_1.swc\n"
     ]
    },
    {
     "ename": "UnicodeDecodeError",
     "evalue": "'charmap' codec can't decode byte 0x9d in position 517: character maps to <undefined>",
     "output_type": "error",
     "traceback": [
      "\u001b[1;31m---------------------------------------------------------------------------\u001b[0m",
      "\u001b[1;31mUnicodeDecodeError\u001b[0m                        Traceback (most recent call last)",
      "\u001b[1;32m<ipython-input-4-73fbeea5fd4a>\u001b[0m in \u001b[0;36m<module>\u001b[1;34m\u001b[0m\n\u001b[0;32m     35\u001b[0m             \u001b[1;32mcontinue\u001b[0m\u001b[1;33m\u001b[0m\u001b[1;33m\u001b[0m\u001b[0m\n\u001b[0;32m     36\u001b[0m         \u001b[0mprint\u001b[0m\u001b[1;33m(\u001b[0m\u001b[0mswc\u001b[0m\u001b[1;33m)\u001b[0m\u001b[1;33m\u001b[0m\u001b[1;33m\u001b[0m\u001b[0m\n\u001b[1;32m---> 37\u001b[1;33m         \u001b[0mdf\u001b[0m\u001b[1;33m,\u001b[0m \u001b[0mswc_offset\u001b[0m\u001b[1;33m,\u001b[0m \u001b[0m_\u001b[0m\u001b[1;33m,\u001b[0m \u001b[0m_\u001b[0m\u001b[1;33m,\u001b[0m \u001b[0m_\u001b[0m \u001b[1;33m=\u001b[0m \u001b[0mread_swc\u001b[0m\u001b[1;33m(\u001b[0m\u001b[0mswc\u001b[0m\u001b[1;33m)\u001b[0m\u001b[1;33m\u001b[0m\u001b[1;33m\u001b[0m\u001b[0m\n\u001b[0m\u001b[0;32m     38\u001b[0m         \u001b[0moffset_diff\u001b[0m \u001b[1;33m=\u001b[0m \u001b[0mnp\u001b[0m\u001b[1;33m.\u001b[0m\u001b[0msubtract\u001b[0m\u001b[1;33m(\u001b[0m\u001b[0mswc_offset\u001b[0m\u001b[1;33m,\u001b[0m \u001b[0mim_offset\u001b[0m\u001b[1;33m)\u001b[0m\u001b[1;33m\u001b[0m\u001b[1;33m\u001b[0m\u001b[0m\n\u001b[0;32m     39\u001b[0m         \u001b[0mG\u001b[0m \u001b[1;33m=\u001b[0m \u001b[0mdf_to_graph\u001b[0m\u001b[1;33m(\u001b[0m\u001b[0mdf\u001b[0m\u001b[1;33m)\u001b[0m\u001b[1;33m\u001b[0m\u001b[1;33m\u001b[0m\u001b[0m\n",
      "\u001b[1;32mc:\\users\\shrey\\documents\\ndd\\brainlit\\brainlit\\utils\\swc.py\u001b[0m in \u001b[0;36mread_swc\u001b[1;34m(path)\u001b[0m\n\u001b[0;32m     33\u001b[0m     \u001b[0mbranch\u001b[0m \u001b[1;33m=\u001b[0m \u001b[0mnp\u001b[0m\u001b[1;33m.\u001b[0m\u001b[0mnan\u001b[0m\u001b[1;33m\u001b[0m\u001b[1;33m\u001b[0m\u001b[0m\n\u001b[0;32m     34\u001b[0m     \u001b[1;32mwhile\u001b[0m \u001b[0min_header\u001b[0m\u001b[1;33m:\u001b[0m\u001b[1;33m\u001b[0m\u001b[1;33m\u001b[0m\u001b[0m\n\u001b[1;32m---> 35\u001b[1;33m         \u001b[0mline\u001b[0m \u001b[1;33m=\u001b[0m \u001b[0mfile\u001b[0m\u001b[1;33m.\u001b[0m\u001b[0mreadline\u001b[0m\u001b[1;33m(\u001b[0m\u001b[1;33m)\u001b[0m\u001b[1;33m.\u001b[0m\u001b[0msplit\u001b[0m\u001b[1;33m(\u001b[0m\u001b[1;33m)\u001b[0m\u001b[1;33m\u001b[0m\u001b[1;33m\u001b[0m\u001b[0m\n\u001b[0m\u001b[0;32m     36\u001b[0m         \u001b[1;32mif\u001b[0m \u001b[1;34m\"OFFSET\"\u001b[0m \u001b[1;32min\u001b[0m \u001b[0mline\u001b[0m\u001b[1;33m:\u001b[0m\u001b[1;33m\u001b[0m\u001b[1;33m\u001b[0m\u001b[0m\n\u001b[0;32m     37\u001b[0m             \u001b[0moffset_found\u001b[0m \u001b[1;33m=\u001b[0m \u001b[1;32mTrue\u001b[0m\u001b[1;33m\u001b[0m\u001b[1;33m\u001b[0m\u001b[0m\n",
      "\u001b[1;32mc:\\users\\shrey\\anaconda3\\envs\\ndd-windows\\lib\\encodings\\cp1252.py\u001b[0m in \u001b[0;36mdecode\u001b[1;34m(self, input, final)\u001b[0m\n\u001b[0;32m     21\u001b[0m \u001b[1;32mclass\u001b[0m \u001b[0mIncrementalDecoder\u001b[0m\u001b[1;33m(\u001b[0m\u001b[0mcodecs\u001b[0m\u001b[1;33m.\u001b[0m\u001b[0mIncrementalDecoder\u001b[0m\u001b[1;33m)\u001b[0m\u001b[1;33m:\u001b[0m\u001b[1;33m\u001b[0m\u001b[1;33m\u001b[0m\u001b[0m\n\u001b[0;32m     22\u001b[0m     \u001b[1;32mdef\u001b[0m \u001b[0mdecode\u001b[0m\u001b[1;33m(\u001b[0m\u001b[0mself\u001b[0m\u001b[1;33m,\u001b[0m \u001b[0minput\u001b[0m\u001b[1;33m,\u001b[0m \u001b[0mfinal\u001b[0m\u001b[1;33m=\u001b[0m\u001b[1;32mFalse\u001b[0m\u001b[1;33m)\u001b[0m\u001b[1;33m:\u001b[0m\u001b[1;33m\u001b[0m\u001b[1;33m\u001b[0m\u001b[0m\n\u001b[1;32m---> 23\u001b[1;33m         \u001b[1;32mreturn\u001b[0m \u001b[0mcodecs\u001b[0m\u001b[1;33m.\u001b[0m\u001b[0mcharmap_decode\u001b[0m\u001b[1;33m(\u001b[0m\u001b[0minput\u001b[0m\u001b[1;33m,\u001b[0m\u001b[0mself\u001b[0m\u001b[1;33m.\u001b[0m\u001b[0merrors\u001b[0m\u001b[1;33m,\u001b[0m\u001b[0mdecoding_table\u001b[0m\u001b[1;33m)\u001b[0m\u001b[1;33m[\u001b[0m\u001b[1;36m0\u001b[0m\u001b[1;33m]\u001b[0m\u001b[1;33m\u001b[0m\u001b[1;33m\u001b[0m\u001b[0m\n\u001b[0m\u001b[0;32m     24\u001b[0m \u001b[1;33m\u001b[0m\u001b[0m\n\u001b[0;32m     25\u001b[0m \u001b[1;32mclass\u001b[0m \u001b[0mStreamWriter\u001b[0m\u001b[1;33m(\u001b[0m\u001b[0mCodec\u001b[0m\u001b[1;33m,\u001b[0m\u001b[0mcodecs\u001b[0m\u001b[1;33m.\u001b[0m\u001b[0mStreamWriter\u001b[0m\u001b[1;33m)\u001b[0m\u001b[1;33m:\u001b[0m\u001b[1;33m\u001b[0m\u001b[1;33m\u001b[0m\u001b[0m\n",
      "\u001b[1;31mUnicodeDecodeError\u001b[0m: 'charmap' codec can't decode byte 0x9d in position 517: character maps to <undefined>"
     ]
    }
   ],
   "source": [
    "for im_num, im_path in enumerate(gfp_files):\n",
    "    #print(str(im_path))\n",
    "    f1 = im_path.parts[-1][:-8] + '_label.tif'\n",
    "    f2 = im_path.parts[-1][:-8] + '_volume.tif'\n",
    "    out_label = out_base / f1\n",
    "    out_im = out_base / f2\n",
    "    \n",
    "    f = im_path.parts[-1][:-8].split(\"_\")\n",
    "    image = f[0]\n",
    "    date = type_to_date[image]\n",
    "    num = int(f[1])\n",
    "\n",
    "    cale = scales[date]\n",
    "    brain_offset = brain_offsets[date]\n",
    "    vol_offset = vol_offsets[date][num]\n",
    "    im_offset = np.add(brain_offset, vol_offset)\n",
    "\n",
    "    lower = int(np.floor((num - 1) / 5) * 5 + 1)\n",
    "    upper = int(np.floor((num - 1) / 5) * 5 + 5)\n",
    "    dir1 = date + \"_\" + image + \"_\" + str(lower) + \"-\" + str(upper)\n",
    "    dir2 = date + \"_\" + image + \"_\" + str(num)\n",
    "    swc_path = swc_base_path / dir1 / dir2\n",
    "\n",
    "    swc_files = list(swc_path.glob(\"**/*.swc\"))\n",
    "\n",
    "    im = io.imread(im_path, plugin=\"tifffile\")\n",
    "    im = np.swapaxes(im, 0, 2)\n",
    "\n",
    "    paths_total = []\n",
    "    labels_total = np.zeros(im.shape)\n",
    "    \n",
    "    for swc_num, swc in enumerate(swc_files):\n",
    "        if \"cube\" in swc.parts[-1]:\n",
    "            # skip the bounding box swc\n",
    "            continue\n",
    "        print(swc)\n",
    "        df, swc_offset, _, _, _ = read_swc(swc)\n",
    "        offset_diff = np.subtract(swc_offset, im_offset)\n",
    "        G = df_to_graph(df)\n",
    "\n",
    "        paths = graph_to_paths(G)"
   ]
  },
  {
   "cell_type": "code",
   "execution_count": null,
   "metadata": {},
   "outputs": [],
   "source": []
  },
  {
   "cell_type": "code",
   "execution_count": null,
   "metadata": {},
   "outputs": [],
   "source": []
  },
  {
   "cell_type": "code",
   "execution_count": 18,
   "metadata": {
    "scrolled": true
   },
   "outputs": [
    {
     "name": "stdout",
     "output_type": "stream",
     "text": [
      "C:\\Users\\shrey\\Downloads\\Manual-GT\\8-01_test_1-5\\8-01_test_1\\tree_1.swc\n"
     ]
    },
    {
     "ename": "AttributeError",
     "evalue": "'function' object has no attribute 'read_swc'",
     "output_type": "error",
     "traceback": [
      "\u001b[1;31m---------------------------------------------------------------------------\u001b[0m",
      "\u001b[1;31mAttributeError\u001b[0m                            Traceback (most recent call last)",
      "\u001b[1;32m<ipython-input-18-be1ab0452e6f>\u001b[0m in \u001b[0;36m<module>\u001b[1;34m\u001b[0m\n\u001b[0;32m     35\u001b[0m             \u001b[1;32mcontinue\u001b[0m\u001b[1;33m\u001b[0m\u001b[1;33m\u001b[0m\u001b[0m\n\u001b[0;32m     36\u001b[0m         \u001b[0mprint\u001b[0m\u001b[1;33m(\u001b[0m\u001b[0mswc\u001b[0m\u001b[1;33m)\u001b[0m\u001b[1;33m\u001b[0m\u001b[1;33m\u001b[0m\u001b[0m\n\u001b[1;32m---> 37\u001b[1;33m         \u001b[0mdf\u001b[0m\u001b[1;33m,\u001b[0m \u001b[0mswc_offset\u001b[0m\u001b[1;33m,\u001b[0m \u001b[0m_\u001b[0m\u001b[1;33m,\u001b[0m \u001b[0m_\u001b[0m\u001b[1;33m,\u001b[0m \u001b[0m_\u001b[0m \u001b[1;33m=\u001b[0m \u001b[0mread_swc\u001b[0m\u001b[1;33m.\u001b[0m\u001b[0mread_swc\u001b[0m\u001b[1;33m(\u001b[0m\u001b[0mswc\u001b[0m\u001b[1;33m)\u001b[0m\u001b[1;33m\u001b[0m\u001b[1;33m\u001b[0m\u001b[0m\n\u001b[0m\u001b[0;32m     38\u001b[0m         \u001b[0moffset_diff\u001b[0m \u001b[1;33m=\u001b[0m \u001b[0mnp\u001b[0m\u001b[1;33m.\u001b[0m\u001b[0msubtract\u001b[0m\u001b[1;33m(\u001b[0m\u001b[0mswc_offset\u001b[0m\u001b[1;33m,\u001b[0m \u001b[0mim_offset\u001b[0m\u001b[1;33m)\u001b[0m\u001b[1;33m\u001b[0m\u001b[1;33m\u001b[0m\u001b[0m\n\u001b[0;32m     39\u001b[0m         \u001b[0mG\u001b[0m \u001b[1;33m=\u001b[0m \u001b[0mdf_to_graph\u001b[0m\u001b[1;33m(\u001b[0m\u001b[0mdf\u001b[0m\u001b[1;33m)\u001b[0m\u001b[1;33m\u001b[0m\u001b[1;33m\u001b[0m\u001b[0m\n",
      "\u001b[1;31mAttributeError\u001b[0m: 'function' object has no attribute 'read_swc'"
     ]
    }
   ],
   "source": [
    "for im_num, im_path in enumerate(gfp_files):\n",
    "    #print(str(im_path))\n",
    "    f1 = im_path.parts[-1][:-8] + '_label.tif'\n",
    "    f2 = im_path.parts[-1][:-8] + '_volume.tif'\n",
    "    out_label = out_base / f1\n",
    "    out_im = out_base / f2\n",
    "    \n",
    "    f = im_path.parts[-1][22:-8].split(\"_\")\n",
    "    image = f[0]\n",
    "    date = type_to_date[image]\n",
    "    num = int(f[1])\n",
    "\n",
    "    cale = scales[date]\n",
    "    brain_offset = brain_offsets[date]\n",
    "    vol_offset = vol_offsets[date][num]\n",
    "    im_offset = np.add(brain_offset, vol_offset)\n",
    "\n",
    "    lower = int(np.floor((num - 1) / 5) * 5 + 1)\n",
    "    upper = int(np.floor((num - 1) / 5) * 5 + 5)\n",
    "    dir1 = date + \"_\" + image + \"_\" + str(lower) + \"-\" + str(upper)\n",
    "    dir2 = date + \"_\" + image + \"_\" + str(num)\n",
    "    swc_path = swc_base_path / dir1 / dir2\n",
    "\n",
    "    swc_files = list(swc_path.glob(\"**/*.swc\"))\n",
    "\n",
    "    im = io.imread(im_path, plugin=\"tifffile\")\n",
    "    im = np.swapaxes(im, 0, 2)\n",
    "\n",
    "    paths_total = []\n",
    "    labels_total = np.zeros(im.shape)\n",
    "    \n",
    "    for swc_num, swc in enumerate(swc_files):\n",
    "        if \"cube\" in swc.parts[-1]:\n",
    "            # skip the bounding box swc\n",
    "            continue\n",
    "        print(swc)\n",
    "        df, swc_offset, _, _, _ = read_swc.read_swc(swc)\n",
    "        offset_diff = np.subtract(swc_offset, im_offset)\n",
    "        G = df_to_graph(df)\n",
    "        paths = graph_to_paths(G)\n",
    "\n",
    "        \n",
    "        \n",
    "\n"
   ]
  },
  {
   "cell_type": "code",
   "execution_count": 12,
   "metadata": {},
   "outputs": [
    {
     "data": {
      "text/plain": [
       "WindowsPath('C:/Users/shrey/Downloads/Manual-GT/10-01_validation_6-10/10-01_validation_9/tree_9.swc')"
      ]
     },
     "execution_count": 12,
     "metadata": {},
     "output_type": "execute_result"
    }
   ],
   "source": []
  },
  {
   "cell_type": "code",
   "execution_count": null,
   "metadata": {},
   "outputs": [],
   "source": [
    "# for every path in that swc\n",
    "        for path_num, p in enumerate(paths):\n",
    "            pvox = (p + offset_diff) / (scale) * 1000\n",
    "            paths_total.append(pvox)\n",
    "\n",
    "            seed = []\n",
    "            # for every voxel in that path\n",
    "            for pvox_num, s in enumerate(pvox):\n",
    "                if pvox_num == 0:\n",
    "                    continue\n",
    "                sprev = pvox[pvox_num-1,:]\n",
    "                xs,ys,zs = swc2voxel.Bresenham3D(int(sprev[0]), int(sprev[1]), int(sprev[2]),int(s[0]), int(s[1]), int(s[2]))\n",
    "                for x,y,z in zip(xs,ys,zs):\n",
    "                    vox = np.array((x,y,z))\n",
    "                    if (vox >= 0).all() and (vox < im.shape).all():\n",
    "                        labels_total[x,y,z] = 1\n",
    "                        \n",
    "    \n",
    "\n",
    "if im.shape[0] == 100:\n",
    "        im = np.swapaxes(im, 0, 2)\n",
    "\n",
    "    if labels_total.shape[0] == 100:\n",
    "        labels_total = np.swapaxes(labels_total, 0, 2)\n",
    "\n",
    "    label_flipped = labels_total*0\n",
    "    label_flipped[labels_total==0] = 1\n",
    "    dists = distance_transform_edt(label_flipped, sampling = scale)\n",
    "\n",
    "    labels_total[dists <= distances[i_value]] = 1\n",
    "    labels_total[dists <= 500] = 1\n"
   ]
  },
  {
   "cell_type": "code",
   "execution_count": 74,
   "metadata": {},
   "outputs": [
    {
     "name": "stderr",
     "output_type": "stream",
     "text": [
      "ERROR:root:Unhandled exception:\n",
      "Traceback (most recent call last):\n",
      "  File \"c:\\users\\shrey\\anaconda3\\envs\\ndd-windows\\lib\\site-packages\\napari\\_qt\\event_loop.py\", line 79, in gui_qt\n",
      "    yield app\n",
      "  File \"<ipython-input-3-94bff8f4a3c7>\", line 8, in napari_viewer\n",
      "    data=shapes, shape_type=\"path\", edge_color=\"blue\", name=\"Skeleton\"\n",
      "  File \"c:\\users\\shrey\\anaconda3\\envs\\ndd-windows\\lib\\site-packages\\napari\\components\\add_layers_mixin.py\", line 609, in add_shapes\n",
      "    visible=visible,\n",
      "  File \"c:\\users\\shrey\\anaconda3\\envs\\ndd-windows\\lib\\site-packages\\napari\\layers\\shapes\\shapes.py\", line 314, in __init__\n",
      "    data_ndim = get_shape_ndim(data)\n",
      "  File \"c:\\users\\shrey\\anaconda3\\envs\\ndd-windows\\lib\\site-packages\\napari\\layers\\shapes\\_shapes_utils.py\", line 1001, in get_shape_ndim\n",
      "    elif np.array(data[0]).ndim == 1:\n",
      "IndexError: list index out of range\n",
      "\n"
     ]
    }
   ],
   "source": [
    "napari_viewer(im, shapes=paths_total, labels=labels_total, label_name=\"Tube\")"
   ]
  },
  {
   "cell_type": "code",
   "execution_count": null,
   "metadata": {},
   "outputs": [],
   "source": []
  },
  {
   "cell_type": "code",
   "execution_count": null,
   "metadata": {},
   "outputs": [],
   "source": []
  }
 ],
 "metadata": {
  "kernelspec": {
   "display_name": "Python 3",
   "language": "python",
   "name": "python3"
  },
  "language_info": {
   "codemirror_mode": {
    "name": "ipython",
    "version": 3
   },
   "file_extension": ".py",
   "mimetype": "text/x-python",
   "name": "python",
   "nbconvert_exporter": "python",
   "pygments_lexer": "ipython3",
   "version": "3.7.9"
  }
 },
 "nbformat": 4,
 "nbformat_minor": 4
}
