{
 "metadata": {
  "language_info": {
   "codemirror_mode": {
    "name": "ipython",
    "version": 3
   },
   "file_extension": ".py",
   "mimetype": "text/x-python",
   "name": "python",
   "nbconvert_exporter": "python",
   "pygments_lexer": "ipython3",
   "version": "3.8.3-final"
  },
  "orig_nbformat": 2,
  "kernelspec": {
   "name": "python_defaultSpec_1597422769747",
   "display_name": "Python 3.8.3 64-bit ('brainlit3.8': conda)"
  }
 },
 "nbformat": 4,
 "nbformat_minor": 2,
 "cells": [
  {
   "cell_type": "code",
   "execution_count": 1,
   "metadata": {},
   "outputs": [],
   "source": [
    "from brainlit.utils import session\n",
    "import napari"
   ]
  },
  {
   "cell_type": "code",
   "execution_count": 2,
   "metadata": {},
   "outputs": [],
   "source": [
    "url = \"s3://mouse-light-viz/precomputed_volumes/brain1\"\n",
    "sess = session.NeuroglancerSession(url=url, url_segments=url+\"_segments\", mip=0)"
   ]
  },
  {
   "cell_type": "code",
   "execution_count": 5,
   "metadata": {
    "tags": []
   },
   "outputs": [
    {
     "output_type": "stream",
     "name": "stderr",
     "text": "100%|██████████| 50/50 [03:46<00:00,  4.53s/it]\n"
    }
   ],
   "source": [
    "import numpy as np\n",
    "from skimage import draw\n",
    "import random\n",
    "from cloudvolume.lib import Bbox\n",
    "from io import StringIO\n",
    "from csv import writer \n",
    "import pandas as pd\n",
    "from tqdm import tqdm as tqdm\n",
    "\n",
    "scale = sess.cv_segments.scales[0][\"resolution\"]\n",
    "output = StringIO()\n",
    "csv_writer = writer(output)\n",
    "csv_writer.writerow([\"label\", \"seg id\", \"vert id\", \"interp id\", \"data\"])\n",
    "sess.cv.progress = False  # don't print download\n",
    "for seg_id in [2]:  # list of segments\n",
    "    vertices = sess.cv_segments.skeleton.get(seg_id).vertices\n",
    "    for i in tqdm(range(50)):  # len(vertices)\n",
    "        v0 = (vertices[i]/scale).astype(int)  # point 0\n",
    "        v1 = (vertices[i+1]/scale).astype(int)  # point 1\n",
    "        coords = np.array(draw.line_nd(v0, v1))  # coords of line between points\n",
    "        inds = random.sample(range(coords.shape[1]), 2)  # get X random points (here, 2)\n",
    "        for ind in inds:\n",
    "            coord = coords[:,ind]\n",
    "            bbox = Bbox(np.subtract(coord,[3,3,3]), np.add(coord,[4,4,4]))  # get box around point\n",
    "            bbox_off = Bbox(np.add(coord,[7,7,7]), np.add(coord,[14,14,14]))  # get box off point (10,10,10)\n",
    "            data = sess.pull_bounds_img(bbox)  # get data\n",
    "            data_off = sess.pull_bounds_img(bbox_off)\n",
    "            csv_writer.writerow([1, seg_id, i, ind, data.flatten()])  # add flattened data to StringIO\n",
    "            csv_writer.writerow([0, seg_id, i, ind, data_off.flatten()])\n",
    "output.seek(0) # get back to the start of the BytesIO\n",
    "df = pd.read_csv(output)"
   ]
  },
  {
   "cell_type": "code",
   "execution_count": 5,
   "metadata": {},
   "outputs": [],
   "source": [
    "# with napari.gui_qt():\n",
    "#     viewer = napari.view_image(img, ndisplay=3)"
   ]
  }
 ]
}