{
 "cells": [
  {
   "cell_type": "code",
   "execution_count": 1,
   "metadata": {},
   "outputs": [
    {
     "name": "stderr",
     "output_type": "stream",
     "text": [
      "/Users/bijanvarjavand/Documents/spring20/ndd/venv-brainlight/lib/python3.7/site-packages/python_jsonschema_objects/__init__.py:53: UserWarning: Schema version http://json-schema.org/draft-04/schema not recognized. Some keywords and features may not be supported.\n",
      "  self.schema[\"$schema\"]\n"
     ]
    }
   ],
   "source": [
    "from brainlit.utils.ngl_pipeline import NeuroglancerSession\n",
    "from brainlit.preprocessing.features import *\n",
    "import pandas as pd"
   ]
  },
  {
   "cell_type": "markdown",
   "metadata": {},
   "source": [
    "## Feature extraction using brainlit\n",
    "The classes `LinearFeatures` and `NeighborhoodFeatures` convert swc files to a list of axon/background examples in a dataframe, with relevant features. \n",
    "\n",
    "First, instantiate the classes. You pass a `url` to pull data from, a `size` of the bounding box around each point, where the actual box is `2i+1` for each index `i`, and an `offset` to shift the bounding box to get a background point."
   ]
  },
  {
   "cell_type": "code",
   "execution_count": 2,
   "metadata": {},
   "outputs": [],
   "source": [
    "lin = LinearFeatures(url=\"s3://mouse-light-viz/precomputed_volumes/brain1\", size=[1,1,1], offset=[15,15,15])\n",
    "nbr = NeighborhoodFeatures(url=\"s3://mouse-light-viz/precomputed_volumes/brain1\", size=[1,1,1], offset=[15,15,15])"
   ]
  },
  {
   "cell_type": "markdown",
   "metadata": {},
   "source": [
    "Calling the `fit` method for each class with a list of ids and a number of vertices to fit onto for each swc. If the second argument isn't given (or passed as `None`), features will be collected for every vertex."
   ]
  },
  {
   "cell_type": "code",
   "execution_count": 3,
   "metadata": {
    "scrolled": true
   },
   "outputs": [
    {
     "name": "stderr",
     "output_type": "stream",
     "text": [
      "Downloading: 100%|██████████| 1/1 [00:00<00:00, 22.35it/s]\n",
      "Downloading: 100%|██████████| 1/1 [00:00<00:00, 32.36it/s]\n",
      "Downloading:   0%|          | 0/1 [00:00<?, ?it/s]\n",
      "Downloading:   0%|          | 0/1 [00:00<?, ?it/s]\n",
      "Downloading: 100%|██████████| 1/1 [00:00<00:00, 31.41it/s]\n",
      "Downloading:   0%|          | 0/1 [00:00<?, ?it/s]\n",
      "Downloading:   0%|          | 0/1 [00:00<?, ?it/s]\n",
      "Downloading: 100%|██████████| 1/1 [00:00<00:00, 19.72it/s]\n",
      "Downloading: 100%|██████████| 1/1 [00:00<00:00, 33.90it/s]\n",
      "Downloading:   0%|          | 0/1 [00:00<?, ?it/s]\n",
      "Downloading:   0%|          | 0/1 [00:00<?, ?it/s]\n",
      "Downloading: 100%|██████████| 1/1 [00:00<00:00, 29.76it/s]\n",
      "Downloading:   0%|          | 0/1 [00:00<?, ?it/s]\n",
      "Downloading:   0%|          | 0/1 [00:00<?, ?it/s]\n",
      "Downloading: 100%|██████████| 1/1 [00:00<00:00, 33.92it/s]\n",
      "Downloading: 100%|██████████| 1/1 [00:00<00:00, 22.71it/s]\n",
      "Downloading:   0%|          | 0/1 [00:00<?, ?it/s]\n",
      "Downloading:   0%|          | 0/1 [00:00<?, ?it/s]\n",
      "Downloading: 100%|██████████| 1/1 [00:00<00:00, 31.04it/s]\n",
      "Downloading:   0%|          | 0/1 [00:00<?, ?it/s]\n",
      "Downloading:   0%|          | 0/1 [00:00<?, ?it/s]\n",
      "Downloading: 100%|██████████| 1/1 [00:00<00:00, 30.65it/s]\n",
      "Downloading: 100%|██████████| 1/1 [00:00<00:00, 31.07it/s]\n",
      "Downloading:   0%|          | 0/1 [00:00<?, ?it/s]\n",
      "Downloading:   0%|          | 0/1 [00:00<?, ?it/s]\n",
      "Downloading: 100%|██████████| 1/1 [00:00<00:00, 31.91it/s]\n",
      "Downloading:   0%|          | 0/1 [00:00<?, ?it/s]\n",
      "Downloading:   0%|          | 0/1 [00:00<?, ?it/s]\n"
     ]
    }
   ],
   "source": [
    "df_lin = lin.fit(seg_ids=[2, 7], num_verts=2)\n",
    "df_nbr = nbr.fit(seg_ids=[2, 7], num_verts=2)"
   ]
  },
  {
   "cell_type": "markdown",
   "metadata": {},
   "source": [
    "The outputted dataframes themselves have a `Segment` column, `Vertex` column, `Label` column (1=axon 0=background), and a `Features` column which is a dictionary for each feature type used."
   ]
  },
  {
   "cell_type": "code",
   "execution_count": 4,
   "metadata": {},
   "outputs": [
    {
     "data": {
      "text/html": [
       "<div>\n",
       "<style scoped>\n",
       "    .dataframe tbody tr th:only-of-type {\n",
       "        vertical-align: middle;\n",
       "    }\n",
       "\n",
       "    .dataframe tbody tr th {\n",
       "        vertical-align: top;\n",
       "    }\n",
       "\n",
       "    .dataframe thead th {\n",
       "        text-align: right;\n",
       "    }\n",
       "</style>\n",
       "<table border=\"1\" class=\"dataframe\">\n",
       "  <thead>\n",
       "    <tr style=\"text-align: right;\">\n",
       "      <th></th>\n",
       "      <th>Features</th>\n",
       "      <th>Label</th>\n",
       "      <th>Segment</th>\n",
       "      <th>Vertex</th>\n",
       "    </tr>\n",
       "  </thead>\n",
       "  <tbody>\n",
       "    <tr>\n",
       "      <th>0</th>\n",
       "      <td>{'Gausssian': 65468.0, 'Gaussian Gradient': 24...</td>\n",
       "      <td>1.0</td>\n",
       "      <td>2.0</td>\n",
       "      <td>0.0</td>\n",
       "    </tr>\n",
       "    <tr>\n",
       "      <th>1</th>\n",
       "      <td>{'Gausssian': 12289.0, 'Gaussian Gradient': 17...</td>\n",
       "      <td>0.0</td>\n",
       "      <td>2.0</td>\n",
       "      <td>0.0</td>\n",
       "    </tr>\n",
       "    <tr>\n",
       "      <th>2</th>\n",
       "      <td>{'Gausssian': 26707.0, 'Gaussian Gradient': 12...</td>\n",
       "      <td>1.0</td>\n",
       "      <td>2.0</td>\n",
       "      <td>1.0</td>\n",
       "    </tr>\n",
       "    <tr>\n",
       "      <th>3</th>\n",
       "      <td>{'Gausssian': 12393.0, 'Gaussian Gradient': 99...</td>\n",
       "      <td>0.0</td>\n",
       "      <td>2.0</td>\n",
       "      <td>1.0</td>\n",
       "    </tr>\n",
       "    <tr>\n",
       "      <th>4</th>\n",
       "      <td>{'Gausssian': 48906.0, 'Gaussian Gradient': 11...</td>\n",
       "      <td>1.0</td>\n",
       "      <td>7.0</td>\n",
       "      <td>0.0</td>\n",
       "    </tr>\n",
       "    <tr>\n",
       "      <th>5</th>\n",
       "      <td>{'Gausssian': 12101.0, 'Gaussian Gradient': 24...</td>\n",
       "      <td>0.0</td>\n",
       "      <td>7.0</td>\n",
       "      <td>0.0</td>\n",
       "    </tr>\n",
       "    <tr>\n",
       "      <th>6</th>\n",
       "      <td>{'Gausssian': 22396.0, 'Gaussian Gradient': 11...</td>\n",
       "      <td>1.0</td>\n",
       "      <td>7.0</td>\n",
       "      <td>1.0</td>\n",
       "    </tr>\n",
       "    <tr>\n",
       "      <th>7</th>\n",
       "      <td>{'Gausssian': 12059.0, 'Gaussian Gradient': 22...</td>\n",
       "      <td>0.0</td>\n",
       "      <td>7.0</td>\n",
       "      <td>1.0</td>\n",
       "    </tr>\n",
       "  </tbody>\n",
       "</table>\n",
       "</div>"
      ],
      "text/plain": [
       "                                            Features  Label  Segment  Vertex\n",
       "0  {'Gausssian': 65468.0, 'Gaussian Gradient': 24...    1.0      2.0     0.0\n",
       "1  {'Gausssian': 12289.0, 'Gaussian Gradient': 17...    0.0      2.0     0.0\n",
       "2  {'Gausssian': 26707.0, 'Gaussian Gradient': 12...    1.0      2.0     1.0\n",
       "3  {'Gausssian': 12393.0, 'Gaussian Gradient': 99...    0.0      2.0     1.0\n",
       "4  {'Gausssian': 48906.0, 'Gaussian Gradient': 11...    1.0      7.0     0.0\n",
       "5  {'Gausssian': 12101.0, 'Gaussian Gradient': 24...    0.0      7.0     0.0\n",
       "6  {'Gausssian': 22396.0, 'Gaussian Gradient': 11...    1.0      7.0     1.0\n",
       "7  {'Gausssian': 12059.0, 'Gaussian Gradient': 22...    0.0      7.0     1.0"
      ]
     },
     "execution_count": 4,
     "metadata": {},
     "output_type": "execute_result"
    }
   ],
   "source": [
    "df_lin"
   ]
  },
  {
   "cell_type": "code",
   "execution_count": 5,
   "metadata": {},
   "outputs": [
    {
     "data": {
      "text/html": [
       "<div>\n",
       "<style scoped>\n",
       "    .dataframe tbody tr th:only-of-type {\n",
       "        vertical-align: middle;\n",
       "    }\n",
       "\n",
       "    .dataframe tbody tr th {\n",
       "        vertical-align: top;\n",
       "    }\n",
       "\n",
       "    .dataframe thead th {\n",
       "        text-align: right;\n",
       "    }\n",
       "</style>\n",
       "<table border=\"1\" class=\"dataframe\">\n",
       "  <thead>\n",
       "    <tr style=\"text-align: right;\">\n",
       "      <th></th>\n",
       "      <th>Features</th>\n",
       "      <th>Label</th>\n",
       "      <th>Segment</th>\n",
       "      <th>Vertex</th>\n",
       "    </tr>\n",
       "  </thead>\n",
       "  <tbody>\n",
       "    <tr>\n",
       "      <th>0</th>\n",
       "      <td>{'[1, 1, 1]': [52070, 65520, 65520, 50811, 655...</td>\n",
       "      <td>1.0</td>\n",
       "      <td>2.0</td>\n",
       "      <td>0.0</td>\n",
       "    </tr>\n",
       "    <tr>\n",
       "      <th>1</th>\n",
       "      <td>{'[1, 1, 1]': [12199, 12130, 12317, 12242, 122...</td>\n",
       "      <td>0.0</td>\n",
       "      <td>2.0</td>\n",
       "      <td>0.0</td>\n",
       "    </tr>\n",
       "    <tr>\n",
       "      <th>2</th>\n",
       "      <td>{'[1, 1, 1]': [23385, 25448, 18951, 16656, 187...</td>\n",
       "      <td>1.0</td>\n",
       "      <td>2.0</td>\n",
       "      <td>1.0</td>\n",
       "    </tr>\n",
       "    <tr>\n",
       "      <th>3</th>\n",
       "      <td>{'[1, 1, 1]': [12405, 12582, 12389, 12245, 121...</td>\n",
       "      <td>0.0</td>\n",
       "      <td>2.0</td>\n",
       "      <td>1.0</td>\n",
       "    </tr>\n",
       "    <tr>\n",
       "      <th>4</th>\n",
       "      <td>{'[1, 1, 1]': [50247, 51174, 46085, 50196, 491...</td>\n",
       "      <td>1.0</td>\n",
       "      <td>7.0</td>\n",
       "      <td>0.0</td>\n",
       "    </tr>\n",
       "    <tr>\n",
       "      <th>5</th>\n",
       "      <td>{'[1, 1, 1]': [12023, 12028, 12187, 11950, 119...</td>\n",
       "      <td>0.0</td>\n",
       "      <td>7.0</td>\n",
       "      <td>0.0</td>\n",
       "    </tr>\n",
       "    <tr>\n",
       "      <th>6</th>\n",
       "      <td>{'[1, 1, 1]': [18617, 17786, 16675, 17353, 169...</td>\n",
       "      <td>1.0</td>\n",
       "      <td>7.0</td>\n",
       "      <td>1.0</td>\n",
       "    </tr>\n",
       "    <tr>\n",
       "      <th>7</th>\n",
       "      <td>{'[1, 1, 1]': [12262, 12060, 12064, 12179, 120...</td>\n",
       "      <td>0.0</td>\n",
       "      <td>7.0</td>\n",
       "      <td>1.0</td>\n",
       "    </tr>\n",
       "  </tbody>\n",
       "</table>\n",
       "</div>"
      ],
      "text/plain": [
       "                                            Features  Label  Segment  Vertex\n",
       "0  {'[1, 1, 1]': [52070, 65520, 65520, 50811, 655...    1.0      2.0     0.0\n",
       "1  {'[1, 1, 1]': [12199, 12130, 12317, 12242, 122...    0.0      2.0     0.0\n",
       "2  {'[1, 1, 1]': [23385, 25448, 18951, 16656, 187...    1.0      2.0     1.0\n",
       "3  {'[1, 1, 1]': [12405, 12582, 12389, 12245, 121...    0.0      2.0     1.0\n",
       "4  {'[1, 1, 1]': [50247, 51174, 46085, 50196, 491...    1.0      7.0     0.0\n",
       "5  {'[1, 1, 1]': [12023, 12028, 12187, 11950, 119...    0.0      7.0     0.0\n",
       "6  {'[1, 1, 1]': [18617, 17786, 16675, 17353, 169...    1.0      7.0     1.0\n",
       "7  {'[1, 1, 1]': [12262, 12060, 12064, 12179, 120...    0.0      7.0     1.0"
      ]
     },
     "execution_count": 5,
     "metadata": {},
     "output_type": "execute_result"
    }
   ],
   "source": [
    "df_nbr"
   ]
  },
  {
   "cell_type": "code",
   "execution_count": null,
   "metadata": {},
   "outputs": [],
   "source": []
  }
 ],
 "metadata": {
  "kernelspec": {
   "display_name": "brainlit",
   "language": "python",
   "name": "brainlit"
  },
  "language_info": {
   "codemirror_mode": {
    "name": "ipython",
    "version": 3
   },
   "file_extension": ".py",
   "mimetype": "text/x-python",
   "name": "python",
   "nbconvert_exporter": "python",
   "pygments_lexer": "ipython3",
   "version": "3.7.1"
  }
 },
 "nbformat": 4,
 "nbformat_minor": 2
}
