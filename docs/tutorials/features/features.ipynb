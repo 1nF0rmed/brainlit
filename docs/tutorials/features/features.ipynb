{
 "cells": [
  {
   "cell_type": "code",
   "execution_count": 1,
   "metadata": {},
   "outputs": [],
   "source": [
    "from brainlit.utils.ngl_pipeline import NeuroglancerSession\n",
    "from brainlit.preprocessing.features import *\n",
    "import pandas as pd\n",
    "import numpy as np"
   ]
  },
  {
   "cell_type": "markdown",
   "metadata": {},
   "source": [
    "## Feature extraction using brainlit\n",
    "The classes `LinearFeatures` and `NeighborhoodFeatures` convert swc files to a list of axon/background examples in a dataframe, with relevant features. \n",
    "\n",
    "First, instantiate the classes. You pass a `url` to pull data from, a `size` of the bounding box around each point, where the actual box is `2i+1` for each index `i`, and an `offset` to shift the bounding box to get a background point."
   ]
  },
  {
   "cell_type": "code",
   "execution_count": 2,
   "metadata": {},
   "outputs": [],
   "source": [
    "lin = LinearFeatures(url=\"s3://mouse-light-viz/precomputed_volumes/brain1\", size=[1,1,1], offset=[15,15,15])\n",
    "nbr = NeighborhoodFeatures(url=\"s3://mouse-light-viz/precomputed_volumes/brain1\", size=[1,1,1], offset=[15,15,15])"
   ]
  },
  {
   "cell_type": "markdown",
   "metadata": {},
   "source": [
    "For the `LinearFeatures` class, you need to define the filters you want to convolve with the neighborhoods. To do so, you use the `add_filters` method. Currently, `brainlit` supports adding Gaussian, Gaussian Gradient Magnitude, Gaussian Laplace, and Gabor filters."
   ]
  },
  {
   "cell_type": "code",
   "execution_count": 3,
   "metadata": {},
   "outputs": [],
   "source": [
    "lin.add_filter('gaussian', sigma=[1, 1, 0.3])\n",
    "lin.add_filter('gaussian gradient', sigma=[1, 1, 0.3])\n",
    "lin.add_filter('gaussian laplace', sigma=[1, 1, 0.3])\n",
    "lin.add_filter('gabor', sigma=[1, 1, 0.3], phi=[0, 0], frequency=2)\n",
    "lin.add_filter('gabor', sigma=[1, 1, 0.3], phi=[0, np.pi/2], frequency=2)"
   ]
  },
  {
   "cell_type": "markdown",
   "metadata": {},
   "source": [
    "Calling the `fit` method for each class with a list of ids and a number of vertices to fit onto for each swc. If the second argument isn't given (or passed as `None`), features will be collected for every vertex."
   ]
  },
  {
   "cell_type": "code",
   "execution_count": 4,
   "metadata": {
    "scrolled": true
   },
   "outputs": [
    {
     "output_type": "stream",
     "name": "stderr",
     "text": "Downloading: 100%|██████████| 1/1 [00:00<00:00, 20.29it/s]\nDownloading: 100%|██████████| 1/1 [00:00<00:00, 30.99it/s]\nDownloading:   0%|          | 0/1 [00:00<?, ?it/s]\nDownloading:   0%|          | 0/1 [00:00<?, ?it/s]\nDownloading: 100%|██████████| 1/1 [00:00<00:00, 33.92it/s]\nDownloading:   0%|          | 0/1 [00:00<?, ?it/s]\nDownloading:   0%|          | 0/1 [00:00<?, ?it/s]\nDownloading: 100%|██████████| 1/1 [00:00<00:00, 18.72it/s]\nDownloading: 100%|██████████| 1/1 [00:00<00:00, 34.45it/s]\nDownloading:   0%|          | 0/1 [00:00<?, ?it/s]\nDownloading:   0%|          | 0/1 [00:00<?, ?it/s]\nDownloading: 100%|██████████| 1/1 [00:00<00:00, 33.81it/s]\nDownloading:   0%|          | 0/1 [00:00<?, ?it/s]\nDownloading:   0%|          | 0/1 [00:00<?, ?it/s]\nDownloading: 100%|██████████| 1/1 [00:00<00:00,  6.73it/s]\nDownloading: 100%|██████████| 1/1 [00:00<00:00, 12.02it/s]\nDownloading:   0%|          | 0/1 [00:00<?, ?it/s]\nDownloading:   0%|          | 0/1 [00:00<?, ?it/s]\nDownloading: 100%|██████████| 1/1 [00:00<00:00, 20.57it/s]\nDownloading:   0%|          | 0/1 [00:00<?, ?it/s]\nDownloading:   0%|          | 0/1 [00:00<?, ?it/s]\nDownloading: 100%|██████████| 1/1 [00:00<00:00, 13.02it/s]\nDownloading: 100%|██████████| 1/1 [00:00<00:00, 22.82it/s]\nDownloading:   0%|          | 0/1 [00:00<?, ?it/s]\nDownloading:   0%|          | 0/1 [00:00<?, ?it/s]\nDownloading: 100%|██████████| 1/1 [00:00<00:00, 21.76it/s]\nDownloading:   0%|          | 0/1 [00:00<?, ?it/s]\nDownloading:   0%|          | 0/1 [00:00<?, ?it/s]\n"
    }
   ],
   "source": [
    "df_lin = lin.fit(seg_ids=[2, 7], num_verts=2)\n",
    "df_nbr = nbr.fit(seg_ids=[2, 7], num_verts=2)"
   ]
  },
  {
   "cell_type": "markdown",
   "metadata": {},
   "source": [
    "The outputted dataframes themselves have a `Segment` column, `Vertex` column, `Label` column (1=axon 0=background), and a `Features` column which is a dictionary for each feature type used."
   ]
  },
  {
   "cell_type": "code",
   "execution_count": 8,
   "metadata": {},
   "outputs": [
    {
     "output_type": "execute_result",
     "data": {
      "text/plain": "                                            Features  Label  Segment  Vertex\n0  {'Gausssian': [65468.0], 'Gaussian Gradient': ...    1.0      2.0     0.0\n1  {'Gausssian': [12289.0], 'Gaussian Gradient': ...    0.0      2.0     0.0\n2  {'Gausssian': [26707.0], 'Gaussian Gradient': ...    1.0      2.0     1.0\n3  {'Gausssian': [12393.0], 'Gaussian Gradient': ...    0.0      2.0     1.0\n4  {'Gausssian': [48906.0], 'Gaussian Gradient': ...    1.0      7.0     0.0\n5  {'Gausssian': [12101.0], 'Gaussian Gradient': ...    0.0      7.0     0.0\n6  {'Gausssian': [22396.0], 'Gaussian Gradient': ...    1.0      7.0     1.0\n7  {'Gausssian': [12059.0], 'Gaussian Gradient': ...    0.0      7.0     1.0",
      "text/html": "<div>\n<style scoped>\n    .dataframe tbody tr th:only-of-type {\n        vertical-align: middle;\n    }\n\n    .dataframe tbody tr th {\n        vertical-align: top;\n    }\n\n    .dataframe thead th {\n        text-align: right;\n    }\n</style>\n<table border=\"1\" class=\"dataframe\">\n  <thead>\n    <tr style=\"text-align: right;\">\n      <th></th>\n      <th>Features</th>\n      <th>Label</th>\n      <th>Segment</th>\n      <th>Vertex</th>\n    </tr>\n  </thead>\n  <tbody>\n    <tr>\n      <th>0</th>\n      <td>{'Gausssian': [65468.0], 'Gaussian Gradient': ...</td>\n      <td>1.0</td>\n      <td>2.0</td>\n      <td>0.0</td>\n    </tr>\n    <tr>\n      <th>1</th>\n      <td>{'Gausssian': [12289.0], 'Gaussian Gradient': ...</td>\n      <td>0.0</td>\n      <td>2.0</td>\n      <td>0.0</td>\n    </tr>\n    <tr>\n      <th>2</th>\n      <td>{'Gausssian': [26707.0], 'Gaussian Gradient': ...</td>\n      <td>1.0</td>\n      <td>2.0</td>\n      <td>1.0</td>\n    </tr>\n    <tr>\n      <th>3</th>\n      <td>{'Gausssian': [12393.0], 'Gaussian Gradient': ...</td>\n      <td>0.0</td>\n      <td>2.0</td>\n      <td>1.0</td>\n    </tr>\n    <tr>\n      <th>4</th>\n      <td>{'Gausssian': [48906.0], 'Gaussian Gradient': ...</td>\n      <td>1.0</td>\n      <td>7.0</td>\n      <td>0.0</td>\n    </tr>\n    <tr>\n      <th>5</th>\n      <td>{'Gausssian': [12101.0], 'Gaussian Gradient': ...</td>\n      <td>0.0</td>\n      <td>7.0</td>\n      <td>0.0</td>\n    </tr>\n    <tr>\n      <th>6</th>\n      <td>{'Gausssian': [22396.0], 'Gaussian Gradient': ...</td>\n      <td>1.0</td>\n      <td>7.0</td>\n      <td>1.0</td>\n    </tr>\n    <tr>\n      <th>7</th>\n      <td>{'Gausssian': [12059.0], 'Gaussian Gradient': ...</td>\n      <td>0.0</td>\n      <td>7.0</td>\n      <td>1.0</td>\n    </tr>\n  </tbody>\n</table>\n</div>"
     },
     "metadata": {},
     "execution_count": 8
    }
   ],
   "source": [
    "df_lin"
   ]
  },
  {
   "cell_type": "code",
   "execution_count": 5,
   "metadata": {},
   "outputs": [
    {
     "data": {
      "text/html": [
       "<div>\n",
       "<style scoped>\n",
       "    .dataframe tbody tr th:only-of-type {\n",
       "        vertical-align: middle;\n",
       "    }\n",
       "\n",
       "    .dataframe tbody tr th {\n",
       "        vertical-align: top;\n",
       "    }\n",
       "\n",
       "    .dataframe thead th {\n",
       "        text-align: right;\n",
       "    }\n",
       "</style>\n",
       "<table border=\"1\" class=\"dataframe\">\n",
       "  <thead>\n",
       "    <tr style=\"text-align: right;\">\n",
       "      <th></th>\n",
       "      <th>Features</th>\n",
       "      <th>Label</th>\n",
       "      <th>Segment</th>\n",
       "      <th>Vertex</th>\n",
       "    </tr>\n",
       "  </thead>\n",
       "  <tbody>\n",
       "    <tr>\n",
       "      <th>0</th>\n",
       "      <td>{'[1, 1, 1]': [52070, 65520, 65520, 50811, 655...</td>\n",
       "      <td>1.0</td>\n",
       "      <td>2.0</td>\n",
       "      <td>0.0</td>\n",
       "    </tr>\n",
       "    <tr>\n",
       "      <th>1</th>\n",
       "      <td>{'[1, 1, 1]': [12199, 12130, 12317, 12242, 122...</td>\n",
       "      <td>0.0</td>\n",
       "      <td>2.0</td>\n",
       "      <td>0.0</td>\n",
       "    </tr>\n",
       "    <tr>\n",
       "      <th>2</th>\n",
       "      <td>{'[1, 1, 1]': [23385, 25448, 18951, 16656, 187...</td>\n",
       "      <td>1.0</td>\n",
       "      <td>2.0</td>\n",
       "      <td>1.0</td>\n",
       "    </tr>\n",
       "    <tr>\n",
       "      <th>3</th>\n",
       "      <td>{'[1, 1, 1]': [12405, 12582, 12389, 12245, 121...</td>\n",
       "      <td>0.0</td>\n",
       "      <td>2.0</td>\n",
       "      <td>1.0</td>\n",
       "    </tr>\n",
       "    <tr>\n",
       "      <th>4</th>\n",
       "      <td>{'[1, 1, 1]': [50247, 51174, 46085, 50196, 491...</td>\n",
       "      <td>1.0</td>\n",
       "      <td>7.0</td>\n",
       "      <td>0.0</td>\n",
       "    </tr>\n",
       "    <tr>\n",
       "      <th>5</th>\n",
       "      <td>{'[1, 1, 1]': [12023, 12028, 12187, 11950, 119...</td>\n",
       "      <td>0.0</td>\n",
       "      <td>7.0</td>\n",
       "      <td>0.0</td>\n",
       "    </tr>\n",
       "    <tr>\n",
       "      <th>6</th>\n",
       "      <td>{'[1, 1, 1]': [18617, 17786, 16675, 17353, 169...</td>\n",
       "      <td>1.0</td>\n",
       "      <td>7.0</td>\n",
       "      <td>1.0</td>\n",
       "    </tr>\n",
       "    <tr>\n",
       "      <th>7</th>\n",
       "      <td>{'[1, 1, 1]': [12262, 12060, 12064, 12179, 120...</td>\n",
       "      <td>0.0</td>\n",
       "      <td>7.0</td>\n",
       "      <td>1.0</td>\n",
       "    </tr>\n",
       "  </tbody>\n",
       "</table>\n",
       "</div>"
      ],
      "text/plain": [
       "                                            Features  Label  Segment  Vertex\n",
       "0  {'[1, 1, 1]': [52070, 65520, 65520, 50811, 655...    1.0      2.0     0.0\n",
       "1  {'[1, 1, 1]': [12199, 12130, 12317, 12242, 122...    0.0      2.0     0.0\n",
       "2  {'[1, 1, 1]': [23385, 25448, 18951, 16656, 187...    1.0      2.0     1.0\n",
       "3  {'[1, 1, 1]': [12405, 12582, 12389, 12245, 121...    0.0      2.0     1.0\n",
       "4  {'[1, 1, 1]': [50247, 51174, 46085, 50196, 491...    1.0      7.0     0.0\n",
       "5  {'[1, 1, 1]': [12023, 12028, 12187, 11950, 119...    0.0      7.0     0.0\n",
       "6  {'[1, 1, 1]': [18617, 17786, 16675, 17353, 169...    1.0      7.0     1.0\n",
       "7  {'[1, 1, 1]': [12262, 12060, 12064, 12179, 120...    0.0      7.0     1.0"
      ]
     },
     "execution_count": 5,
     "metadata": {},
     "output_type": "execute_result"
    }
   ],
   "source": [
    "df_nbr"
   ]
  },
  {
   "cell_type": "code",
   "execution_count": null,
   "metadata": {},
   "outputs": [],
   "source": []
  }
 ],
 "metadata": {
  "kernelspec": {
   "display_name": "Python 3.7.6 64-bit ('scipydev': conda)",
   "language": "python",
   "name": "python37664bitscipydevcondaa561a5f26f384a3d8eec296dbbf704a7"
  },
  "language_info": {
   "codemirror_mode": {
    "name": "ipython",
    "version": 3
   },
   "file_extension": ".py",
   "mimetype": "text/x-python",
   "name": "python",
   "nbconvert_exporter": "python",
   "pygments_lexer": "ipython3",
   "version": "3.7.6-final"
  }
 },
 "nbformat": 4,
 "nbformat_minor": 2
}