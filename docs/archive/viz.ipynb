{
 "cells": [
  {
   "cell_type": "code",
   "execution_count": 1,
   "metadata": {},
   "outputs": [
    {
     "name": "stderr",
     "output_type": "stream",
     "text": [
      "/Library/Frameworks/Python.framework/Versions/3.6/lib/python3.6/site-packages/python_jsonschema_objects/__init__.py:53: UserWarning: Schema version http://json-schema.org/draft-04/schema not recognized. Some keywords and features may not be supported.\n",
      "  self.schema[\"$schema\"]\n",
      "Using TensorFlow backend.\n"
     ]
    }
   ],
   "source": [
    "from brainlit.viz.visualize import plot_image_2d\n",
    "from brainlit.utils.ngl_pipeline import NeuroglancerSession\n",
    "import numpy as np\n",
    "from pathlib import Path\n",
    "import os"
   ]
  },
  {
   "cell_type": "markdown",
   "metadata": {},
   "source": [
    "## Loading data from neuroglancer precomputed format\n",
    "\n",
    "Image data will be assumed to be stored locally in precomuted format, such as\n",
    "```6173_6173_6173/ 6173_6173_6173/0-66_0-50_0-52 info```.\n",
    "\n",
    "Skeleton data will be assumed to be stored locally in precomputed format, such as\n",
    "```skeletons/, skeletons/1.gz skeletons/info```\n",
    "\n",
    "A user only needs to specity these paths.\n",
    "### The paths can be modified to generated files from different data"
   ]
  },
  {
   "cell_type": "code",
   "execution_count": 2,
   "metadata": {},
   "outputs": [],
   "source": [
    "directory = Path(\"..\") / \"..\" / \"tests\"\n",
    "layer_location = \"file://\" + os.fspath(directory) + \"/test_precomputed/\"\n",
    "sess = NeuroglancerSession(layer_location, mip=0)"
   ]
  },
  {
   "cell_type": "markdown",
   "metadata": {},
   "source": [
    "The info file of the image data can be viewed via the `info`property"
   ]
  },
  {
   "cell_type": "code",
   "execution_count": 3,
   "metadata": {},
   "outputs": [
    {
     "data": {
      "text/plain": [
       "{'data_type': 'uint64',\n",
       " 'num_channels': 1,\n",
       " 'scales': [{'chunk_sizes': [[64, 64, 64]],\n",
       "   'encoding': 'raw',\n",
       "   'key': '6173_6173_6173',\n",
       "   'resolution': [6173, 6173, 6173],\n",
       "   'size': [1056, 800, 416],\n",
       "   'voxel_offset': [0, 0, 0]}],\n",
       " 'skeletons': 'skeletons',\n",
       " 'type': 'segmentation'}"
      ]
     },
     "execution_count": 3,
     "metadata": {},
     "output_type": "execute_result"
    }
   ],
   "source": [
    "sess.cv.info"
   ]
  },
  {
   "cell_type": "markdown",
   "metadata": {},
   "source": [
    "The info file of a skeleton in the skeleton data can be viewed by pulling via the `get` method"
   ]
  },
  {
   "cell_type": "code",
   "execution_count": 4,
   "metadata": {},
   "outputs": [
    {
     "name": "stderr",
     "output_type": "stream",
     "text": [
      "Downloading: 100%|██████████| 1/1 [00:00<00:00, 656.59it/s]\n"
     ]
    }
   ],
   "source": [
    "skel = sess.cv.skeleton.get(1)"
   ]
  },
  {
   "cell_type": "code",
   "execution_count": 5,
   "metadata": {},
   "outputs": [
    {
     "data": {
      "text/plain": [
       "Skeleton(segid=1, vertices=(shape=7, float32), edges=(shape=6, uint32), radius=(7, float32), vertex_types=(7, uint8), space='physical' transform=[[1.0, 0.0, 0.0, 0.0], [0.0, 1.0, 0.0, 0.0], [0.0, 0.0, 1.0, 0.0]])"
      ]
     },
     "execution_count": 5,
     "metadata": {},
     "output_type": "execute_result"
    }
   ],
   "source": [
    "skel"
   ]
  },
  {
   "cell_type": "code",
   "execution_count": 6,
   "metadata": {},
   "outputs": [
    {
     "data": {
      "text/plain": [
       "array([[-2344678., -2343678., -2342678.],\n",
       "       [-2343678., -2342678., -2341678.],\n",
       "       [-2342678., -2341678., -2340678.],\n",
       "       [-2341678., -2340678., -2339678.],\n",
       "       [-2340678., -2339678., -2338678.],\n",
       "       [-2339678., -2338678., -2337678.],\n",
       "       [-2338678., -2337678., -2336678.]], dtype=float32)"
      ]
     },
     "execution_count": 6,
     "metadata": {},
     "output_type": "execute_result"
    }
   ],
   "source": [
    "skel.vertices"
   ]
  },
  {
   "cell_type": "markdown",
   "metadata": {},
   "source": [
    "The data can be viewed by pulling a region."
   ]
  },
  {
   "cell_type": "code",
   "execution_count": 7,
   "metadata": {},
   "outputs": [
    {
     "name": "stderr",
     "output_type": "stream",
     "text": [
      "Downloading:   0%|          | 0/12 [00:00<?, ?it/s]\n",
      "Downloading:   0%|          | 0/12 [00:00<?, ?it/s]\n",
      "Downloading:   0%|          | 0/12 [00:00<?, ?it/s]\n",
      "Downloading:   0%|          | 0/12 [00:00<?, ?it/s]\n",
      "Downloading:   0%|          | 0/12 [00:00<?, ?it/s]\n",
      "Downloading:   0%|          | 0/12 [00:00<?, ?it/s]\n",
      "Downloading:   0%|          | 0/7 [00:00<?, ?it/s]\n",
      "Downloading:   0%|          | 0/12 [00:00<?, ?it/s]\n"
     ]
    }
   ],
   "source": [
    "image = np.squeeze(sess.cv[0])"
   ]
  },
  {
   "cell_type": "code",
   "execution_count": 8,
   "metadata": {},
   "outputs": [
    {
     "data": {
      "text/plain": [
       "(<Figure size 432x288 with 1 Axes>,\n",
       " <matplotlib.axes._subplots.AxesSubplot at 0x15f95af28>)"
      ]
     },
     "execution_count": 8,
     "metadata": {},
     "output_type": "execute_result"
    },
    {
     "data": {
      "image/png": "[encoded data removed]",
      "text/plain": [
       "<Figure size 432x288 with 1 Axes>"
      ]
     },
     "metadata": {},
     "output_type": "display_data"
    }
   ],
   "source": [
    "plot_image_2d(image)"
   ]
  },
  {
   "cell_type": "code",
   "execution_count": null,
   "metadata": {},
   "outputs": [],
   "source": []
  }
 ],
 "metadata": {
  "kernelspec": {
   "display_name": "Python 3",
   "language": "python",
   "name": "python3"
  },
  "language_info": {
   "codemirror_mode": {
    "name": "ipython",
    "version": 3
   },
   "file_extension": ".py",
   "mimetype": "text/x-python",
   "name": "python",
   "nbconvert_exporter": "python",
   "pygments_lexer": "ipython3",
   "version": "3.6.7"
  }
 },
 "nbformat": 4,
 "nbformat_minor": 2
}
